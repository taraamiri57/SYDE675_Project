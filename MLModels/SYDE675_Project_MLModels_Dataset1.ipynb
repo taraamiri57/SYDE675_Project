{
  "nbformat": 4,
  "nbformat_minor": 0,
  "metadata": {
    "colab": {
      "name": "ECE675-ResearchProjectCode-MLDLlgorthims-Dataset1.ipynb",
      "provenance": [],
      "collapsed_sections": []
    },
    "kernelspec": {
      "name": "python3",
      "display_name": "Python 3"
    }
  },
  "cells": [
    {
      "cell_type": "markdown",
      "source": [
        "#University of Waterloo"
      ],
      "metadata": {
        "id": "pKqcbZ5YdiWk"
      }
    },
    {
      "cell_type": "markdown",
      "source": [
        "#ECE 675: Pattren Recognition-Winter2022"
      ],
      "metadata": {
        "id": "kZijwYLzdqFw"
      }
    },
    {
      "cell_type": "markdown",
      "source": [
        "#Research_Project_Code\n",
        "\n",
        "**Modified By: Huda Diab Abdulgalil, UWaterloo ID: 20644888, UWaterloo email:hdiababd@uwaterloo.ca**\n"
      ],
      "metadata": {
        "id": "pRT1lpuFeqJ0"
      }
    },
    {
      "cell_type": "code",
      "source": [
        "!pip install simpletransformers"
      ],
      "metadata": {
        "colab": {
          "base_uri": "https://localhost:8080/",
          "height": 1000
        },
        "id": "5gYRev9SJaqJ",
        "outputId": "d146fad6-b346-4601-cc2b-f509d54b29a7"
      },
      "execution_count": null,
      "outputs": [
        {
          "output_type": "stream",
          "name": "stdout",
          "text": [
            "Collecting simpletransformers\n",
            "  Downloading simpletransformers-0.63.4-py3-none-any.whl (248 kB)\n",
            "\u001b[K     |████████████████████████████████| 248 kB 5.6 MB/s \n",
            "\u001b[?25hCollecting wandb>=0.10.32\n",
            "  Downloading wandb-0.12.11-py2.py3-none-any.whl (1.7 MB)\n",
            "\u001b[K     |████████████████████████████████| 1.7 MB 42.6 MB/s \n",
            "\u001b[?25hCollecting transformers>=4.6.0\n",
            "  Downloading transformers-4.17.0-py3-none-any.whl (3.8 MB)\n",
            "\u001b[K     |████████████████████████████████| 3.8 MB 40.1 MB/s \n",
            "\u001b[?25hCollecting streamlit\n",
            "  Downloading streamlit-1.7.0-py2.py3-none-any.whl (9.9 MB)\n",
            "\u001b[K     |████████████████████████████████| 9.9 MB 31.5 MB/s \n",
            "\u001b[?25hRequirement already satisfied: regex in /usr/local/lib/python3.7/dist-packages (from simpletransformers) (2019.12.20)\n",
            "Collecting tokenizers\n",
            "  Downloading tokenizers-0.11.6-cp37-cp37m-manylinux_2_12_x86_64.manylinux2010_x86_64.whl (6.5 MB)\n",
            "\u001b[K     |████████████████████████████████| 6.5 MB 34.4 MB/s \n",
            "\u001b[?25hRequirement already satisfied: numpy in /usr/local/lib/python3.7/dist-packages (from simpletransformers) (1.21.5)\n",
            "Requirement already satisfied: requests in /usr/local/lib/python3.7/dist-packages (from simpletransformers) (2.23.0)\n",
            "Collecting datasets\n",
            "  Downloading datasets-2.0.0-py3-none-any.whl (325 kB)\n",
            "\u001b[K     |████████████████████████████████| 325 kB 59.5 MB/s \n",
            "\u001b[?25hCollecting seqeval\n",
            "  Downloading seqeval-1.2.2.tar.gz (43 kB)\n",
            "\u001b[K     |████████████████████████████████| 43 kB 1.7 MB/s \n",
            "\u001b[?25hRequirement already satisfied: pandas in /usr/local/lib/python3.7/dist-packages (from simpletransformers) (1.3.5)\n",
            "Collecting sentencepiece\n",
            "  Downloading sentencepiece-0.1.96-cp37-cp37m-manylinux_2_17_x86_64.manylinux2014_x86_64.whl (1.2 MB)\n",
            "\u001b[K     |████████████████████████████████| 1.2 MB 37.6 MB/s \n",
            "\u001b[?25hRequirement already satisfied: tqdm>=4.47.0 in /usr/local/lib/python3.7/dist-packages (from simpletransformers) (4.63.0)\n",
            "Requirement already satisfied: scikit-learn in /usr/local/lib/python3.7/dist-packages (from simpletransformers) (1.0.2)\n",
            "Requirement already satisfied: tensorboard in /usr/local/lib/python3.7/dist-packages (from simpletransformers) (2.8.0)\n",
            "Requirement already satisfied: scipy in /usr/local/lib/python3.7/dist-packages (from simpletransformers) (1.4.1)\n",
            "Requirement already satisfied: importlib-metadata in /usr/local/lib/python3.7/dist-packages (from transformers>=4.6.0->simpletransformers) (4.11.3)\n",
            "Requirement already satisfied: packaging>=20.0 in /usr/local/lib/python3.7/dist-packages (from transformers>=4.6.0->simpletransformers) (21.3)\n",
            "Requirement already satisfied: filelock in /usr/local/lib/python3.7/dist-packages (from transformers>=4.6.0->simpletransformers) (3.6.0)\n",
            "Collecting sacremoses\n",
            "  Downloading sacremoses-0.0.49-py3-none-any.whl (895 kB)\n",
            "\u001b[K     |████████████████████████████████| 895 kB 27.9 MB/s \n",
            "\u001b[?25hCollecting pyyaml>=5.1\n",
            "  Downloading PyYAML-6.0-cp37-cp37m-manylinux_2_5_x86_64.manylinux1_x86_64.manylinux_2_12_x86_64.manylinux2010_x86_64.whl (596 kB)\n",
            "\u001b[K     |████████████████████████████████| 596 kB 27.9 MB/s \n",
            "\u001b[?25hCollecting huggingface-hub<1.0,>=0.1.0\n",
            "  Downloading huggingface_hub-0.4.0-py3-none-any.whl (67 kB)\n",
            "\u001b[K     |████████████████████████████████| 67 kB 5.2 MB/s \n",
            "\u001b[?25hRequirement already satisfied: typing-extensions>=3.7.4.3 in /usr/local/lib/python3.7/dist-packages (from huggingface-hub<1.0,>=0.1.0->transformers>=4.6.0->simpletransformers) (3.10.0.2)\n",
            "Requirement already satisfied: pyparsing!=3.0.5,>=2.0.2 in /usr/local/lib/python3.7/dist-packages (from packaging>=20.0->transformers>=4.6.0->simpletransformers) (3.0.7)\n",
            "Collecting sentry-sdk>=1.0.0\n",
            "  Downloading sentry_sdk-1.5.8-py2.py3-none-any.whl (144 kB)\n",
            "\u001b[K     |████████████████████████████████| 144 kB 52.6 MB/s \n",
            "\u001b[?25hRequirement already satisfied: six>=1.13.0 in /usr/local/lib/python3.7/dist-packages (from wandb>=0.10.32->simpletransformers) (1.15.0)\n",
            "Requirement already satisfied: python-dateutil>=2.6.1 in /usr/local/lib/python3.7/dist-packages (from wandb>=0.10.32->simpletransformers) (2.8.2)\n",
            "Requirement already satisfied: protobuf>=3.12.0 in /usr/local/lib/python3.7/dist-packages (from wandb>=0.10.32->simpletransformers) (3.17.3)\n",
            "Collecting pathtools\n",
            "  Downloading pathtools-0.1.2.tar.gz (11 kB)\n",
            "Collecting yaspin>=1.0.0\n",
            "  Downloading yaspin-2.1.0-py3-none-any.whl (18 kB)\n",
            "Requirement already satisfied: psutil>=5.0.0 in /usr/local/lib/python3.7/dist-packages (from wandb>=0.10.32->simpletransformers) (5.4.8)\n",
            "Collecting setproctitle\n",
            "  Downloading setproctitle-1.2.2-cp37-cp37m-manylinux1_x86_64.whl (36 kB)\n",
            "Requirement already satisfied: promise<3,>=2.0 in /usr/local/lib/python3.7/dist-packages (from wandb>=0.10.32->simpletransformers) (2.3)\n",
            "Collecting docker-pycreds>=0.4.0\n",
            "  Downloading docker_pycreds-0.4.0-py2.py3-none-any.whl (9.0 kB)\n",
            "Requirement already satisfied: Click!=8.0.0,>=7.0 in /usr/local/lib/python3.7/dist-packages (from wandb>=0.10.32->simpletransformers) (7.1.2)\n",
            "Collecting shortuuid>=0.5.0\n",
            "  Downloading shortuuid-1.0.8-py3-none-any.whl (9.5 kB)\n",
            "Collecting GitPython>=1.0.0\n",
            "  Downloading GitPython-3.1.27-py3-none-any.whl (181 kB)\n",
            "\u001b[K     |████████████████████████████████| 181 kB 47.0 MB/s \n",
            "\u001b[?25hCollecting gitdb<5,>=4.0.1\n",
            "  Downloading gitdb-4.0.9-py3-none-any.whl (63 kB)\n",
            "\u001b[K     |████████████████████████████████| 63 kB 1.6 MB/s \n",
            "\u001b[?25hCollecting smmap<6,>=3.0.1\n",
            "  Downloading smmap-5.0.0-py3-none-any.whl (24 kB)\n",
            "Requirement already satisfied: chardet<4,>=3.0.2 in /usr/local/lib/python3.7/dist-packages (from requests->simpletransformers) (3.0.4)\n",
            "Requirement already satisfied: certifi>=2017.4.17 in /usr/local/lib/python3.7/dist-packages (from requests->simpletransformers) (2021.10.8)\n",
            "Requirement already satisfied: idna<3,>=2.5 in /usr/local/lib/python3.7/dist-packages (from requests->simpletransformers) (2.10)\n",
            "Requirement already satisfied: urllib3!=1.25.0,!=1.25.1,<1.26,>=1.21.1 in /usr/local/lib/python3.7/dist-packages (from requests->simpletransformers) (1.24.3)\n",
            "Requirement already satisfied: termcolor<2.0.0,>=1.1.0 in /usr/local/lib/python3.7/dist-packages (from yaspin>=1.0.0->wandb>=0.10.32->simpletransformers) (1.1.0)\n",
            "Requirement already satisfied: dill in /usr/local/lib/python3.7/dist-packages (from datasets->simpletransformers) (0.3.4)\n",
            "Collecting xxhash\n",
            "  Downloading xxhash-3.0.0-cp37-cp37m-manylinux_2_17_x86_64.manylinux2014_x86_64.whl (212 kB)\n",
            "\u001b[K     |████████████████████████████████| 212 kB 48.1 MB/s \n",
            "\u001b[?25hRequirement already satisfied: pyarrow>=5.0.0 in /usr/local/lib/python3.7/dist-packages (from datasets->simpletransformers) (6.0.1)\n",
            "Collecting aiohttp\n",
            "  Downloading aiohttp-3.8.1-cp37-cp37m-manylinux_2_5_x86_64.manylinux1_x86_64.manylinux_2_12_x86_64.manylinux2010_x86_64.whl (1.1 MB)\n",
            "\u001b[K     |████████████████████████████████| 1.1 MB 40.0 MB/s \n",
            "\u001b[?25hCollecting responses<0.19\n",
            "  Downloading responses-0.18.0-py3-none-any.whl (38 kB)\n",
            "Collecting fsspec[http]>=2021.05.0\n",
            "  Downloading fsspec-2022.2.0-py3-none-any.whl (134 kB)\n",
            "\u001b[K     |████████████████████████████████| 134 kB 47.0 MB/s \n",
            "\u001b[?25hRequirement already satisfied: multiprocess in /usr/local/lib/python3.7/dist-packages (from datasets->simpletransformers) (0.70.12.2)\n",
            "Collecting urllib3!=1.25.0,!=1.25.1,<1.26,>=1.21.1\n",
            "  Downloading urllib3-1.25.11-py2.py3-none-any.whl (127 kB)\n",
            "\u001b[K     |████████████████████████████████| 127 kB 51.0 MB/s \n",
            "\u001b[?25hRequirement already satisfied: charset-normalizer<3.0,>=2.0 in /usr/local/lib/python3.7/dist-packages (from aiohttp->datasets->simpletransformers) (2.0.12)\n",
            "Requirement already satisfied: attrs>=17.3.0 in /usr/local/lib/python3.7/dist-packages (from aiohttp->datasets->simpletransformers) (21.4.0)\n",
            "Collecting aiosignal>=1.1.2\n",
            "  Downloading aiosignal-1.2.0-py3-none-any.whl (8.2 kB)\n",
            "Collecting multidict<7.0,>=4.5\n",
            "  Downloading multidict-6.0.2-cp37-cp37m-manylinux_2_17_x86_64.manylinux2014_x86_64.whl (94 kB)\n",
            "\u001b[K     |████████████████████████████████| 94 kB 2.3 MB/s \n",
            "\u001b[?25hCollecting async-timeout<5.0,>=4.0.0a3\n",
            "  Downloading async_timeout-4.0.2-py3-none-any.whl (5.8 kB)\n",
            "Collecting yarl<2.0,>=1.0\n",
            "  Downloading yarl-1.7.2-cp37-cp37m-manylinux_2_5_x86_64.manylinux1_x86_64.manylinux_2_12_x86_64.manylinux2010_x86_64.whl (271 kB)\n",
            "\u001b[K     |████████████████████████████████| 271 kB 50.7 MB/s \n",
            "\u001b[?25hCollecting frozenlist>=1.1.1\n",
            "  Downloading frozenlist-1.3.0-cp37-cp37m-manylinux_2_5_x86_64.manylinux1_x86_64.manylinux_2_17_x86_64.manylinux2014_x86_64.whl (144 kB)\n",
            "\u001b[K     |████████████████████████████████| 144 kB 47.1 MB/s \n",
            "\u001b[?25hCollecting asynctest==0.13.0\n",
            "  Downloading asynctest-0.13.0-py3-none-any.whl (26 kB)\n",
            "Requirement already satisfied: zipp>=0.5 in /usr/local/lib/python3.7/dist-packages (from importlib-metadata->transformers>=4.6.0->simpletransformers) (3.7.0)\n",
            "Requirement already satisfied: pytz>=2017.3 in /usr/local/lib/python3.7/dist-packages (from pandas->simpletransformers) (2018.9)\n",
            "Requirement already satisfied: joblib in /usr/local/lib/python3.7/dist-packages (from sacremoses->transformers>=4.6.0->simpletransformers) (1.1.0)\n",
            "Requirement already satisfied: threadpoolctl>=2.0.0 in /usr/local/lib/python3.7/dist-packages (from scikit-learn->simpletransformers) (3.1.0)\n",
            "Requirement already satisfied: tzlocal in /usr/local/lib/python3.7/dist-packages (from streamlit->simpletransformers) (1.5.1)\n",
            "Collecting blinker\n",
            "  Downloading blinker-1.4.tar.gz (111 kB)\n",
            "\u001b[K     |████████████████████████████████| 111 kB 55.5 MB/s \n",
            "\u001b[?25hCollecting validators\n",
            "  Downloading validators-0.18.2-py3-none-any.whl (19 kB)\n",
            "Collecting toml\n",
            "  Downloading toml-0.10.2-py2.py3-none-any.whl (16 kB)\n",
            "Collecting watchdog\n",
            "  Downloading watchdog-2.1.6-py3-none-manylinux2014_x86_64.whl (76 kB)\n",
            "\u001b[K     |████████████████████████████████| 76 kB 4.2 MB/s \n",
            "\u001b[?25hRequirement already satisfied: semver in /usr/local/lib/python3.7/dist-packages (from streamlit->simpletransformers) (2.13.0)\n",
            "Requirement already satisfied: cachetools>=4.0 in /usr/local/lib/python3.7/dist-packages (from streamlit->simpletransformers) (4.2.4)\n",
            "Collecting pympler>=0.9\n",
            "  Downloading Pympler-1.0.1-py3-none-any.whl (164 kB)\n",
            "\u001b[K     |████████████████████████████████| 164 kB 53.4 MB/s \n",
            "\u001b[?25hCollecting pydeck>=0.1.dev5\n",
            "  Downloading pydeck-0.7.1-py2.py3-none-any.whl (4.3 MB)\n",
            "\u001b[K     |████████████████████████████████| 4.3 MB 36.1 MB/s \n",
            "\u001b[?25hRequirement already satisfied: altair>=3.2.0 in /usr/local/lib/python3.7/dist-packages (from streamlit->simpletransformers) (4.2.0)\n",
            "Requirement already satisfied: tornado>=5.0 in /usr/local/lib/python3.7/dist-packages (from streamlit->simpletransformers) (5.1.1)\n",
            "Requirement already satisfied: pillow>=6.2.0 in /usr/local/lib/python3.7/dist-packages (from streamlit->simpletransformers) (7.1.2)\n",
            "Collecting base58\n",
            "  Downloading base58-2.1.1-py3-none-any.whl (5.6 kB)\n",
            "Requirement already satisfied: astor in /usr/local/lib/python3.7/dist-packages (from streamlit->simpletransformers) (0.8.1)\n",
            "Requirement already satisfied: toolz in /usr/local/lib/python3.7/dist-packages (from altair>=3.2.0->streamlit->simpletransformers) (0.11.2)\n",
            "Requirement already satisfied: jinja2 in /usr/local/lib/python3.7/dist-packages (from altair>=3.2.0->streamlit->simpletransformers) (2.11.3)\n",
            "Requirement already satisfied: jsonschema>=3.0 in /usr/local/lib/python3.7/dist-packages (from altair>=3.2.0->streamlit->simpletransformers) (4.3.3)\n",
            "Requirement already satisfied: entrypoints in /usr/local/lib/python3.7/dist-packages (from altair>=3.2.0->streamlit->simpletransformers) (0.4)\n",
            "Requirement already satisfied: importlib-resources>=1.4.0 in /usr/local/lib/python3.7/dist-packages (from jsonschema>=3.0->altair>=3.2.0->streamlit->simpletransformers) (5.4.0)\n",
            "Requirement already satisfied: pyrsistent!=0.17.0,!=0.17.1,!=0.17.2,>=0.14.0 in /usr/local/lib/python3.7/dist-packages (from jsonschema>=3.0->altair>=3.2.0->streamlit->simpletransformers) (0.18.1)\n",
            "Requirement already satisfied: ipywidgets>=7.0.0 in /usr/local/lib/python3.7/dist-packages (from pydeck>=0.1.dev5->streamlit->simpletransformers) (7.7.0)\n",
            "Requirement already satisfied: traitlets>=4.3.2 in /usr/local/lib/python3.7/dist-packages (from pydeck>=0.1.dev5->streamlit->simpletransformers) (5.1.1)\n",
            "Collecting ipykernel>=5.1.2\n",
            "  Downloading ipykernel-6.9.2-py3-none-any.whl (130 kB)\n",
            "\u001b[K     |████████████████████████████████| 130 kB 48.4 MB/s \n",
            "\u001b[?25hRequirement already satisfied: jupyter-client<8.0 in /usr/local/lib/python3.7/dist-packages (from ipykernel>=5.1.2->pydeck>=0.1.dev5->streamlit->simpletransformers) (5.3.5)\n",
            "Collecting ipython>=7.23.1\n",
            "  Downloading ipython-7.32.0-py3-none-any.whl (793 kB)\n",
            "\u001b[K     |████████████████████████████████| 793 kB 42.7 MB/s \n",
            "\u001b[?25hRequirement already satisfied: debugpy<2.0,>=1.0.0 in /usr/local/lib/python3.7/dist-packages (from ipykernel>=5.1.2->pydeck>=0.1.dev5->streamlit->simpletransformers) (1.0.0)\n",
            "Requirement already satisfied: matplotlib-inline<0.2.0,>=0.1.0 in /usr/local/lib/python3.7/dist-packages (from ipykernel>=5.1.2->pydeck>=0.1.dev5->streamlit->simpletransformers) (0.1.3)\n",
            "Requirement already satisfied: nest-asyncio in /usr/local/lib/python3.7/dist-packages (from ipykernel>=5.1.2->pydeck>=0.1.dev5->streamlit->simpletransformers) (1.5.4)\n",
            "Requirement already satisfied: pygments in /usr/local/lib/python3.7/dist-packages (from ipython>=7.23.1->ipykernel>=5.1.2->pydeck>=0.1.dev5->streamlit->simpletransformers) (2.6.1)\n",
            "Requirement already satisfied: decorator in /usr/local/lib/python3.7/dist-packages (from ipython>=7.23.1->ipykernel>=5.1.2->pydeck>=0.1.dev5->streamlit->simpletransformers) (4.4.2)\n",
            "Requirement already satisfied: pexpect>4.3 in /usr/local/lib/python3.7/dist-packages (from ipython>=7.23.1->ipykernel>=5.1.2->pydeck>=0.1.dev5->streamlit->simpletransformers) (4.8.0)\n",
            "Requirement already satisfied: setuptools>=18.5 in /usr/local/lib/python3.7/dist-packages (from ipython>=7.23.1->ipykernel>=5.1.2->pydeck>=0.1.dev5->streamlit->simpletransformers) (57.4.0)\n",
            "Collecting prompt-toolkit!=3.0.0,!=3.0.1,<3.1.0,>=2.0.0\n",
            "  Downloading prompt_toolkit-3.0.28-py3-none-any.whl (380 kB)\n",
            "\u001b[K     |████████████████████████████████| 380 kB 38.8 MB/s \n",
            "\u001b[?25hRequirement already satisfied: jedi>=0.16 in /usr/local/lib/python3.7/dist-packages (from ipython>=7.23.1->ipykernel>=5.1.2->pydeck>=0.1.dev5->streamlit->simpletransformers) (0.18.1)\n",
            "Requirement already satisfied: backcall in /usr/local/lib/python3.7/dist-packages (from ipython>=7.23.1->ipykernel>=5.1.2->pydeck>=0.1.dev5->streamlit->simpletransformers) (0.2.0)\n",
            "Requirement already satisfied: pickleshare in /usr/local/lib/python3.7/dist-packages (from ipython>=7.23.1->ipykernel>=5.1.2->pydeck>=0.1.dev5->streamlit->simpletransformers) (0.7.5)\n",
            "Requirement already satisfied: nbformat>=4.2.0 in /usr/local/lib/python3.7/dist-packages (from ipywidgets>=7.0.0->pydeck>=0.1.dev5->streamlit->simpletransformers) (5.2.0)\n",
            "Requirement already satisfied: widgetsnbextension~=3.6.0 in /usr/local/lib/python3.7/dist-packages (from ipywidgets>=7.0.0->pydeck>=0.1.dev5->streamlit->simpletransformers) (3.6.0)\n",
            "Requirement already satisfied: jupyterlab-widgets>=1.0.0 in /usr/local/lib/python3.7/dist-packages (from ipywidgets>=7.0.0->pydeck>=0.1.dev5->streamlit->simpletransformers) (1.1.0)\n",
            "Requirement already satisfied: ipython-genutils~=0.2.0 in /usr/local/lib/python3.7/dist-packages (from ipywidgets>=7.0.0->pydeck>=0.1.dev5->streamlit->simpletransformers) (0.2.0)\n",
            "Requirement already satisfied: parso<0.9.0,>=0.8.0 in /usr/local/lib/python3.7/dist-packages (from jedi>=0.16->ipython>=7.23.1->ipykernel>=5.1.2->pydeck>=0.1.dev5->streamlit->simpletransformers) (0.8.3)\n",
            "Requirement already satisfied: MarkupSafe>=0.23 in /usr/local/lib/python3.7/dist-packages (from jinja2->altair>=3.2.0->streamlit->simpletransformers) (2.0.1)\n",
            "Requirement already satisfied: jupyter-core>=4.6.0 in /usr/local/lib/python3.7/dist-packages (from jupyter-client<8.0->ipykernel>=5.1.2->pydeck>=0.1.dev5->streamlit->simpletransformers) (4.9.2)\n",
            "Requirement already satisfied: pyzmq>=13 in /usr/local/lib/python3.7/dist-packages (from jupyter-client<8.0->ipykernel>=5.1.2->pydeck>=0.1.dev5->streamlit->simpletransformers) (22.3.0)\n",
            "Requirement already satisfied: ptyprocess>=0.5 in /usr/local/lib/python3.7/dist-packages (from pexpect>4.3->ipython>=7.23.1->ipykernel>=5.1.2->pydeck>=0.1.dev5->streamlit->simpletransformers) (0.7.0)\n",
            "Requirement already satisfied: wcwidth in /usr/local/lib/python3.7/dist-packages (from prompt-toolkit!=3.0.0,!=3.0.1,<3.1.0,>=2.0.0->ipython>=7.23.1->ipykernel>=5.1.2->pydeck>=0.1.dev5->streamlit->simpletransformers) (0.2.5)\n",
            "Requirement already satisfied: notebook>=4.4.1 in /usr/local/lib/python3.7/dist-packages (from widgetsnbextension~=3.6.0->ipywidgets>=7.0.0->pydeck>=0.1.dev5->streamlit->simpletransformers) (5.3.1)\n",
            "Requirement already satisfied: nbconvert in /usr/local/lib/python3.7/dist-packages (from notebook>=4.4.1->widgetsnbextension~=3.6.0->ipywidgets>=7.0.0->pydeck>=0.1.dev5->streamlit->simpletransformers) (5.6.1)\n",
            "Requirement already satisfied: Send2Trash in /usr/local/lib/python3.7/dist-packages (from notebook>=4.4.1->widgetsnbextension~=3.6.0->ipywidgets>=7.0.0->pydeck>=0.1.dev5->streamlit->simpletransformers) (1.8.0)\n",
            "Requirement already satisfied: terminado>=0.8.1 in /usr/local/lib/python3.7/dist-packages (from notebook>=4.4.1->widgetsnbextension~=3.6.0->ipywidgets>=7.0.0->pydeck>=0.1.dev5->streamlit->simpletransformers) (0.13.3)\n",
            "Requirement already satisfied: mistune<2,>=0.8.1 in /usr/local/lib/python3.7/dist-packages (from nbconvert->notebook>=4.4.1->widgetsnbextension~=3.6.0->ipywidgets>=7.0.0->pydeck>=0.1.dev5->streamlit->simpletransformers) (0.8.4)\n",
            "Requirement already satisfied: defusedxml in /usr/local/lib/python3.7/dist-packages (from nbconvert->notebook>=4.4.1->widgetsnbextension~=3.6.0->ipywidgets>=7.0.0->pydeck>=0.1.dev5->streamlit->simpletransformers) (0.7.1)\n",
            "Requirement already satisfied: testpath in /usr/local/lib/python3.7/dist-packages (from nbconvert->notebook>=4.4.1->widgetsnbextension~=3.6.0->ipywidgets>=7.0.0->pydeck>=0.1.dev5->streamlit->simpletransformers) (0.6.0)\n",
            "Requirement already satisfied: pandocfilters>=1.4.1 in /usr/local/lib/python3.7/dist-packages (from nbconvert->notebook>=4.4.1->widgetsnbextension~=3.6.0->ipywidgets>=7.0.0->pydeck>=0.1.dev5->streamlit->simpletransformers) (1.5.0)\n",
            "Requirement already satisfied: bleach in /usr/local/lib/python3.7/dist-packages (from nbconvert->notebook>=4.4.1->widgetsnbextension~=3.6.0->ipywidgets>=7.0.0->pydeck>=0.1.dev5->streamlit->simpletransformers) (4.1.0)\n",
            "Requirement already satisfied: webencodings in /usr/local/lib/python3.7/dist-packages (from bleach->nbconvert->notebook>=4.4.1->widgetsnbextension~=3.6.0->ipywidgets>=7.0.0->pydeck>=0.1.dev5->streamlit->simpletransformers) (0.5.1)\n",
            "Requirement already satisfied: absl-py>=0.4 in /usr/local/lib/python3.7/dist-packages (from tensorboard->simpletransformers) (1.0.0)\n",
            "Requirement already satisfied: markdown>=2.6.8 in /usr/local/lib/python3.7/dist-packages (from tensorboard->simpletransformers) (3.3.6)\n",
            "Requirement already satisfied: google-auth-oauthlib<0.5,>=0.4.1 in /usr/local/lib/python3.7/dist-packages (from tensorboard->simpletransformers) (0.4.6)\n",
            "Requirement already satisfied: google-auth<3,>=1.6.3 in /usr/local/lib/python3.7/dist-packages (from tensorboard->simpletransformers) (1.35.0)\n",
            "Requirement already satisfied: wheel>=0.26 in /usr/local/lib/python3.7/dist-packages (from tensorboard->simpletransformers) (0.37.1)\n",
            "Requirement already satisfied: tensorboard-plugin-wit>=1.6.0 in /usr/local/lib/python3.7/dist-packages (from tensorboard->simpletransformers) (1.8.1)\n",
            "Requirement already satisfied: grpcio>=1.24.3 in /usr/local/lib/python3.7/dist-packages (from tensorboard->simpletransformers) (1.44.0)\n",
            "Requirement already satisfied: tensorboard-data-server<0.7.0,>=0.6.0 in /usr/local/lib/python3.7/dist-packages (from tensorboard->simpletransformers) (0.6.1)\n",
            "Requirement already satisfied: werkzeug>=0.11.15 in /usr/local/lib/python3.7/dist-packages (from tensorboard->simpletransformers) (1.0.1)\n",
            "Requirement already satisfied: pyasn1-modules>=0.2.1 in /usr/local/lib/python3.7/dist-packages (from google-auth<3,>=1.6.3->tensorboard->simpletransformers) (0.2.8)\n",
            "Requirement already satisfied: rsa<5,>=3.1.4 in /usr/local/lib/python3.7/dist-packages (from google-auth<3,>=1.6.3->tensorboard->simpletransformers) (4.8)\n",
            "Requirement already satisfied: requests-oauthlib>=0.7.0 in /usr/local/lib/python3.7/dist-packages (from google-auth-oauthlib<0.5,>=0.4.1->tensorboard->simpletransformers) (1.3.1)\n",
            "Requirement already satisfied: pyasn1<0.5.0,>=0.4.6 in /usr/local/lib/python3.7/dist-packages (from pyasn1-modules>=0.2.1->google-auth<3,>=1.6.3->tensorboard->simpletransformers) (0.4.8)\n",
            "Requirement already satisfied: oauthlib>=3.0.0 in /usr/local/lib/python3.7/dist-packages (from requests-oauthlib>=0.7.0->google-auth-oauthlib<0.5,>=0.4.1->tensorboard->simpletransformers) (3.2.0)\n",
            "Building wheels for collected packages: pathtools, seqeval, blinker\n",
            "  Building wheel for pathtools (setup.py) ... \u001b[?25l\u001b[?25hdone\n",
            "  Created wheel for pathtools: filename=pathtools-0.1.2-py3-none-any.whl size=8806 sha256=db65d4cffa97cde62ad6cd15c06f5aacbc54ede685320b7e908c46f7b1aeae03\n",
            "  Stored in directory: /root/.cache/pip/wheels/3e/31/09/fa59cef12cdcfecc627b3d24273699f390e71828921b2cbba2\n",
            "  Building wheel for seqeval (setup.py) ... \u001b[?25l\u001b[?25hdone\n",
            "  Created wheel for seqeval: filename=seqeval-1.2.2-py3-none-any.whl size=16180 sha256=5998bd054264abccfa5a5ee4c63e5480087defa8a1bc4915079125206ecf4424\n",
            "  Stored in directory: /root/.cache/pip/wheels/05/96/ee/7cac4e74f3b19e3158dce26a20a1c86b3533c43ec72a549fd7\n",
            "  Building wheel for blinker (setup.py) ... \u001b[?25l\u001b[?25hdone\n",
            "  Created wheel for blinker: filename=blinker-1.4-py3-none-any.whl size=13478 sha256=2bdca3173144cd3c886cd6122477ec551528e592372b4d833de09ac92d373c87\n",
            "  Stored in directory: /root/.cache/pip/wheels/22/f5/18/df711b66eb25b21325c132757d4314db9ac5e8dabeaf196eab\n",
            "Successfully built pathtools seqeval blinker\n",
            "Installing collected packages: prompt-toolkit, ipython, ipykernel, urllib3, multidict, frozenlist, yarl, smmap, asynctest, async-timeout, aiosignal, pyyaml, gitdb, fsspec, aiohttp, yaspin, xxhash, watchdog, validators, toml, tokenizers, shortuuid, setproctitle, sentry-sdk, sacremoses, responses, pympler, pydeck, pathtools, huggingface-hub, GitPython, docker-pycreds, blinker, base58, wandb, transformers, streamlit, seqeval, sentencepiece, datasets, simpletransformers\n",
            "  Attempting uninstall: prompt-toolkit\n",
            "    Found existing installation: prompt-toolkit 1.0.18\n",
            "    Uninstalling prompt-toolkit-1.0.18:\n",
            "      Successfully uninstalled prompt-toolkit-1.0.18\n",
            "  Attempting uninstall: ipython\n",
            "    Found existing installation: ipython 5.5.0\n",
            "    Uninstalling ipython-5.5.0:\n",
            "      Successfully uninstalled ipython-5.5.0\n",
            "  Attempting uninstall: ipykernel\n",
            "    Found existing installation: ipykernel 4.10.1\n",
            "    Uninstalling ipykernel-4.10.1:\n",
            "      Successfully uninstalled ipykernel-4.10.1\n",
            "  Attempting uninstall: urllib3\n",
            "    Found existing installation: urllib3 1.24.3\n",
            "    Uninstalling urllib3-1.24.3:\n",
            "      Successfully uninstalled urllib3-1.24.3\n",
            "  Attempting uninstall: pyyaml\n",
            "    Found existing installation: PyYAML 3.13\n",
            "    Uninstalling PyYAML-3.13:\n",
            "      Successfully uninstalled PyYAML-3.13\n",
            "\u001b[31mERROR: pip's dependency resolver does not currently take into account all the packages that are installed. This behaviour is the source of the following dependency conflicts.\n",
            "jupyter-console 5.2.0 requires prompt-toolkit<2.0.0,>=1.0.0, but you have prompt-toolkit 3.0.28 which is incompatible.\n",
            "google-colab 1.0.0 requires ipykernel~=4.10, but you have ipykernel 6.9.2 which is incompatible.\n",
            "google-colab 1.0.0 requires ipython~=5.5.0, but you have ipython 7.32.0 which is incompatible.\n",
            "datascience 0.10.6 requires folium==0.2.1, but you have folium 0.8.3 which is incompatible.\u001b[0m\n",
            "Successfully installed GitPython-3.1.27 aiohttp-3.8.1 aiosignal-1.2.0 async-timeout-4.0.2 asynctest-0.13.0 base58-2.1.1 blinker-1.4 datasets-2.0.0 docker-pycreds-0.4.0 frozenlist-1.3.0 fsspec-2022.2.0 gitdb-4.0.9 huggingface-hub-0.4.0 ipykernel-6.9.2 ipython-7.32.0 multidict-6.0.2 pathtools-0.1.2 prompt-toolkit-3.0.28 pydeck-0.7.1 pympler-1.0.1 pyyaml-6.0 responses-0.18.0 sacremoses-0.0.49 sentencepiece-0.1.96 sentry-sdk-1.5.8 seqeval-1.2.2 setproctitle-1.2.2 shortuuid-1.0.8 simpletransformers-0.63.4 smmap-5.0.0 streamlit-1.7.0 tokenizers-0.11.6 toml-0.10.2 transformers-4.17.0 urllib3-1.25.11 validators-0.18.2 wandb-0.12.11 watchdog-2.1.6 xxhash-3.0.0 yarl-1.7.2 yaspin-2.1.0\n"
          ]
        },
        {
          "output_type": "display_data",
          "data": {
            "application/vnd.colab-display-data+json": {
              "pip_warning": {
                "packages": [
                  "IPython",
                  "ipykernel",
                  "prompt_toolkit"
                ]
              }
            }
          },
          "metadata": {}
        }
      ]
    },
    {
      "cell_type": "code",
      "source": [
        "!pip install transformers"
      ],
      "metadata": {
        "colab": {
          "base_uri": "https://localhost:8080/"
        },
        "id": "px7Hl6a0D7Ri",
        "outputId": "e6ae1dd3-be8b-4a29-96f6-3db4f80c202c"
      },
      "execution_count": null,
      "outputs": [
        {
          "output_type": "stream",
          "name": "stdout",
          "text": [
            "Requirement already satisfied: transformers in /usr/local/lib/python3.7/dist-packages (4.17.0)\n",
            "Requirement already satisfied: pyyaml>=5.1 in /usr/local/lib/python3.7/dist-packages (from transformers) (6.0)\n",
            "Requirement already satisfied: regex!=2019.12.17 in /usr/local/lib/python3.7/dist-packages (from transformers) (2019.12.20)\n",
            "Requirement already satisfied: requests in /usr/local/lib/python3.7/dist-packages (from transformers) (2.23.0)\n",
            "Requirement already satisfied: huggingface-hub<1.0,>=0.1.0 in /usr/local/lib/python3.7/dist-packages (from transformers) (0.4.0)\n",
            "Requirement already satisfied: sacremoses in /usr/local/lib/python3.7/dist-packages (from transformers) (0.0.49)\n",
            "Requirement already satisfied: tqdm>=4.27 in /usr/local/lib/python3.7/dist-packages (from transformers) (4.63.0)\n",
            "Requirement already satisfied: filelock in /usr/local/lib/python3.7/dist-packages (from transformers) (3.6.0)\n",
            "Requirement already satisfied: importlib-metadata in /usr/local/lib/python3.7/dist-packages (from transformers) (4.11.3)\n",
            "Requirement already satisfied: tokenizers!=0.11.3,>=0.11.1 in /usr/local/lib/python3.7/dist-packages (from transformers) (0.11.6)\n",
            "Requirement already satisfied: numpy>=1.17 in /usr/local/lib/python3.7/dist-packages (from transformers) (1.21.5)\n",
            "Requirement already satisfied: packaging>=20.0 in /usr/local/lib/python3.7/dist-packages (from transformers) (21.3)\n",
            "Requirement already satisfied: typing-extensions>=3.7.4.3 in /usr/local/lib/python3.7/dist-packages (from huggingface-hub<1.0,>=0.1.0->transformers) (3.10.0.2)\n",
            "Requirement already satisfied: pyparsing!=3.0.5,>=2.0.2 in /usr/local/lib/python3.7/dist-packages (from packaging>=20.0->transformers) (3.0.7)\n",
            "Requirement already satisfied: zipp>=0.5 in /usr/local/lib/python3.7/dist-packages (from importlib-metadata->transformers) (3.7.0)\n",
            "Requirement already satisfied: idna<3,>=2.5 in /usr/local/lib/python3.7/dist-packages (from requests->transformers) (2.10)\n",
            "Requirement already satisfied: urllib3!=1.25.0,!=1.25.1,<1.26,>=1.21.1 in /usr/local/lib/python3.7/dist-packages (from requests->transformers) (1.25.11)\n",
            "Requirement already satisfied: certifi>=2017.4.17 in /usr/local/lib/python3.7/dist-packages (from requests->transformers) (2021.10.8)\n",
            "Requirement already satisfied: chardet<4,>=3.0.2 in /usr/local/lib/python3.7/dist-packages (from requests->transformers) (3.0.4)\n",
            "Requirement already satisfied: joblib in /usr/local/lib/python3.7/dist-packages (from sacremoses->transformers) (1.1.0)\n",
            "Requirement already satisfied: click in /usr/local/lib/python3.7/dist-packages (from sacremoses->transformers) (7.1.2)\n",
            "Requirement already satisfied: six in /usr/local/lib/python3.7/dist-packages (from sacremoses->transformers) (1.15.0)\n"
          ]
        }
      ]
    },
    {
      "cell_type": "code",
      "source": [
        "!pip install pyyaml==5.3.1"
      ],
      "metadata": {
        "colab": {
          "base_uri": "https://localhost:8080/"
        },
        "id": "2Dvk4p7SnSll",
        "outputId": "dee78201-df1b-4ac7-869a-63d65956b383"
      },
      "execution_count": null,
      "outputs": [
        {
          "output_type": "stream",
          "name": "stdout",
          "text": [
            "Collecting pyyaml==5.3.1\n",
            "  Downloading PyYAML-5.3.1.tar.gz (269 kB)\n",
            "\u001b[?25l\r\u001b[K     |█▏                              | 10 kB 18.6 MB/s eta 0:00:01\r\u001b[K     |██▍                             | 20 kB 13.1 MB/s eta 0:00:01\r\u001b[K     |███▋                            | 30 kB 2.3 MB/s eta 0:00:01\r\u001b[K     |████▉                           | 40 kB 2.9 MB/s eta 0:00:01\r\u001b[K     |██████                          | 51 kB 3.6 MB/s eta 0:00:01\r\u001b[K     |███████▎                        | 61 kB 4.2 MB/s eta 0:00:01\r\u001b[K     |████████▌                       | 71 kB 4.8 MB/s eta 0:00:01\r\u001b[K     |█████████▊                      | 81 kB 3.5 MB/s eta 0:00:01\r\u001b[K     |███████████                     | 92 kB 3.9 MB/s eta 0:00:01\r\u001b[K     |████████████▏                   | 102 kB 4.3 MB/s eta 0:00:01\r\u001b[K     |█████████████▍                  | 112 kB 4.3 MB/s eta 0:00:01\r\u001b[K     |██████████████▋                 | 122 kB 4.3 MB/s eta 0:00:01\r\u001b[K     |███████████████▉                | 133 kB 4.3 MB/s eta 0:00:01\r\u001b[K     |█████████████████               | 143 kB 4.3 MB/s eta 0:00:01\r\u001b[K     |██████████████████▎             | 153 kB 4.3 MB/s eta 0:00:01\r\u001b[K     |███████████████████▌            | 163 kB 4.3 MB/s eta 0:00:01\r\u001b[K     |████████████████████▊           | 174 kB 4.3 MB/s eta 0:00:01\r\u001b[K     |██████████████████████          | 184 kB 4.3 MB/s eta 0:00:01\r\u001b[K     |███████████████████████▏        | 194 kB 4.3 MB/s eta 0:00:01\r\u001b[K     |████████████████████████▎       | 204 kB 4.3 MB/s eta 0:00:01\r\u001b[K     |█████████████████████████▌      | 215 kB 4.3 MB/s eta 0:00:01\r\u001b[K     |██████████████████████████▊     | 225 kB 4.3 MB/s eta 0:00:01\r\u001b[K     |████████████████████████████    | 235 kB 4.3 MB/s eta 0:00:01\r\u001b[K     |█████████████████████████████▏  | 245 kB 4.3 MB/s eta 0:00:01\r\u001b[K     |██████████████████████████████▍ | 256 kB 4.3 MB/s eta 0:00:01\r\u001b[K     |███████████████████████████████▋| 266 kB 4.3 MB/s eta 0:00:01\r\u001b[K     |████████████████████████████████| 269 kB 4.3 MB/s \n",
            "\u001b[?25hBuilding wheels for collected packages: pyyaml\n",
            "  Building wheel for pyyaml (setup.py) ... \u001b[?25l\u001b[?25hdone\n",
            "  Created wheel for pyyaml: filename=PyYAML-5.3.1-cp37-cp37m-linux_x86_64.whl size=44636 sha256=0774142a3bb095fbd492108914334a45cfee6573c36e2b6cfacafe2b68f3313b\n",
            "  Stored in directory: /root/.cache/pip/wheels/5e/03/1e/e1e954795d6f35dfc7b637fe2277bff021303bd9570ecea653\n",
            "Successfully built pyyaml\n",
            "Installing collected packages: pyyaml\n",
            "  Attempting uninstall: pyyaml\n",
            "    Found existing installation: PyYAML 6.0\n",
            "    Uninstalling PyYAML-6.0:\n",
            "      Successfully uninstalled PyYAML-6.0\n",
            "Successfully installed pyyaml-5.3.1\n"
          ]
        }
      ]
    },
    {
      "cell_type": "code",
      "source": [
        "!pip install -q xlrd"
      ],
      "metadata": {
        "id": "wOlF8pRjm8C-"
      },
      "execution_count": null,
      "outputs": []
    },
    {
      "cell_type": "code",
      "source": [
        "!pip install scikit-plot"
      ],
      "metadata": {
        "colab": {
          "base_uri": "https://localhost:8080/",
          "height": 0
        },
        "id": "oeupPYSXJnXd",
        "outputId": "a880cd33-8663-4697-8fb4-295f39f58678"
      },
      "execution_count": 38,
      "outputs": [
        {
          "output_type": "stream",
          "name": "stdout",
          "text": [
            "Collecting scikit-plot\n",
            "  Downloading scikit_plot-0.3.7-py3-none-any.whl (33 kB)\n",
            "Requirement already satisfied: joblib>=0.10 in /usr/local/lib/python3.7/dist-packages (from scikit-plot) (1.1.0)\n",
            "Requirement already satisfied: scipy>=0.9 in /usr/local/lib/python3.7/dist-packages (from scikit-plot) (1.4.1)\n",
            "Requirement already satisfied: matplotlib>=1.4.0 in /usr/local/lib/python3.7/dist-packages (from scikit-plot) (3.2.2)\n",
            "Requirement already satisfied: scikit-learn>=0.18 in /usr/local/lib/python3.7/dist-packages (from scikit-plot) (1.0.2)\n",
            "Requirement already satisfied: pyparsing!=2.0.4,!=2.1.2,!=2.1.6,>=2.0.1 in /usr/local/lib/python3.7/dist-packages (from matplotlib>=1.4.0->scikit-plot) (3.0.7)\n",
            "Requirement already satisfied: kiwisolver>=1.0.1 in /usr/local/lib/python3.7/dist-packages (from matplotlib>=1.4.0->scikit-plot) (1.4.0)\n",
            "Requirement already satisfied: cycler>=0.10 in /usr/local/lib/python3.7/dist-packages (from matplotlib>=1.4.0->scikit-plot) (0.11.0)\n",
            "Requirement already satisfied: python-dateutil>=2.1 in /usr/local/lib/python3.7/dist-packages (from matplotlib>=1.4.0->scikit-plot) (2.8.2)\n",
            "Requirement already satisfied: numpy>=1.11 in /usr/local/lib/python3.7/dist-packages (from matplotlib>=1.4.0->scikit-plot) (1.21.5)\n",
            "Requirement already satisfied: typing-extensions in /usr/local/lib/python3.7/dist-packages (from kiwisolver>=1.0.1->matplotlib>=1.4.0->scikit-plot) (3.10.0.2)\n",
            "Requirement already satisfied: six>=1.5 in /usr/local/lib/python3.7/dist-packages (from python-dateutil>=2.1->matplotlib>=1.4.0->scikit-plot) (1.15.0)\n",
            "Requirement already satisfied: threadpoolctl>=2.0.0 in /usr/local/lib/python3.7/dist-packages (from scikit-learn>=0.18->scikit-plot) (3.1.0)\n",
            "Installing collected packages: scikit-plot\n",
            "Successfully installed scikit-plot-0.3.7\n"
          ]
        }
      ]
    },
    {
      "cell_type": "code",
      "source": [
        "pip list"
      ],
      "metadata": {
        "colab": {
          "base_uri": "https://localhost:8080/"
        },
        "id": "sAfSiQDyJ7jK",
        "outputId": "b20f7128-0f1c-4860-ffb4-455fcb07c66f"
      },
      "execution_count": null,
      "outputs": [
        {
          "output_type": "stream",
          "name": "stdout",
          "text": [
            "Package                       Version\n",
            "----------------------------- ---------------------\n",
            "absl-py                       1.0.0\n",
            "aiohttp                       3.8.1\n",
            "aiosignal                     1.2.0\n",
            "alabaster                     0.7.12\n",
            "albumentations                0.1.12\n",
            "altair                        4.2.0\n",
            "appdirs                       1.4.4\n",
            "argon2-cffi                   21.3.0\n",
            "argon2-cffi-bindings          21.2.0\n",
            "arviz                         0.11.4\n",
            "astor                         0.8.1\n",
            "astropy                       4.3.1\n",
            "astunparse                    1.6.3\n",
            "async-timeout                 4.0.2\n",
            "asynctest                     0.13.0\n",
            "atari-py                      0.2.9\n",
            "atomicwrites                  1.4.0\n",
            "attrs                         21.4.0\n",
            "audioread                     2.1.9\n",
            "autograd                      1.3\n",
            "Babel                         2.9.1\n",
            "backcall                      0.2.0\n",
            "base58                        2.1.1\n",
            "beautifulsoup4                4.6.3\n",
            "bleach                        4.1.0\n",
            "blinker                       1.4\n",
            "blis                          0.4.1\n",
            "bokeh                         2.3.3\n",
            "Bottleneck                    1.3.4\n",
            "branca                        0.4.2\n",
            "bs4                           0.0.1\n",
            "CacheControl                  0.12.10\n",
            "cached-property               1.5.2\n",
            "cachetools                    4.2.4\n",
            "catalogue                     1.0.0\n",
            "certifi                       2021.10.8\n",
            "cffi                          1.15.0\n",
            "cftime                        1.6.0\n",
            "chardet                       3.0.4\n",
            "charset-normalizer            2.0.12\n",
            "click                         7.1.2\n",
            "cloudpickle                   1.3.0\n",
            "cmake                         3.12.0\n",
            "cmdstanpy                     0.9.5\n",
            "colorcet                      3.0.0\n",
            "colorlover                    0.3.0\n",
            "community                     1.0.0b1\n",
            "contextlib2                   0.5.5\n",
            "convertdate                   2.4.0\n",
            "coverage                      3.7.1\n",
            "coveralls                     0.5\n",
            "crcmod                        1.7\n",
            "cufflinks                     0.17.3\n",
            "cvxopt                        1.2.7\n",
            "cvxpy                         1.0.31\n",
            "cycler                        0.11.0\n",
            "cymem                         2.0.6\n",
            "Cython                        0.29.28\n",
            "daft                          0.0.4\n",
            "dask                          2.12.0\n",
            "datascience                   0.10.6\n",
            "datasets                      2.0.0\n",
            "debugpy                       1.0.0\n",
            "decorator                     4.4.2\n",
            "defusedxml                    0.7.1\n",
            "descartes                     1.1.0\n",
            "dill                          0.3.4\n",
            "distributed                   1.25.3\n",
            "dlib                          19.18.0\n",
            "dm-tree                       0.1.6\n",
            "docker-pycreds                0.4.0\n",
            "docopt                        0.6.2\n",
            "docutils                      0.17.1\n",
            "dopamine-rl                   1.0.5\n",
            "earthengine-api               0.1.303\n",
            "easydict                      1.9\n",
            "ecos                          2.0.10\n",
            "editdistance                  0.5.3\n",
            "en-core-web-sm                2.2.5\n",
            "entrypoints                   0.4\n",
            "ephem                         4.1.3\n",
            "et-xmlfile                    1.1.0\n",
            "fa2                           0.3.5\n",
            "fastai                        1.0.61\n",
            "fastdtw                       0.3.4\n",
            "fastprogress                  1.0.2\n",
            "fastrlock                     0.8\n",
            "fbprophet                     0.7.1\n",
            "feather-format                0.4.1\n",
            "filelock                      3.6.0\n",
            "firebase-admin                4.4.0\n",
            "fix-yahoo-finance             0.0.22\n",
            "Flask                         1.1.4\n",
            "flatbuffers                   2.0\n",
            "folium                        0.8.3\n",
            "frozenlist                    1.3.0\n",
            "fsspec                        2022.2.0\n",
            "future                        0.16.0\n",
            "gast                          0.5.3\n",
            "GDAL                          2.2.2\n",
            "gdown                         4.2.2\n",
            "gensim                        3.6.0\n",
            "geographiclib                 1.52\n",
            "geopy                         1.17.0\n",
            "gin-config                    0.5.0\n",
            "gitdb                         4.0.9\n",
            "GitPython                     3.1.27\n",
            "glob2                         0.7\n",
            "google                        2.0.3\n",
            "google-api-core               1.26.3\n",
            "google-api-python-client      1.12.11\n",
            "google-auth                   1.35.0\n",
            "google-auth-httplib2          0.0.4\n",
            "google-auth-oauthlib          0.4.6\n",
            "google-cloud-bigquery         1.21.0\n",
            "google-cloud-bigquery-storage 1.1.0\n",
            "google-cloud-core             1.0.3\n",
            "google-cloud-datastore        1.8.0\n",
            "google-cloud-firestore        1.7.0\n",
            "google-cloud-language         1.2.0\n",
            "google-cloud-storage          1.18.1\n",
            "google-cloud-translate        1.5.0\n",
            "google-colab                  1.0.0\n",
            "google-pasta                  0.2.0\n",
            "google-resumable-media        0.4.1\n",
            "googleapis-common-protos      1.56.0\n",
            "googledrivedownloader         0.4\n",
            "graphviz                      0.10.1\n",
            "greenlet                      1.1.2\n",
            "grpcio                        1.44.0\n",
            "gspread                       3.4.2\n",
            "gspread-dataframe             3.0.8\n",
            "gym                           0.17.3\n",
            "h5py                          3.1.0\n",
            "HeapDict                      1.0.1\n",
            "hijri-converter               2.2.3\n",
            "holidays                      0.10.5.2\n",
            "holoviews                     1.14.8\n",
            "html5lib                      1.0.1\n",
            "httpimport                    0.5.18\n",
            "httplib2                      0.17.4\n",
            "httplib2shim                  0.0.3\n",
            "huggingface-hub               0.4.0\n",
            "humanize                      0.5.1\n",
            "hyperopt                      0.1.2\n",
            "ideep4py                      2.0.0.post3\n",
            "idna                          2.10\n",
            "imageio                       2.4.1\n",
            "imagesize                     1.3.0\n",
            "imbalanced-learn              0.8.1\n",
            "imblearn                      0.0\n",
            "imgaug                        0.2.9\n",
            "importlib-metadata            4.11.3\n",
            "importlib-resources           5.4.0\n",
            "imutils                       0.5.4\n",
            "inflect                       2.1.0\n",
            "iniconfig                     1.1.1\n",
            "intel-openmp                  2022.0.2\n",
            "intervaltree                  2.1.0\n",
            "ipykernel                     6.9.2\n",
            "ipython                       7.32.0\n",
            "ipython-genutils              0.2.0\n",
            "ipython-sql                   0.3.9\n",
            "ipywidgets                    7.7.0\n",
            "itsdangerous                  1.1.0\n",
            "jax                           0.3.1\n",
            "jaxlib                        0.3.0+cuda11.cudnn805\n",
            "jedi                          0.18.1\n",
            "jieba                         0.42.1\n",
            "Jinja2                        2.11.3\n",
            "joblib                        1.1.0\n",
            "jpeg4py                       0.1.4\n",
            "jsonschema                    4.3.3\n",
            "jupyter                       1.0.0\n",
            "jupyter-client                5.3.5\n",
            "jupyter-console               5.2.0\n",
            "jupyter-core                  4.9.2\n",
            "jupyterlab-pygments           0.1.2\n",
            "jupyterlab-widgets            1.1.0\n",
            "kaggle                        1.5.12\n",
            "kapre                         0.3.7\n",
            "keras                         2.8.0\n",
            "Keras-Preprocessing           1.1.2\n",
            "keras-vis                     0.4.1\n",
            "kiwisolver                    1.4.0\n",
            "korean-lunar-calendar         0.2.1\n",
            "libclang                      13.0.0\n",
            "librosa                       0.8.1\n",
            "lightgbm                      2.2.3\n",
            "llvmlite                      0.34.0\n",
            "lmdb                          0.99\n",
            "LunarCalendar                 0.0.9\n",
            "lxml                          4.2.6\n",
            "Markdown                      3.3.6\n",
            "MarkupSafe                    2.0.1\n",
            "matplotlib                    3.2.2\n",
            "matplotlib-inline             0.1.3\n",
            "matplotlib-venn               0.11.6\n",
            "missingno                     0.5.1\n",
            "mistune                       0.8.4\n",
            "mizani                        0.6.0\n",
            "mkl                           2019.0\n",
            "mlxtend                       0.14.0\n",
            "more-itertools                8.12.0\n",
            "moviepy                       0.2.3.5\n",
            "mpmath                        1.2.1\n",
            "msgpack                       1.0.3\n",
            "multidict                     6.0.2\n",
            "multiprocess                  0.70.12.2\n",
            "multitasking                  0.0.10\n",
            "murmurhash                    1.0.6\n",
            "music21                       5.5.0\n",
            "natsort                       5.5.0\n",
            "nbclient                      0.5.13\n",
            "nbconvert                     5.6.1\n",
            "nbformat                      5.2.0\n",
            "nest-asyncio                  1.5.4\n",
            "netCDF4                       1.5.8\n",
            "networkx                      2.6.3\n",
            "nibabel                       3.0.2\n",
            "nltk                          3.2.5\n",
            "notebook                      5.3.1\n",
            "numba                         0.51.2\n",
            "numexpr                       2.8.1\n",
            "numpy                         1.21.5\n",
            "nvidia-ml-py3                 7.352.0\n",
            "oauth2client                  4.1.3\n",
            "oauthlib                      3.2.0\n",
            "okgrade                       0.4.3\n",
            "opencv-contrib-python         4.1.2.30\n",
            "opencv-python                 4.1.2.30\n",
            "openpyxl                      3.0.9\n",
            "opt-einsum                    3.3.0\n",
            "osqp                          0.6.2.post0\n",
            "packaging                     21.3\n",
            "palettable                    3.3.0\n",
            "pandas                        1.3.5\n",
            "pandas-datareader             0.9.0\n",
            "pandas-gbq                    0.13.3\n",
            "pandas-profiling              1.4.1\n",
            "pandocfilters                 1.5.0\n",
            "panel                         0.12.1\n",
            "param                         1.12.0\n",
            "parso                         0.8.3\n",
            "pathlib                       1.0.1\n",
            "pathtools                     0.1.2\n",
            "patsy                         0.5.2\n",
            "pep517                        0.12.0\n",
            "pexpect                       4.8.0\n",
            "pickleshare                   0.7.5\n",
            "Pillow                        7.1.2\n",
            "pip                           21.1.3\n",
            "pip-tools                     6.2.0\n",
            "plac                          1.1.3\n",
            "plotly                        5.5.0\n",
            "plotnine                      0.6.0\n",
            "pluggy                        0.7.1\n",
            "pooch                         1.6.0\n",
            "portpicker                    1.3.9\n",
            "prefetch-generator            1.0.1\n",
            "preshed                       3.0.6\n",
            "prettytable                   3.2.0\n",
            "progressbar2                  3.38.0\n",
            "prometheus-client             0.13.1\n",
            "promise                       2.3\n",
            "prompt-toolkit                3.0.28\n",
            "protobuf                      3.17.3\n",
            "psutil                        5.4.8\n",
            "psycopg2                      2.7.6.1\n",
            "ptyprocess                    0.7.0\n",
            "py                            1.11.0\n",
            "pyarrow                       6.0.1\n",
            "pyasn1                        0.4.8\n",
            "pyasn1-modules                0.2.8\n",
            "pycocotools                   2.0.4\n",
            "pycparser                     2.21\n",
            "pyct                          0.4.8\n",
            "pydata-google-auth            1.4.0\n",
            "pydeck                        0.7.1\n",
            "pydot                         1.3.0\n",
            "pydot-ng                      2.0.0\n",
            "pydotplus                     2.0.2\n",
            "PyDrive                       1.3.1\n",
            "pyemd                         0.5.1\n",
            "pyerfa                        2.0.0.1\n",
            "pyglet                        1.5.0\n",
            "Pygments                      2.6.1\n",
            "pygobject                     3.26.1\n",
            "pymc3                         3.11.4\n",
            "PyMeeus                       0.5.11\n",
            "pymongo                       4.0.2\n",
            "Pympler                       1.0.1\n",
            "pymystem3                     0.2.0\n",
            "PyOpenGL                      3.1.6\n",
            "pyparsing                     3.0.7\n",
            "pyrsistent                    0.18.1\n",
            "pysndfile                     1.3.8\n",
            "PySocks                       1.7.1\n",
            "pystan                        2.19.1.1\n",
            "pytest                        3.6.4\n",
            "python-apt                    0.0.0\n",
            "python-chess                  0.23.11\n",
            "python-dateutil               2.8.2\n",
            "python-louvain                0.16\n",
            "python-slugify                6.1.1\n",
            "python-utils                  3.1.0\n",
            "pytz                          2018.9\n",
            "pyviz-comms                   2.1.0\n",
            "PyWavelets                    1.3.0\n",
            "PyYAML                        5.3.1\n",
            "pyzmq                         22.3.0\n",
            "qdldl                         0.1.5.post0\n",
            "qtconsole                     5.2.2\n",
            "QtPy                          2.0.1\n",
            "regex                         2019.12.20\n",
            "requests                      2.23.0\n",
            "requests-oauthlib             1.3.1\n",
            "resampy                       0.2.2\n",
            "responses                     0.18.0\n",
            "rpy2                          3.4.5\n",
            "rsa                           4.8\n",
            "sacremoses                    0.0.49\n",
            "scikit-image                  0.18.3\n",
            "scikit-learn                  1.0.2\n",
            "scipy                         1.4.1\n",
            "screen-resolution-extra       0.0.0\n",
            "scs                           3.2.0\n",
            "seaborn                       0.11.2\n",
            "semver                        2.13.0\n",
            "Send2Trash                    1.8.0\n",
            "sentencepiece                 0.1.96\n",
            "sentry-sdk                    1.5.8\n",
            "seqeval                       1.2.2\n",
            "setproctitle                  1.2.2\n",
            "setuptools                    57.4.0\n",
            "setuptools-git                1.2\n",
            "Shapely                       1.8.1.post1\n",
            "shortuuid                     1.0.8\n",
            "simplegeneric                 0.8.1\n",
            "simpletransformers            0.63.4\n",
            "six                           1.15.0\n",
            "sklearn                       0.0\n",
            "sklearn-pandas                1.8.0\n",
            "smart-open                    5.2.1\n",
            "smmap                         5.0.0\n",
            "snowballstemmer               2.2.0\n",
            "sortedcontainers              2.4.0\n",
            "SoundFile                     0.10.3.post1\n",
            "soupsieve                     2.3.1\n",
            "spacy                         2.2.4\n",
            "Sphinx                        1.8.6\n",
            "sphinxcontrib-serializinghtml 1.1.5\n",
            "sphinxcontrib-websupport      1.2.4\n",
            "SQLAlchemy                    1.4.32\n",
            "sqlparse                      0.4.2\n",
            "srsly                         1.0.5\n",
            "statsmodels                   0.10.2\n",
            "streamlit                     1.7.0\n",
            "sympy                         1.7.1\n",
            "tables                        3.7.0\n",
            "tabulate                      0.8.9\n",
            "tblib                         1.7.0\n",
            "tenacity                      8.0.1\n",
            "tensorboard                   2.8.0\n",
            "tensorboard-data-server       0.6.1\n",
            "tensorboard-plugin-wit        1.8.1\n",
            "tensorflow                    2.8.0\n",
            "tensorflow-datasets           4.0.1\n",
            "tensorflow-estimator          2.8.0\n",
            "tensorflow-gcs-config         2.8.0\n",
            "tensorflow-hub                0.12.0\n",
            "tensorflow-io-gcs-filesystem  0.24.0\n",
            "tensorflow-metadata           1.7.0\n",
            "tensorflow-probability        0.16.0\n",
            "termcolor                     1.1.0\n",
            "terminado                     0.13.3\n",
            "testpath                      0.6.0\n",
            "text-unidecode                1.3\n",
            "textblob                      0.15.3\n",
            "Theano-PyMC                   1.1.2\n",
            "thinc                         7.4.0\n",
            "threadpoolctl                 3.1.0\n",
            "tifffile                      2021.11.2\n",
            "tokenizers                    0.11.6\n",
            "toml                          0.10.2\n",
            "tomli                         2.0.1\n",
            "toolz                         0.11.2\n",
            "torch                         1.10.0+cu111\n",
            "torchaudio                    0.10.0+cu111\n",
            "torchsummary                  1.5.1\n",
            "torchtext                     0.11.0\n",
            "torchvision                   0.11.1+cu111\n",
            "tornado                       5.1.1\n",
            "tqdm                          4.63.0\n",
            "traitlets                     5.1.1\n",
            "transformers                  4.17.0\n",
            "tweepy                        3.10.0\n",
            "typeguard                     2.7.1\n",
            "typing-extensions             3.10.0.2\n",
            "tzlocal                       1.5.1\n",
            "uritemplate                   3.0.1\n",
            "urllib3                       1.25.11\n",
            "validators                    0.18.2\n",
            "vega-datasets                 0.9.0\n",
            "wandb                         0.12.11\n",
            "wasabi                        0.9.0\n",
            "watchdog                      2.1.6\n",
            "wcwidth                       0.2.5\n",
            "webencodings                  0.5.1\n",
            "Werkzeug                      1.0.1\n",
            "wheel                         0.37.1\n",
            "widgetsnbextension            3.6.0\n",
            "wordcloud                     1.5.0\n",
            "wrapt                         1.14.0\n",
            "xarray                        0.18.2\n",
            "xgboost                       0.90\n",
            "xkit                          0.0.0\n",
            "xlrd                          1.1.0\n",
            "xlwt                          1.3.0\n",
            "xxhash                        3.0.0\n",
            "yarl                          1.7.2\n",
            "yaspin                        2.1.0\n",
            "yellowbrick                   1.4\n",
            "zict                          2.1.0\n",
            "zipp                          3.7.0\n"
          ]
        }
      ]
    },
    {
      "cell_type": "markdown",
      "source": [
        "#Machine Learning Models:"
      ],
      "metadata": {
        "id": "OUI_drKzMTyF"
      }
    },
    {
      "cell_type": "markdown",
      "source": [
        "#DataSet 1: "
      ],
      "metadata": {
        "id": "v_F7lI49KsGw"
      }
    },
    {
      "cell_type": "code",
      "source": [
        "#load and read the dataset\n",
        "import io\n",
        "import pandas as pd\n",
        "#import packages to use\n",
        "from google.colab import files\n",
        "data = files.upload()\n"
      ],
      "metadata": {
        "colab": {
          "resources": {
            "http://localhost:8080/nbextensions/google.colab/files.js": {
              "data": "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",
              "ok": true,
              "headers": [
                [
                  "content-type",
                  "application/javascript"
                ]
              ],
              "status": 200,
              "status_text": ""
            }
          },
          "base_uri": "https://localhost:8080/",
          "height": 74
        },
        "id": "5duHQNVibAEV",
        "outputId": "e5b0937f-873e-48f3-90de-86a1d2db1ae3"
      },
      "execution_count": 1,
      "outputs": [
        {
          "output_type": "display_data",
          "data": {
            "text/plain": [
              "<IPython.core.display.HTML object>"
            ],
            "text/html": [
              "\n",
              "     <input type=\"file\" id=\"files-6a91c3d0-43c5-47d9-ae9e-baf5ac1f0976\" name=\"files[]\" multiple disabled\n",
              "        style=\"border:none\" />\n",
              "     <output id=\"result-6a91c3d0-43c5-47d9-ae9e-baf5ac1f0976\">\n",
              "      Upload widget is only available when the cell has been executed in the\n",
              "      current browser session. Please rerun this cell to enable.\n",
              "      </output>\n",
              "      <script src=\"/nbextensions/google.colab/files.js\"></script> "
            ]
          },
          "metadata": {}
        },
        {
          "output_type": "stream",
          "name": "stdout",
          "text": [
            "Saving ProjectDatasetSample.xlsx to ProjectDatasetSample.xlsx\n"
          ]
        }
      ]
    },
    {
      "cell_type": "code",
      "source": [
        "xlsx_file = io.BytesIO(data.get('ProjectDatasetSample.xlsx'))\n",
        "df = pd.read_excel('ProjectDatasetSample.xlsx', 'Gegevens')\n",
        "df.head()"
      ],
      "metadata": {
        "id": "E2AHMn0TeuMK",
        "colab": {
          "base_uri": "https://localhost:8080/",
          "height": 206
        },
        "outputId": "15a50845-22ba-465d-a8c0-cd865277d83c"
      },
      "execution_count": 2,
      "outputs": [
        {
          "output_type": "execute_result",
          "data": {
            "text/plain": [
              "                                          ReportText  Label\n",
              "0  X pols rechts \\n\\nOpname van de rechterpols in...      1\n",
              "1  X voet/tenen links \\n\\n\\nOpname van de linkerv...      0\n",
              "2  X enkel rechts \\n\\n\\nOpname van de rechterenke...      0\n",
              "3  X pols links \\n\\n\\nOpname van de linkerpols in...      0\n",
              "4  X voet/tenen rechts \\n\\n\\nOpname van de rechte...      0"
            ],
            "text/html": [
              "\n",
              "  <div id=\"df-2f9024ad-f85b-415c-8684-29d6d1345814\">\n",
              "    <div class=\"colab-df-container\">\n",
              "      <div>\n",
              "<style scoped>\n",
              "    .dataframe tbody tr th:only-of-type {\n",
              "        vertical-align: middle;\n",
              "    }\n",
              "\n",
              "    .dataframe tbody tr th {\n",
              "        vertical-align: top;\n",
              "    }\n",
              "\n",
              "    .dataframe thead th {\n",
              "        text-align: right;\n",
              "    }\n",
              "</style>\n",
              "<table border=\"1\" class=\"dataframe\">\n",
              "  <thead>\n",
              "    <tr style=\"text-align: right;\">\n",
              "      <th></th>\n",
              "      <th>ReportText</th>\n",
              "      <th>Label</th>\n",
              "    </tr>\n",
              "  </thead>\n",
              "  <tbody>\n",
              "    <tr>\n",
              "      <th>0</th>\n",
              "      <td>X pols rechts \\n\\nOpname van de rechterpols in...</td>\n",
              "      <td>1</td>\n",
              "    </tr>\n",
              "    <tr>\n",
              "      <th>1</th>\n",
              "      <td>X voet/tenen links \\n\\n\\nOpname van de linkerv...</td>\n",
              "      <td>0</td>\n",
              "    </tr>\n",
              "    <tr>\n",
              "      <th>2</th>\n",
              "      <td>X enkel rechts \\n\\n\\nOpname van de rechterenke...</td>\n",
              "      <td>0</td>\n",
              "    </tr>\n",
              "    <tr>\n",
              "      <th>3</th>\n",
              "      <td>X pols links \\n\\n\\nOpname van de linkerpols in...</td>\n",
              "      <td>0</td>\n",
              "    </tr>\n",
              "    <tr>\n",
              "      <th>4</th>\n",
              "      <td>X voet/tenen rechts \\n\\n\\nOpname van de rechte...</td>\n",
              "      <td>0</td>\n",
              "    </tr>\n",
              "  </tbody>\n",
              "</table>\n",
              "</div>\n",
              "      <button class=\"colab-df-convert\" onclick=\"convertToInteractive('df-2f9024ad-f85b-415c-8684-29d6d1345814')\"\n",
              "              title=\"Convert this dataframe to an interactive table.\"\n",
              "              style=\"display:none;\">\n",
              "        \n",
              "  <svg xmlns=\"http://www.w3.org/2000/svg\" height=\"24px\"viewBox=\"0 0 24 24\"\n",
              "       width=\"24px\">\n",
              "    <path d=\"M0 0h24v24H0V0z\" fill=\"none\"/>\n",
              "    <path d=\"M18.56 5.44l.94 2.06.94-2.06 2.06-.94-2.06-.94-.94-2.06-.94 2.06-2.06.94zm-11 1L8.5 8.5l.94-2.06 2.06-.94-2.06-.94L8.5 2.5l-.94 2.06-2.06.94zm10 10l.94 2.06.94-2.06 2.06-.94-2.06-.94-.94-2.06-.94 2.06-2.06.94z\"/><path d=\"M17.41 7.96l-1.37-1.37c-.4-.4-.92-.59-1.43-.59-.52 0-1.04.2-1.43.59L10.3 9.45l-7.72 7.72c-.78.78-.78 2.05 0 2.83L4 21.41c.39.39.9.59 1.41.59.51 0 1.02-.2 1.41-.59l7.78-7.78 2.81-2.81c.8-.78.8-2.07 0-2.86zM5.41 20L4 18.59l7.72-7.72 1.47 1.35L5.41 20z\"/>\n",
              "  </svg>\n",
              "      </button>\n",
              "      \n",
              "  <style>\n",
              "    .colab-df-container {\n",
              "      display:flex;\n",
              "      flex-wrap:wrap;\n",
              "      gap: 12px;\n",
              "    }\n",
              "\n",
              "    .colab-df-convert {\n",
              "      background-color: #E8F0FE;\n",
              "      border: none;\n",
              "      border-radius: 50%;\n",
              "      cursor: pointer;\n",
              "      display: none;\n",
              "      fill: #1967D2;\n",
              "      height: 32px;\n",
              "      padding: 0 0 0 0;\n",
              "      width: 32px;\n",
              "    }\n",
              "\n",
              "    .colab-df-convert:hover {\n",
              "      background-color: #E2EBFA;\n",
              "      box-shadow: 0px 1px 2px rgba(60, 64, 67, 0.3), 0px 1px 3px 1px rgba(60, 64, 67, 0.15);\n",
              "      fill: #174EA6;\n",
              "    }\n",
              "\n",
              "    [theme=dark] .colab-df-convert {\n",
              "      background-color: #3B4455;\n",
              "      fill: #D2E3FC;\n",
              "    }\n",
              "\n",
              "    [theme=dark] .colab-df-convert:hover {\n",
              "      background-color: #434B5C;\n",
              "      box-shadow: 0px 1px 3px 1px rgba(0, 0, 0, 0.15);\n",
              "      filter: drop-shadow(0px 1px 2px rgba(0, 0, 0, 0.3));\n",
              "      fill: #FFFFFF;\n",
              "    }\n",
              "  </style>\n",
              "\n",
              "      <script>\n",
              "        const buttonEl =\n",
              "          document.querySelector('#df-2f9024ad-f85b-415c-8684-29d6d1345814 button.colab-df-convert');\n",
              "        buttonEl.style.display =\n",
              "          google.colab.kernel.accessAllowed ? 'block' : 'none';\n",
              "\n",
              "        async function convertToInteractive(key) {\n",
              "          const element = document.querySelector('#df-2f9024ad-f85b-415c-8684-29d6d1345814');\n",
              "          const dataTable =\n",
              "            await google.colab.kernel.invokeFunction('convertToInteractive',\n",
              "                                                     [key], {});\n",
              "          if (!dataTable) return;\n",
              "\n",
              "          const docLinkHtml = 'Like what you see? Visit the ' +\n",
              "            '<a target=\"_blank\" href=https://colab.research.google.com/notebooks/data_table.ipynb>data table notebook</a>'\n",
              "            + ' to learn more about interactive tables.';\n",
              "          element.innerHTML = '';\n",
              "          dataTable['output_type'] = 'display_data';\n",
              "          await google.colab.output.renderOutput(dataTable, element);\n",
              "          const docLink = document.createElement('div');\n",
              "          docLink.innerHTML = docLinkHtml;\n",
              "          element.appendChild(docLink);\n",
              "        }\n",
              "      </script>\n",
              "    </div>\n",
              "  </div>\n",
              "  "
            ]
          },
          "metadata": {},
          "execution_count": 2
        }
      ]
    },
    {
      "cell_type": "code",
      "source": [
        "#df = df[['ReportTextText', 'Result_Infiltraat']]\n",
        "df = df[['ReportText', 'Label']]\n",
        "print(df)"
      ],
      "metadata": {
        "id": "txxfJYa2KhkX",
        "colab": {
          "base_uri": "https://localhost:8080/",
          "height": 0
        },
        "outputId": "80404d57-96a3-4125-8655-73bc49c72bd9"
      },
      "execution_count": 3,
      "outputs": [
        {
          "output_type": "stream",
          "name": "stdout",
          "text": [
            "                                             ReportText  Label\n",
            "0     X pols rechts \\n\\nOpname van de rechterpols in...      1\n",
            "1     X voet/tenen links \\n\\n\\nOpname van de linkerv...      0\n",
            "2     X enkel rechts \\n\\n\\nOpname van de rechterenke...      0\n",
            "3     X pols links \\n\\n\\nOpname van de linkerpols in...      0\n",
            "4     X voet/tenen rechts \\n\\n\\nOpname van de rechte...      0\n",
            "...                                                 ...    ...\n",
            "2465  Val van fiets. Mogelijk geluxeerd geweest. Fra...      1\n",
            "2466  X voet/tenen links \\nX enkel links \\n\\n\\nNorma...      0\n",
            "2467  X elleboog rechts \\nTwee richtingen.\\nGeen ond...      1\n",
            "2468  X hand/vingers rechts \\n\\nCorticaal knikje met...      1\n",
            "2469  X knie rechts \\n\\nNormaal wijde gewrichtssplee...      0\n",
            "\n",
            "[2470 rows x 2 columns]\n"
          ]
        }
      ]
    },
    {
      "cell_type": "markdown",
      "source": [
        "#Data pre-processing:\n",
        "Remove Blank rows in Data, if any\n",
        "Change all the text to lower case\n",
        "Word Tokenization\n",
        "Remove Stop words\n",
        "Remove Non-alpha text\n",
        "Word Lemmatization"
      ],
      "metadata": {
        "id": "v01mrV9VW5BD"
      }
    },
    {
      "cell_type": "code",
      "source": [
        "import pandas as pd\n",
        "import numpy as np\n",
        "import seaborn as sns\n",
        "import matplotlib.pyplot as plt\n",
        "from nltk.tokenize import word_tokenize\n",
        "from nltk import pos_tag\n",
        "from nltk.corpus import stopwords\n",
        "from nltk.stem import WordNetLemmatizer\n",
        "from sklearn.preprocessing import LabelEncoder\n",
        "from collections import defaultdict\n",
        "from nltk.corpus import wordnet as wn\n",
        "from sklearn.feature_extraction.text import TfidfVectorizer\n",
        "from sklearn import model_selection, naive_bayes, svm\n",
        "from sklearn.ensemble import RandomForestClassifier\n",
        "from sklearn import metrics\n",
        "import sklearn.metrics\n",
        "import math\n",
        "from sklearn.metrics import accuracy_score\n",
        "from sklearn.metrics import roc_auc_score\n",
        "from matplotlib import pyplot\n",
        "from sklearn.metrics import confusion_matrix\n",
        "import scikitplot as skplt\n",
        "import warnings\n",
        "warnings.filterwarnings('ignore')\n",
        "#used to remove the necessity of calling show after each plot.\n",
        "%matplotlib inline"
      ],
      "metadata": {
        "id": "GpUdLVoISGpB"
      },
      "execution_count": 40,
      "outputs": []
    },
    {
      "cell_type": "code",
      "source": [
        "#look at the data shape through shape, which shows the number of data sample, and number of variable.\n",
        "df.shape"
      ],
      "metadata": {
        "colab": {
          "base_uri": "https://localhost:8080/",
          "height": 0
        },
        "id": "DwRdJs8arDvO",
        "outputId": "083c38a5-3d18-4ef9-dd1b-0b1d51310307"
      },
      "execution_count": 5,
      "outputs": [
        {
          "output_type": "execute_result",
          "data": {
            "text/plain": [
              "(2470, 2)"
            ]
          },
          "metadata": {},
          "execution_count": 5
        }
      ]
    },
    {
      "cell_type": "code",
      "source": [
        "#look at the target column \"target\" (class distribution) using through groupby and size\n",
        "df.groupby('Label').size()"
      ],
      "metadata": {
        "colab": {
          "base_uri": "https://localhost:8080/",
          "height": 0
        },
        "id": "2d-_Wc5BrPFE",
        "outputId": "b49bee81-a4f6-4145-9b9e-0d924adcf826"
      },
      "execution_count": 6,
      "outputs": [
        {
          "output_type": "execute_result",
          "data": {
            "text/plain": [
              "Label\n",
              "0    1570\n",
              "1     900\n",
              "dtype: int64"
            ]
          },
          "metadata": {},
          "execution_count": 6
        }
      ]
    },
    {
      "cell_type": "code",
      "source": [
        "#lets use sns and count the number of observations of each tatget, to figureout if we hava a balanced data\n",
        "sns.countplot(data= df, x='Label')"
      ],
      "metadata": {
        "colab": {
          "base_uri": "https://localhost:8080/",
          "height": 297
        },
        "id": "ow4bx43kqmlP",
        "outputId": "115f7521-5234-4a2c-d2a1-8afb22b58480"
      },
      "execution_count": 7,
      "outputs": [
        {
          "output_type": "execute_result",
          "data": {
            "text/plain": [
              "<matplotlib.axes._subplots.AxesSubplot at 0x7f9323091cd0>"
            ]
          },
          "metadata": {},
          "execution_count": 7
        },
        {
          "output_type": "display_data",
          "data": {
            "text/plain": [
              "<Figure size 432x288 with 1 Axes>"
            ],
            "image/png": "[encoded data removed]"
          },
          "metadata": {
            "needs_background": "light"
          }
        }
      ]
    },
    {
      "cell_type": "code",
      "source": [
        "#reproduce the same result every time if the script is kept consistent otherwise each run will produce different results\n",
        "np.random.seed(500)"
      ],
      "metadata": {
        "id": "exbLtoFDWKBD"
      },
      "execution_count": 8,
      "outputs": []
    },
    {
      "cell_type": "code",
      "source": [
        "import nltk\n",
        "nltk.download('punkt')\n",
        "nltk.download('wordnet')\n",
        "nltk.download('averaged_perceptron_tagger')\n",
        "nltk.download('stopwords')"
      ],
      "metadata": {
        "colab": {
          "base_uri": "https://localhost:8080/",
          "height": 0
        },
        "id": "S9n146TZiIOV",
        "outputId": "608ed9b0-a855-4b00-b897-0b13837baf93"
      },
      "execution_count": 9,
      "outputs": [
        {
          "output_type": "stream",
          "name": "stdout",
          "text": [
            "[nltk_data] Downloading package punkt to /root/nltk_data...\n",
            "[nltk_data]   Unzipping tokenizers/punkt.zip.\n",
            "[nltk_data] Downloading package wordnet to /root/nltk_data...\n",
            "[nltk_data]   Unzipping corpora/wordnet.zip.\n",
            "[nltk_data] Downloading package averaged_perceptron_tagger to\n",
            "[nltk_data]     /root/nltk_data...\n",
            "[nltk_data]   Unzipping taggers/averaged_perceptron_tagger.zip.\n",
            "[nltk_data] Downloading package stopwords to /root/nltk_data...\n",
            "[nltk_data]   Unzipping corpora/stopwords.zip.\n"
          ]
        },
        {
          "output_type": "execute_result",
          "data": {
            "text/plain": [
              "True"
            ]
          },
          "metadata": {},
          "execution_count": 9
        }
      ]
    },
    {
      "cell_type": "code",
      "source": [
        "# Step - a : Remove blank rows if any.\n",
        "df['ReportText'].dropna(inplace=True)"
      ],
      "metadata": {
        "id": "2BEjLOUtW4r9"
      },
      "execution_count": 10,
      "outputs": []
    },
    {
      "cell_type": "code",
      "source": [
        "# Step - b : Change all the text to lower case.\n",
        "df['ReportText']= [entry.lower() for entry in df['ReportText']]"
      ],
      "metadata": {
        "id": "804dG4XFWKFc"
      },
      "execution_count": 11,
      "outputs": []
    },
    {
      "cell_type": "code",
      "source": [
        "# Step - c : Tokenization : In this each entry in the report will be broken into set of words\n",
        "df['ReportText']= [word_tokenize(entry) for entry in df['ReportText']]"
      ],
      "metadata": {
        "id": "Gw5ZPF_MWKJw"
      },
      "execution_count": 12,
      "outputs": []
    },
    {
      "cell_type": "code",
      "source": [
        "# Step - d : Remove Stop words, Non-Numeric and perfom Word Stemming/Lemmenting.\n",
        "# WordNetLemmatizer requires Pos tags to understand if the word is noun or verb or adjective etc. \n",
        "tag_map = defaultdict(lambda : wn.NOUN)\n",
        "tag_map['J'] = wn.ADJ\n",
        "tag_map['V'] = wn.VERB\n",
        "tag_map['R'] = wn.ADV\n",
        "for index,entry in enumerate(df['ReportText']):\n",
        "    # Declaring Empty List to store the words that follow the rules for this step\n",
        "    Final_words = []\n",
        "    # Initializing WordNetLemmatizer()\n",
        "    word_Lemmatized = WordNetLemmatizer()\n",
        "    # pos_tag function below will provide the 'tag' i.e if the word is Noun(N) or Verb(V) or something else.\n",
        "    for word, tag in pos_tag(entry):\n",
        "        # Below condition is to check for Stop words and consider only alphabets\n",
        "        if word not in stopwords.words('english') and word.isalpha():\n",
        "            word_Final = word_Lemmatized.lemmatize(word,tag_map[tag[0]])\n",
        "            Final_words.append(word_Final)\n",
        "    # The final processed set of words for each iteration will be stored in 'text_final'\n",
        "    df.loc[index,'text_final'] = str(Final_words)"
      ],
      "metadata": {
        "id": "EsEeo88IhC2r"
      },
      "execution_count": 13,
      "outputs": []
    },
    {
      "cell_type": "code",
      "source": [
        "df.head()"
      ],
      "metadata": {
        "colab": {
          "base_uri": "https://localhost:8080/",
          "height": 206
        },
        "id": "y0N3SOcujuJa",
        "outputId": "ecd8185e-6dc8-493c-eda1-b17877733e93"
      },
      "execution_count": 14,
      "outputs": [
        {
          "output_type": "execute_result",
          "data": {
            "text/plain": [
              "                                          ReportText  Label  \\\n",
              "0  [x, pols, rechts, opname, van, de, rechterpols...      1   \n",
              "1  [x, voet/tenen, links, opname, van, de, linker...      0   \n",
              "2  [x, enkel, rechts, opname, van, de, rechterenk...      0   \n",
              "3  [x, pols, links, opname, van, de, linkerpols, ...      0   \n",
              "4  [x, voet/tenen, rechts, opname, van, de, recht...      0   \n",
              "\n",
              "                                          text_final  \n",
              "0  ['x', 'pol', 'rechts', 'opname', 'van', 'de', ...  \n",
              "1  ['x', 'link', 'opname', 'van', 'de', 'linkervo...  \n",
              "2  ['x', 'enkel', 'rechts', 'opname', 'van', 'de'...  \n",
              "3  ['x', 'pol', 'link', 'opname', 'van', 'de', 'l...  \n",
              "4  ['x', 'rechts', 'opname', 'van', 'de', 'rechte...  "
            ],
            "text/html": [
              "\n",
              "  <div id=\"df-eb53e579-8532-4442-994e-49b9ac688445\">\n",
              "    <div class=\"colab-df-container\">\n",
              "      <div>\n",
              "<style scoped>\n",
              "    .dataframe tbody tr th:only-of-type {\n",
              "        vertical-align: middle;\n",
              "    }\n",
              "\n",
              "    .dataframe tbody tr th {\n",
              "        vertical-align: top;\n",
              "    }\n",
              "\n",
              "    .dataframe thead th {\n",
              "        text-align: right;\n",
              "    }\n",
              "</style>\n",
              "<table border=\"1\" class=\"dataframe\">\n",
              "  <thead>\n",
              "    <tr style=\"text-align: right;\">\n",
              "      <th></th>\n",
              "      <th>ReportText</th>\n",
              "      <th>Label</th>\n",
              "      <th>text_final</th>\n",
              "    </tr>\n",
              "  </thead>\n",
              "  <tbody>\n",
              "    <tr>\n",
              "      <th>0</th>\n",
              "      <td>[x, pols, rechts, opname, van, de, rechterpols...</td>\n",
              "      <td>1</td>\n",
              "      <td>['x', 'pol', 'rechts', 'opname', 'van', 'de', ...</td>\n",
              "    </tr>\n",
              "    <tr>\n",
              "      <th>1</th>\n",
              "      <td>[x, voet/tenen, links, opname, van, de, linker...</td>\n",
              "      <td>0</td>\n",
              "      <td>['x', 'link', 'opname', 'van', 'de', 'linkervo...</td>\n",
              "    </tr>\n",
              "    <tr>\n",
              "      <th>2</th>\n",
              "      <td>[x, enkel, rechts, opname, van, de, rechterenk...</td>\n",
              "      <td>0</td>\n",
              "      <td>['x', 'enkel', 'rechts', 'opname', 'van', 'de'...</td>\n",
              "    </tr>\n",
              "    <tr>\n",
              "      <th>3</th>\n",
              "      <td>[x, pols, links, opname, van, de, linkerpols, ...</td>\n",
              "      <td>0</td>\n",
              "      <td>['x', 'pol', 'link', 'opname', 'van', 'de', 'l...</td>\n",
              "    </tr>\n",
              "    <tr>\n",
              "      <th>4</th>\n",
              "      <td>[x, voet/tenen, rechts, opname, van, de, recht...</td>\n",
              "      <td>0</td>\n",
              "      <td>['x', 'rechts', 'opname', 'van', 'de', 'rechte...</td>\n",
              "    </tr>\n",
              "  </tbody>\n",
              "</table>\n",
              "</div>\n",
              "      <button class=\"colab-df-convert\" onclick=\"convertToInteractive('df-eb53e579-8532-4442-994e-49b9ac688445')\"\n",
              "              title=\"Convert this dataframe to an interactive table.\"\n",
              "              style=\"display:none;\">\n",
              "        \n",
              "  <svg xmlns=\"http://www.w3.org/2000/svg\" height=\"24px\"viewBox=\"0 0 24 24\"\n",
              "       width=\"24px\">\n",
              "    <path d=\"M0 0h24v24H0V0z\" fill=\"none\"/>\n",
              "    <path d=\"M18.56 5.44l.94 2.06.94-2.06 2.06-.94-2.06-.94-.94-2.06-.94 2.06-2.06.94zm-11 1L8.5 8.5l.94-2.06 2.06-.94-2.06-.94L8.5 2.5l-.94 2.06-2.06.94zm10 10l.94 2.06.94-2.06 2.06-.94-2.06-.94-.94-2.06-.94 2.06-2.06.94z\"/><path d=\"M17.41 7.96l-1.37-1.37c-.4-.4-.92-.59-1.43-.59-.52 0-1.04.2-1.43.59L10.3 9.45l-7.72 7.72c-.78.78-.78 2.05 0 2.83L4 21.41c.39.39.9.59 1.41.59.51 0 1.02-.2 1.41-.59l7.78-7.78 2.81-2.81c.8-.78.8-2.07 0-2.86zM5.41 20L4 18.59l7.72-7.72 1.47 1.35L5.41 20z\"/>\n",
              "  </svg>\n",
              "      </button>\n",
              "      \n",
              "  <style>\n",
              "    .colab-df-container {\n",
              "      display:flex;\n",
              "      flex-wrap:wrap;\n",
              "      gap: 12px;\n",
              "    }\n",
              "\n",
              "    .colab-df-convert {\n",
              "      background-color: #E8F0FE;\n",
              "      border: none;\n",
              "      border-radius: 50%;\n",
              "      cursor: pointer;\n",
              "      display: none;\n",
              "      fill: #1967D2;\n",
              "      height: 32px;\n",
              "      padding: 0 0 0 0;\n",
              "      width: 32px;\n",
              "    }\n",
              "\n",
              "    .colab-df-convert:hover {\n",
              "      background-color: #E2EBFA;\n",
              "      box-shadow: 0px 1px 2px rgba(60, 64, 67, 0.3), 0px 1px 3px 1px rgba(60, 64, 67, 0.15);\n",
              "      fill: #174EA6;\n",
              "    }\n",
              "\n",
              "    [theme=dark] .colab-df-convert {\n",
              "      background-color: #3B4455;\n",
              "      fill: #D2E3FC;\n",
              "    }\n",
              "\n",
              "    [theme=dark] .colab-df-convert:hover {\n",
              "      background-color: #434B5C;\n",
              "      box-shadow: 0px 1px 3px 1px rgba(0, 0, 0, 0.15);\n",
              "      filter: drop-shadow(0px 1px 2px rgba(0, 0, 0, 0.3));\n",
              "      fill: #FFFFFF;\n",
              "    }\n",
              "  </style>\n",
              "\n",
              "      <script>\n",
              "        const buttonEl =\n",
              "          document.querySelector('#df-eb53e579-8532-4442-994e-49b9ac688445 button.colab-df-convert');\n",
              "        buttonEl.style.display =\n",
              "          google.colab.kernel.accessAllowed ? 'block' : 'none';\n",
              "\n",
              "        async function convertToInteractive(key) {\n",
              "          const element = document.querySelector('#df-eb53e579-8532-4442-994e-49b9ac688445');\n",
              "          const dataTable =\n",
              "            await google.colab.kernel.invokeFunction('convertToInteractive',\n",
              "                                                     [key], {});\n",
              "          if (!dataTable) return;\n",
              "\n",
              "          const docLinkHtml = 'Like what you see? Visit the ' +\n",
              "            '<a target=\"_blank\" href=https://colab.research.google.com/notebooks/data_table.ipynb>data table notebook</a>'\n",
              "            + ' to learn more about interactive tables.';\n",
              "          element.innerHTML = '';\n",
              "          dataTable['output_type'] = 'display_data';\n",
              "          await google.colab.output.renderOutput(dataTable, element);\n",
              "          const docLink = document.createElement('div');\n",
              "          docLink.innerHTML = docLinkHtml;\n",
              "          element.appendChild(docLink);\n",
              "        }\n",
              "      </script>\n",
              "    </div>\n",
              "  </div>\n",
              "  "
            ]
          },
          "metadata": {},
          "execution_count": 14
        }
      ]
    },
    {
      "cell_type": "markdown",
      "source": [
        "*STEP -5: Prepare Train and Test Data sets*"
      ],
      "metadata": {
        "id": "UScyZNBUjREa"
      }
    },
    {
      "cell_type": "code",
      "source": [
        "Train_X, Test_X, Train_Y, Test_Y = model_selection.train_test_split(df['text_final'],df['Label'],test_size=0.2)"
      ],
      "metadata": {
        "id": "FzzQsOnohC7Z"
      },
      "execution_count": 15,
      "outputs": []
    },
    {
      "cell_type": "markdown",
      "source": [
        "*STEP -6: Encoding*"
      ],
      "metadata": {
        "id": "DF18LnYkj3Bm"
      }
    },
    {
      "cell_type": "code",
      "source": [
        "Encoder = LabelEncoder()\n",
        "Train_Y = Encoder.fit_transform(Train_Y)\n",
        "Test_Y = Encoder.fit_transform(Test_Y)"
      ],
      "metadata": {
        "id": "D1Uh2AnvhDAF"
      },
      "execution_count": 16,
      "outputs": []
    },
    {
      "cell_type": "markdown",
      "source": [
        "*STEP -7: Word Vectorization*"
      ],
      "metadata": {
        "id": "cbHEPM0LkGIZ"
      }
    },
    {
      "cell_type": "code",
      "source": [
        "Tfidf_vect = TfidfVectorizer(max_features=5000)\n",
        "Tfidf_vect.fit(df['text_final'])\n",
        "Train_X_Tfidf = Tfidf_vect.transform(Train_X)\n",
        "Test_X_Tfidf = Tfidf_vect.transform(Test_X)"
      ],
      "metadata": {
        "id": "q41rGkX3kGaN"
      },
      "execution_count": 17,
      "outputs": []
    },
    {
      "cell_type": "code",
      "source": [
        "#syntax to see the vocabulary \n",
        "print(Tfidf_vect.vocabulary_)"
      ],
      "metadata": {
        "colab": {
          "base_uri": "https://localhost:8080/",
          "height": 0
        },
        "id": "2aOMVQjekWta",
        "outputId": "68827012-400f-404a-865e-8d30a256a94c"
      },
      "execution_count": 18,
      "outputs": [
        {
          "output_type": "stream",
          "name": "stdout",
          "text": [
            "{'pol': 1721, 'rechts': 1851, 'opname': 1574, 'van': 2267, 'de': 515, 'rechterpols': 1844, 'twee': 2214, 'richtingen': 1889, 'geen': 848, 'eerder': 659, 'onderzoek': 1521, 'ter': 2126, 'vergelijk': 2311, 'hoogte': 1050, 'distale': 586, 'radius': 1810, 'lucent': 1318, 'ophelderingslijntje': 1571, 'zonder': 2518, 'aanwijzingen': 26, 'voor': 2413, 'cortexdoorbraak': 462, 'beeld': 213, 'passend': 1651, 'bij': 294, 'fissuur': 780, 'verder': 2305, 'intacte': 1134, 'ossale': 1594, 'structuren': 2052, 'meet': 1371, 'normale': 1478, 'corticale': 467, 'begrenzingen': 222, 'traumatische': 2197, 'afwijkingen': 81, 'conclusie': 425, 'patiënt': 1668, 'werd': 2465, 'doorgestuurd': 598, 'naar': 1442, 'seh': 1958, 'link': 1280, 'linkervoet': 1297, 'botstructuur': 339, 'en': 682, 'kalkhoudendheid': 1176, 'intact': 1133, 'enkel': 687, 'rechterenkel': 1836, 'congruent': 432, 'enkelgewricht': 693, 'uitgebreide': 2230, 'weke': 2453, 'delenzwelling': 533, 'laterale': 1250, 'malleolus': 1343, 'fibula': 771, 'linkerpols': 1295, 'nog': 1472, 'onvolgroeid': 1552, 'skelet': 1978, 'polsgewricht': 1725, 'rechtervoet': 1848, 'evidente': 733, 'gezien': 931, 'aard': 30, 'het': 1022, 'trauma': 2194, 'spaakverwonding': 1998, 'klinische': 1197, 'evaluatie': 727, 'onderbeen': 1509, 'linkeronderbeen': 1293, 'kalkarm': 1174, 'aspect': 161, 'afgebeelde': 58, 'suboptimale': 2073, 'degeneratieve': 526, 'veranderingen': 2291, 'fractuur': 800, 'tibia': 2148, 'operatieclips': 1563, 'projecterend': 1769, 'aan': 0, 'dorsale': 608, 'zijde': 2508, 'graag': 958, 'gerichte': 880, 'linkerenkel': 1287, 'dig': 564, 'standaard': 2029, 'inclusief': 1108, 'scafoid': 1917, 'serie': 1961, 'stand': 2028, 'lijntje': 1275, 'door': 592, 'anatomische': 103, 'pt': 1786, 'posttraumatische': 1745, 'pathologie': 1665, 'knie': 1200, 'conform': 431, 'cortex': 461, 'traumatisch': 2196, 'ossaal': 1591, 'letsel': 1262, 'normaal': 1476, 'epifysairlijnen': 708, 'kenmerken': 1185, 'ontbrekende': 1542, 'informatie': 1117, 'bovenste': 352, 'spronggewricht': 2021, 'recente': 1829, 'fibulafractuur': 772, 'te': 2115, 'beschouwen': 262, 'al': 82, 'type': 2220, 'weber': 2445, 'lateralisatie': 1253, 'lateraal': 1249, 'hooguit': 1052, 'wat': 2443, 'minimale': 1413, 'dislocatie': 580, 'op': 1558, 'gevallen': 897, 'sindsdien': 1973, 'pijn': 1690, 'linkerbeen': 1282, 'vooral': 2414, 'linkerknie': 1291, 'wil': 2482, 'er': 717, 'niet': 1464, 'staan': 2025, 'proximale': 1784, 'tibiaschacht': 2155, 'goede': 952, 'gewrichtjes': 913, 'tweede': 2215, 'straal': 2046, 'elleboog': 673, 'vergelijking': 2314, 'fatpad': 755, 'fracturen': 798, 'groeischijf': 971, 'olecranon': 1491, 'radiuskop': 1816, 'projecteert': 1767, 'goed': 951, 'richting': 1888, 'capitulum': 379, 'bovenarm': 346, 'schouder': 1939, 'humerus': 1068, 'toont': 2168, 'een': 657, 'sluitende': 1988, 'ribben': 1883, 'luxatie': 1326, 'uitgedraaide': 2231, 'scapula': 1926, 'lijkt': 1272, 'fragment': 812, 'zichtbaar': 2502, 'caudale': 389, 'scapulablad': 1927, 'helemaal': 1008, 'zeker': 2496, 'mogelijk': 1426, 'toch': 2161, 'avulsie': 177, 'advies': 53, 'verwijzing': 2371, 'plus': 1717, 'zonodig': 2519, 'ct': 483, 'klopt': 1198, 'kliniek': 1195, 'hierbij': 1035, 'uit': 2222, 'geringe': 882, 'verkorting': 2324, 'verwezen': 2364, 'diffuus': 563, 'ontkalkt': 1544, 'enige': 685, 'angulatie': 110, 'dorsaal': 607, 'eveneens': 729, 'verdenking': 2304, 'processus': 1763, 'styloideus': 2061, 'ulna': 2242, 'ap': 131, 'immatuur': 1097, 'leeftijd': 1257, 'botstructuren': 338, 'zijn': 2510, 'fractuurlijnen': 807, 'afgrensbaar': 65, 'belijning': 244, 'carpalia': 385, 'rechteronderbeen': 1843, 'rechterhand': 1837, 'voorgaand': 2415, 'cortexonregelmatigheid': 465, 'basis': 204, 'eindfalanx': 669, 'vergeleken': 2310, 'april': 137, 'afwijkende': 79, 'contour': 440, 'bekende': 234, 'oude': 1617, 'nu': 1480, 'scherp': 1934, 'knikje': 1204, 'radiaire': 1798, 'metafyse': 1381, 'onderbreking': 1511, 'gewrichtsoppervlak': 919, 'nieuwe': 1466, 'aansluitend': 14, 'foto': 793, 'bekkenfoto': 236, 'detailfoto': 544, 'pubis': 1788, 'september': 1960, 'onveranderde': 1548, 'aangetoond': 4, 'elder': 671, 'ook': 1557, 'sacrum': 1915, 'overprojectie': 1632, 'beoordeelbaar': 249, 'versmalling': 2352, 'mediaal': 1360, 'deel': 517, 'heupgewricht': 1027, 'beiderzijds': 232, 'pubisfractuur': 1789, 'uitslag': 2237, 'besproken': 267, 'met': 1373, 'dienstdoende': 560, 'huisarts': 1059, 'plaatse': 1702, 'pip': 1696, 'vierde': 2379, 'losse': 1317, 'fragmenten': 814, 'knik': 1203, 'mediale': 1361, 'overgang': 1624, 'diafyse': 552, 'epifyse': 711, 'welke': 2461, 'herkenbaar': 1019, 'overige': 1626, 'pijnklachten': 1691, 'alhier': 85, 'suspect': 2091, 'fractuurtje': 810, 'driekwartopname': 620, 'uitbochting': 2224, 'navraag': 1454, 'onregelmatigheid': 1536, 'waarbij': 2435, 'derhalve': 543, 'onderarm': 1505, 'rechteronderarm': 1842, 'vraagstelling': 2431, 'anterieur': 121, 'duidelijke': 638, 'rechterknie': 1840, 'verticaal': 2356, 'verlopende': 2332, 'patellafractuur': 1658, 'kniegewricht': 1201, 'licht': 1266, 'hoogteverlies': 1051, 'gewrichtscompartiment': 916, 'tractie': 2178, 'spurvorming': 2023, 'patella': 1655, 'hydrops': 1076, 'antebrachi': 117, 'redelijke': 1857, 'betrokkenheid': 277, 'geheel': 858, 'sluiten': 1987, 'redelijk': 1856, 'patient': 1666, 'verdere': 2306, 'behandeling': 226, 'greenstick': 961, 'anatomsiche': 104, 'suggereert': 2078, 'caput': 380, 'radi': 1795, 'significante': 1971, 'positief': 1732, 'fat': 754, 'pad': 1645, 'sign': 1970, 'patiënte': 1669, 'medische': 1363, 'gegevens': 856, 'traction': 2179, 'spur': 2022, 'craniale': 474, 'klein': 1192, 'bothaakje': 332, 'voorzijde': 2422, 'greenstickfractuur': 962, 'zoals': 2514, 'thans': 2139, 'meer': 1366, 'terug': 2130, 'vinden': 2383, 'wijd': 2473, 'forse': 791, 'delen': 528, 'nagenoeg': 1448, 'carpale': 383, 'nagenoieg': 1449, 'ibntacte': 1085, 'ten': 2122, 'opzichte': 1583, 'verslag': 2348, 'beelden': 214, 'beschikbaar': 259, 'gewrichtsspleetversmalling': 922, 'osteofytvorming': 1606, 'femurcondyl': 763, 'tibiaplateau': 2154, 'patellofemoraal': 1663, 'biconcaaf': 290, 'ihk': 1089, 'degeneratie': 524, 'afgeronde': 64, 'verkalking': 2317, 'suprapatellair': 2086, 'gewrichtsspleet': 921, 'verkalkingen': 2318, 'bakerse': 195, 'cyste': 497, 'synoviale': 2099, 'chondromatose': 404, 'gonartrose': 954, 'fors': 790, 'hielspoor': 1032, 'onderzijde': 1520, 'calcaneus': 368, 'rechter': 1830, 'posttraumatisch': 1744, 'vetpad': 2376, 'aanzet': 27, 'tot': 2172, 'talonaviculaire': 2107, 'artrose': 154, 'aanvraag': 17, 'oogt': 1556, 'iets': 1088, 'minimaal': 1412, 'dit': 588, 'zou': 2520, 'kunnen': 1224, 'passen': 1650, 'stt': 2055, 'gewricht': 911, 'radiocarpaal': 1803, 'volaire': 2403, 'afgerond': 63, 'fragmentje': 815, 'eci': 655, 'vermoedelijk': 2339, 'oudere': 1619, 'datum': 513, 'dubieuze': 636, 'zekerheidshalve': 2499, 'falanx': 751, 'nauwelijks': 1451, 'fractuurdelen': 802, 'irregulaire': 1158, 'begrenzing': 221, 'midfalanx': 1400, 'aldaar': 83, 'tevens': 2136, 'kleine': 1193, 'dubbel': 629, 'gevolge': 900, 'summatie': 2081, 'cave': 390, 'deze': 548, 'onderarms': 1507, 'opnames': 1576, 'beoordelen': 251, 'transversale': 2185, 'lucente': 1319, 'lijn': 1273, 'meest': 1369, 'dubbelcontour': 630, 'vermoedelijke': 2340, 'aanvullende': 22, 'overweging': 1638, 'beoordeling': 252, 'linkerelleboog': 1286, 'pen': 1672, 'situ': 1975, 'elleboogsgewricht': 675, 'name': 1450, 'gewrichtsruimte': 920, 'toegenomen': 2163, 'sclerosering': 1949, 'aanpunting': 13, 'subluxatiestand': 2071, 'ulnaire': 2247, 'deviatie': 547, 'os': 1589, 'metacarpale': 1377, 'complex': 420, 'discrete': 578, 'tfcc': 2138, 'zover': 2521, 'uitgesproken': 2233, 'cortexonderbreking': 463, 'radii': 1801, 'teken': 2119, 'doorverwezen': 604, 'linkerhand': 1288, 'dip': 570, 'plantaire': 1707, 'corticaal': 466, 'trapje': 2191, 'humeruskop': 1073, 'waar': 2434, 'zit': 2511, 'zie': 2504, 'scafoïd': 1920, 'steking': 2038, 'echter': 654, 'direct': 571, 'gekenmerkt': 862, 'anders': 107, 'eventueel': 730, 'gedacht': 839, 'worden': 2485, 'avulsieletsel': 186, 'triquetrum': 2201, 'past': 1653, 'zwelling': 2528, 'schuinverlopende': 1947, 'mt': 1433, 'minus': 1417, 'variant': 2276, 'doorgemaakte': 597, 'vorderende': 2423, 'consolidatie': 437, 'ongewijzigde': 1528, 'schacht': 1928, 'metatarsale': 1384, 'tarsalia': 2112, 'wel': 2460, 'opvallend': 1581, 'kortere': 1216, 'geduid': 846, 'gering': 881, 'onregelmatige': 1534, 'restafwijkingen': 1874, 'inatcte': 1104, 'per': 1673, 'chondrocalcinose': 403, 'ligament': 1268, 'dru': 624, 'mortise': 1430, 'congruente': 433, 'enkelvork': 697, 'zeer': 2494, 'afgrensbare': 66, 'midschacht': 1402, 'claviculafractuur': 406, 'beschrijving': 264, 'huis': 1058, 'retour': 1877, 'uiteinde': 2226, 'relatief': 1864, 'ver': 2288, 'echt': 653, 'onveranderd': 1547, 'driekwart': 619, 'voetopname': 2396, 'dubieus': 635, 'sinus': 1974, 'tarsi': 2113, 'dan': 508, 'kader': 1170, 'danwel': 510, 'zal': 2492, 'opgeroepen': 1567, 'mede': 1359, 'osteofyt': 1604, 'enthesopathie': 699, 'zowel': 2522, 'aanhechting': 9, 'plantarispees': 1710, 'achillespees': 41, 'falangen': 750, 'vijfde': 2382, 'ulnair': 2246, 'gedevieerd': 841, 'articulatie': 150, 'epifysairschijven': 710, 'afwijkend': 78, 'ligamentair': 1269, 'kan': 1179, 'uitgesloten': 2232, 'si': 1969, 'gewrichten': 912, 'bekken': 235, 'heup': 1025, 'bekkenkam': 237, 'bekkenring': 238, 'ramus': 1825, 'superior': 2082, 'inferior': 1115, 'beide': 231, 'heupgewrichten': 1028, 'doorlopende': 602, 'botbalkjes': 324, 'veel': 2283, 'darmstructuren': 511, 'drukpijn': 626, 'tabatière': 2101, 'klinisch': 1196, 'scaphoideum': 1924, 'gaarne': 824, 'doorverwijzing': 606, 'crushletsel': 482, 'tuft': 2210, 'epiphysiolysis': 715, 'schuine': 1946, 'basisfalanx': 205, 'weinig': 2452, 'nb': 1455, 'amendment': 95, 'na': 1439, 'calcificaties': 373, 'waarschijnlijk': 2440, 'degeneratief': 525, 'persisterende': 1685, 'evt': 735, 'functieverlies': 819, 'overweeg': 1636, 'haakvorming': 979, 'calcificatie': 372, 'mcp': 1357, 'derde': 541, 'hand': 994, 'ulnae': 2243, 'fractuurlijn': 806, 'tpv': 2175, 'ip': 1154, 'lineair': 1278, 'radiopaak': 1809, 'corpus': 454, 'alienum': 87, 'tussen': 2213, 'mm': 1422, 'lang': 1240, 'stukje': 2057, 'ijzerdraad': 1092, 'addendum': 51, 'afhankelijk': 67, 'vd': 2282, 'alsnog': 92, 'pols': 1723, 'verdacht': 2302, 'dd': 514, 'driekwartopnamen': 621, 'twijfel': 2218, 'nav': 1452, 'traumabespreking': 2195, 'betreft': 276, 'triquetumfractuur': 2203, 'ipv': 1155, 'anatomique': 101, 'dagen': 505, 'geadviseerd': 829, 'nadere': 1447, 'analyse': 97, 'middels': 1390, 'radiusfractuur': 1813, 'verloop': 2328, 'subchondrale': 2068, 'sclerose': 1948, 'hetkader': 1024, 'comminutief': 416, 'zuivere': 2524, 'linkerzijde': 1299, 'delenzwellingen': 534, 'naviculare': 1453, 'eerste': 661, 'salter': 1916, 'harris': 1000, 'twk': 2219, 'kop': 1210, 'hulp': 1064, 'mn': 1423, 'scan': 1922, 'schuin': 1945, 'tertius': 2128, 'tertiusfractuur': 2129, 'dm': 589, 'cva': 495, 'minder': 1410, 'kracht': 1217, 'gewicht': 904, 'onleesbaar': 1529, 'vlekkig': 2387, 'lopen': 1312, 'bijzonderheden': 297, 'indien': 1111, 'persisteert': 1683, 'vaatkalk': 2256, 'echo': 651, 'dvt': 648, 'geweest': 902, 'bleek': 304, 'pijnlijk': 1692, 'wegens': 2451, 'stalen': 2027, 'buis': 361, 'kg': 1189, 'boven': 345, 'vanaf': 2268, 'dik': 567, 'voetbal': 2393, 'asdrukpijn': 158, 'uitsluiting': 2239, 'asymmetrie': 165, 'epifysairschijf': 709, 'breder': 357, 'vallend': 2265, 'binnen': 300, 'variatie': 2278, 'persisteren': 1684, 'klachten': 1190, 'via': 2377, 'linkerschouder': 1296, 'positieve': 1733, 'posterieur': 1736, 'sprake': 2017, 'radiushals': 1814, 'fissuurtje': 782, 'staat': 2026, 'anatomisch': 102, 'beperking': 254, 'lijken': 1271, 'wijde': 2474, 'erosies': 721, 'bipartita': 302, 'talus': 2109, 'talusneus': 2110, 'lucentie': 1320, 'accessoire': 37, 'gemaakt': 873, 'axiaal': 188, 'hierop': 1040, 'calcaneusfractuur': 369, 'alleen': 89, 'dakpan': 507, 'pleister': 1713, 'verband': 2293, 'controle': 445, 'nodig': 1469, 'combinatie': 415, 'dwarse': 650, 'ad': 50, 'axim': 191, 'leesbaar': 1259, 'hoogstand': 1048, 'clavicula': 405, 'avulsiefractuur': 180, 'middenfalanx': 1393, 'palmaire': 1647, 'hyperextensiestand': 1078, 'verklaren': 2321, 'doordat': 594, 'geduwd': 847, 'wordt': 2486, 'om': 1494, 'maken': 1340, 'telefonisch': 2121, 'doorgegeven': 596, 'xxxxxx': 2487, 'art': 143, 'bovenbeen': 347, 'rechterbovenbeen': 1833, 'subtiele': 2076, 'tibiametafyse': 2153, 'metafysaire': 1380, 'mechanisme': 1358, 'rechterschouder': 1847, 'rechterclavicula': 1834, 'versmald': 2350, 'relatieve': 1865, 'brede': 356, 'botuitbouw': 342, 'verbening': 2296, 'bovenzijde': 353, 'thoraxfoto': 2146, 'januari': 1163, 'koppeling': 1213, 'vaag': 2254, 'inzoomen': 1153, 'vervolgen': 2362, 'subcapitale': 2067, 'humerusfractuur': 1071, 'tuberculum': 2207, 'majus': 1339, 'schoudergewricht': 1940, 'glenohumerale': 944, 'relatie': 1863, 'anterieure': 122, 'posterieure': 1737, 'zekerheid': 2498, 'duiden': 639, 'obv': 1483, 'dubbelcontourtjes': 632, 'peroneuspees': 1682, 'voet': 2392, 'afgeplat': 62, 'doorgezakt': 599, 'voetgewelf': 2395, 'trigonum': 2199, 'preëxistent': 1758, 'enkele': 689, 'zich': 2501, 'handwortel': 997, 'projecteren': 1768, 'gerelateerd': 879, 'status': 2034, 'val': 2261, 'hier': 1034, 'laag': 1228, 'pool': 1729, 'vanwege': 2274, 'jonge': 1167, 'vervaardigd': 2359, 'zij': 2507, 'spoedeisende': 2011, 'immobilisatie': 1098, 'gewenst': 903, 'vanzelfsprekend': 2275, 'plaatsvinden': 1704, 'groeischijven': 972, 'herhalen': 1017, 'aanhoudende': 10, 'pink': 1695, 'ringvinger': 1892, 'digitus': 566, 'andere': 106, 'projectierichtingen': 1773, 'berustend': 258, 'drogbeeld': 623, 'botcyste': 325, 'metatarsalia': 1385, 'deling': 535, 'ongewijzigd': 1527, 'cwk': 496, 'afgebeeld': 57, 'halverwege': 989, 'alle': 88, 'wervelcorpora': 2468, 'inzakkingen': 1151, 'aangezien': 8, 'recent': 1828, 'aangewezen': 7, 'aanvullend': 21, 'scaphoid': 1923, 'imponeert': 1099, 'epicondyl': 702, 'ongeveer': 1526, 'huid': 1056, 'bedreiging': 211, 'subtiel': 2075, 'centraal': 393, 'volledig': 2410, 'preoperatief': 1753, 'postoperatieve': 1742, 'situatie': 1976, 'resectie': 1871, 'rand': 1826, 'osteotomie': 1614, 'radiologisch': 1806, 'uitgevoerde': 2235, 'operatie': 1562, 'genoemde': 875, 'postoperatief': 1741, 'correctie': 455, 'ontbreken': 1540, 'uitspraak': 2240, 'verandering': 2290, 'opgetreden': 1568, 'mate': 1349, 'verbreding': 2300, 'los': 1314, 'verplaatsing': 2342, 'ractuur': 1794, 'ging': 935, 'duidelijk': 637, 'scafoïdfractuur': 1921, 'nevenbevinding': 1462, 'rotatorcuff': 1902, 'component': 422, 'colles': 411, 'slechts': 1985, 'wekedelen': 2455, 'botfragment': 329, 'origine': 1584, 'herkenbare': 1020, 'zwachtel': 2526, 'linkerbovenarm': 1283, 'mri': 1432, 'defect': 520, 'craniaal': 473, 'caudaal': 388, 'hiervan': 1041, 'dichter': 557, 'begeleidend': 216, 'middenpool': 1396, 'deels': 519, 'sclerotisch': 1950, 'radiocarpale': 1804, 'bow': 354, 'grenzen': 963, 'noemenswaardige': 1470, 'voetskelet': 2399, 'ingevuld': 1122, 'fractuurkenmerken': 805, 'negatief': 1457, 'botappositie': 322, 'radiuskopje': 1819, 'alsmede': 91, 'botapposities': 323, 'apofysekern': 134, 'avulsiefragmentje': 184, 'kopje': 1212, 'linkerheup': 1289, 'maart': 1336, 'screenende': 1955, 'laborant': 1233, 'hierom': 1039, 'werkafspraak': 2467, 'radioloog': 1807, 'volgende': 2405, 'dag': 504, 'gammanail': 825, 'osteosynthese': 1611, 'eerdere': 660, 'rondom': 1898, 'osteosynthesemateriaal': 1612, 'xxxxxxrtsenpost': 2489, 'radiusmetafyse': 1821, 'onscherpe': 1538, 'drie': 617, 'volgroeid': 2408, 'verbeningskern': 2297, 'matige': 1353, 'radiodens': 1805, 'linkeronderarm': 1292, 'vetlijn': 2375, 'achterzijde': 44, 'af': 54, 'amputatie': 96, 'distaal': 584, 'rechterbovenarm': 1832, 'endorotatie': 683, 'exorotatie': 738, 'bal': 196, 'tegen': 2118, 'gekregen': 865, 'ii': 1090, 'best': 268, 'standsafwijking': 2032, 'contusie': 447, 'linker': 1281, 'hematoom': 1012, 'opmerking': 1573, 'jaar': 1162, 'geleden': 866, 'gehad': 857, 'aanzienlijk': 28, 'angulatiestand': 111, 'volair': 2402, 'aangeven': 5, 'oud': 1616, 'tibiale': 2151, 'externum': 746, 'periostreactie': 1677, 'botkern': 334, 'onderzoeken': 1522, 'onder': 1504, 'voorgaande': 2416, 'kort': 1214, 'interval': 1143, 'mijns': 1408, 'inziens': 1152, 'geïndiceerd': 934, 'watts': 2444, 'lucenties': 1321, 'rond': 1897, 'tmt': 2160, 'zekere': 2497, 'mtp': 1435, 'beperkte': 256, 'sluiting': 1989, 'matig': 1352, 'positioneren': 1734, 'liberum': 1264, 'suggestie': 2079, 'cortexonderbrekingen': 464, 'eventuele': 731, 'misschien': 1420, 'subcapitaal': 2066, 'behalve': 223, 'lichte': 1267, 'ac': 33, 'thorax': 2145, 'hart': 1001, 'longen': 1308, 'atypische': 173, 'vorm': 2427, 'huisartsenpost': 1061, 'spitse': 2006, 'eminentiae': 679, 'bovenpool': 350, 'gewijzigd': 907, 'heupkop': 1029, 'qua': 1791, 'gevolg': 899, 'relevant': 1866, 'afstaand': 74, 'go': 950, 'fractuurfragment': 804, 'ventrale': 2285, 'november': 1479, 'acromion': 46, 'avulsies': 187, 'drukpijnlijke': 628, 'duim': 642, 'racefiets': 1793, 'rechterheup': 1838, 'belasten': 243, 'slag': 1981, 'deur': 546, 'vandaag': 2270, 'gisteren': 939, 'cross': 477, 'fiets': 777, 'functiolese': 820, 'drukpijnlijk': 627, 'hamer': 991, 'linkerduim': 1285, 'geslagen': 887, 'kootje': 1209, 'bewegingen': 287, 'radiator': 1800, 'benen': 246, 'rechterbeen': 1831, 'grote': 974, 'teen': 2117, 'teruggegaan': 2132, 'post': 1735, 'hyperflexie': 1079, 'haemarthros': 981, 'impressie': 1102, 'nieuw': 1465, 'radiuskopfractuur': 1817, 'aangevraagd': 6, 'boteilandje': 328, 'bereid': 257, 'revisie': 1880, 'barst': 202, 'sprong': 2020, 'middenvoet': 1398, 'vrij': 2432, 'sesamoid': 1965, 'opde': 1561, 'enkelfoto': 691, 'afwijking': 80, 'pte': 1787, 'heeft': 1004, 'doorgebeld': 595, 'vork': 2426, 'slank': 1982, 'configuratie': 430, 'metaaldensiteit': 1375, 'middenvinger': 1397, 'rechterringvinger': 1846, 'binnenzijde': 301, 'fibulametafyse': 774, 'versmalde': 2351, 'subacromiale': 2065, 'ruimte': 1909, 'botvorming': 344, 'gesprongen': 889, 'tweederde': 2216, 'collateraal': 409, 'bandletsel': 197, 'scheve': 1936, 'positie': 1731, 'onregelmatig': 1533, 'linkervoorvoet': 1298, 'voorvoet': 2420, 'symmetrisch': 2094, 'weerszijde': 2450, 'hierin': 1037, 'anatomie': 100, 'overwegen': 1637, 'wekedelencalcificaties': 2456, 'toen': 2164, 'locatie': 1302, 'restafwijking': 1873, 'omtrent': 1500, 'scaphoidserie': 1925, 'overwogen': 1639, 'syndesmose': 2098, 'symmetrische': 2095, 'epifysiolysis': 714, 'dislocatio': 582, 'ventraal': 2284, 'langwerpige': 1245, 'onduidelijk': 1523, 'overleg': 1628, 'orthopeed': 1588, 'chirurg': 400, 'vanavond': 2269, 'electief': 672, 'intra': 1144, 'articulaire': 149, 'arhtrose': 140, 'arthrose': 146, 'dorsiflexie': 609, 'gesloten': 888, 'trap': 2187, 'metaalfragment': 1376, 'webspace': 2446, 'mc': 1356, 'flexie': 786, 'geossificeerde': 877, 'styloïd': 2062, 'nof': 1471, 'dorsolaterale': 612, 'femur': 762, 'verwijde': 2366, 'epifysiolyse': 713, 'flinke': 788, 'lwk': 1331, 'peri': 1675, 'prosthetische': 1778, 'trochanter': 2204, 'midclaviculaire': 1389, 'afstand': 75, 'apofysen': 135, 'norm': 1475, 'spiraalfractuur': 2004, 'iii': 1091, 'delendensiteit': 530, 'spoor': 2015, 'pa': 1641, 'spreidstand': 2018, 'hallux': 986, 'valgus': 2262, 'plantairflexie': 1708, 'grotendeels': 975, 'densiteit': 537, 'naast': 1443, 'blijken': 306, 'zitten': 2512, 'delenverkalking': 532, 'tekenen': 2120, 'rechterelleboog': 1835, 'opstuiking': 1580, 'aanwijsbaar': 24, 'antebrachifractuur': 118, 'beduidende': 212, 'latum': 1254, 'knikstand': 1206, 'tuberositas': 2208, 'handskelet': 996, 'boksersfractuur': 313, 'aantoonbare': 16, 'opheldering': 1569, 'langs': 1244, 'hap': 999, 'verzwikt': 2372, 'osteopenie': 1610, 'gescand': 885, 'standsverandering': 2033, 'intracapsulaire': 1147, 'collum': 412, 'communitieve': 419, 'glenohumeraal': 943, 'epyfisiolysis': 716, 'onleesbare': 1530, 'inttra': 1148, 'intercarpaal': 1136, 'onderarmsopname': 1508, 'overzichtsopname': 1640, 'ophelderingslijn': 1570, 'fractuurdeel': 801, 'vouw': 2430, 'carpalea': 384, 'verse': 2347, 'peroneum': 1681, 'locoregionaal': 1303, 'irregulair': 1157, 'lokale': 1305, 'maar': 1335, 'essentie': 724, 'progressieve': 1766, 'ileum': 1095, 'lunatum': 1325, 'multifragmentaire': 1437, 'naaar': 1440, 'ca': 366, 'insertie': 1130, 'supraspinatuspees': 2089, 'valgusstand': 2263, 'radiushalsfractuur': 1815, 'ellebooggewricht': 674, 'tonen': 2167, 'luxatio': 1329, 'anterior': 123, 'bankert': 199, 'anderszins': 108, 'aantoonbaar': 15, 'condylair': 427, 'hoek': 1043, 'verstreken': 2354, 'supracondylaire': 2085, 'aanduiding': 1, 'dubbele': 633, 'apofyse': 133, 'aanleg': 11, 'verwachte': 2363, 'fusie': 821, 'apofysiolyse': 136, 'achterover': 42, 'geklapt': 863, 'neutraal': 1460, 'inderdaad': 1109, 'tossy': 2171, 'aanvragers': 20, 'costa': 469, 'rib': 1882, 'basaal': 203, 'aanwijzing': 25, 'complicaties': 421, 'longcontusie': 1307, 'pneumothorax': 1719, 'basisphalanx': 207, 'depressie': 540, 'exostose': 739, 'radiair': 1797, 'kopie': 1211, 'olvg': 1493, 'svp': 2092, 'wervelkolom': 2469, 'vrijwel': 2433, 'trapezium': 2189, 'trapezoïd': 2190, 'beoordeeld': 250, 'avulsiefragmenten': 183, 'ontbreekt': 1539, 'ulnafractuur': 2245, 'comminutieve': 417, 'meerdere': 1367, 'botfragmenten': 330, 'alsook': 93, 'daarbij': 501, 'radiusschacht': 1823, 'ulnaschacht': 2249, 'fractie': 795, 'artrotische': 156, 'ribfractuur': 1886, 'cuffdegeneratie': 488, 'voetwortelbeentjes': 2401, 'plaatosteosynthese': 1700, 'osteolyse': 1607, 'bsg': 359, 'abuis': 32, 'vermeld': 2333, 'doorlopend': 601, 'niveau': 1467, 'tweetal': 2217, 'beginnende': 218, 'sesambotje': 1964, 'ring': 1891, 'mindere': 1411, 'eminentiafractuur': 680, 'patellofemorale': 1664, 'verhouding': 2315, 'december': 516, 'mei': 1372, 'proximaal': 1783, 'opbolling': 1559, 'stomptrauma': 2044, 'poten': 1747, 'bank': 198, 'blauwe': 303, 'mevrouw': 1387, 'overtuigend': 1634, 'joint': 1166, 'laxiteit': 1256, 'opnamen': 1575, 'prominente': 1776, 'motor': 1431, 'aanwezig': 23, 'pijnlijke': 1693, 'wolkige': 2483, 'net': 1458, 'opvallende': 1582, 'disi': 579, 'scafolunate': 1919, 'curve': 494, 'meting': 1386, 'inversietrauma': 1150, 'talocrurale': 2105, 'structuur': 2053, 'corticalis': 468, 'bifocale': 293, 'chirurgicum': 401, 'subluxatie': 2070, 'axillaire': 190, 'lymfadenectomie': 1332, 'articulatio': 151, 'onopvallende': 1532, 'bot': 319, 'botmatrix': 335, 'extensiestand': 742, 'overigens': 1627, 'vooronderzoek': 2418, 'hoogstens': 1049, 'gedisloceerd': 842, 'skeletdelen': 1979, 'talo': 2103, 'cruraal': 478, 'leeftijdsconforme': 1258, 'trapezectomie': 2188, 'neutrale': 1461, 'verplaatste': 2344, 'sh': 1968, 'onderrand': 1517, 'wellicht': 2462, 'radiare': 1799, 'kruisbandoperatie': 1222, 'avulsiefractuurtje': 181, 'interfalangeale': 1140, 'blijkt': 307, 'gewrichtseffusie': 917, 'gewirhctseffusie': 909, 'anatiomische': 99, 'corsticale': 460, 'fracture': 797, 'detailopname': 545, 'ingescande': 1120, 'spalk': 2000, 'discreet': 577, 'betreffende': 275, 'buiten': 362, 'gelegen': 867, 'femurschacht': 767, 'medius': 1364, 'coritcale': 451, 'voetrand': 2397, 'minor': 1415, 'diastase': 556, 'bimalleolaire': 299, 'enkelfractuur': 692, 'osm': 1590, 'verwijderd': 2367, 'fragmentjes': 816, 'volgends': 2406, 'dus': 646, 'fasciitis': 753, 'plantaris': 1709, 'behoorlijk': 227, 'plaatletsel': 1699, 'chipfragmentje': 399, 'gebogen': 832, 'vingers': 2385, 'helft': 1009, 'halve': 988, 'schachtbreedte': 1929, 'driehoekig': 618, 'transcondylaire': 2182, 'relevante': 1867, 'eeleboogsgewricht': 656, 'scooter': 1953, 'gelnohumeraal': 869, 'rommelig': 1896, 'ribstructuren': 1887, 'sterk': 2040, 'proces': 1762, 'sl': 1980, 'dissociatie': 583, 'antebrachii': 119, 'ribfracturen': 1885, 'zesde': 2500, 'torus': 2169, 'anterolateraal': 126, 'soort': 1996, 'maximale': 1354, 'functie': 818, 'inversie': 1149, 'precies': 1750, 'vervolg': 2361, 'specifieker': 2002, 'miniscuul': 1414, 'avulsiechipje': 178, 'gb': 827, 'ribdetailopname': 1884, 'thoraxopnamen': 2147, 'inspiratiestand': 1131, 'diafragmakoepels': 549, 'heldere': 1007, 'pleura': 1715, 'vaatsteel': 2257, 'pleuravocht': 1716, 'thoracale': 2142, 'kyfotische': 1227, 'oplijning': 1572, 'slanke': 1983, 'paraspinale': 1648, 'luchthoudendheid': 1322, 'longtop': 1310, 'voorste': 2419, 'kruisband': 1220, 'reconstructie': 1855, 'gewrichts': 914, 'effusie': 665, 'prepatellaire': 1755, 'bursitis': 365, 'spoedarts': 2008, 'sterke': 2041, 'bovenrand': 351, 'augustus': 174, 'ruimer': 1908, 'februari': 757, 'uitbreiding': 2225, 'tijdens': 2158, 'dienst': 559, 'bepaald': 253, 'moet': 1425, 'behandeld': 225, 'losliggend': 1316, 'glenoïd': 949, 'irregulariteiten': 1160, 'talonaviculair': 2106, 'lokaal': 1304, 'consult': 438, 'congruentie': 434, 'suprapatellaire': 2087, 'humerale': 1065, 'radio': 1802, 'capitellaire': 378, 'zien': 2506, 'stralen': 2047, 'uitgaande': 2228, 'vijf': 2381, 'wervels': 2470, 'lumbale': 1324, 'hypoplastische': 1084, 'rechtsconvexe': 1852, 'scoliose': 1952, 'thoracolumbaal': 2143, 'anteropositie': 129, 'graad': 957, 'spondylolistesis': 2013, 'lysis': 1333, 'ossificatiekernen': 1598, 'nevenbevindingen': 1463, 'linaire': 1276, 'irregulariteit': 1159, 'pijl': 1689, 'pleit': 1714, 'calcaneusopname': 370, 'ruime': 1907, 'externa': 744, 'varianten': 2277, 'luxatiestand': 1328, 'schachtfractuur': 1930, 'tur': 2211, 'noch': 1468, 'midschachts': 1404, 'spiraal': 2003, 'waarna': 2437, 'enkelopname': 695, 'malletvinger': 1346, 'gestoten': 892, 'ruk': 1911, 'hypermobiel': 1080, 'wekedelenzwelling': 2458, 'antibrachi': 130, 'gefixeerd': 849, 'draden': 616, 'luxaties': 1327, 'waarom': 2439, 'huisartsen': 1060, 'gewoon': 910, 'morgen': 1429, 'vers': 2346, 'differentiëren': 562, 'behoorlijke': 228, 'concluderend': 424, 'volle': 2409, 'fractuurfoto': 803, 'weken': 2459, 'verricht': 2345, 'daarom': 503, 'ieder': 1086, 'geval': 896, 'eigen': 666, 'ziekenhuis': 2505, 'cd': 392, 'zodat': 2516, 'behandelaar': 224, 'daar': 500, 'vergelijken': 2313, 'besluiten': 265, 'conservatieve': 436, 'operatieve': 1564, 'therapie': 2141, 'neurovasculair': 1459, 'scheper': 1933, 'nuttig': 1481, 'mid': 1388, 'scherpe': 1935, 'hypodense': 1083, 'waarnemend': 2438, 'gesteld': 891, 'localis': 1301, 'gips': 936, 'volledige': 2411, 'intercarpale': 1137, 'ruimten': 1910, 'arm': 141, 'druk': 625, 'gevoelig': 898, 'supra': 2083, 'vet': 2373, 'totale': 2173, 'heupprothese': 1030, 'altijd': 94, 'steile': 2037, 'acetabulumcup': 39, 'loslating': 1315, 'beperkt': 255, 'kom': 1207, 'teruggaand': 2131, 'geleidelijke': 868, 'toename': 2165, 'osteosyntheseplaat': 1613, 'cerclage': 394, 'materiaal': 1350, 'callusvorming': 375, 'acetabulum': 38, 'cup': 492, 'femurprothese': 766, 'langer': 1242, 'bestaande': 270, 'aanvrager': 19, 'spaken': 1999, 'tenen': 2124, 'doen': 591, 'epifysaire': 706, 'acromioclaviculaire': 45, 'haak': 978, 'corpora': 453, 'aliena': 86, 'flexiestand': 787, 'waren': 2442, 'beschikking': 261, 'evenals': 728, 'betekenis': 272, 'strekfunctie': 2049, 'interpolaire': 1142, 'ongeval': 1525, 'malleoli': 1342, 'middenhand': 1394, 'cuffruptuur': 490, 'screenend': 1954, 'avulsiefracturen': 179, 'krammen': 1218, 'ingebracht': 1119, 'plaatselijk': 1703, 'verstoorde': 2353, 'opbouw': 1560, 'restant': 1875, 'inmonding': 1127, 'vaten': 2281, 'ohm': 1487, 'bodem': 311, 'belandt': 241, 'midden': 1392, 'hak': 984, 'diagnostiek': 554, 'beeldvorming': 215, 'week': 2448, 'delenletsel': 531, 'gewrichtsbegrenzing': 915, 'nabij': 1444, 'crista': 476, 'zichtbare': 2503, 'bevinden': 280, 'precieze': 1751, 'bifocaal': 292, 'dislocaties': 581, 'imponerende': 1101, 'spoortje': 2016, 'contouren': 441, 'kennen': 1187, 'verlengde': 2327, 'steel': 2035, 'geconsolideerde': 838, 'gezichtspunten': 930, 'epifysairlijn': 707, 'dat': 512, 'acceptabele': 34, 'bicondylair': 291, 'onopvallend': 1531, 'fraktuur': 817, 'intakte': 1135, 'struktuur': 2054, 'indirecte': 1112, 'fractuurtekenen': 809, 'lijnen': 1274, 'botvorm': 343, 'ante': 116, 'brachii': 355, 'vallen': 2264, 'polsen': 1724, 'bdz': 209, 'eertse': 662, 'groeiende': 968, 'epifysen': 712, 'plantair': 1706, 'posterior': 1738, 'talonaviculare': 2108, 'ivm': 1161, 'parese': 1649, 'protocollair': 1781, 'brommer': 358, 'tibiafractuur': 2150, 'plateau': 1711, 'resorptie': 1872, 'verleden': 2326, 'atypisch': 172, 'gepositioneerd': 878, 'physis': 1688, 'bekkenskelet': 239, 'directe': 572, 'focale': 789, 'ossae': 1592, 'peronei': 1680, 'cuboïd': 485, 'bijna': 295, 'erosieve': 722, 'bijvoorbeeld': 296, 'jicht': 1164, 'artritis': 152, 'ulnametafyse': 2248, 'linkerclavicula': 1284, 'midschachtsclaviculafractuur': 1405, 'cuff': 487, 'eminentia': 678, 'intercondylaris': 1138, 'medialis': 1362, 'ander': 105, 'suggestief': 2080, 'vond': 2412, 'plaats': 1701, 'adlatum': 52, 'vermelde': 2334, 'cerclagedraad': 395, 'cerclagedraden': 396, 'plaat': 1698, 'schroef': 1943, 'rechterzijde': 1850, 'afstaan': 73, 'schade': 1931, 'periprothetische': 1678, 'verkalkte': 2320, 'verkalkt': 2319, 'laaglumbale': 1230, 'olecranonfractuur': 1492, 'overtuigende': 1635, 'argumenten': 139, 'langgerekte': 1243, 'hielspoortje': 1033, 'styloid': 2060, 'posterolaterale': 1739, 'hemarthros': 1011, 'avulsiefragment': 182, 'bewegingsbeperking': 288, 'beweeglijkheid': 285, 'beter': 273, 'kalk': 1173, 'vermelden': 2335, 'bevindingen': 282, 'instabiliteit': 1132, 'slotklachten': 1986, 'hartelijk': 1002, 'dank': 509, 'talusrol': 2111, 'projectie': 1770, 'kwestie': 1226, 'botfragmentje': 331, 'ingeschoten': 1121, 'gezwollen': 932, 'kapsel': 1182, 'torusfractuur': 2170, 'onderbrekingen': 1512, 'normaalvariant': 1477, 'convexe': 450, 'anterolisthesis': 128, 'spondylose': 2014, 'thoracolumbale': 2144, 'facetartrose': 749, 'laaglumbaal': 1229, 'rechterheupgewricht': 1839, 'onderbroken': 1513, 'dak': 506, 'gecanuleerde': 836, 'schroeven': 1944, 'verkort': 2323, 'vaatwandverkalkingen': 2259, 'benige': 247, 'verbeningskernen': 2298, 'handwortelbeentjes': 998, 'middenphalanx': 1395, 'ventromediale': 2287, 'radiusmetaphyse': 1822, 'carpus': 387, 'femoris': 759, 'varusstand': 2280, 'coxartrose': 472, 'meerfragmentaire': 1368, 'deelname': 518, 'subtalaire': 2074, 'afvlakken': 76, 'boehler': 312, 'tarsus': 2114, 'jichtartritis': 1165, 'coronoideus': 452, 'maius': 1337, 'omartrose': 1497, 'correlatie': 457, 'femorotibiale': 761, 'wezenlijk': 2471, 'veranderd': 2289, 'einde': 668, 'vier': 2378, 'cmc': 408, 'verlopen': 2330, 'zodanig': 2515, 'herkend': 1021, 'verlopend': 2331, 'vertoont': 2357, 'pre': 1749, 'indicatie': 1110, 'gewirchtseffusie': 908, 'geisoleerde': 860, 'spoedeidende': 2010, 'botstructuurtje': 340, 'rij': 1890, 'passende': 1652, 'komt': 1208, 'uitbochtende': 2223, 'regelmatige': 1861, 'gekeken': 861, 'atlas': 170, 'ontwikkeling': 1546, 'hiermee': 1038, 'haemartros': 982, 'patellabovenpool': 1656, 'knieskelet': 1202, 'patellafissuur': 1657, 'welving': 2463, 'die': 558, 'wijst': 2478, 'osteochondroom': 1603, 'onwaarschijnlijk': 1554, 'associatie': 163, 'compressieneuropathieen': 423, 'orthopaedische': 1586, 'condylus': 429, 'onzuivere': 1555, 'verloopt': 2329, 'antero': 125, 'trochlea': 2205, 'elleboogskelet': 676, 'humeruscondyl': 1069, 'relevantie': 1868, 'femorotibiaal': 760, 'boorkanalen': 316, 'fixatiemateriaal': 784, 'gewrichtsvlakken': 925, 'hypodens': 1082, 'transversaal': 2184, 'tibialis': 2152, 'effect': 663, 'vergelijkbaar': 2312, 'gecalcificerende': 835, 'epicondylus': 705, 'botdefect': 326, 'epicondylitis': 704, 'gecalcificeerde': 834, 'lateralis': 1252, 'typisch': 2221, 'secundaire': 1956, 'ossificatiekern': 1597, 'laesie': 1237, 'bankkaart': 200, 'aldus': 84, 'afplatting': 70, 'exo': 737, 'doorbouw': 593, 'chirurgie': 402, 'ankertjes': 113, 'glad': 941, 'begrensd': 219, 'dubbelcontourtje': 631, 'craniocaudale': 475, 'groeikern': 969, 'opnieuw': 1577, 'verstrijken': 2355, 'inclinatie': 1107, 'metacarpus': 1379, 'inclavatie': 1106, 'atrose': 171, 'verdraaid': 2308, 'verbandmateriaal': 2294, 'femorale': 758, 'heupprothesen': 1031, 'rechterprothese': 1845, 'steil': 2036, 'lumbaal': 1323, 'helaas': 1006, 'asymmetrisch': 166, 'asymmetrische': 167, 'aspecifieke': 160, 'bevinding': 281, 'endorotatieopname': 684, 'aspecifiek': 159, 'symfyse': 2093, 'flebolieten': 785, 'prehumerale': 1752, 'loopt': 1311, 'imponeren': 1100, 'acetabulumdak': 40, 'anteriore': 124, 'doorloopt': 600, 'kanteling': 1180, 'herhaald': 1015, 'gefragmenteerd': 853, 'gonarthrose': 953, 'major': 1338, 'mogelijke': 1427, 'coticaal': 470, 'pseudocyste': 1785, 'vorming': 2428, 'tufft': 2209, 'pat': 1654, 'vocht': 2389, 'hallucis': 985, 'interpolair': 1141, 'erosie': 719, 'coxarthrose': 471, 'stent': 2039, 'iliacaal': 1096, 'verbrede': 2299, 'wekedele': 2454, 'traumatoloog': 2198, 'orthopaedisch': 1585, 'xxxxxxijk': 2488, 'ossake': 1593, 'ovaalvormig': 1621, 'afkomstig': 68, 'overlegd': 1629, 'grotere': 976, 'onderscheid': 1518, 'primaire': 1759, 'zuiver': 2523, 'blijkbaar': 305, 'vorig': 2424, 'mist': 1421, 'geconsolideerd': 837, 'voedingskanaal': 2390, 'laesies': 1238, 'impressiefractuur': 1103, 'aanzienlijke': 29, 'uw': 2253, 'grillige': 965, 'toddler': 2162, 'ernstige': 718, 'radiolunair': 1808, 'scafolunaire': 1918, 'smalle': 1990, 'cystevorming': 499, 'bovenmatig': 348, 'materiaalbreuk': 1351, 'inkeping': 1125, 'eind': 667, 'kruisbandletsel': 1221, 'fabella': 748, 'praktijk': 1748, 'gefuseerd': 854, 'begrensde': 220, 'gisteravond': 938, 'gestuurd': 893, 'deformering': 522, 'symphysis': 2096, 'talocruraal': 2104, 'translocatie': 2183, 'betonnen': 274, 'vloer': 2388, 'buigen': 360, 'oppervlakkig': 1579, 'wijsvinger': 2479, 'slecht': 1984, 'vorige': 2425, 'gedisloceerde': 843, 'borvorm': 317, 'schaduwen': 1932, 'diametafyse': 555, 'gewichten': 905, 'prox': 1782, 'linea': 1277, 'arcuata': 138, 'collumfractuur': 414, 'reed': 1859, 'minutieuze': 1418, 'consequenties': 435, 'laatste': 1232, 'occulte': 1485, 'prominent': 1775, 'inormatie': 1128, 'bestaat': 271, 'asstand': 164, 'rotatie': 1899, 'postraumatische': 1743, 'radiuskopjefractuur': 1820, 'bedoeld': 210, 'kennelijk': 1186, 'huiswaarts': 1063, 'callus': 374, 'non': 1473, 'union': 2251, 'recidief': 1853, 'trimalleolaire': 2200, 'sub': 2063, 'capitale': 376, 'röntgenonderzoek': 1914, 'initieel': 1123, 'som': 1995, 'occult': 1484, 'fractur': 796, 'fibulatip': 776, 'anterolaterale': 127, 'sturen': 2059, 'verdikking': 2307, 'fibroma': 769, 'nachts': 1445, 'osteoïd': 1615, 'osteoom': 1609, 'kalknagel': 1178, 'enkelskelet': 696, 'wezenlijke': 2472, 'unguicularis': 2250, 'ossikel': 1600, 'polsskelet': 1727, 'humerushals': 1072, 'tfc': 2137, 'vacuümfenomeen': 2260, 'supraspinatus': 2088, 'supraspinatustendinose': 2090, 'injectie': 1124, 'cuboideum': 484, 'fibulakopje': 773, 'patellapees': 1661, 'gewrichtszijdig': 926, 'gewrichtskraakbeen': 918, 'labrum': 1235, 'aanvraagbriefje': 18, 'cuffpezen': 489, 'abdomen': 31, 'juli': 1169, 'lengterichting': 1261, 'mij': 1406, 'milde': 1409, 'radus': 1824, 'fossa': 792, 'olecrani': 1490, 'hetgeen': 1023, 'fractuurlijntje': 808, 'botaanwas': 320, 'arthrosis': 147, 'opgeheven': 1565, 'outlet': 1620, 'omarthrosis': 1496, 'tendinitis': 2123, 'calcarea': 371, 'bennett': 248, 'trapjes': 2192, 'densiteiten': 538, 'ondergetekende': 1514, 'gebracht': 833, 'afspraak': 72, 'vertraging': 2358, 'verslaglegging': 2349, 'ge': 828, 'luxeerd': 1330, 'teveel': 2135, 'patellaluxatie': 1660, 'hamatum': 990, 'fracturering': 799, 'avulsiefragmentjes': 185, 'standaardopname': 2030, 'tov': 2174, 'behoudens': 230, 'synthese': 2100, 'refractuur': 1860, 'rotatiecomponent': 1900, 'deformiteit': 523, 'weer': 2449, 'afscheuren': 71, 'korte': 1215, 'extensor': 743, 'pee': 1671, 'lange': 1241, 'strekpees': 2051, 'palmair': 1646, 'osteoblastische': 1601, 'osteolytische': 1608, 'geïnclaveerde': 933, 'mallet': 1344, 'finger': 779, 'malletspalk': 1345, 'distake': 585, 'ertse': 723, 'geanguleerde': 830, 'trouwring': 2206, 'groeiend': 967, 'osteochondrale': 1602, 'bol': 314, 'essentieel': 725, 'doorsturen': 603, 'maakt': 1334, 'enigszins': 686, 'kalkarme': 1175, 'indruk': 1113, 'artrodese': 153, 'bekend': 233, 'ontbrekend': 1541, 'verwijding': 2369, 'laceratie': 1236, 'pm': 1718, 'aangegeven': 2, 'correlaat': 456, 'humeroradiale': 1067, 'diafysaire': 551, 'tijde': 2157, 'omgevend': 1498, 'aanleiding': 12, 'terugkoppeling': 2133, 'collega': 410, 'govaert': 955, 'voorgeschiedenis': 2417, 'plaveiselcelcarcinoom': 1712, 'humerusschacht': 1075, 'sesamoidea': 1966, 'belastbaar': 242, 'voetrug': 2398, 'mtfractuur': 1434, 'muur': 1438, 'bezoek': 289, 'patellapeesaanhechting': 1662, 'ireregulariteit': 1156, 'acute': 48, 'symptomatiek': 2097, 'gladde': 942, 'gewrichtsveranderingen': 924, 'wekedelenletsel': 2457, 'duimtop': 644, 'achterste': 43, 'gedeelte': 840, 'radiusepifyse': 1812, 'condylfractuur': 428, 'röntgen': 1912, 'laborante': 1234, 'emmen': 681, 'onderbeens': 1510, 'lisfranc': 1300, 'help': 1010, 'ulaire': 2241, 'patiente': 1667, 'beschreven': 263, 'lineaire': 1279, 'vermeldt': 2336, 'naald': 1441, 'valt': 2266, 'carpi': 386, 'vannacht': 2272, 'verwijzen': 2370, 'spoed': 2007, 'omvang': 1501, 'ons': 1537, 'triquetrumfractuur': 2202, 'zeggen': 2495, 'ontstaan': 1545, 'norale': 1474, 'botanker': 321, 'intraarticulair': 1145, 'verwijd': 2365, 'directie': 573, 'stuk': 2056, 'onbekend': 1502, 'gegaan': 855, 'oktober': 1489, 'femurkop': 765, 'femurhals': 764, 'enkelluxatie': 694, 'bimalleolair': 298, 'huidige': 1057, 'kalkhoudenheid': 1177, 'traject': 2180, 'fibulaschacht': 775, 'discongruente': 576, 'wijder': 2475, 'multi': 1436, 'verhoudingen': 2316, 'humero': 1066, 'laterales': 1251, 'sclerotische': 1951, 'grenzend': 964, 'lokalisatie': 1306, 'verbeende': 2295, 'ossify': 1599, 'verdachte': 2303, 'midhumerale': 1401, 'tiltrauma': 2159, 'sneltekst': 1992, 'epicondylair': 703, 'specifieke': 2001, 'contact': 439, 'opgenomen': 1566, 'verminderd': 2337, 'distorsie': 587, 'omarthrose': 1495, 'ssp': 2024, 'verergerde': 2309, 'cysten': 498, 'osteofyten': 1605, 'series': 1962, 'familie': 752, 'verminderde': 2338, 'rotatorcuffruptuur': 1903, 'delencalcificaties': 529, 'zaterdag': 2493, 'hals': 987, 'varus': 2279, 'aparte': 132, 'evident': 732, 'tennis': 2125, 'paard': 1643, 'afwijingen': 77, 'ytraumatische': 2490, 'fatpadsign': 756, 'downsloping': 614, 'hierdoor': 1036, 'suboptimaal': 2072, 'werden': 2466, 'separate': 1959, 'disale': 574, 'mallolus': 1347, 'digit': 565, 'phalanx': 1687, 'terugverwezen': 2134, 'verbuiging': 2301, 'lengte': 1260, 'axiale': 189, 'heel': 1005, 'radiusdiafyse': 1811, 'fibreus': 768, 'https': 1055, 'schouderluxatie': 1941, 'humeruscondylen': 1070, 'projectierichting': 1772, 'inmiddels': 1126, 'dwars': 649, 'waardoor': 2436, 'groot': 973, 'botstructuurtjes': 341, 'ligamentaire': 1270, 'subtotaal': 2077, 'roentgenbeeld': 1894, 'proc': 1761, 'middiaphysair': 1399, 'latus': 1255, 'gr': 956, 'geisoleerd': 859, 'pes': 1686, 'transversus': 2186, 'externe': 745, 'fibrotische': 770, 'rechterlong': 1841, 'nader': 1446, 'duplicatie': 645, 'enostosis': 698, 'uur': 2252, 'schommel': 1938, 'zak': 2491, 'draaibeweging': 615, 'onvermogen': 1550, 'ondanks': 1503, 'punctum': 1790, 'maximum': 1355, 'diagnose': 553, 'röntgenlaborant': 1913, 'enkeldistorsie': 688, 'hamertenen': 993, 'herhaling': 1018, 'dikker': 569, 'turnen': 2212, 'overrekt': 1633, 'skateboard': 1977, 'strekken': 2050, 'onderste': 1519, 'induratie': 1114, 'vetlichaam': 2374, 'kager': 1171, 'hoeveelheid': 1044, 'tibiotalair': 2156, 'regio': 1862, 'densiteitjes': 539, 'inpasbaar': 1129, 'minste': 1416, 'capitatum': 377, 'dehiscentie': 527, 'geruststellend': 884, 'humeruskopfractuur': 1074, 'klem': 1194, 'gezeten': 929, 'metacarpalia': 1378, 'poli': 1722, 'trappetje': 2193, 'voelen': 2391, 'pony': 1728, 'effecten': 664, 'boorgaten': 315, 'verwijderde': 2368, 'li': 1263, 'iemand': 1087, 'bovenop': 349, 'terechtgekomen': 2127, 'duikplank': 641, 'conventionele': 449, 'progressie': 1764, 'krijgt': 1219, 'geschikt': 886, 'hoge': 1045, 'omgevende': 1499, 'subacromiaal': 2064, 'bursa': 364, 'gelokaliseerd': 870, 'mijn': 1407, 'acuut': 49, 'moment': 1428, 'reden': 1858, 'spoedconsult': 2009, 'spoedonderzoek': 2012, 'kantooruren': 1181, 'kunststof': 1225, 'heuparthroplastiek': 1026, 'prothesedelen': 1779, 'voetwortel': 2400, 'marsfractuur': 1348, 'cardiovasculair': 381, 'risico': 1893, 'roker': 1895, 'aangereden': 3, 'overprojecterende': 1631, 'herhaalde': 1016, 'auto': 175, 'eenderde': 658, 'blijvende': 309, 'retrospect': 1879, 'zwaving': 2527, 'gang': 826, 'gezet': 928, 'daardoor': 502, 'sinds': 1972, 'metalen': 1382, 'snel': 1991, 'afgebroken': 59, 'enkelebandletsel': 690, 'overleggen': 1630, 'repositie': 1869, 'bevelen': 279, 'voldoende': 2404, 'duimmuis': 643, 'sesamoïd': 1967, 'botje': 333, 'late': 1248, 'blijvend': 308, 'accessoir': 36, 'dorsoflexie': 611, 'trampoline': 2181, 'beweging': 286, 'geossificeerd': 876, 'doch': 590, 'paal': 1642, 'gekomen': 864, 'asdruk': 157, 'crurisfractuur': 480, 'ok': 1488, 'hypermobiliteit': 1081, 'condyl': 426, 'baja': 193, 'drietal': 622, 'cm': 407, 'curvatie': 493, 'artefact': 144, 'zwaar': 2525, 'voorwerp': 2421, 'standafwijking': 2031, 'betwijfel': 278, 'ik': 1094, 'reële': 1881, 'kuil': 1223, 'gestapt': 890, 'onvolgroeide': 1553, 'dubbelgeklapt': 634, 'ijzeren': 1093, 'meeste': 1370, 'crushfractuur': 481, 'gefractureerd': 852, 'hoogslaper': 1047, 'strekbeperking': 2048, 'keuze': 1188, 'peronea': 1679, 'radiuskopimpressie': 1818, 'oppervlak': 1578, 'springkussen': 2019, 'wijzen': 2480, 'stoel': 2043, 'bekneld': 240, 'wondje': 2484, 'intraarticulaire': 1146, 'retroflexie': 1878, 'gewichtseffusie': 906, 'antebrachium': 120, 'eindphalanx': 670, 'glenoidfractuur': 946, 'atherosclerose': 169, 'overig': 1625, 'botopbouw': 336, 'posteromediale': 1740, 'geforceerde': 850, 'radiaal': 1796, 'dikke': 568, 'verplaatst': 2343, 'uitsluiten': 2238, 'principe': 1760, 'pijnstilling': 1694, 'stevige': 2042, 'schoeisel': 1937, 'afdoende': 56, 'articulair': 148, 'zijdig': 2509, 'tafel': 2102, 'mishandeling': 1419, 'echogeleide': 652, 'onderpool': 1516, 'bloed': 310, 'prepatellaris': 1756, 'projectiekwestie': 1771, 'disclocatie': 575, 'posttraumtische': 1746, 'axis': 192, 'asrichting': 162, 'ossificatie': 1595, 'knappend': 1199, 'geluid': 871, 'mall': 1341, 'lat': 1247, 'gedraaid': 845, 'huisartsenpraktijk': 1062, 'wijesinha': 2476, 'reproduceerbaar': 1870, 'lastig': 1246, 'pisiforme': 1697, 'elleboogsluxatie': 677, 'fysiologische': 823, 'boteiland': 327, 'bestaan': 269, 'overblijfsel': 1623, 'cum': 491, 'contractionem': 444, 'perforatie': 1674, 'conventioneel': 448, 'evidenten': 734, 'afliggend': 69, 'pronator': 1777, 'quadratus': 1792, 'lichaam': 1265, 'cf': 397, 'recidiveert': 1854, 'ankertje': 112, 'getrapt': 894, 'snuifdoos': 1993, 'give': 940, 'interfalangeaal': 1139, 'bajonetstand': 194, 'wer': 2464, 'dverwezen': 647, 'bostructuren': 318, 'glenoidrand': 948, 'schouderskelet': 1942, 'glenoidhals': 947, 'hooggradige': 1046, 'anamnese': 98, 'grasmaaier': 960, 'dorsum': 613, 'accesoire': 35, 'vinger': 2384, 'gipsimmobilisatie': 937, 'herbeoordeling': 1014, 'haglundse': 983, 'deformatie': 521, 'knikjes': 1205, 'rug': 1904, 'afbeelding': 55, 'linkerpink': 1294, 'onduidelijke': 1524, 'fotograferen': 794, 'rare': 1827, 'projecties': 1774, 'uiteindelijk': 2227, 'moeite': 1424, 'hij': 1042, 'avonds': 176, 'presenteert': 1757, 'progressief': 1765, 'afgenomen': 61, 'rotator': 1901, 'resterend': 1876, 'ossificatiecentrum': 1596, 'onregelmatigheden': 1535, 'artrotisch': 155, 'lage': 1239, 'antalgische': 115, 'houding': 1054, 'contractione': 443, 'rugby': 1905, 'vijde': 2380, 'doorverwijzen': 605, 'stukjes': 2058, 'metaal': 1374, 'dergelijks': 542, 'essentiële': 726, 'wijzigingen': 2481, 'ontkalking': 1543, 'kapselverdikking': 1183, 'handrug': 995, 'ruim': 1906, 'polsopname': 1726, 'carpaal': 382, 'vermoeden': 2341, 'extra': 747, 'geformuleerd': 851, 'correleren': 458, 'uitgestrekte': 2234, 'onverdacht': 1549, 'horizontaal': 1053, 'lopende': 1313, 'wijkt': 2477, 'geroteerd': 883, 'poging': 1720, 'wederom': 2447, 'beweeglijke': 284, 'asymptomatisch': 168, 'trabekels': 2177, 'getrokken': 895, 'gevorderde': 901, 'diep': 561, 'deltoideusspier': 536, 'arthritis': 145, 'rechtervoorvoet': 1849, 'beschikbare': 260, 'groeikernen': 970, 'incident': 1105, 'klap': 1191, 'neemt': 1456, 'volgens': 2407, 'protocol': 1780, 'ochtend': 1486, 'vanmiddag': 2271, 'botsing': 337, 'fietsen': 778, 'basisph': 206, 'calcaneocuboïdale': 367, 'erosief': 720, 'onvolgoeid': 1551, 'onderarmgips': 1506, 'voeten': 2394, 'sesambeentjes': 1963, 'exacte': 736, 'cruris': 479, 'hyperdense': 1077, 'trabeculaire': 2176, 'patroon': 1670, 'medulla': 1365, 'infractie': 1118, 'linkerhumerus': 1290, 'laagstand': 1231, 'cavitas': 391, 'glenoidalis': 945, 'behouden': 229, 'longparenchym': 1309, 'uitgebreid': 2229, 'verklaring': 2322, 'antalgisch': 114, 'zondag': 2517, 'armpje': 142, 'judo': 1168, 'pacemaker': 1644, 'zo': 2513, 'patellair': 1659, 'popcorn': 1730, 'prepatellair': 1754, 'spaakletsel': 1997, 'groei': 966, 'katheter': 1184, 'gedissocieerd': 844, 'supracondylair': 2084, 'gezegd': 927, 'middelvinger': 1391, 'orthopedie': 1587, 'hamerteen': 992, 'bulge': 363, 'inferomediaal': 1116, 'obliteratie': 1482, 'extensie': 741, 'vanuit': 2273, 'contourwelving': 442, 'fractuurtypisch': 811, 'fissuurlijn': 781, 'fissuurverdachte': 783, 'communitief': 418, 'fragmentatie': 813, 'onderling': 1515, 'allemaal': 90, 'ovaalvormige': 1622, 'vlak': 2386, 'duidend': 640, 'subfibulare': 2069, 'cuboïdeum': 486, 'secundarium': 1957, 'vaatwand': 2258, 'midschachtfractuur': 1403, 'epd': 701, 'bankkart': 201, 'uitgrdraaide': 2236, 'bemoeilijkt': 245, 'bevindt': 283, 'diafysair': 550, 'expansie': 740, 'solitaire': 1994, 'aneurysmatische': 109, 'eosinofiel': 700, 'granuloom': 959, 'ulnafracturen': 2244, 'vormverandering': 2429, 'chip': 398, 'technische': 2116, 'store': 2045, 'verlate': 2325, 'verbaal': 2292, 'afgegeven': 60, 'vervaardigen': 2360, 'tibiadiafyse': 2149, 'spiraalvormig': 2005, 'perimalleolaire': 1676, 'hemipelvis': 1013, 'geneze': 874, 'begeleidende': 217, 'collumfemoris': 413, 'ouder': 1618, 'therapeutische': 2140, 'planning': 1705, 'kalhoudenheid': 1172, 'gebeuren': 831, 'hedenmorgen': 1003, 'haar': 980, 'bespreking': 266, 'waarvoor': 2441, 'controlefoto': 446, 'basisphalnx': 208, 'vaatclipjes': 2255, 'ventrolateraal': 2286, 'actueel': 47, 'toendertijd': 2166, 'dorslae': 610, 'gewrichtsspleten': 923, 'corresponderend': 459, 'géén': 977, 'geluxeerd': 872, 'metaphyse': 1383, 'fysaire': 822}\n"
          ]
        }
      ]
    },
    {
      "cell_type": "markdown",
      "source": [
        "*STEP -8: Use the ML Algorithms to Predict the outcome*"
      ],
      "metadata": {
        "id": "cRpO77gnklTZ"
      }
    },
    {
      "cell_type": "markdown",
      "source": [
        "# NLP Based-Classification using Naive Bayes, SVM and Random Forest:"
      ],
      "metadata": {
        "id": "YxxgoXqGWK1X"
      }
    },
    {
      "cell_type": "code",
      "source": [
        "import sklearn.metrics\n",
        "import math\n",
        "def matrix_metrix(real_values,pred_values,beta):\n",
        "   CM = confusion_matrix(real_values,pred_values)\n",
        "   TN = CM[0][0]\n",
        "   FN = CM[1][0] \n",
        "   TP = CM[1][1]\n",
        "   FP = CM[0][1]\n",
        "   Population = TN+FN+TP+FP\n",
        "   Prevalence = round( (TP+FP) / Population,2)\n",
        "   Accuracy   = round( (TP+TN) / Population,4)\n",
        "   Precision  = round( TP / (TP+FP),4 )\n",
        "   NPV        = round( TN / (TN+FN),4 )\n",
        "   #FDR        = round( FP / (TP+FP),4 )\n",
        "  #FOR        = round( FN / (TN+FN),4 ) \n",
        "   #check_Pos  = Precision + FDR\n",
        "   #check_Neg  = NPV + FOR\n",
        "   Recall     = round( TP / (TP+FN),4 )\n",
        "   FPR        = round( FP / (TN+FP),4 )\n",
        "   FNR        = round( FN / (TP+FN),4 )\n",
        "   TNR        = round( TN / (TN+FP),4 ) \n",
        "   #check_Pos2 = Recall + FNR\n",
        "   #check_Neg2 = FPR + TNR\n",
        "   #LRPos      = round( Recall/FPR,4 ) \n",
        "   #LRNeg      = round( FNR / TNR ,4 )\n",
        "   #DOR        = round( LRPos/LRNeg)\n",
        "   F1_score         = round ( 2 * ((Precision*Recall)/(Precision+Recall)),4)\n",
        "   #FBeta      = round ( (1+beta**2)*((Precision*Recall)/((beta**2 * Precision)+ Recall)) ,4)\n",
        "   #MCC        = round ( ((TP*TN)-(FP*FN))/math.sqrt((TP+FP)*(TP+FN)*(TN+FP)*(TN+FN))  ,4)\n",
        "   #BM         = Recall+TNR-1\n",
        "   #MK         = Precision+NPV-1\n",
        "   mat_met = pd.DataFrame({\n",
        "'Metric':['TP','TN','FP','FN','Prevalence','Accuracy','Precision','NPV','Recall','FPR','FNR','TNR','F1_score'],     'Value':[TP,TN,FP,FN,Prevalence,Accuracy,Precision,NPV,Recall,FPR,FNR,TNR,F1_score]})\n",
        "   return (mat_met)"
      ],
      "metadata": {
        "id": "5gXs-463Owwr"
      },
      "execution_count": 53,
      "outputs": []
    },
    {
      "cell_type": "markdown",
      "source": [
        "**Naive Bayes Classifier Algorithm:**"
      ],
      "metadata": {
        "id": "CfredS2Gkvwk"
      }
    },
    {
      "cell_type": "code",
      "source": [
        "# fit the training dataset on the NB classifier\n",
        "NB = naive_bayes.MultinomialNB()\n",
        "NB.fit(Train_X_Tfidf,Train_Y)\n",
        "# predict the labels on validation dataset\n",
        "predictions_NB = NB.predict(Test_X_Tfidf)\n",
        "# Use accuracy_score function to get the accuracy\n",
        "print(\"Naive Bayes Accuracy Score -> \",accuracy_score(predictions_NB, Test_Y)*100)\n",
        "print(\"Naive Bayes Precision:\",metrics.precision_score(predictions_NB, Test_Y))\n",
        "print(\"Naive Bayes Recall:\",metrics.recall_score(predictions_NB, Test_Y))\n",
        "print(\"NB:\",metrics.classification_report(predictions_NB, Test_Y))\n",
        "print(\"area under curve (auc): \", metrics.roc_auc_score(predictions_NB, Test_Y))"
      ],
      "metadata": {
        "colab": {
          "base_uri": "https://localhost:8080/",
          "height": 0
        },
        "id": "uefCB4l8klgE",
        "outputId": "f4cfa15b-39b7-4472-9ca2-5b502f7de1d7"
      },
      "execution_count": 19,
      "outputs": [
        {
          "output_type": "stream",
          "name": "stdout",
          "text": [
            "Naive Bayes Accuracy Score ->  93.11740890688259\n",
            "Naive Bayes Precision: 0.8277777777777777\n",
            "Naive Bayes Recall: 0.9802631578947368\n",
            "NB:               precision    recall  f1-score   support\n",
            "\n",
            "           0       0.99      0.91      0.95       342\n",
            "           1       0.83      0.98      0.90       152\n",
            "\n",
            "    accuracy                           0.93       494\n",
            "   macro avg       0.91      0.94      0.92       494\n",
            "weighted avg       0.94      0.93      0.93       494\n",
            "\n",
            "area under curve (auc):  0.9448099415204677\n"
          ]
        }
      ]
    },
    {
      "cell_type": "markdown",
      "source": [
        "**Confusion_Matrix of Naive Bayes Classifier Algorithm:**"
      ],
      "metadata": {
        "id": "K1N8OwjtSAwF"
      }
    },
    {
      "cell_type": "code",
      "source": [
        "#print(confusion_matrix(Test_Y, predictions_NB))\n",
        "skplt.metrics.plot_confusion_matrix(Test_Y, predictions_NB,figsize=(8,8))"
      ],
      "metadata": {
        "colab": {
          "base_uri": "https://localhost:8080/",
          "height": 484
        },
        "id": "J6jZ2jV5JV9H",
        "outputId": "5608cbd8-2529-4dcf-9989-8198f5c873e9"
      },
      "execution_count": 58,
      "outputs": [
        {
          "output_type": "execute_result",
          "data": {
            "text/plain": [
              "<matplotlib.axes._subplots.AxesSubplot at 0x7f931aef2b90>"
            ]
          },
          "metadata": {},
          "execution_count": 58
        },
        {
          "output_type": "display_data",
          "data": {
            "text/plain": [
              "<Figure size 576x576 with 2 Axes>"
            ],
            "image/png": "[encoded data removed]"
          },
          "metadata": {}
        }
      ]
    },
    {
      "cell_type": "code",
      "source": [
        "beta = 0.4\n",
        "mat_met = matrix_metrix(Test_Y, predictions_NB,beta)\n",
        "print (mat_met)"
      ],
      "metadata": {
        "colab": {
          "base_uri": "https://localhost:8080/",
          "height": 0
        },
        "id": "tliv2ev5PKNz",
        "outputId": "50d94e89-6e0f-46fb-c974-6bce7b9ca969"
      },
      "execution_count": 54,
      "outputs": [
        {
          "output_type": "stream",
          "name": "stdout",
          "text": [
            "        Metric     Value\n",
            "0           TP  149.0000\n",
            "1           TN  311.0000\n",
            "2           FP    3.0000\n",
            "3           FN   31.0000\n",
            "4   Prevalence    0.3100\n",
            "5     Accuracy    0.9312\n",
            "6    Precision    0.9803\n",
            "7          NPV    0.9094\n",
            "8       Recall    0.8278\n",
            "9          FPR    0.0096\n",
            "10         FNR    0.1722\n",
            "11         TNR    0.9904\n",
            "12    F1_score    0.8976\n"
          ]
        }
      ]
    },
    {
      "cell_type": "markdown",
      "source": [
        "**Support Vector Machine Classifier Algorithm:**"
      ],
      "metadata": {
        "id": "4qHlPum4lC6f"
      }
    },
    {
      "cell_type": "code",
      "source": [
        "# Classifier - Algorithm - SVM\n",
        "# fit the training dataset on the classifier\n",
        "SVM = svm.SVC(C=1.0, kernel='linear', degree=3, gamma='auto', probability=True)\n",
        "SVM.fit(Train_X_Tfidf,Train_Y)\n",
        "# predict the labels on validation dataset\n",
        "predictions_SVM = SVM.predict(Test_X_Tfidf)\n",
        "# Use accuracy_score function to get the accuracy\n",
        "print(\"SVM Accuracy Score -> \",accuracy_score(predictions_SVM, Test_Y)*100)\n",
        "print(\"SVM Precision:\",metrics.precision_score(predictions_SVM, Test_Y))\n",
        "print(\"SVM Recall:\",metrics.recall_score(predictions_SVM, Test_Y))\n",
        "print(\"SVM:\",metrics.classification_report(predictions_SVM, Test_Y))\n",
        "print(\"area under curve (auc): \", metrics.roc_auc_score(predictions_SVM, Test_Y))"
      ],
      "metadata": {
        "colab": {
          "base_uri": "https://localhost:8080/",
          "height": 0
        },
        "id": "3lvFAzuJlB7l",
        "outputId": "ff54cc3c-9244-4ab1-b090-d0e5dca342ed"
      },
      "execution_count": 23,
      "outputs": [
        {
          "output_type": "stream",
          "name": "stdout",
          "text": [
            "SVM Accuracy Score ->  95.34412955465586\n",
            "SVM Precision: 0.9\n",
            "SVM Recall: 0.9700598802395209\n",
            "SVM:               precision    recall  f1-score   support\n",
            "\n",
            "           0       0.98      0.94      0.96       327\n",
            "           1       0.90      0.97      0.93       167\n",
            "\n",
            "    accuracy                           0.95       494\n",
            "   macro avg       0.94      0.96      0.95       494\n",
            "weighted avg       0.96      0.95      0.95       494\n",
            "\n",
            "area under curve (auc):  0.9575070043399438\n"
          ]
        }
      ]
    },
    {
      "cell_type": "markdown",
      "source": [
        "**Confusion_Matrix of Support Vector Machine Classifier Algorithm**"
      ],
      "metadata": {
        "id": "Eyhu7BhoS6l0"
      }
    },
    {
      "cell_type": "code",
      "source": [
        "#print(confusion_matrix(Test_Y, predictions_SVM))\n",
        "skplt.metrics.plot_confusion_matrix(Test_Y, predictions_SVM,figsize=(8,8))"
      ],
      "metadata": {
        "colab": {
          "base_uri": "https://localhost:8080/",
          "height": 521
        },
        "id": "UCqJAuVDKRU_",
        "outputId": "b3ae1a0e-c3d4-4d5e-adbc-599aa50baefc"
      },
      "execution_count": 42,
      "outputs": [
        {
          "output_type": "stream",
          "name": "stdout",
          "text": [
            "[[309   5]\n",
            " [ 18 162]]\n"
          ]
        },
        {
          "output_type": "execute_result",
          "data": {
            "text/plain": [
              "<matplotlib.axes._subplots.AxesSubplot at 0x7f931a404d90>"
            ]
          },
          "metadata": {},
          "execution_count": 42
        },
        {
          "output_type": "display_data",
          "data": {
            "text/plain": [
              "<Figure size 576x576 with 2 Axes>"
            ],
            "image/png": "[encoded data removed]"
          },
          "metadata": {
            "needs_background": "light"
          }
        }
      ]
    },
    {
      "cell_type": "code",
      "source": [
        "beta = 0.4\n",
        "mat_met = matrix_metrix(Test_Y, predictions_SVM,beta)\n",
        "print (mat_met)"
      ],
      "metadata": {
        "colab": {
          "base_uri": "https://localhost:8080/",
          "height": 0
        },
        "id": "qO1Jd_LcPaLq",
        "outputId": "89693ccd-3011-46cb-8c79-178b07971bb8"
      },
      "execution_count": 55,
      "outputs": [
        {
          "output_type": "stream",
          "name": "stdout",
          "text": [
            "        Metric     Value\n",
            "0           TP  162.0000\n",
            "1           TN  309.0000\n",
            "2           FP    5.0000\n",
            "3           FN   18.0000\n",
            "4   Prevalence    0.3400\n",
            "5     Accuracy    0.9534\n",
            "6    Precision    0.9701\n",
            "7          NPV    0.9450\n",
            "8       Recall    0.9000\n",
            "9          FPR    0.0159\n",
            "10         FNR    0.1000\n",
            "11         TNR    0.9841\n",
            "12    F1_score    0.9337\n"
          ]
        }
      ]
    },
    {
      "cell_type": "markdown",
      "source": [
        "**Random Forest Classifier Algorithm:**"
      ],
      "metadata": {
        "id": "GBwXoEKy4bq7"
      }
    },
    {
      "cell_type": "code",
      "source": [
        "# Classifier - Algorithm - RF\n",
        "# fit the training dataset on the classifier\n",
        "RF = RandomForestClassifier(n_estimators=1000, random_state=0)\n",
        "RF.fit(Train_X_Tfidf,Train_Y)\n",
        "# predict the labels on validation dataset\n",
        "predictions_RF = RF.predict(Test_X_Tfidf)\n",
        "# Use accuracy_score function to get the accuracy\n",
        "print(\"Random Forest Accuracy Score -> \",accuracy_score(predictions_RF, Test_Y)*100)\n",
        "print(\"RF Precision:\",metrics.precision_score(predictions_RF, Test_Y))\n",
        "print(\"RF Recall:\",metrics.recall_score(predictions_RF, Test_Y))\n",
        "print(\"RF:\",metrics.classification_report(predictions_RF, Test_Y))\n",
        "print(\"area under curve (auc): \", metrics.roc_auc_score(predictions_RF, Test_Y))"
      ],
      "metadata": {
        "colab": {
          "base_uri": "https://localhost:8080/",
          "height": 0
        },
        "id": "8E2Fq0-a4b8p",
        "outputId": "c4d5c218-655b-4b79-b3b1-e5bfad11595f"
      },
      "execution_count": 21,
      "outputs": [
        {
          "output_type": "stream",
          "name": "stdout",
          "text": [
            "Random Forest Accuracy Score ->  95.74898785425101\n",
            "RF Precision: 0.9\n",
            "RF Recall: 0.9818181818181818\n",
            "RF:               precision    recall  f1-score   support\n",
            "\n",
            "           0       0.99      0.95      0.97       329\n",
            "           1       0.90      0.98      0.94       165\n",
            "\n",
            "    accuracy                           0.96       494\n",
            "   macro avg       0.95      0.96      0.95       494\n",
            "weighted avg       0.96      0.96      0.96       494\n",
            "\n",
            "area under curve (auc):  0.963553467808787\n"
          ]
        }
      ]
    },
    {
      "cell_type": "markdown",
      "source": [
        "**Confusion_Matrix of Random Forest Classifier Algorithm**"
      ],
      "metadata": {
        "id": "e9c-h8nMTgzk"
      }
    },
    {
      "cell_type": "code",
      "source": [
        "#print(confusion_matrix(Test_Y, predictions_RF))\n",
        "skplt.metrics.plot_confusion_matrix(Test_Y, predictions_RF,figsize=(8,8))"
      ],
      "metadata": {
        "colab": {
          "base_uri": "https://localhost:8080/",
          "height": 521
        },
        "id": "So0g6yQBKezi",
        "outputId": "7cdc1d77-5cbf-42c5-9e9c-e41fd7117b88"
      },
      "execution_count": 43,
      "outputs": [
        {
          "output_type": "stream",
          "name": "stdout",
          "text": [
            "[[311   3]\n",
            " [ 18 162]]\n"
          ]
        },
        {
          "output_type": "execute_result",
          "data": {
            "text/plain": [
              "<matplotlib.axes._subplots.AxesSubplot at 0x7f931ac984d0>"
            ]
          },
          "metadata": {},
          "execution_count": 43
        },
        {
          "output_type": "display_data",
          "data": {
            "text/plain": [
              "<Figure size 576x576 with 2 Axes>"
            ],
            "image/png": "[encoded data removed]"
          },
          "metadata": {
            "needs_background": "light"
          }
        }
      ]
    },
    {
      "cell_type": "code",
      "source": [
        "beta = 0.4\n",
        "mat_met = matrix_metrix(Test_Y, predictions_RF,beta)\n",
        "print (mat_met)"
      ],
      "metadata": {
        "colab": {
          "base_uri": "https://localhost:8080/",
          "height": 0
        },
        "id": "IaK0ACy3PjAn",
        "outputId": "2118aa61-89ed-4cb4-c679-b30f711282cb"
      },
      "execution_count": 56,
      "outputs": [
        {
          "output_type": "stream",
          "name": "stdout",
          "text": [
            "        Metric     Value\n",
            "0           TP  162.0000\n",
            "1           TN  311.0000\n",
            "2           FP    3.0000\n",
            "3           FN   18.0000\n",
            "4   Prevalence    0.3300\n",
            "5     Accuracy    0.9575\n",
            "6    Precision    0.9818\n",
            "7          NPV    0.9453\n",
            "8       Recall    0.9000\n",
            "9          FPR    0.0096\n",
            "10         FNR    0.1000\n",
            "11         TNR    0.9904\n",
            "12    F1_score    0.9391\n"
          ]
        }
      ]
    },
    {
      "cell_type": "code",
      "source": [
        "# predict probabilities\n",
        "pred_prob1 = NB.predict_proba(Test_X_Tfidf)\n",
        "pred_prob2 = SVM.predict_proba(Test_X_Tfidf)\n",
        "pred_prob3 = RF.predict_proba(Test_X_Tfidf)"
      ],
      "metadata": {
        "id": "SpccrGhQv1bK"
      },
      "execution_count": 24,
      "outputs": []
    },
    {
      "cell_type": "code",
      "source": [
        "from sklearn.metrics import roc_curve\n",
        "\n",
        "# roc curve for models\n",
        "fpr1, tpr1, thresh1 = roc_curve(Test_Y, pred_prob1[:,1], pos_label=1)\n",
        "fpr2, tpr2, thresh2 = roc_curve(Test_Y, pred_prob2[:,1], pos_label=1)\n",
        "fpr3, tpr3, thresh3 = roc_curve(Test_Y, pred_prob3[:,1], pos_label=1)\n",
        "\n",
        "# roc curve for tpr = fpr \n",
        "random_probs = [0 for i in range(len(Test_Y))]\n",
        "p_fpr, p_tpr, _ = roc_curve(Test_Y, random_probs, pos_label=1)\n",
        "#print(\"SVM Recall:\",metrics.recall_score(predictions_SVM, Test_Y)fpr1, tpr1)\n",
        "#print(\"NB fpr, tpr:\",fpr1, tpr1)\n",
        "##print(\"RF fpr, tpr:\",fpr3, tpr3)"
      ],
      "metadata": {
        "id": "l3I9sLoyxYc6"
      },
      "execution_count": 57,
      "outputs": []
    },
    {
      "cell_type": "code",
      "source": [
        "# matplotlib\n",
        "import matplotlib.pyplot as plt\n",
        "plt.style.use('seaborn')\n",
        "\n",
        "# plot roc curves\n",
        "plt.plot(fpr1, tpr1, linestyle='--',color='orange', label='Naive Bayes')\n",
        "plt.plot(fpr2, tpr2, linestyle='--',color='red', label='Support Vector Machine')\n",
        "plt.plot(fpr3, tpr3, linestyle='--',color='green', label='Random Forest')\n",
        "plt.plot(p_fpr, p_tpr, linestyle='--', color='blue')\n",
        "# title\n",
        "plt.title('ROC curve')\n",
        "# x label\n",
        "plt.xlabel('False Positive Rate')\n",
        "# y label\n",
        "plt.ylabel('True Positive rate')\n",
        "\n",
        "plt.legend(loc='best')\n",
        "plt.savefig('ROC',dpi=300)\n",
        "plt.show();"
      ],
      "metadata": {
        "colab": {
          "base_uri": "https://localhost:8080/",
          "height": 376
        },
        "id": "rrlzJToExr_W",
        "outputId": "32c1bf89-c7ca-4615-cafb-5376696324fd"
      },
      "execution_count": 27,
      "outputs": [
        {
          "output_type": "display_data",
          "data": {
            "text/plain": [
              "<Figure size 576x396 with 1 Axes>"
            ],
            "image/png": "[encoded data removed]"
          },
          "metadata": {}
        }
      ]
    },
    {
      "cell_type": "code",
      "source": [
        "#Precision-recall implementation\n",
        "precision1, recall1, thresholds1 = sklearn.metrics.precision_recall_curve(Test_Y, predictions_NB)\n",
        "precision2, recall2, thresholds2 = sklearn.metrics.precision_recall_curve(Test_Y, predictions_SVM)\n",
        "precision3, recall3, thresholds3 = sklearn.metrics.precision_recall_curve(Test_Y, predictions_RF)\n",
        "\n",
        "plt.style.use('seaborn')\n",
        "# plot the precision-recall curves\n",
        "no_skill = len(Test_Y[Test_Y==1]) / len(Test_Y)\n",
        "plt.plot(recall1, precision1, linestyle='--', color='orange', label='Naive Bayes')\n",
        "plt.plot(recall2, precision2, linestyle='--', color='red', label='Support Vector Machine')\n",
        "plt.plot(recall3, precision3, linestyle='--', color='green', label='Random Forest')\n",
        "plt.plot([0, 1], [no_skill, no_skill], linestyle='--')\n",
        "# title\n",
        "plt.title('Precision-Recall Curve')\n",
        "# x label\n",
        "plt.xlabel('Recall')\n",
        "# y label\n",
        "plt.ylabel('Precision')\n",
        "\n",
        "plt.legend(loc='best')\n",
        "plt.savefig('Precision-Recall Curve',dpi=500)\n",
        "plt.show();\n"
      ],
      "metadata": {
        "colab": {
          "base_uri": "https://localhost:8080/",
          "height": 376
        },
        "id": "EKdsWGd9K1Ft",
        "outputId": "ea0f7311-23ce-404c-f3c6-80bed9c0728d"
      },
      "execution_count": 47,
      "outputs": [
        {
          "output_type": "display_data",
          "data": {
            "text/plain": [
              "<Figure size 576x396 with 1 Axes>"
            ],
            "image/png": "[encoded data removed]"
          },
          "metadata": {}
        }
      ]
    },
    {
      "cell_type": "code",
      "source": [
        ""
      ],
      "metadata": {
        "id": "wUIsIz7VOy5Z"
      },
      "execution_count": null,
      "outputs": []
    },
    {
      "cell_type": "markdown",
      "source": [
        "#Naive Bayes:"
      ],
      "metadata": {
        "id": "sx0oS3qSSHK_"
      }
    },
    {
      "cell_type": "code",
      "source": [
        "xlsx_file = io.BytesIO(data.get('ProjectDatasetSample.xlsx'))\n",
        "df1 = pd.read_excel('ProjectDatasetSample.xlsx', 'Gegevens')\n",
        "df1.head()"
      ],
      "metadata": {
        "colab": {
          "base_uri": "https://localhost:8080/",
          "height": 206
        },
        "id": "Tgz3wd7ECH-g",
        "outputId": "78e8f0da-8195-40c3-a9bc-b2a066c18f73"
      },
      "execution_count": null,
      "outputs": [
        {
          "output_type": "execute_result",
          "data": {
            "text/plain": [
              "                                          ReportText  Label\n",
              "0  X pols rechts \\n\\nOpname van de rechterpols in...      1\n",
              "1  X voet/tenen links \\n\\n\\nOpname van de linkerv...      0\n",
              "2  X enkel rechts \\n\\n\\nOpname van de rechterenke...      0\n",
              "3  X pols links \\n\\n\\nOpname van de linkerpols in...      0\n",
              "4  X voet/tenen rechts \\n\\n\\nOpname van de rechte...      0"
            ],
            "text/html": [
              "\n",
              "  <div id=\"df-43d22760-c38e-4554-addc-92c8e1985052\">\n",
              "    <div class=\"colab-df-container\">\n",
              "      <div>\n",
              "<style scoped>\n",
              "    .dataframe tbody tr th:only-of-type {\n",
              "        vertical-align: middle;\n",
              "    }\n",
              "\n",
              "    .dataframe tbody tr th {\n",
              "        vertical-align: top;\n",
              "    }\n",
              "\n",
              "    .dataframe thead th {\n",
              "        text-align: right;\n",
              "    }\n",
              "</style>\n",
              "<table border=\"1\" class=\"dataframe\">\n",
              "  <thead>\n",
              "    <tr style=\"text-align: right;\">\n",
              "      <th></th>\n",
              "      <th>ReportText</th>\n",
              "      <th>Label</th>\n",
              "    </tr>\n",
              "  </thead>\n",
              "  <tbody>\n",
              "    <tr>\n",
              "      <th>0</th>\n",
              "      <td>X pols rechts \\n\\nOpname van de rechterpols in...</td>\n",
              "      <td>1</td>\n",
              "    </tr>\n",
              "    <tr>\n",
              "      <th>1</th>\n",
              "      <td>X voet/tenen links \\n\\n\\nOpname van de linkerv...</td>\n",
              "      <td>0</td>\n",
              "    </tr>\n",
              "    <tr>\n",
              "      <th>2</th>\n",
              "      <td>X enkel rechts \\n\\n\\nOpname van de rechterenke...</td>\n",
              "      <td>0</td>\n",
              "    </tr>\n",
              "    <tr>\n",
              "      <th>3</th>\n",
              "      <td>X pols links \\n\\n\\nOpname van de linkerpols in...</td>\n",
              "      <td>0</td>\n",
              "    </tr>\n",
              "    <tr>\n",
              "      <th>4</th>\n",
              "      <td>X voet/tenen rechts \\n\\n\\nOpname van de rechte...</td>\n",
              "      <td>0</td>\n",
              "    </tr>\n",
              "  </tbody>\n",
              "</table>\n",
              "</div>\n",
              "      <button class=\"colab-df-convert\" onclick=\"convertToInteractive('df-43d22760-c38e-4554-addc-92c8e1985052')\"\n",
              "              title=\"Convert this dataframe to an interactive table.\"\n",
              "              style=\"display:none;\">\n",
              "        \n",
              "  <svg xmlns=\"http://www.w3.org/2000/svg\" height=\"24px\"viewBox=\"0 0 24 24\"\n",
              "       width=\"24px\">\n",
              "    <path d=\"M0 0h24v24H0V0z\" fill=\"none\"/>\n",
              "    <path d=\"M18.56 5.44l.94 2.06.94-2.06 2.06-.94-2.06-.94-.94-2.06-.94 2.06-2.06.94zm-11 1L8.5 8.5l.94-2.06 2.06-.94-2.06-.94L8.5 2.5l-.94 2.06-2.06.94zm10 10l.94 2.06.94-2.06 2.06-.94-2.06-.94-.94-2.06-.94 2.06-2.06.94z\"/><path d=\"M17.41 7.96l-1.37-1.37c-.4-.4-.92-.59-1.43-.59-.52 0-1.04.2-1.43.59L10.3 9.45l-7.72 7.72c-.78.78-.78 2.05 0 2.83L4 21.41c.39.39.9.59 1.41.59.51 0 1.02-.2 1.41-.59l7.78-7.78 2.81-2.81c.8-.78.8-2.07 0-2.86zM5.41 20L4 18.59l7.72-7.72 1.47 1.35L5.41 20z\"/>\n",
              "  </svg>\n",
              "      </button>\n",
              "      \n",
              "  <style>\n",
              "    .colab-df-container {\n",
              "      display:flex;\n",
              "      flex-wrap:wrap;\n",
              "      gap: 12px;\n",
              "    }\n",
              "\n",
              "    .colab-df-convert {\n",
              "      background-color: #E8F0FE;\n",
              "      border: none;\n",
              "      border-radius: 50%;\n",
              "      cursor: pointer;\n",
              "      display: none;\n",
              "      fill: #1967D2;\n",
              "      height: 32px;\n",
              "      padding: 0 0 0 0;\n",
              "      width: 32px;\n",
              "    }\n",
              "\n",
              "    .colab-df-convert:hover {\n",
              "      background-color: #E2EBFA;\n",
              "      box-shadow: 0px 1px 2px rgba(60, 64, 67, 0.3), 0px 1px 3px 1px rgba(60, 64, 67, 0.15);\n",
              "      fill: #174EA6;\n",
              "    }\n",
              "\n",
              "    [theme=dark] .colab-df-convert {\n",
              "      background-color: #3B4455;\n",
              "      fill: #D2E3FC;\n",
              "    }\n",
              "\n",
              "    [theme=dark] .colab-df-convert:hover {\n",
              "      background-color: #434B5C;\n",
              "      box-shadow: 0px 1px 3px 1px rgba(0, 0, 0, 0.15);\n",
              "      filter: drop-shadow(0px 1px 2px rgba(0, 0, 0, 0.3));\n",
              "      fill: #FFFFFF;\n",
              "    }\n",
              "  </style>\n",
              "\n",
              "      <script>\n",
              "        const buttonEl =\n",
              "          document.querySelector('#df-43d22760-c38e-4554-addc-92c8e1985052 button.colab-df-convert');\n",
              "        buttonEl.style.display =\n",
              "          google.colab.kernel.accessAllowed ? 'block' : 'none';\n",
              "\n",
              "        async function convertToInteractive(key) {\n",
              "          const element = document.querySelector('#df-43d22760-c38e-4554-addc-92c8e1985052');\n",
              "          const dataTable =\n",
              "            await google.colab.kernel.invokeFunction('convertToInteractive',\n",
              "                                                     [key], {});\n",
              "          if (!dataTable) return;\n",
              "\n",
              "          const docLinkHtml = 'Like what you see? Visit the ' +\n",
              "            '<a target=\"_blank\" href=https://colab.research.google.com/notebooks/data_table.ipynb>data table notebook</a>'\n",
              "            + ' to learn more about interactive tables.';\n",
              "          element.innerHTML = '';\n",
              "          dataTable['output_type'] = 'display_data';\n",
              "          await google.colab.output.renderOutput(dataTable, element);\n",
              "          const docLink = document.createElement('div');\n",
              "          docLink.innerHTML = docLinkHtml;\n",
              "          element.appendChild(docLink);\n",
              "        }\n",
              "      </script>\n",
              "    </div>\n",
              "  </div>\n",
              "  "
            ]
          },
          "metadata": {},
          "execution_count": 23
        }
      ]
    },
    {
      "cell_type": "code",
      "source": [
        "#Split data into training and testing sets\n",
        "from sklearn.model_selection import train_test_split\n",
        "X_train, X_test, y_train, y_test = train_test_split(df1['ReportText'], df1['Label'], random_state=1)"
      ],
      "metadata": {
        "id": "tI6N0IwnOJr_"
      },
      "execution_count": null,
      "outputs": []
    },
    {
      "cell_type": "code",
      "source": [
        "#Convert report into word count vectors\n",
        "from sklearn.feature_extraction.text import CountVectorizer\n",
        "cv = CountVectorizer(strip_accents='ascii', token_pattern=u'(?ui)\\\\b\\\\w*[a-z]+\\\\w*\\\\b', lowercase=True, stop_words='english')\n",
        "X_train_cv = cv.fit_transform(X_train)\n",
        "X_test_cv = cv.transform(X_test)"
      ],
      "metadata": {
        "id": "rngXPvQ7OiVW"
      },
      "execution_count": null,
      "outputs": []
    },
    {
      "cell_type": "code",
      "source": [
        "word_freq_df = pd.DataFrame(X_train_cv.toarray(), columns=cv.get_feature_names())\n",
        "top_words_df = pd.DataFrame(word_freq_df.sum()).sort_values(0, ascending=False)"
      ],
      "metadata": {
        "colab": {
          "base_uri": "https://localhost:8080/"
        },
        "id": "prNX8GX1Oibr",
        "outputId": "b9b35e8c-84fc-492a-8be9-446b16e70986"
      },
      "execution_count": null,
      "outputs": [
        {
          "output_type": "stream",
          "name": "stderr",
          "text": [
            "/usr/local/lib/python3.7/dist-packages/sklearn/utils/deprecation.py:87: FutureWarning: Function get_feature_names is deprecated; get_feature_names is deprecated in 1.0 and will be removed in 1.2. Please use get_feature_names_out instead.\n",
            "  warnings.warn(msg, category=FutureWarning)\n"
          ]
        }
      ]
    },
    {
      "cell_type": "code",
      "source": [
        "#Fit the model and make predictions\n",
        "from sklearn.naive_bayes import MultinomialNB\n",
        "naive_bayes = MultinomialNB()\n",
        "naive_bayes.fit(X_train_cv, y_train)\n",
        "predictions = naive_bayes.predict(X_test_cv)"
      ],
      "metadata": {
        "id": "Y9pPpXt5Oigb"
      },
      "execution_count": null,
      "outputs": []
    },
    {
      "cell_type": "code",
      "source": [
        "#the model performed on the test data\n",
        "from sklearn.metrics import accuracy_score, precision_score, recall_score\n",
        "print('Accuracy score:', accuracy_score(y_test, predictions))\n",
        "print('Precision score:', precision_score(y_test, predictions))\n",
        "print('Recall score: ', recall_score(y_test, predictions))"
      ],
      "metadata": {
        "colab": {
          "base_uri": "https://localhost:8080/"
        },
        "id": "yXNk3eTRPbP-",
        "outputId": "709f1cf1-8fe9-4c57-a166-522f878851d0"
      },
      "execution_count": null,
      "outputs": [
        {
          "output_type": "stream",
          "name": "stdout",
          "text": [
            "Accuracy score: 0.9368932038834952\n",
            "Precision score: 0.9008620689655172\n",
            "Recall score:  0.9288888888888889\n"
          ]
        }
      ]
    },
    {
      "cell_type": "code",
      "source": [
        "print(\"NB:\",metrics.classification_report(y_test, predictions))\n",
        "print(\"area under curve (auc): \", metrics.roc_auc_score(y_test, predictions))"
      ],
      "metadata": {
        "colab": {
          "base_uri": "https://localhost:8080/"
        },
        "id": "8eJiUIbtDSK2",
        "outputId": "cba1daff-0ae3-468b-f603-c7bc5eec0028"
      },
      "execution_count": null,
      "outputs": [
        {
          "output_type": "stream",
          "name": "stdout",
          "text": [
            "NB:               precision    recall  f1-score   support\n",
            "\n",
            "           0       0.96      0.94      0.95       393\n",
            "           1       0.90      0.93      0.91       225\n",
            "\n",
            "    accuracy                           0.94       618\n",
            "   macro avg       0.93      0.94      0.93       618\n",
            "weighted avg       0.94      0.94      0.94       618\n",
            "\n",
            "area under curve (auc):  0.9351823579304496\n"
          ]
        }
      ]
    },
    {
      "cell_type": "markdown",
      "source": [
        "#Deep Learning Models:"
      ],
      "metadata": {
        "id": "E0Mvi1VxL9eP"
      }
    },
    {
      "cell_type": "code",
      "source": [
        "import numpy as np\n",
        "import pandas as pd\n",
        "import tensorflow as tf\n",
        "from sklearn.utils import shuffle\n",
        "from tensorflow.keras.preprocessing.text import Tokenizer\n",
        "from tensorflow.keras.preprocessing.sequence import pad_sequences\n",
        "from simpletransformers.classification import ClassificationModel\n",
        "import logging\n",
        "from datetime import datetime\n",
        "from sklearn.metrics import balanced_accuracy_score\n",
        "from sklearn.metrics import roc_auc_score\n",
        "from sklearn.metrics import precision_recall_fscore_support\n",
        "from sklearn.metrics import classification_report\n",
        "import keras.backend as K"
      ],
      "metadata": {
        "id": "KP0M5dgtL82h"
      },
      "execution_count": null,
      "outputs": []
    },
    {
      "cell_type": "code",
      "source": [
        "# Define variables\n",
        "vocab_size = 2500 #1000\n",
        "embedding_dim = 32 #16\n",
        "max_length = 250 #150 #120\n",
        "trunc_type='post'\n",
        "padding_type='post'\n",
        "oov_tok = \"<OOV>\"\n",
        "training_size_perc = 0.8 ##2200\n",
        "num_epochs_number = 12\n",
        "dataset_stepsize = 100 #250\n",
        "dataset_stepsize_TEST = 40\n",
        "use_small_sample_perc = 1 # < 1 to us small sample of dataset for testing purpose\n",
        "path = '[path]'"
      ],
      "metadata": {
        "id": "Fczb32CAL898"
      },
      "execution_count": null,
      "outputs": []
    },
    {
      "cell_type": "code",
      "source": [
        ""
      ],
      "metadata": {
        "id": "hiBP_vQ1L9B_"
      },
      "execution_count": null,
      "outputs": []
    },
    {
      "cell_type": "code",
      "source": [
        "#prepare train-test-sets\n",
        "#df pos neg split\n",
        "#df_pos = df.query('Result_Infiltraat == 1')\n",
        "#df_neg = df.query('Result_Infiltraat == 0')\n",
        "df_pos = df.query('Label == 1')\n",
        "df_neg = df.query('Label == 0')\n",
        "\n",
        "# shuffle\n",
        "df_pos_shuf = shuffle(df_pos)\n",
        "df_neg_shuf = shuffle(df_neg)\n",
        "#split train test\n",
        "nr_pos = len(df_pos_shuf)\n",
        "nr_neg = len(df_neg_shuf)\n",
        "nr_train_pos = int(training_size_perc * nr_pos )\n",
        "nr_train_neg = int(training_size_perc * nr_neg )\n",
        "df_pos_TRAIN = df_pos_shuf.iloc[0:nr_train_pos]\n",
        "df_pos_TEST = df_pos_shuf.iloc[nr_train_pos:]\n",
        "df_neg_TRAIN = df_neg_shuf.iloc[0:nr_train_neg]\n",
        "df_neg_TEST = df_neg_shuf.iloc[nr_train_neg:]\n",
        "df_TEST = pd.concat([df_pos_TEST, df_neg_TEST])\n"
      ],
      "metadata": {
        "id": "H_fQOpCnSM_8"
      },
      "execution_count": null,
      "outputs": []
    },
    {
      "cell_type": "code",
      "source": [
        "#safe dataset\n",
        "#Filename1 = 'df_TEST_THORAX_20201006'\n",
        "#df_TEST.to_excel(path+'/Jupyter_NLP_thoraxdataset/Data/'+Filename1+\".xlsx\")\n",
        "Filename1 = 'df_TEST_THORAX_20201006'\n",
        "df_TEST.to_excel(\"Filename1.xlsx\")"
      ],
      "metadata": {
        "id": "Kw3B1SggjOb2"
      },
      "execution_count": null,
      "outputs": []
    },
    {
      "cell_type": "code",
      "source": [
        "Filename2 = 'df_pos_TRAIN_THORAX_20201006'\n",
        "#df_pos_TRAIN.to_excel(path+'/Jupyter_NLP_thoraxdataset/Data/'+Filename2+\".xlsx\")\n",
        "df_pos_TRAIN.to_excel(\"Filename2.xlsx\")\n",
        "Filename3= 'df_neg_TRAIN_THORAX_20201006'\n",
        "#df_neg_TRAIN.to_excel(path+'/Jupyter_NLP_thoraxdataset/Data/'+Filename3+\".xlsx\")\n",
        "df_neg_TRAIN.to_excel(\"Filename3.xlsx\")"
      ],
      "metadata": {
        "id": "i04uX0JVkJjw"
      },
      "execution_count": null,
      "outputs": []
    },
    {
      "cell_type": "code",
      "source": [
        "\n",
        "#def make_list_Pos_Neg_N(pos, neg, dataset_stepsize):\n",
        "list_Pos_N = [*range(dataset_stepsize, nr_train_pos, dataset_stepsize)]\n",
        "#list_Pos_N.append(pos) # add largest number of positive cases\n",
        "list_Neg_N = [*range(dataset_stepsize, nr_train_neg, dataset_stepsize)]\n",
        "#list_Neg_N.append(neg) # add largest number of negative cases\n",
        "#return(list_Pos_N, list_Neg_N)\n",
        "#prepare results dataframe\n",
        "Training_combinations = pd.DataFrame(columns=['Dataset_ID', 'Pos', 'Neg', 'Training_size', 'Prevalence'])\n",
        "teller=1\n",
        "for i in list_Pos_N:\n",
        "    for ii in list_Neg_N:\n",
        "        ID = teller\n",
        "        Pos = round(i ,0)\n",
        "        Neg = round(ii, 0)\n",
        "        Size = round((i + ii),0)\n",
        "        Prev = round( (i/ (i + ii)), 2)\n",
        "        Training_combinations.loc[teller] = (ID, Pos, Neg, Size, Prev)\n",
        "        teller = teller + 1\n",
        "print(Training_combinations)\n"
      ],
      "metadata": {
        "colab": {
          "base_uri": "https://localhost:8080/"
        },
        "id": "2lKmktydg4Or",
        "outputId": "b7640014-afd3-43af-b9a2-84ca5c2cc81b"
      },
      "execution_count": null,
      "outputs": [
        {
          "output_type": "stream",
          "name": "stdout",
          "text": [
            "    Dataset_ID    Pos     Neg  Training_size  Prevalence\n",
            "1          1.0  100.0   100.0          200.0        0.50\n",
            "2          2.0  100.0   200.0          300.0        0.33\n",
            "3          3.0  100.0   300.0          400.0        0.25\n",
            "4          4.0  100.0   400.0          500.0        0.20\n",
            "5          5.0  100.0   500.0          600.0        0.17\n",
            "..         ...    ...     ...            ...         ...\n",
            "80        80.0  700.0   800.0         1500.0        0.47\n",
            "81        81.0  700.0   900.0         1600.0        0.44\n",
            "82        82.0  700.0  1000.0         1700.0        0.41\n",
            "83        83.0  700.0  1100.0         1800.0        0.39\n",
            "84        84.0  700.0  1200.0         1900.0        0.37\n",
            "\n",
            "[84 rows x 5 columns]\n"
          ]
        }
      ]
    },
    {
      "cell_type": "code",
      "source": [
        "from google.colab import files\n",
        "files.download('Filename1.xlsx')\n",
        "files.download('Filename2.xlsx')\n",
        "files.download('Filename3.xlsx')"
      ],
      "metadata": {
        "colab": {
          "base_uri": "https://localhost:8080/",
          "height": 17
        },
        "id": "T29Yo-9wQ_mF",
        "outputId": "da5190ef-141a-4006-a903-095bf99022c9"
      },
      "execution_count": null,
      "outputs": [
        {
          "output_type": "display_data",
          "data": {
            "text/plain": [
              "<IPython.core.display.Javascript object>"
            ],
            "application/javascript": [
              "\n",
              "    async function download(id, filename, size) {\n",
              "      if (!google.colab.kernel.accessAllowed) {\n",
              "        return;\n",
              "      }\n",
              "      const div = document.createElement('div');\n",
              "      const label = document.createElement('label');\n",
              "      label.textContent = `Downloading \"${filename}\": `;\n",
              "      div.appendChild(label);\n",
              "      const progress = document.createElement('progress');\n",
              "      progress.max = size;\n",
              "      div.appendChild(progress);\n",
              "      document.body.appendChild(div);\n",
              "\n",
              "      const buffers = [];\n",
              "      let downloaded = 0;\n",
              "\n",
              "      const channel = await google.colab.kernel.comms.open(id);\n",
              "      // Send a message to notify the kernel that we're ready.\n",
              "      channel.send({})\n",
              "\n",
              "      for await (const message of channel.messages) {\n",
              "        // Send a message to notify the kernel that we're ready.\n",
              "        channel.send({})\n",
              "        if (message.buffers) {\n",
              "          for (const buffer of message.buffers) {\n",
              "            buffers.push(buffer);\n",
              "            downloaded += buffer.byteLength;\n",
              "            progress.value = downloaded;\n",
              "          }\n",
              "        }\n",
              "      }\n",
              "      const blob = new Blob(buffers, {type: 'application/binary'});\n",
              "      const a = document.createElement('a');\n",
              "      a.href = window.URL.createObjectURL(blob);\n",
              "      a.download = filename;\n",
              "      div.appendChild(a);\n",
              "      a.click();\n",
              "      div.remove();\n",
              "    }\n",
              "  "
            ]
          },
          "metadata": {}
        },
        {
          "output_type": "display_data",
          "data": {
            "text/plain": [
              "<IPython.core.display.Javascript object>"
            ],
            "application/javascript": [
              "download(\"download_f9757b13-dda6-4f56-abf9-eec1e65b3775\", \"Filename1.xlsx\", 34429)"
            ]
          },
          "metadata": {}
        },
        {
          "output_type": "display_data",
          "data": {
            "text/plain": [
              "<IPython.core.display.Javascript object>"
            ],
            "application/javascript": [
              "\n",
              "    async function download(id, filename, size) {\n",
              "      if (!google.colab.kernel.accessAllowed) {\n",
              "        return;\n",
              "      }\n",
              "      const div = document.createElement('div');\n",
              "      const label = document.createElement('label');\n",
              "      label.textContent = `Downloading \"${filename}\": `;\n",
              "      div.appendChild(label);\n",
              "      const progress = document.createElement('progress');\n",
              "      progress.max = size;\n",
              "      div.appendChild(progress);\n",
              "      document.body.appendChild(div);\n",
              "\n",
              "      const buffers = [];\n",
              "      let downloaded = 0;\n",
              "\n",
              "      const channel = await google.colab.kernel.comms.open(id);\n",
              "      // Send a message to notify the kernel that we're ready.\n",
              "      channel.send({})\n",
              "\n",
              "      for await (const message of channel.messages) {\n",
              "        // Send a message to notify the kernel that we're ready.\n",
              "        channel.send({})\n",
              "        if (message.buffers) {\n",
              "          for (const buffer of message.buffers) {\n",
              "            buffers.push(buffer);\n",
              "            downloaded += buffer.byteLength;\n",
              "            progress.value = downloaded;\n",
              "          }\n",
              "        }\n",
              "      }\n",
              "      const blob = new Blob(buffers, {type: 'application/binary'});\n",
              "      const a = document.createElement('a');\n",
              "      a.href = window.URL.createObjectURL(blob);\n",
              "      a.download = filename;\n",
              "      div.appendChild(a);\n",
              "      a.click();\n",
              "      div.remove();\n",
              "    }\n",
              "  "
            ]
          },
          "metadata": {}
        },
        {
          "output_type": "display_data",
          "data": {
            "text/plain": [
              "<IPython.core.display.Javascript object>"
            ],
            "application/javascript": [
              "download(\"download_787309cd-2777-4342-b872-600d0d5d494c\", \"Filename2.xlsx\", 58159)"
            ]
          },
          "metadata": {}
        },
        {
          "output_type": "display_data",
          "data": {
            "text/plain": [
              "<IPython.core.display.Javascript object>"
            ],
            "application/javascript": [
              "\n",
              "    async function download(id, filename, size) {\n",
              "      if (!google.colab.kernel.accessAllowed) {\n",
              "        return;\n",
              "      }\n",
              "      const div = document.createElement('div');\n",
              "      const label = document.createElement('label');\n",
              "      label.textContent = `Downloading \"${filename}\": `;\n",
              "      div.appendChild(label);\n",
              "      const progress = document.createElement('progress');\n",
              "      progress.max = size;\n",
              "      div.appendChild(progress);\n",
              "      document.body.appendChild(div);\n",
              "\n",
              "      const buffers = [];\n",
              "      let downloaded = 0;\n",
              "\n",
              "      const channel = await google.colab.kernel.comms.open(id);\n",
              "      // Send a message to notify the kernel that we're ready.\n",
              "      channel.send({})\n",
              "\n",
              "      for await (const message of channel.messages) {\n",
              "        // Send a message to notify the kernel that we're ready.\n",
              "        channel.send({})\n",
              "        if (message.buffers) {\n",
              "          for (const buffer of message.buffers) {\n",
              "            buffers.push(buffer);\n",
              "            downloaded += buffer.byteLength;\n",
              "            progress.value = downloaded;\n",
              "          }\n",
              "        }\n",
              "      }\n",
              "      const blob = new Blob(buffers, {type: 'application/binary'});\n",
              "      const a = document.createElement('a');\n",
              "      a.href = window.URL.createObjectURL(blob);\n",
              "      a.download = filename;\n",
              "      div.appendChild(a);\n",
              "      a.click();\n",
              "      div.remove();\n",
              "    }\n",
              "  "
            ]
          },
          "metadata": {}
        },
        {
          "output_type": "display_data",
          "data": {
            "text/plain": [
              "<IPython.core.display.Javascript object>"
            ],
            "application/javascript": [
              "download(\"download_6acb738a-5c25-40a8-81cf-749629a1c046\", \"Filename3.xlsx\", 74430)"
            ]
          },
          "metadata": {}
        }
      ]
    },
    {
      "cell_type": "code",
      "source": [
        "Filename4 = 'Training_combinations_THORAX_20201006'\n",
        "#Training_combinations.to_excel(path+'/Jupyter_NLP_thoraxdataset/Data/'+Filename4+\".xlsx\")\n",
        "Training_combinations.to_excel(\"Filename4.xlsx\")\n",
        "#append info to results"
      ],
      "metadata": {
        "id": "IIYkkZSLmk9I"
      },
      "execution_count": null,
      "outputs": []
    },
    {
      "cell_type": "code",
      "source": [
        "from google.colab import files\n",
        "files.download('Filename4.xlsx')"
      ],
      "metadata": {
        "colab": {
          "base_uri": "https://localhost:8080/",
          "height": 17
        },
        "id": "dvxa42uiQmGc",
        "outputId": "b31e4038-b9f9-41b3-8eb2-4918f2b0f264"
      },
      "execution_count": null,
      "outputs": [
        {
          "output_type": "display_data",
          "data": {
            "text/plain": [
              "<IPython.core.display.Javascript object>"
            ],
            "application/javascript": [
              "\n",
              "    async function download(id, filename, size) {\n",
              "      if (!google.colab.kernel.accessAllowed) {\n",
              "        return;\n",
              "      }\n",
              "      const div = document.createElement('div');\n",
              "      const label = document.createElement('label');\n",
              "      label.textContent = `Downloading \"${filename}\": `;\n",
              "      div.appendChild(label);\n",
              "      const progress = document.createElement('progress');\n",
              "      progress.max = size;\n",
              "      div.appendChild(progress);\n",
              "      document.body.appendChild(div);\n",
              "\n",
              "      const buffers = [];\n",
              "      let downloaded = 0;\n",
              "\n",
              "      const channel = await google.colab.kernel.comms.open(id);\n",
              "      // Send a message to notify the kernel that we're ready.\n",
              "      channel.send({})\n",
              "\n",
              "      for await (const message of channel.messages) {\n",
              "        // Send a message to notify the kernel that we're ready.\n",
              "        channel.send({})\n",
              "        if (message.buffers) {\n",
              "          for (const buffer of message.buffers) {\n",
              "            buffers.push(buffer);\n",
              "            downloaded += buffer.byteLength;\n",
              "            progress.value = downloaded;\n",
              "          }\n",
              "        }\n",
              "      }\n",
              "      const blob = new Blob(buffers, {type: 'application/binary'});\n",
              "      const a = document.createElement('a');\n",
              "      a.href = window.URL.createObjectURL(blob);\n",
              "      a.download = filename;\n",
              "      div.appendChild(a);\n",
              "      a.click();\n",
              "      div.remove();\n",
              "    }\n",
              "  "
            ]
          },
          "metadata": {}
        },
        {
          "output_type": "display_data",
          "data": {
            "text/plain": [
              "<IPython.core.display.Javascript object>"
            ],
            "application/javascript": [
              "download(\"download_1d78761a-fe4e-467f-b592-1c6ff42f53af\", \"Filename4.xlsx\", 7337)"
            ]
          },
          "metadata": {}
        }
      ]
    },
    {
      "cell_type": "code",
      "source": [
        "print(df)"
      ],
      "metadata": {
        "colab": {
          "base_uri": "https://localhost:8080/"
        },
        "id": "X_imKDoQSO6c",
        "outputId": "8c3c6520-cc83-4ce8-caed-07a4b7a4d6ae"
      },
      "execution_count": null,
      "outputs": [
        {
          "output_type": "stream",
          "name": "stdout",
          "text": [
            "                                             ReportText  Label\n",
            "0     X pols rechts \\n\\nOpname van de rechterpols in...      1\n",
            "1     X voet/tenen links \\n\\n\\nOpname van de linkerv...      0\n",
            "2     X enkel rechts \\n\\n\\nOpname van de rechterenke...      0\n",
            "3     X pols links \\n\\n\\nOpname van de linkerpols in...      0\n",
            "4     X voet/tenen rechts \\n\\n\\nOpname van de rechte...      0\n",
            "...                                                 ...    ...\n",
            "2465  Val van fiets. Mogelijk geluxeerd geweest. Fra...      1\n",
            "2466  X voet/tenen links \\nX enkel links \\n\\n\\nNorma...      0\n",
            "2467  X elleboog rechts \\nTwee richtingen.\\nGeen ond...      1\n",
            "2468  X hand/vingers rechts \\n\\nCorticaal knikje met...      1\n",
            "2469  X knie rechts \\n\\nNormaal wijde gewrichtssplee...      0\n",
            "\n",
            "[2470 rows x 2 columns]\n"
          ]
        }
      ]
    },
    {
      "cell_type": "code",
      "source": [
        "#count the word in the report\n",
        "df['WordCount'] = df['ReportText'].str.split().str.len()"
      ],
      "metadata": {
        "id": "TicvDDTyS_vs"
      },
      "execution_count": null,
      "outputs": []
    },
    {
      "cell_type": "code",
      "source": [
        "df_WORDS = df['WordCount'].value_counts()"
      ],
      "metadata": {
        "id": "vqcGjAo4TKfr"
      },
      "execution_count": null,
      "outputs": []
    },
    {
      "cell_type": "code",
      "source": [
        "print(df_WORDS)"
      ],
      "metadata": {
        "colab": {
          "base_uri": "https://localhost:8080/"
        },
        "id": "mhNgj-sSTPJz",
        "outputId": "d094d14c-14ad-4f75-8507-fde492fd7244"
      },
      "execution_count": null,
      "outputs": [
        {
          "output_type": "stream",
          "name": "stdout",
          "text": [
            "7      233\n",
            "14     111\n",
            "12      91\n",
            "5       72\n",
            "16      71\n",
            "      ... \n",
            "148      1\n",
            "121      1\n",
            "122      1\n",
            "95       1\n",
            "132      1\n",
            "Name: WordCount, Length: 118, dtype: int64\n"
          ]
        }
      ]
    },
    {
      "cell_type": "code",
      "source": [
        "df.info()"
      ],
      "metadata": {
        "colab": {
          "base_uri": "https://localhost:8080/"
        },
        "id": "87YDwF6VgFqm",
        "outputId": "403d7f7c-e0ae-4dae-bc21-5b3963ad2511"
      },
      "execution_count": null,
      "outputs": [
        {
          "output_type": "stream",
          "name": "stdout",
          "text": [
            "<class 'pandas.core.frame.DataFrame'>\n",
            "RangeIndex: 2470 entries, 0 to 2469\n",
            "Data columns (total 3 columns):\n",
            " #   Column      Non-Null Count  Dtype \n",
            "---  ------      --------------  ----- \n",
            " 0   ReportText  2470 non-null   object\n",
            " 1   Label       2470 non-null   int64 \n",
            " 2   WordCount   2470 non-null   int64 \n",
            "dtypes: int64(2), object(1)\n",
            "memory usage: 58.0+ KB\n"
          ]
        }
      ]
    },
    {
      "cell_type": "code",
      "source": [
        "import plotly.express as px\n",
        "#df.sort_values(by=['Result_Infiltraat'], inplace=True, ascending=False)\n",
        "#fig = px.histogram(df, x=\"WordCount\", color=\"Result_Infiltraat\")\n",
        "df.sort_values(by=['Label'], inplace=True, ascending=False)\n",
        "fig = px.histogram(df, x=\"WordCount\", color=\"Label\")\n",
        "fig.show()"
      ],
      "metadata": {
        "colab": {
          "base_uri": "https://localhost:8080/",
          "height": 597
        },
        "id": "Ff84hBaiTVnS",
        "outputId": "a8cedc49-bc61-4d60-c1a6-f777f9f4fb0d"
      },
      "execution_count": null,
      "outputs": [
        {
          "output_type": "stream",
          "name": "stderr",
          "text": [
            "/usr/local/lib/python3.7/dist-packages/distributed/config.py:20: YAMLLoadWarning: calling yaml.load() without Loader=... is deprecated, as the default Loader is unsafe. Please read https://msg.pyyaml.org/load for full details.\n",
            "  defaults = yaml.load(f)\n"
          ]
        },
        {
          "output_type": "display_data",
          "data": {
            "text/html": [
              "<html>\n",
              "<head><meta charset=\"utf-8\" /></head>\n",
              "<body>\n",
              "    <div>            <script src=\"https://cdnjs.cloudflare.com/ajax/libs/mathjax/2.7.5/MathJax.js?config=TeX-AMS-MML_SVG\"></script><script type=\"text/javascript\">if (window.MathJax) {MathJax.Hub.Config({SVG: {font: \"STIX-Web\"}});}</script>                <script type=\"text/javascript\">window.PlotlyConfig = {MathJaxConfig: 'local'};</script>\n",
              "        <script src=\"https://cdn.plot.ly/plotly-2.8.3.min.js\"></script>                <div id=\"53f28cd8-c232-49ec-bd79-95d12615b60c\" class=\"plotly-graph-div\" style=\"height:525px; width:100%;\"></div>            <script type=\"text/javascript\">                                    window.PLOTLYENV=window.PLOTLYENV || {};                                    if (document.getElementById(\"53f28cd8-c232-49ec-bd79-95d12615b60c\")) {                    Plotly.newPlot(                        \"53f28cd8-c232-49ec-bd79-95d12615b60c\",                        [{\"alignmentgroup\":\"True\",\"bingroup\":\"x\",\"hovertemplate\":\"Label=1<br>WordCount=%{x}<br>count=%{y}<extra></extra>\",\"legendgroup\":\"1\",\"marker\":{\"color\":\"#636efa\",\"pattern\":{\"shape\":\"\"}},\"name\":\"1\",\"offsetgroup\":\"1\",\"orientation\":\"v\",\"showlegend\":true,\"x\":[57,54,27,23,18,10,14,13,18,30,16,31,11,19,17,8,10,24,10,17,50,13,27,28,15,12,44,29,12,22,29,34,17,14,22,10,12,14,14,13,16,42,9,25,14,16,31,12,17,19,15,34,20,24,28,14,28,13,9,15,38,19,10,44,12,39,46,61,24,33,25,36,36,18,34,26,67,45,44,16,16,20,50,14,24,16,22,25,77,35,60,10,21,24,39,14,36,29,6,6,27,5,16,49,18,32,16,35,23,41,18,51,55,87,102,19,20,14,107,8,21,29,12,14,17,21,27,11,53,11,6,42,12,25,18,14,50,12,15,22,6,50,27,43,16,37,16,13,26,28,15,48,18,19,15,25,18,26,32,42,20,16,11,13,14,34,33,10,39,64,11,19,26,17,40,109,29,44,10,11,40,76,7,12,24,83,19,35,46,23,11,11,21,23,7,9,9,44,9,14,9,55,14,19,39,40,26,26,57,12,45,29,10,56,10,17,15,34,40,14,21,22,53,83,63,26,19,51,16,8,43,11,16,10,52,13,13,35,7,21,33,5,19,70,55,14,44,20,37,42,38,72,26,11,44,20,14,9,8,8,6,37,47,12,43,116,63,93,97,165,13,24,48,24,12,13,14,12,14,23,16,23,34,17,17,38,55,9,19,52,41,19,31,31,49,36,21,19,18,27,7,44,17,49,8,11,46,40,20,8,42,15,26,41,64,75,24,26,14,28,23,31,26,17,26,13,24,25,13,17,21,23,34,14,22,30,11,37,20,37,22,26,22,10,12,22,22,15,15,12,40,20,18,23,14,20,10,14,10,10,21,17,12,10,98,39,37,47,71,49,74,59,73,25,16,20,13,56,80,91,18,41,56,15,27,18,21,31,10,25,42,23,17,40,14,49,31,19,9,14,21,34,10,17,69,44,116,51,10,38,14,20,24,16,22,26,17,17,6,15,19,64,65,59,70,17,16,26,14,16,15,42,22,37,18,15,19,111,5,30,11,46,16,19,58,9,8,32,40,14,35,80,67,13,21,15,9,11,24,12,25,11,13,12,18,11,8,52,12,60,56,42,42,22,13,22,76,14,29,33,48,11,10,14,16,11,23,34,81,12,10,16,26,13,13,11,13,30,14,34,26,27,76,18,79,16,14,15,56,9,33,16,67,55,27,24,30,77,13,71,61,19,27,13,16,73,29,17,8,16,26,6,20,16,23,19,24,29,13,29,27,17,26,25,12,78,41,106,16,19,32,113,11,14,27,27,19,13,36,49,37,29,12,11,25,17,23,40,8,23,18,28,34,16,38,22,12,16,21,18,64,19,15,62,10,53,113,39,13,11,30,10,26,47,38,21,17,14,44,22,41,38,47,74,132,83,117,12,104,17,10,54,12,31,5,19,25,15,67,18,31,68,11,59,9,64,15,19,15,36,18,13,14,13,21,21,12,143,84,27,10,21,18,10,31,27,22,29,13,80,16,13,60,20,39,14,20,10,23,35,102,13,17,9,31,74,58,20,164,19,67,58,62,12,12,9,25,69,21,7,41,20,65,35,47,12,65,39,12,49,20,48,22,14,45,10,16,80,17,17,25,41,13,49,36,37,16,17,13,24,74,124,26,12,27,12,20,18,20,61,28,14,22,59,14,14,16,20,21,14,26,35,7,23,13,32,25,21,14,31,23,12,56,62,98,12,12,11,68,25,26,11,16,8,22,103,55,19,41,33,13,34,28,35,31,41,47,32,16,29,9,44,20,24,42,33,15,15,25,12,54,19,58,19,14,51,43,64,30,14,47,17,53,66,14,21,27,29,31,28,77,63,30,31,48,14,26,30,61,66,21,14,30,24,72,53,40,18,59,27,30,27,25,15,26,16,20,18,122,14,88,29,58,38,20,95,89,39,69,32,41,41,31,40,24,13,44,41,17,33,9,27,43,20,18,12,42,9,14,82,46,31,19,12,29,13,59,148,14,24,14,29,21,83,11,42,38,20,8,19,30,9,25,9,26,43,55,26,66,19,50,14,15,51,20,15,16,55,37,31],\"xaxis\":\"x\",\"yaxis\":\"y\",\"type\":\"histogram\"},{\"alignmentgroup\":\"True\",\"bingroup\":\"x\",\"hovertemplate\":\"Label=0<br>WordCount=%{x}<br>count=%{y}<extra></extra>\",\"legendgroup\":\"0\",\"marker\":{\"color\":\"#EF553B\",\"pattern\":{\"shape\":\"\"}},\"name\":\"0\",\"offsetgroup\":\"0\",\"orientation\":\"v\",\"showlegend\":true,\"x\":[53,16,15,51,14,13,35,39,8,23,24,78,7,7,15,7,7,96,38,22,14,58,7,49,14,5,7,33,10,5,12,12,17,18,14,49,24,13,12,29,11,18,13,35,7,96,12,7,17,51,7,38,15,55,15,57,14,44,24,9,7,30,41,19,25,12,28,15,42,19,40,27,10,9,27,32,60,14,5,14,6,25,60,16,26,16,22,29,5,33,14,7,26,17,20,77,14,7,78,25,27,22,39,14,7,19,7,12,7,12,15,27,77,61,11,15,41,52,23,34,17,12,17,28,21,21,7,21,12,19,35,27,22,59,59,54,65,39,35,45,61,12,38,30,23,28,40,36,29,16,44,51,16,55,51,50,20,29,48,14,8,6,11,8,27,29,5,58,7,10,27,56,17,27,67,13,45,8,7,7,21,24,46,10,5,23,18,45,48,38,19,66,5,5,5,21,23,30,7,52,46,25,23,18,20,18,7,7,17,14,14,26,20,17,16,7,20,18,30,65,23,49,13,30,5,22,20,58,9,22,7,31,7,7,7,14,65,28,47,5,5,38,12,12,24,37,15,22,20,26,35,20,16,9,27,7,9,35,35,23,85,20,31,26,24,20,7,15,5,5,26,20,9,12,20,10,18,38,7,29,27,7,9,14,5,7,16,25,34,7,5,37,23,16,23,76,7,18,5,7,8,73,48,38,20,23,38,23,96,26,24,7,36,23,62,31,47,35,30,5,21,19,26,60,4,7,60,14,14,26,11,24,40,50,7,25,10,16,14,12,16,20,12,27,14,31,7,10,30,5,21,34,41,22,5,12,7,7,11,36,10,35,31,5,27,38,7,7,78,26,19,60,7,25,7,7,27,28,26,11,7,29,33,9,38,8,24,15,11,7,10,17,12,31,7,18,14,26,9,34,5,13,47,7,26,41,40,16,52,34,10,19,29,10,10,11,7,7,29,36,38,34,9,7,33,10,8,69,21,25,31,29,48,20,25,49,5,59,7,15,11,65,42,5,29,7,18,7,36,30,27,26,39,37,16,23,47,10,15,30,39,46,22,35,35,7,11,27,42,39,74,67,38,42,43,35,34,32,27,33,27,22,83,82,27,18,17,50,36,17,27,23,41,50,5,7,30,7,7,29,47,44,7,26,43,43,27,15,64,39,12,32,72,27,29,32,36,7,40,7,10,7,99,44,44,19,13,15,16,11,28,18,27,7,7,22,68,12,12,10,55,18,30,58,26,19,19,7,22,12,22,30,41,12,5,19,13,7,20,9,10,6,6,31,25,7,7,5,5,21,26,32,7,63,13,28,25,18,18,25,11,7,65,25,38,29,50,17,40,5,5,5,5,30,28,22,21,31,40,24,18,7,24,105,11,18,16,22,35,42,5,45,33,22,7,7,28,12,27,19,14,21,21,7,10,12,18,42,32,19,33,20,14,10,7,7,7,12,9,7,7,7,14,20,7,7,40,9,83,7,43,26,24,20,5,25,18,32,25,20,40,35,48,7,42,37,20,10,19,16,12,12,7,15,13,28,14,52,38,18,54,45,26,29,53,29,41,32,34,27,30,38,29,31,19,5,5,9,7,12,5,16,42,13,10,12,21,27,109,9,34,48,38,18,14,16,43,12,19,12,14,15,24,29,11,8,11,20,28,13,6,21,26,27,21,19,8,5,13,11,7,7,7,7,6,13,18,13,9,14,15,15,23,13,31,7,51,7,64,23,23,5,26,121,55,7,9,7,8,41,16,17,7,7,7,7,20,50,49,50,47,88,59,31,47,21,13,38,41,37,13,9,18,14,86,15,52,65,39,26,19,7,21,38,35,23,17,22,26,18,24,22,18,22,39,46,58,41,70,14,12,33,21,40,27,7,7,23,24,5,53,22,15,24,12,30,35,26,7,14,9,9,7,7,7,25,35,20,17,30,17,19,5,5,12,11,19,7,23,52,7,57,36,22,84,7,63,87,69,25,30,55,50,54,8,43,12,14,25,36,49,42,38,42,11,97,39,27,38,44,46,26,11,7,10,7,10,21,23,23,7,36,7,93,20,15,25,8,98,6,7,7,13,7,7,7,7,14,36,20,19,37,23,25,76,39,29,53,51,37,41,34,48,31,21,25,26,9,10,14,43,34,34,39,52,99,11,15,12,12,7,7,9,35,47,35,49,101,45,7,7,7,7,7,7,7,7,7,7,5,7,7,27,7,49,53,7,21,6,56,7,18,19,7,19,10,25,22,18,14,16,29,21,15,19,21,19,12,7,49,20,24,11,27,7,20,46,24,23,7,14,7,7,21,7,7,19,7,7,7,18,19,16,52,41,16,16,29,29,15,26,24,7,24,19,46,29,61,37,38,67,18,7,17,25,18,7,10,60,56,41,29,85,29,7,7,17,62,15,47,15,42,30,7,38,106,53,45,16,27,83,32,27,37,32,37,28,23,23,45,34,38,41,26,24,23,26,23,42,30,88,20,27,7,7,40,36,12,30,28,48,24,5,10,25,5,5,25,37,14,17,18,27,18,15,7,7,12,7,7,7,23,23,18,55,9,7,14,32,40,7,7,32,18,60,5,5,5,5,7,20,7,16,7,7,21,7,7,15,12,27,13,78,17,25,77,5,24,19,12,21,10,19,12,11,33,12,6,5,7,24,5,13,7,20,25,14,29,42,7,9,19,57,13,13,22,20,43,33,12,48,22,58,34,5,34,51,20,41,41,29,86,28,23,7,20,7,7,7,12,17,11,11,11,7,9,17,30,15,20,24,24,14,14,14,7,14,7,8,9,7,11,12,14,9,8,5,20,13,7,7,35,5,13,14,26,14,16,10,23,18,32,16,21,16,18,49,35,29,5,19,35,75,37,44,41,68,31,53,90,58,15,39,39,35,56,9,15,19,14,7,7,21,9,12,26,10,5,21,49,10,18,17,52,25,10,22,37,15,14,7,8,47,14,12,7,51,57,85,49,14,14,7,7,7,7,24,33,5,5,71,51,37,48,54,106,29,18,36,21,15,27,7,7,76,31,18,25,26,32,31,33,24,45,7,7,52,48,17,38,27,32,59,16,16,30,24,5,24,34,26,17,17,34,6,10,17,12,14,39,30,12,16,7,31,7,7,7,15,7,7,11,10,47,23,23,11,16,14,10,42,29,13,18,22,7,33,12,20,7,7,24,5,7,7,21,8,9,7,21,9,7,7,7,11,25,35,27,18,13,19,14,10,8,12,8,9,8,15,7,20,7,14,14,26,24,7,5,5,5,15,5,23,19,23,27,11,18,129,21,57,22,50,9,50,43,27,19,26,47,19,13,23,28,101,11,14,28,17,56,15,10,18,7,16,42,5,7,70,9,22,117,38,10,10,29,75,98,62,41,53,11,17,14,5,7,7,65,7,7,7,7,9,14,11,23,91,60,38,29,15,7,42,54,7,45,92,35,48,11,14,10,7,7,10,11,23,10,26,48,31,29,28,31,31,25,7,26,32,26,66,15,10,42,63,21,13,15,15,65,7,17,20,71,57,168,23,16,17,25,27,54,37,31,94,35,15,37,13,26],\"xaxis\":\"x\",\"yaxis\":\"y\",\"type\":\"histogram\"}],                        {\"template\":{\"data\":{\"bar\":[{\"error_x\":{\"color\":\"#2a3f5f\"},\"error_y\":{\"color\":\"#2a3f5f\"},\"marker\":{\"line\":{\"color\":\"#E5ECF6\",\"width\":0.5},\"pattern\":{\"fillmode\":\"overlay\",\"size\":10,\"solidity\":0.2}},\"type\":\"bar\"}],\"barpolar\":[{\"marker\":{\"line\":{\"color\":\"#E5ECF6\",\"width\":0.5},\"pattern\":{\"fillmode\":\"overlay\",\"size\":10,\"solidity\":0.2}},\"type\":\"barpolar\"}],\"carpet\":[{\"aaxis\":{\"endlinecolor\":\"#2a3f5f\",\"gridcolor\":\"white\",\"linecolor\":\"white\",\"minorgridcolor\":\"white\",\"startlinecolor\":\"#2a3f5f\"},\"baxis\":{\"endlinecolor\":\"#2a3f5f\",\"gridcolor\":\"white\",\"linecolor\":\"white\",\"minorgridcolor\":\"white\",\"startlinecolor\":\"#2a3f5f\"},\"type\":\"carpet\"}],\"choropleth\":[{\"colorbar\":{\"outlinewidth\":0,\"ticks\":\"\"},\"type\":\"choropleth\"}],\"contour\":[{\"colorbar\":{\"outlinewidth\":0,\"ticks\":\"\"},\"colorscale\":[[0.0,\"#0d0887\"],[0.1111111111111111,\"#46039f\"],[0.2222222222222222,\"#7201a8\"],[0.3333333333333333,\"#9c179e\"],[0.4444444444444444,\"#bd3786\"],[0.5555555555555556,\"#d8576b\"],[0.6666666666666666,\"#ed7953\"],[0.7777777777777778,\"#fb9f3a\"],[0.8888888888888888,\"#fdca26\"],[1.0,\"#f0f921\"]],\"type\":\"contour\"}],\"contourcarpet\":[{\"colorbar\":{\"outlinewidth\":0,\"ticks\":\"\"},\"type\":\"contourcarpet\"}],\"heatmap\":[{\"colorbar\":{\"outlinewidth\":0,\"ticks\":\"\"},\"colorscale\":[[0.0,\"#0d0887\"],[0.1111111111111111,\"#46039f\"],[0.2222222222222222,\"#7201a8\"],[0.3333333333333333,\"#9c179e\"],[0.4444444444444444,\"#bd3786\"],[0.5555555555555556,\"#d8576b\"],[0.6666666666666666,\"#ed7953\"],[0.7777777777777778,\"#fb9f3a\"],[0.8888888888888888,\"#fdca26\"],[1.0,\"#f0f921\"]],\"type\":\"heatmap\"}],\"heatmapgl\":[{\"colorbar\":{\"outlinewidth\":0,\"ticks\":\"\"},\"colorscale\":[[0.0,\"#0d0887\"],[0.1111111111111111,\"#46039f\"],[0.2222222222222222,\"#7201a8\"],[0.3333333333333333,\"#9c179e\"],[0.4444444444444444,\"#bd3786\"],[0.5555555555555556,\"#d8576b\"],[0.6666666666666666,\"#ed7953\"],[0.7777777777777778,\"#fb9f3a\"],[0.8888888888888888,\"#fdca26\"],[1.0,\"#f0f921\"]],\"type\":\"heatmapgl\"}],\"histogram\":[{\"marker\":{\"pattern\":{\"fillmode\":\"overlay\",\"size\":10,\"solidity\":0.2}},\"type\":\"histogram\"}],\"histogram2d\":[{\"colorbar\":{\"outlinewidth\":0,\"ticks\":\"\"},\"colorscale\":[[0.0,\"#0d0887\"],[0.1111111111111111,\"#46039f\"],[0.2222222222222222,\"#7201a8\"],[0.3333333333333333,\"#9c179e\"],[0.4444444444444444,\"#bd3786\"],[0.5555555555555556,\"#d8576b\"],[0.6666666666666666,\"#ed7953\"],[0.7777777777777778,\"#fb9f3a\"],[0.8888888888888888,\"#fdca26\"],[1.0,\"#f0f921\"]],\"type\":\"histogram2d\"}],\"histogram2dcontour\":[{\"colorbar\":{\"outlinewidth\":0,\"ticks\":\"\"},\"colorscale\":[[0.0,\"#0d0887\"],[0.1111111111111111,\"#46039f\"],[0.2222222222222222,\"#7201a8\"],[0.3333333333333333,\"#9c179e\"],[0.4444444444444444,\"#bd3786\"],[0.5555555555555556,\"#d8576b\"],[0.6666666666666666,\"#ed7953\"],[0.7777777777777778,\"#fb9f3a\"],[0.8888888888888888,\"#fdca26\"],[1.0,\"#f0f921\"]],\"type\":\"histogram2dcontour\"}],\"mesh3d\":[{\"colorbar\":{\"outlinewidth\":0,\"ticks\":\"\"},\"type\":\"mesh3d\"}],\"parcoords\":[{\"line\":{\"colorbar\":{\"outlinewidth\":0,\"ticks\":\"\"}},\"type\":\"parcoords\"}],\"pie\":[{\"automargin\":true,\"type\":\"pie\"}],\"scatter\":[{\"marker\":{\"colorbar\":{\"outlinewidth\":0,\"ticks\":\"\"}},\"type\":\"scatter\"}],\"scatter3d\":[{\"line\":{\"colorbar\":{\"outlinewidth\":0,\"ticks\":\"\"}},\"marker\":{\"colorbar\":{\"outlinewidth\":0,\"ticks\":\"\"}},\"type\":\"scatter3d\"}],\"scattercarpet\":[{\"marker\":{\"colorbar\":{\"outlinewidth\":0,\"ticks\":\"\"}},\"type\":\"scattercarpet\"}],\"scattergeo\":[{\"marker\":{\"colorbar\":{\"outlinewidth\":0,\"ticks\":\"\"}},\"type\":\"scattergeo\"}],\"scattergl\":[{\"marker\":{\"colorbar\":{\"outlinewidth\":0,\"ticks\":\"\"}},\"type\":\"scattergl\"}],\"scattermapbox\":[{\"marker\":{\"colorbar\":{\"outlinewidth\":0,\"ticks\":\"\"}},\"type\":\"scattermapbox\"}],\"scatterpolar\":[{\"marker\":{\"colorbar\":{\"outlinewidth\":0,\"ticks\":\"\"}},\"type\":\"scatterpolar\"}],\"scatterpolargl\":[{\"marker\":{\"colorbar\":{\"outlinewidth\":0,\"ticks\":\"\"}},\"type\":\"scatterpolargl\"}],\"scatterternary\":[{\"marker\":{\"colorbar\":{\"outlinewidth\":0,\"ticks\":\"\"}},\"type\":\"scatterternary\"}],\"surface\":[{\"colorbar\":{\"outlinewidth\":0,\"ticks\":\"\"},\"colorscale\":[[0.0,\"#0d0887\"],[0.1111111111111111,\"#46039f\"],[0.2222222222222222,\"#7201a8\"],[0.3333333333333333,\"#9c179e\"],[0.4444444444444444,\"#bd3786\"],[0.5555555555555556,\"#d8576b\"],[0.6666666666666666,\"#ed7953\"],[0.7777777777777778,\"#fb9f3a\"],[0.8888888888888888,\"#fdca26\"],[1.0,\"#f0f921\"]],\"type\":\"surface\"}],\"table\":[{\"cells\":{\"fill\":{\"color\":\"#EBF0F8\"},\"line\":{\"color\":\"white\"}},\"header\":{\"fill\":{\"color\":\"#C8D4E3\"},\"line\":{\"color\":\"white\"}},\"type\":\"table\"}]},\"layout\":{\"annotationdefaults\":{\"arrowcolor\":\"#2a3f5f\",\"arrowhead\":0,\"arrowwidth\":1},\"autotypenumbers\":\"strict\",\"coloraxis\":{\"colorbar\":{\"outlinewidth\":0,\"ticks\":\"\"}},\"colorscale\":{\"diverging\":[[0,\"#8e0152\"],[0.1,\"#c51b7d\"],[0.2,\"#de77ae\"],[0.3,\"#f1b6da\"],[0.4,\"#fde0ef\"],[0.5,\"#f7f7f7\"],[0.6,\"#e6f5d0\"],[0.7,\"#b8e186\"],[0.8,\"#7fbc41\"],[0.9,\"#4d9221\"],[1,\"#276419\"]],\"sequential\":[[0.0,\"#0d0887\"],[0.1111111111111111,\"#46039f\"],[0.2222222222222222,\"#7201a8\"],[0.3333333333333333,\"#9c179e\"],[0.4444444444444444,\"#bd3786\"],[0.5555555555555556,\"#d8576b\"],[0.6666666666666666,\"#ed7953\"],[0.7777777777777778,\"#fb9f3a\"],[0.8888888888888888,\"#fdca26\"],[1.0,\"#f0f921\"]],\"sequentialminus\":[[0.0,\"#0d0887\"],[0.1111111111111111,\"#46039f\"],[0.2222222222222222,\"#7201a8\"],[0.3333333333333333,\"#9c179e\"],[0.4444444444444444,\"#bd3786\"],[0.5555555555555556,\"#d8576b\"],[0.6666666666666666,\"#ed7953\"],[0.7777777777777778,\"#fb9f3a\"],[0.8888888888888888,\"#fdca26\"],[1.0,\"#f0f921\"]]},\"colorway\":[\"#636efa\",\"#EF553B\",\"#00cc96\",\"#ab63fa\",\"#FFA15A\",\"#19d3f3\",\"#FF6692\",\"#B6E880\",\"#FF97FF\",\"#FECB52\"],\"font\":{\"color\":\"#2a3f5f\"},\"geo\":{\"bgcolor\":\"white\",\"lakecolor\":\"white\",\"landcolor\":\"#E5ECF6\",\"showlakes\":true,\"showland\":true,\"subunitcolor\":\"white\"},\"hoverlabel\":{\"align\":\"left\"},\"hovermode\":\"closest\",\"mapbox\":{\"style\":\"light\"},\"paper_bgcolor\":\"white\",\"plot_bgcolor\":\"#E5ECF6\",\"polar\":{\"angularaxis\":{\"gridcolor\":\"white\",\"linecolor\":\"white\",\"ticks\":\"\"},\"bgcolor\":\"#E5ECF6\",\"radialaxis\":{\"gridcolor\":\"white\",\"linecolor\":\"white\",\"ticks\":\"\"}},\"scene\":{\"xaxis\":{\"backgroundcolor\":\"#E5ECF6\",\"gridcolor\":\"white\",\"gridwidth\":2,\"linecolor\":\"white\",\"showbackground\":true,\"ticks\":\"\",\"zerolinecolor\":\"white\"},\"yaxis\":{\"backgroundcolor\":\"#E5ECF6\",\"gridcolor\":\"white\",\"gridwidth\":2,\"linecolor\":\"white\",\"showbackground\":true,\"ticks\":\"\",\"zerolinecolor\":\"white\"},\"zaxis\":{\"backgroundcolor\":\"#E5ECF6\",\"gridcolor\":\"white\",\"gridwidth\":2,\"linecolor\":\"white\",\"showbackground\":true,\"ticks\":\"\",\"zerolinecolor\":\"white\"}},\"shapedefaults\":{\"line\":{\"color\":\"#2a3f5f\"}},\"ternary\":{\"aaxis\":{\"gridcolor\":\"white\",\"linecolor\":\"white\",\"ticks\":\"\"},\"baxis\":{\"gridcolor\":\"white\",\"linecolor\":\"white\",\"ticks\":\"\"},\"bgcolor\":\"#E5ECF6\",\"caxis\":{\"gridcolor\":\"white\",\"linecolor\":\"white\",\"ticks\":\"\"}},\"title\":{\"x\":0.05},\"xaxis\":{\"automargin\":true,\"gridcolor\":\"white\",\"linecolor\":\"white\",\"ticks\":\"\",\"title\":{\"standoff\":15},\"zerolinecolor\":\"white\",\"zerolinewidth\":2},\"yaxis\":{\"automargin\":true,\"gridcolor\":\"white\",\"linecolor\":\"white\",\"ticks\":\"\",\"title\":{\"standoff\":15},\"zerolinecolor\":\"white\",\"zerolinewidth\":2}}},\"xaxis\":{\"anchor\":\"y\",\"domain\":[0.0,1.0],\"title\":{\"text\":\"WordCount\"}},\"yaxis\":{\"anchor\":\"x\",\"domain\":[0.0,1.0],\"title\":{\"text\":\"count\"}},\"legend\":{\"title\":{\"text\":\"Label\"},\"tracegroupgap\":0},\"margin\":{\"t\":60},\"barmode\":\"relative\"},                        {\"responsive\": true}                    ).then(function(){\n",
              "                            \n",
              "var gd = document.getElementById('53f28cd8-c232-49ec-bd79-95d12615b60c');\n",
              "var x = new MutationObserver(function (mutations, observer) {{\n",
              "        var display = window.getComputedStyle(gd).display;\n",
              "        if (!display || display === 'none') {{\n",
              "            console.log([gd, 'removed!']);\n",
              "            Plotly.purge(gd);\n",
              "            observer.disconnect();\n",
              "        }}\n",
              "}});\n",
              "\n",
              "// Listen for the removal of the full notebook cells\n",
              "var notebookContainer = gd.closest('#notebook-container');\n",
              "if (notebookContainer) {{\n",
              "    x.observe(notebookContainer, {childList: true});\n",
              "}}\n",
              "\n",
              "// Listen for the clearing of the current output cell\n",
              "var outputEl = gd.closest('.output');\n",
              "if (outputEl) {{\n",
              "    x.observe(outputEl, {childList: true});\n",
              "}}\n",
              "\n",
              "                        })                };                            </script>        </div>\n",
              "</body>\n",
              "</html>"
            ]
          },
          "metadata": {}
        }
      ]
    },
    {
      "cell_type": "code",
      "source": [
        "print(df_TEST)"
      ],
      "metadata": {
        "colab": {
          "base_uri": "https://localhost:8080/"
        },
        "id": "Xgj2cNg8ThS_",
        "outputId": "9ac1c110-12d3-4d03-8635-56eb54c7037c"
      },
      "execution_count": null,
      "outputs": [
        {
          "output_type": "stream",
          "name": "stdout",
          "text": [
            "                                             ReportText  Label\n",
            "1255  Distale radius? Wijsvinger?\\n\\nX hand/vingers ...      1\n",
            "898   X knie links\\n\\nIntra-articulaire proximale ti...      1\n",
            "1780  X pols links \\n\\nFractuur distale radiusmetafy...      1\n",
            "42    X pols/onderarm rechts \\n\\n\\nDistale antebrach...      1\n",
            "996   X hand/vingers rechts \\n\\nFractuur middenphala...      1\n",
            "...                                                 ...    ...\n",
            "1576  X enkel links \\n\\nNormale kalkhoudendheid en b...      0\n",
            "1327  X elleboog rechts\\n\\nGeen posttraumatische oss...      0\n",
            "907   X elleboog rechts \\n\\nNormale articulatio en g...      0\n",
            "1994  X voet/tenen rechts \\n\\nGeen fractuur of luxatie.      0\n",
            "1095  X pols links\\n\\nGeen posttraumatische ossale p...      0\n",
            "\n",
            "[494 rows x 2 columns]\n"
          ]
        }
      ]
    },
    {
      "cell_type": "code",
      "source": [
        "print(list_Pos_N, list_Neg_N)"
      ],
      "metadata": {
        "colab": {
          "base_uri": "https://localhost:8080/"
        },
        "id": "9dGCKefATiXX",
        "outputId": "55c6ff69-3f8f-4e02-ad34-e8af53b09a65"
      },
      "execution_count": null,
      "outputs": [
        {
          "output_type": "stream",
          "name": "stdout",
          "text": [
            "[100, 200, 300, 400, 500, 600, 700] [100, 200, 300, 400, 500, 600, 700, 800, 900, 1000, 1100, 1200]\n"
          ]
        }
      ]
    },
    {
      "cell_type": "code",
      "source": [
        ""
      ],
      "metadata": {
        "id": "wCo3s7o3TpQl"
      },
      "execution_count": null,
      "outputs": []
    },
    {
      "cell_type": "markdown",
      "source": [
        "#Models"
      ],
      "metadata": {
        "id": "yuxRd8Z6TskX"
      }
    },
    {
      "cell_type": "markdown",
      "source": [
        "#\"Dense\", \"LSTM\", and \"CNN\" Models:"
      ],
      "metadata": {
        "id": "U0KvRm5ZUJQh"
      }
    },
    {
      "cell_type": "code",
      "source": [
        "def make_and_compile_models():\n",
        "\n",
        "\n",
        "  model_Rnn = tf.keras.Sequential([\n",
        "  tf.keras.layers.Embedding(vocab_size, embedding_dim, input_length=max_length, name='Embedding'),\n",
        "  tf.keras.layers.Bidirectional(tf.keras.layers.LSTM(64, return_sequences=True), name='LSTM-1'), #32\n",
        "  #tf.keras.layers.Bidirectional(tf.keras.layers.LSTM(32), name='LSTM-2'),\n",
        "  tf.keras.layers.Dense(64, activation='relu', name='Dense-1'), #24\n",
        "  tf.keras.layers.Dense(1)\n",
        "  ])\n",
        "\n",
        "  model_Rnn.compile(loss='binary_crossentropy',optimizer='adam',metrics=['accuracy'])\n",
        "  model_Rnn.summary()\n",
        "\n",
        "\n",
        "\n",
        "  return(model_Rnn)"
      ],
      "metadata": {
        "id": "qt-vcr8FTuQR"
      },
      "execution_count": null,
      "outputs": []
    },
    {
      "cell_type": "code",
      "source": [
        ""
      ],
      "metadata": {
        "id": "S0M5rg5WUvJ4"
      },
      "execution_count": null,
      "outputs": []
    },
    {
      "cell_type": "code",
      "source": [
        ""
      ],
      "metadata": {
        "id": "vJSNWPB6UwLl"
      },
      "execution_count": null,
      "outputs": []
    },
    {
      "cell_type": "markdown",
      "source": [
        "#Def's"
      ],
      "metadata": {
        "id": "tRo4xIxoU5Cj"
      }
    },
    {
      "cell_type": "code",
      "source": [
        "def make_datastore_train(nr, Training_combinations, df_pos_TRAIN, df_neg_TRAIN):\n",
        "  pos = Training_combinations.loc[nr]['Pos']\n",
        "  neg = Training_combinations.loc[nr]['Neg']\n",
        "  temp_pos = df_pos_TRAIN.loc[0:pos]\n",
        "  temp_neg = df_neg_TRAIN.loc[0:neg]\n",
        "  datastore_train = pd.concat([temp_pos, temp_neg])\n",
        "  datastore_train = shuffle(datastore_train)\n",
        "  return(datastore_train)\n",
        "def make_trainset_from_datastore_train_and_testset_from_df_TEST(datastore_train, df_TEST):\n",
        "  training_sentences_fixed = []\n",
        "  training_labels_fixed = []\n",
        "  #teller = 0\n",
        "  for item in range(len(datastore_train)):\n",
        "      #print(teller)\n",
        "      #print('item=',item)\n",
        "      temp_train = datastore_train.iloc[item]\n",
        "      training_sentences_fixed.append(temp_train['ReportText'])\n",
        "      #print('sentences=',sentences)\n",
        "      training_labels_fixed.append(temp_train['Label'])\n",
        "      #print('labels=',labels)\n",
        "      #teller = teller +1\n",
        "  tokenizer = Tokenizer(num_words=vocab_size, oov_token=oov_tok)\n",
        "  tokenizer.fit_on_texts(training_sentences_fixed)\n",
        "  word_index = tokenizer.word_index\n",
        "  training_sequences_fixed = tokenizer.texts_to_sequences(training_sentences_fixed)\n",
        "  training_padded_fixed = pad_sequences(training_sequences_fixed, maxlen=max_length, padding=padding_type, truncating=trunc_type)\n",
        "  #make test datasets with tokenized reports\n",
        "  testing_sentences_fixed = []\n",
        "  testing_labels_fixed = []\n",
        "  for item in range(len(df_TEST)):\n",
        "      temp_test = df_TEST.iloc[item]\n",
        "      testing_sentences_fixed.append(temp_test['ReportText'])\n",
        "      testing_labels_fixed.append(temp_test['Label'])\n",
        "      # tokenizer en word-index van trainingset\n",
        "      #word_index = tokenizer.word_index van trainingset\n",
        "      testing_sequences_fixed = tokenizer.texts_to_sequences(testing_sentences_fixed)\n",
        "      testing_padded_fixed = pad_sequences(testing_sequences_fixed, maxlen=max_length, padding=padding_type, truncating=trunc_type)\n",
        "      Tokenizer_Ext = tokenizer\n",
        "  return(training_padded_fixed, training_labels_fixed, testing_padded_fixed, testing_labels_fixed, Tokenizer_Ext)"
      ],
      "metadata": {
        "id": "Zb0C-PoEU6hY"
      },
      "execution_count": null,
      "outputs": []
    },
    {
      "cell_type": "code",
      "source": [
        "\n",
        "# train models(RNN) and return histories\n",
        "def train_models(training_padded, training_labels, testing_padded, testing_labels, model_Rnn):\n",
        "  num_epochs = num_epochs_number # 50\n",
        "  training_padded = np.array(training_padded)\n",
        "  training_labels = np.array(training_labels)\n",
        "  testing_padded = np.array(testing_padded)\n",
        "  testing_labels = np.array(testing_labels)\n",
        "  #history1 = model_dense.fit(training_padded, training_labels, epochs=num_epochs, verbose=2, use_multiprocessing = False)\n",
        "  history = model_Rnn.fit(training_padded, training_labels, epochs=num_epochs, verbose=2, use_multiprocessing = False)\n",
        "  #history3 = model_cnn.fit(training_padded, training_labels, epochs=num_epochs, verbose=2, use_multiprocessing = False)\n",
        "  return(history)"
      ],
      "metadata": {
        "id": "nDoY2hKhVHU7"
      },
      "execution_count": null,
      "outputs": []
    },
    {
      "cell_type": "code",
      "source": [
        "#evaluation\n",
        "def eval_model(model_nr, testing_padded_fixed, testing_labels_fixed):\n",
        "  y_pred1 = model_nr.predict(testing_padded_fixed)\n",
        "  y_true = testing_labels_fixed\n",
        "  y_pred1_rounded = np.around(y_pred1) #convert prediction to 0/1 labels\n",
        "  precision, recall, fscore, support = precision_recall_fscore_support(y_true, y_pred1_rounded)\n",
        "  fscore_0 = fscore[0]\n",
        "  f1_score = fscore[1]\n",
        "  npv = precision[0]\n",
        "  ppv = precision[1]\n",
        "  spec = recall[0]\n",
        "  sens = recall[1]\n",
        "  auc = roc_auc_score(y_true, y_pred1_rounded)\n",
        "  return(sens, spec, ppv, npv, auc, f1_score)\n"
      ],
      "metadata": {
        "id": "Ie5A1-U2V-hQ"
      },
      "execution_count": null,
      "outputs": []
    },
    {
      "cell_type": "code",
      "source": [
        "# overview of models\n",
        "model_Rnn_graph = make_and_compile_models()"
      ],
      "metadata": {
        "colab": {
          "base_uri": "https://localhost:8080/"
        },
        "id": "GNjHHytsWthP",
        "outputId": "ad31feb1-0ab1-4e25-efa4-0283dc855996"
      },
      "execution_count": null,
      "outputs": [
        {
          "output_type": "stream",
          "name": "stderr",
          "text": [
            "2022-03-21 15:06:37.610380: E tensorflow/stream_executor/cuda/cuda_driver.cc:271] failed call to cuInit: CUDA_ERROR_NO_DEVICE: no CUDA-capable device is detected\n"
          ]
        },
        {
          "output_type": "stream",
          "name": "stdout",
          "text": [
            "Model: \"sequential\"\n",
            "_________________________________________________________________\n",
            " Layer (type)                Output Shape              Param #   \n",
            "=================================================================\n",
            " Embedding (Embedding)       (None, 250, 32)           80000     \n",
            "                                                                 \n",
            " LSTM-1 (Bidirectional)      (None, 250, 128)          49664     \n",
            "                                                                 \n",
            " Dense-1 (Dense)             (None, 250, 64)           8256      \n",
            "                                                                 \n",
            " dense (Dense)               (None, 250, 1)            65        \n",
            "                                                                 \n",
            "=================================================================\n",
            "Total params: 137,985\n",
            "Trainable params: 137,985\n",
            "Non-trainable params: 0\n",
            "_________________________________________________________________\n"
          ]
        }
      ]
    },
    {
      "cell_type": "code",
      "source": [
        ""
      ],
      "metadata": {
        "id": "LaEbu0_FW_GF"
      },
      "execution_count": null,
      "outputs": []
    },
    {
      "cell_type": "markdown",
      "source": [
        "#Experiments"
      ],
      "metadata": {
        "id": "hCGZt6-qXUWp"
      }
    },
    {
      "cell_type": "code",
      "source": [
        "Filename1 = 'df_TEST_THORAX_20201006'\n",
        "Filename2 = 'df_pos_TRAIN_THORAX_20201006'\n",
        "Filename3= 'df_neg_TRAIN_THORAX_20201006'\n",
        "Filename4 = 'Training_combinations_THORAX_20201006'\n",
        "#Training_combinations = pd.read_excel(path+'/Jupyter_NLP_thoraxdataset/Data/'+Filename4+\".xlsx\")\n",
        "#df_TEST = pd.read_excel(path+'/Jupyter_NLP_thoraxdataset/Data/'+Filename1+\".xlsx\")\n",
        "#df_pos_TRAIN = pd.read_excel(path+'/Jupyter_NLP_thoraxdataset/Data/'+Filename2+\".xlsx\")\n",
        "#df_neg_TRAIN = pd.read_excel(path+'/Jupyter_NLP_thoraxdataset/Data/'+Filename3+\".xlsx\")"
      ],
      "metadata": {
        "id": "ciuEDqpVQDM8"
      },
      "execution_count": null,
      "outputs": []
    },
    {
      "cell_type": "code",
      "source": [
        "from google.colab import files\n",
        "data = files.upload()\n"
      ],
      "metadata": {
        "colab": {
          "resources": {
            "http://localhost:8080/nbextensions/google.colab/files.js": {
              "data": "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",
              "ok": true,
              "headers": [
                [
                  "content-type",
                  "application/javascript"
                ]
              ],
              "status": 200,
              "status_text": ""
            }
          },
          "base_uri": "https://localhost:8080/",
          "height": 74
        },
        "id": "fdq5vrzDTCcO",
        "outputId": "3a9bc7bc-7073-49e0-da41-dd4411ab6dff"
      },
      "execution_count": null,
      "outputs": [
        {
          "output_type": "display_data",
          "data": {
            "text/plain": [
              "<IPython.core.display.HTML object>"
            ],
            "text/html": [
              "\n",
              "     <input type=\"file\" id=\"files-30212534-9592-4b1f-86b5-6983fcbe4966\" name=\"files[]\" multiple disabled\n",
              "        style=\"border:none\" />\n",
              "     <output id=\"result-30212534-9592-4b1f-86b5-6983fcbe4966\">\n",
              "      Upload widget is only available when the cell has been executed in the\n",
              "      current browser session. Please rerun this cell to enable.\n",
              "      </output>\n",
              "      <script src=\"/nbextensions/google.colab/files.js\"></script> "
            ]
          },
          "metadata": {}
        },
        {
          "output_type": "stream",
          "name": "stdout",
          "text": [
            "Saving Filename1 (2).xlsx to Filename1 (2).xlsx\n"
          ]
        }
      ]
    },
    {
      "cell_type": "code",
      "source": [
        "xlsx_file = io.BytesIO(data.get('Filename1.xlsx'))\n",
        "df_TEST = pd.read_excel('Filename1.xlsx')"
      ],
      "metadata": {
        "id": "TVWEoJjBTt9I"
      },
      "execution_count": null,
      "outputs": []
    },
    {
      "cell_type": "code",
      "source": [
        "from google.colab import files\n",
        "data = files.upload()\n"
      ],
      "metadata": {
        "colab": {
          "resources": {
            "http://localhost:8080/nbextensions/google.colab/files.js": {
              "data": "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",
              "ok": true,
              "headers": [
                [
                  "content-type",
                  "application/javascript"
                ]
              ],
              "status": 200,
              "status_text": ""
            }
          },
          "base_uri": "https://localhost:8080/",
          "height": 74
        },
        "id": "HkHLfH9rTDx0",
        "outputId": "f3a409d6-9cd2-4f45-a255-a92a13dc958c"
      },
      "execution_count": null,
      "outputs": [
        {
          "output_type": "display_data",
          "data": {
            "text/plain": [
              "<IPython.core.display.HTML object>"
            ],
            "text/html": [
              "\n",
              "     <input type=\"file\" id=\"files-c37638a5-60e7-4301-b859-4b3b19636256\" name=\"files[]\" multiple disabled\n",
              "        style=\"border:none\" />\n",
              "     <output id=\"result-c37638a5-60e7-4301-b859-4b3b19636256\">\n",
              "      Upload widget is only available when the cell has been executed in the\n",
              "      current browser session. Please rerun this cell to enable.\n",
              "      </output>\n",
              "      <script src=\"/nbextensions/google.colab/files.js\"></script> "
            ]
          },
          "metadata": {}
        },
        {
          "output_type": "stream",
          "name": "stdout",
          "text": [
            "Saving Filename2 (2).xlsx to Filename2 (2).xlsx\n"
          ]
        }
      ]
    },
    {
      "cell_type": "code",
      "source": [
        "xlsx_file = io.BytesIO(data.get('Filename2.xlsx'))\n",
        "df_pos_TRAIN= pd.read_excel('Filename2.xlsx')"
      ],
      "metadata": {
        "id": "7LCPFYWxTwqm"
      },
      "execution_count": null,
      "outputs": []
    },
    {
      "cell_type": "code",
      "source": [
        "from google.colab import files\n",
        "data = files.upload()\n"
      ],
      "metadata": {
        "colab": {
          "resources": {
            "http://localhost:8080/nbextensions/google.colab/files.js": {
              "data": "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",
              "ok": true,
              "headers": [
                [
                  "content-type",
                  "application/javascript"
                ]
              ],
              "status": 200,
              "status_text": ""
            }
          },
          "base_uri": "https://localhost:8080/",
          "height": 74
        },
        "id": "AGY7bUnwTEK4",
        "outputId": "b5e823a9-e10a-44a0-e735-a11084d89442"
      },
      "execution_count": null,
      "outputs": [
        {
          "output_type": "display_data",
          "data": {
            "text/plain": [
              "<IPython.core.display.HTML object>"
            ],
            "text/html": [
              "\n",
              "     <input type=\"file\" id=\"files-b56e900f-5432-497a-abee-87d06c3be340\" name=\"files[]\" multiple disabled\n",
              "        style=\"border:none\" />\n",
              "     <output id=\"result-b56e900f-5432-497a-abee-87d06c3be340\">\n",
              "      Upload widget is only available when the cell has been executed in the\n",
              "      current browser session. Please rerun this cell to enable.\n",
              "      </output>\n",
              "      <script src=\"/nbextensions/google.colab/files.js\"></script> "
            ]
          },
          "metadata": {}
        },
        {
          "output_type": "stream",
          "name": "stdout",
          "text": [
            "Saving Filename3 (2).xlsx to Filename3 (2).xlsx\n"
          ]
        }
      ]
    },
    {
      "cell_type": "code",
      "source": [
        "xlsx_file = io.BytesIO(data.get('Filename3.xlsx'))\n",
        "df_neg_TRAIN = pd.read_excel('Filename3.xlsx')"
      ],
      "metadata": {
        "id": "keBAstw4TzHY"
      },
      "execution_count": null,
      "outputs": []
    },
    {
      "cell_type": "code",
      "source": [
        "from google.colab import files\n",
        "data = files.upload()\n"
      ],
      "metadata": {
        "colab": {
          "resources": {
            "http://localhost:8080/nbextensions/google.colab/files.js": {
              "data": "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",
              "ok": true,
              "headers": [
                [
                  "content-type",
                  "application/javascript"
                ]
              ],
              "status": 200,
              "status_text": ""
            }
          },
          "base_uri": "https://localhost:8080/",
          "height": 74
        },
        "id": "0L4rOnVZTEYq",
        "outputId": "ddc2ed4e-2de7-4b14-bb9d-8ee564deb9f2"
      },
      "execution_count": null,
      "outputs": [
        {
          "output_type": "display_data",
          "data": {
            "text/plain": [
              "<IPython.core.display.HTML object>"
            ],
            "text/html": [
              "\n",
              "     <input type=\"file\" id=\"files-ac032089-ffc6-4f16-8662-0a39706b406b\" name=\"files[]\" multiple disabled\n",
              "        style=\"border:none\" />\n",
              "     <output id=\"result-ac032089-ffc6-4f16-8662-0a39706b406b\">\n",
              "      Upload widget is only available when the cell has been executed in the\n",
              "      current browser session. Please rerun this cell to enable.\n",
              "      </output>\n",
              "      <script src=\"/nbextensions/google.colab/files.js\"></script> "
            ]
          },
          "metadata": {}
        },
        {
          "output_type": "stream",
          "name": "stdout",
          "text": [
            "Saving Filename4 (2).xlsx to Filename4 (2).xlsx\n"
          ]
        }
      ]
    },
    {
      "cell_type": "code",
      "source": [
        "xlsx_file = io.BytesIO(data.get('Filename4.xlsx'))\n",
        "Training_combinations = pd.read_excel('Filename4.xlsx')"
      ],
      "metadata": {
        "id": "w5WO2Q2oT2Jw"
      },
      "execution_count": null,
      "outputs": []
    },
    {
      "cell_type": "code",
      "source": [
        "#Dense, LSTM, CNN\n",
        "\n",
        "Evaluation = pd.DataFrame(columns=['ID','Nr', 'Training_size', 'Prevalence', 'Model', 'Sensitivity', 'Specificity', 'PPV', 'NPV', 'AUC', 'F1_score'])\n",
        "eerste = 28 #\n",
        "laatste = 29 # 1 extra dan einde\n",
        "histories=pd.DataFrame()\n",
        "Count = 0\n",
        "for j in range(eerste, laatste):\n",
        "    nr = j - 1\n",
        "    datastore_train = make_datastore_train(nr, Training_combinations, df_pos_TRAIN, df_neg_TRAIN)\n",
        "    training_padded_fixed, training_labels_fixed, testing_padded_fixed, testing_labels_fixed, Tokenizer_Ext = make_trainset_from_datastore_train_and_testset_from_df_TEST(datastore_train, df_TEST)\n",
        "    model_Rnn = make_and_compile_models()\n",
        "    history1 = train_models(training_padded_fixed, training_labels_fixed, testing_padded_fixed, testing_labels_fixed,model_Rnn)\n",
        "    Models = [model_Rnn]\n",
        "    Model_names = ['RNN']\n",
        "    prev = Training_combinations.loc[nr]['Prevalence']\n",
        "    size = Training_combinations.loc[nr]['Training_size']\n",
        "    print('prev=', prev)\n",
        "    print('size=', size)\n",
        "    print('nr=', nr)\n",
        "    for iii in range(len(Models)): #loop over model evaluation with prediction\n",
        "        Count = Count+1\n",
        "        print(Count)\n",
        "        model = Models[iii]\n",
        "        modelname = Model_names[iii]\n",
        "        sens, spec, ppv, npv, auc, f1_score = eval_model(model, testing_padded_fixed, testing_labels_fixed)\n",
        "        Evaluation.loc[Count] = (Count, j, size, prev, modelname, sens, spec, ppv, npv, auc, f1_score )\n",
        "    now = datetime.now()\n",
        "    dt_string = now.strftime(\"%Y%m%d_%H%M\")\n",
        "    filename5 = 'Evaluation_'+dt_string\n",
        "    print('filename5=', filename5)\n",
        "    #Evaluation.to_excel(path+'/Jupyter_NLP_thoraxdataset/Data/History/'+filename5 +'.xlsx')\n",
        "    \n",
        "    Evaluation.to_excel(\"Filename5.xlsx\")\n",
        "    hist1 = pd.DataFrame(history1.history)\n",
        "    hist1['model']='Rnn'\n",
        "    hist1['size']=size\n",
        "    hist1['prev']=prev\n",
        "    histories = pd.concat([histories, hist1])\n",
        "    #histories.to_excel(path+'/Jupyter_NLP_thoraxdataset/Data/History/'+'histories'+filename5+'.xlsx')\n",
        "    filename6 = 'histories'+filename5\n",
        "    histories.to_excel(\"Filename6.xlsx\")"
      ],
      "metadata": {
        "colab": {
          "base_uri": "https://localhost:8080/",
          "height": 1000
        },
        "id": "fhlA1si8Xdff",
        "outputId": "757067c8-c109-44e0-c907-f66fb96001fc"
      },
      "execution_count": null,
      "outputs": [
        {
          "output_type": "stream",
          "name": "stdout",
          "text": [
            "Model: \"sequential_4\"\n",
            "_________________________________________________________________\n",
            " Layer (type)                Output Shape              Param #   \n",
            "=================================================================\n",
            " Embedding (Embedding)       (None, 250, 32)           80000     \n",
            "                                                                 \n",
            " LSTM-1 (Bidirectional)      (None, 250, 128)          49664     \n",
            "                                                                 \n",
            " Dense-1 (Dense)             (None, 250, 64)           8256      \n",
            "                                                                 \n",
            " dense_4 (Dense)             (None, 250, 1)            65        \n",
            "                                                                 \n",
            "=================================================================\n",
            "Total params: 137,985\n",
            "Trainable params: 137,985\n",
            "Non-trainable params: 0\n",
            "_________________________________________________________________\n",
            "Epoch 1/12\n",
            "22/22 - 11s - loss: 1.1272 - accuracy: 0.5389 - 11s/epoch - 509ms/step\n",
            "Epoch 2/12\n",
            "22/22 - 7s - loss: 0.7007 - accuracy: 0.5467 - 7s/epoch - 300ms/step\n",
            "Epoch 3/12\n",
            "22/22 - 5s - loss: 0.6923 - accuracy: 0.5712 - 5s/epoch - 227ms/step\n",
            "Epoch 4/12\n",
            "22/22 - 5s - loss: 0.6906 - accuracy: 0.5712 - 5s/epoch - 227ms/step\n",
            "Epoch 5/12\n",
            "22/22 - 5s - loss: 0.6875 - accuracy: 0.5712 - 5s/epoch - 226ms/step\n",
            "Epoch 6/12\n",
            "22/22 - 5s - loss: 0.6892 - accuracy: 0.5712 - 5s/epoch - 232ms/step\n",
            "Epoch 7/12\n",
            "22/22 - 5s - loss: 0.6896 - accuracy: 0.5712 - 5s/epoch - 236ms/step\n",
            "Epoch 8/12\n",
            "22/22 - 5s - loss: 0.6869 - accuracy: 0.5710 - 5s/epoch - 231ms/step\n",
            "Epoch 9/12\n",
            "22/22 - 5s - loss: 0.6869 - accuracy: 0.5712 - 5s/epoch - 235ms/step\n",
            "Epoch 10/12\n",
            "22/22 - 6s - loss: 0.6860 - accuracy: 0.5707 - 6s/epoch - 282ms/step\n",
            "Epoch 11/12\n",
            "22/22 - 5s - loss: 0.6866 - accuracy: 0.5711 - 5s/epoch - 235ms/step\n",
            "Epoch 12/12\n",
            "22/22 - 5s - loss: 0.6847 - accuracy: 0.5710 - 5s/epoch - 232ms/step\n",
            "prev= 0.43\n",
            "size= 700.0\n",
            "nr= 27\n",
            "1\n"
          ]
        },
        {
          "output_type": "error",
          "ename": "ValueError",
          "evalue": "ignored",
          "traceback": [
            "\u001b[0;31m---------------------------------------------------------------------------\u001b[0m",
            "\u001b[0;31mValueError\u001b[0m                                Traceback (most recent call last)",
            "\u001b[0;32m/tmp/ipykernel_214/4082995383.py\u001b[0m in \u001b[0;36m<module>\u001b[0;34m\u001b[0m\n\u001b[1;32m     24\u001b[0m         \u001b[0mmodel\u001b[0m \u001b[0;34m=\u001b[0m \u001b[0mModels\u001b[0m\u001b[0;34m[\u001b[0m\u001b[0miii\u001b[0m\u001b[0;34m]\u001b[0m\u001b[0;34m\u001b[0m\u001b[0;34m\u001b[0m\u001b[0m\n\u001b[1;32m     25\u001b[0m         \u001b[0mmodelname\u001b[0m \u001b[0;34m=\u001b[0m \u001b[0mModel_names\u001b[0m\u001b[0;34m[\u001b[0m\u001b[0miii\u001b[0m\u001b[0;34m]\u001b[0m\u001b[0;34m\u001b[0m\u001b[0;34m\u001b[0m\u001b[0m\n\u001b[0;32m---> 26\u001b[0;31m         \u001b[0msens\u001b[0m\u001b[0;34m,\u001b[0m \u001b[0mspec\u001b[0m\u001b[0;34m,\u001b[0m \u001b[0mppv\u001b[0m\u001b[0;34m,\u001b[0m \u001b[0mnpv\u001b[0m\u001b[0;34m,\u001b[0m \u001b[0mauc\u001b[0m\u001b[0;34m,\u001b[0m \u001b[0mf1_score\u001b[0m \u001b[0;34m=\u001b[0m \u001b[0meval_model\u001b[0m\u001b[0;34m(\u001b[0m\u001b[0mmodel\u001b[0m\u001b[0;34m,\u001b[0m \u001b[0mtesting_padded_fixed\u001b[0m\u001b[0;34m,\u001b[0m \u001b[0mtesting_labels_fixed\u001b[0m\u001b[0;34m)\u001b[0m\u001b[0;34m\u001b[0m\u001b[0;34m\u001b[0m\u001b[0m\n\u001b[0m\u001b[1;32m     27\u001b[0m         \u001b[0mEvaluation\u001b[0m\u001b[0;34m.\u001b[0m\u001b[0mloc\u001b[0m\u001b[0;34m[\u001b[0m\u001b[0mCount\u001b[0m\u001b[0;34m]\u001b[0m \u001b[0;34m=\u001b[0m \u001b[0;34m(\u001b[0m\u001b[0mCount\u001b[0m\u001b[0;34m,\u001b[0m \u001b[0mj\u001b[0m\u001b[0;34m,\u001b[0m \u001b[0msize\u001b[0m\u001b[0;34m,\u001b[0m \u001b[0mprev\u001b[0m\u001b[0;34m,\u001b[0m \u001b[0mmodelname\u001b[0m\u001b[0;34m,\u001b[0m \u001b[0msens\u001b[0m\u001b[0;34m,\u001b[0m \u001b[0mspec\u001b[0m\u001b[0;34m,\u001b[0m \u001b[0mppv\u001b[0m\u001b[0;34m,\u001b[0m \u001b[0mnpv\u001b[0m\u001b[0;34m,\u001b[0m \u001b[0mauc\u001b[0m\u001b[0;34m,\u001b[0m \u001b[0mf1_score\u001b[0m \u001b[0;34m)\u001b[0m\u001b[0;34m\u001b[0m\u001b[0;34m\u001b[0m\u001b[0m\n\u001b[1;32m     28\u001b[0m     \u001b[0mnow\u001b[0m \u001b[0;34m=\u001b[0m \u001b[0mdatetime\u001b[0m\u001b[0;34m.\u001b[0m\u001b[0mnow\u001b[0m\u001b[0;34m(\u001b[0m\u001b[0;34m)\u001b[0m\u001b[0;34m\u001b[0m\u001b[0;34m\u001b[0m\u001b[0m\n",
            "\u001b[0;32m/tmp/ipykernel_214/2869358210.py\u001b[0m in \u001b[0;36meval_model\u001b[0;34m(model_nr, testing_padded_fixed, testing_labels_fixed)\u001b[0m\n\u001b[1;32m      4\u001b[0m   \u001b[0my_true\u001b[0m \u001b[0;34m=\u001b[0m \u001b[0mtesting_labels_fixed\u001b[0m\u001b[0;34m\u001b[0m\u001b[0;34m\u001b[0m\u001b[0m\n\u001b[1;32m      5\u001b[0m   \u001b[0my_pred1_rounded\u001b[0m \u001b[0;34m=\u001b[0m \u001b[0mnp\u001b[0m\u001b[0;34m.\u001b[0m\u001b[0maround\u001b[0m\u001b[0;34m(\u001b[0m\u001b[0my_pred1\u001b[0m\u001b[0;34m)\u001b[0m \u001b[0;31m#convert prediction to 0/1 labels\u001b[0m\u001b[0;34m\u001b[0m\u001b[0;34m\u001b[0m\u001b[0m\n\u001b[0;32m----> 6\u001b[0;31m   \u001b[0mprecision\u001b[0m\u001b[0;34m,\u001b[0m \u001b[0mrecall\u001b[0m\u001b[0;34m,\u001b[0m \u001b[0mfscore\u001b[0m\u001b[0;34m,\u001b[0m \u001b[0msupport\u001b[0m \u001b[0;34m=\u001b[0m \u001b[0mprecision_recall_fscore_support\u001b[0m\u001b[0;34m(\u001b[0m\u001b[0my_true\u001b[0m\u001b[0;34m,\u001b[0m \u001b[0my_pred1_rounded\u001b[0m\u001b[0;34m)\u001b[0m\u001b[0;34m\u001b[0m\u001b[0;34m\u001b[0m\u001b[0m\n\u001b[0m\u001b[1;32m      7\u001b[0m   \u001b[0mfscore_0\u001b[0m \u001b[0;34m=\u001b[0m \u001b[0mfscore\u001b[0m\u001b[0;34m[\u001b[0m\u001b[0;36m0\u001b[0m\u001b[0;34m]\u001b[0m\u001b[0;34m\u001b[0m\u001b[0;34m\u001b[0m\u001b[0m\n\u001b[1;32m      8\u001b[0m   \u001b[0mf1_score\u001b[0m \u001b[0;34m=\u001b[0m \u001b[0mfscore\u001b[0m\u001b[0;34m[\u001b[0m\u001b[0;36m1\u001b[0m\u001b[0;34m]\u001b[0m\u001b[0;34m\u001b[0m\u001b[0;34m\u001b[0m\u001b[0m\n",
            "\u001b[0;32m/usr/local/lib/python3.7/dist-packages/sklearn/metrics/_classification.py\u001b[0m in \u001b[0;36mprecision_recall_fscore_support\u001b[0;34m(y_true, y_pred, beta, labels, pos_label, average, warn_for, sample_weight, zero_division)\u001b[0m\n\u001b[1;32m   1542\u001b[0m     \u001b[0;32mif\u001b[0m \u001b[0mbeta\u001b[0m \u001b[0;34m<\u001b[0m \u001b[0;36m0\u001b[0m\u001b[0;34m:\u001b[0m\u001b[0;34m\u001b[0m\u001b[0;34m\u001b[0m\u001b[0m\n\u001b[1;32m   1543\u001b[0m         \u001b[0;32mraise\u001b[0m \u001b[0mValueError\u001b[0m\u001b[0;34m(\u001b[0m\u001b[0;34m\"beta should be >=0 in the F-beta score\"\u001b[0m\u001b[0;34m)\u001b[0m\u001b[0;34m\u001b[0m\u001b[0;34m\u001b[0m\u001b[0m\n\u001b[0;32m-> 1544\u001b[0;31m     \u001b[0mlabels\u001b[0m \u001b[0;34m=\u001b[0m \u001b[0m_check_set_wise_labels\u001b[0m\u001b[0;34m(\u001b[0m\u001b[0my_true\u001b[0m\u001b[0;34m,\u001b[0m \u001b[0my_pred\u001b[0m\u001b[0;34m,\u001b[0m \u001b[0maverage\u001b[0m\u001b[0;34m,\u001b[0m \u001b[0mlabels\u001b[0m\u001b[0;34m,\u001b[0m \u001b[0mpos_label\u001b[0m\u001b[0;34m)\u001b[0m\u001b[0;34m\u001b[0m\u001b[0;34m\u001b[0m\u001b[0m\n\u001b[0m\u001b[1;32m   1545\u001b[0m \u001b[0;34m\u001b[0m\u001b[0m\n\u001b[1;32m   1546\u001b[0m     \u001b[0;31m# Calculate tp_sum, pred_sum, true_sum ###\u001b[0m\u001b[0;34m\u001b[0m\u001b[0;34m\u001b[0m\u001b[0;34m\u001b[0m\u001b[0m\n",
            "\u001b[0;32m/usr/local/lib/python3.7/dist-packages/sklearn/metrics/_classification.py\u001b[0m in \u001b[0;36m_check_set_wise_labels\u001b[0;34m(y_true, y_pred, average, labels, pos_label)\u001b[0m\n\u001b[1;32m   1346\u001b[0m         \u001b[0;32mraise\u001b[0m \u001b[0mValueError\u001b[0m\u001b[0;34m(\u001b[0m\u001b[0;34m\"average has to be one of \"\u001b[0m \u001b[0;34m+\u001b[0m \u001b[0mstr\u001b[0m\u001b[0;34m(\u001b[0m\u001b[0maverage_options\u001b[0m\u001b[0;34m)\u001b[0m\u001b[0;34m)\u001b[0m\u001b[0;34m\u001b[0m\u001b[0;34m\u001b[0m\u001b[0m\n\u001b[1;32m   1347\u001b[0m \u001b[0;34m\u001b[0m\u001b[0m\n\u001b[0;32m-> 1348\u001b[0;31m     \u001b[0my_type\u001b[0m\u001b[0;34m,\u001b[0m \u001b[0my_true\u001b[0m\u001b[0;34m,\u001b[0m \u001b[0my_pred\u001b[0m \u001b[0;34m=\u001b[0m \u001b[0m_check_targets\u001b[0m\u001b[0;34m(\u001b[0m\u001b[0my_true\u001b[0m\u001b[0;34m,\u001b[0m \u001b[0my_pred\u001b[0m\u001b[0;34m)\u001b[0m\u001b[0;34m\u001b[0m\u001b[0;34m\u001b[0m\u001b[0m\n\u001b[0m\u001b[1;32m   1349\u001b[0m     \u001b[0;31m# Convert to Python primitive type to avoid NumPy type / Python str\u001b[0m\u001b[0;34m\u001b[0m\u001b[0;34m\u001b[0m\u001b[0;34m\u001b[0m\u001b[0m\n\u001b[1;32m   1350\u001b[0m     \u001b[0;31m# comparison. See https://github.com/numpy/numpy/issues/6784\u001b[0m\u001b[0;34m\u001b[0m\u001b[0;34m\u001b[0m\u001b[0;34m\u001b[0m\u001b[0m\n",
            "\u001b[0;32m/usr/local/lib/python3.7/dist-packages/sklearn/metrics/_classification.py\u001b[0m in \u001b[0;36m_check_targets\u001b[0;34m(y_true, y_pred)\u001b[0m\n\u001b[1;32m     93\u001b[0m         raise ValueError(\n\u001b[1;32m     94\u001b[0m             \"Classification metrics can't handle a mix of {0} and {1} targets\".format(\n\u001b[0;32m---> 95\u001b[0;31m                 \u001b[0mtype_true\u001b[0m\u001b[0;34m,\u001b[0m \u001b[0mtype_pred\u001b[0m\u001b[0;34m\u001b[0m\u001b[0;34m\u001b[0m\u001b[0m\n\u001b[0m\u001b[1;32m     96\u001b[0m             )\n\u001b[1;32m     97\u001b[0m         )\n",
            "\u001b[0;31mValueError\u001b[0m: Classification metrics can't handle a mix of binary and unknown targets"
          ]
        }
      ]
    },
    {
      "cell_type": "code",
      "source": [
        "from google.colab import files\n",
        "files.download('Filename5.xlsx')\n",
        "files.download('Filename6.xlsx')"
      ],
      "metadata": {
        "colab": {
          "base_uri": "https://localhost:8080/",
          "height": 17
        },
        "id": "8RIGB99mbKI8",
        "outputId": "1837f2a9-0f7f-4980-a9b8-215ac8d2afb4"
      },
      "execution_count": null,
      "outputs": [
        {
          "output_type": "display_data",
          "data": {
            "text/plain": [
              "<IPython.core.display.Javascript object>"
            ],
            "application/javascript": [
              "\n",
              "    async function download(id, filename, size) {\n",
              "      if (!google.colab.kernel.accessAllowed) {\n",
              "        return;\n",
              "      }\n",
              "      const div = document.createElement('div');\n",
              "      const label = document.createElement('label');\n",
              "      label.textContent = `Downloading \"${filename}\": `;\n",
              "      div.appendChild(label);\n",
              "      const progress = document.createElement('progress');\n",
              "      progress.max = size;\n",
              "      div.appendChild(progress);\n",
              "      document.body.appendChild(div);\n",
              "\n",
              "      const buffers = [];\n",
              "      let downloaded = 0;\n",
              "\n",
              "      const channel = await google.colab.kernel.comms.open(id);\n",
              "      // Send a message to notify the kernel that we're ready.\n",
              "      channel.send({})\n",
              "\n",
              "      for await (const message of channel.messages) {\n",
              "        // Send a message to notify the kernel that we're ready.\n",
              "        channel.send({})\n",
              "        if (message.buffers) {\n",
              "          for (const buffer of message.buffers) {\n",
              "            buffers.push(buffer);\n",
              "            downloaded += buffer.byteLength;\n",
              "            progress.value = downloaded;\n",
              "          }\n",
              "        }\n",
              "      }\n",
              "      const blob = new Blob(buffers, {type: 'application/binary'});\n",
              "      const a = document.createElement('a');\n",
              "      a.href = window.URL.createObjectURL(blob);\n",
              "      a.download = filename;\n",
              "      div.appendChild(a);\n",
              "      a.click();\n",
              "      div.remove();\n",
              "    }\n",
              "  "
            ]
          },
          "metadata": {}
        },
        {
          "output_type": "display_data",
          "data": {
            "text/plain": [
              "<IPython.core.display.Javascript object>"
            ],
            "application/javascript": [
              "download(\"download_0b8e9988-ab66-42cf-8feb-b0ae2f57feb5\", \"Filename5.xlsx\", 5358)"
            ]
          },
          "metadata": {}
        },
        {
          "output_type": "display_data",
          "data": {
            "text/plain": [
              "<IPython.core.display.Javascript object>"
            ],
            "application/javascript": [
              "\n",
              "    async function download(id, filename, size) {\n",
              "      if (!google.colab.kernel.accessAllowed) {\n",
              "        return;\n",
              "      }\n",
              "      const div = document.createElement('div');\n",
              "      const label = document.createElement('label');\n",
              "      label.textContent = `Downloading \"${filename}\": `;\n",
              "      div.appendChild(label);\n",
              "      const progress = document.createElement('progress');\n",
              "      progress.max = size;\n",
              "      div.appendChild(progress);\n",
              "      document.body.appendChild(div);\n",
              "\n",
              "      const buffers = [];\n",
              "      let downloaded = 0;\n",
              "\n",
              "      const channel = await google.colab.kernel.comms.open(id);\n",
              "      // Send a message to notify the kernel that we're ready.\n",
              "      channel.send({})\n",
              "\n",
              "      for await (const message of channel.messages) {\n",
              "        // Send a message to notify the kernel that we're ready.\n",
              "        channel.send({})\n",
              "        if (message.buffers) {\n",
              "          for (const buffer of message.buffers) {\n",
              "            buffers.push(buffer);\n",
              "            downloaded += buffer.byteLength;\n",
              "            progress.value = downloaded;\n",
              "          }\n",
              "        }\n",
              "      }\n",
              "      const blob = new Blob(buffers, {type: 'application/binary'});\n",
              "      const a = document.createElement('a');\n",
              "      a.href = window.URL.createObjectURL(blob);\n",
              "      a.download = filename;\n",
              "      div.appendChild(a);\n",
              "      a.click();\n",
              "      div.remove();\n",
              "    }\n",
              "  "
            ]
          },
          "metadata": {}
        },
        {
          "output_type": "display_data",
          "data": {
            "text/plain": [
              "<IPython.core.display.Javascript object>"
            ],
            "application/javascript": [
              "download(\"download_427b47c8-42d4-4fc5-8b54-b9d7a7f5c309\", \"Filename6.xlsx\", 6134)"
            ]
          },
          "metadata": {}
        }
      ]
    },
    {
      "cell_type": "code",
      "source": [
        "from google.colab import files\n",
        "files.download('Filename7.xlsx')"
      ],
      "metadata": {
        "id": "2S1qNjSaYAht"
      },
      "execution_count": null,
      "outputs": []
    }
  ]
}