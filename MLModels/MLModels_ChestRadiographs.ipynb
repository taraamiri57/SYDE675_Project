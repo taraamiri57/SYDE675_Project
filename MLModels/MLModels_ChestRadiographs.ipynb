{
  "nbformat": 4,
  "nbformat_minor": 0,
  "metadata": {
    "colab": {
      "name": "ECE675-ResearchProjectCode-MLalgorthims-Dataset2.ipynb",
      "provenance": [],
      "collapsed_sections": []
    },
    "kernelspec": {
      "name": "python3",
      "display_name": "Python 3"
    }
  },
  "cells": [
    {
      "cell_type": "markdown",
      "source": [
        "#University of Waterloo"
      ],
      "metadata": {
        "id": "pKqcbZ5YdiWk"
      }
    },
    {
      "cell_type": "markdown",
      "source": [
        "# ECE 675: Pattern Recognition-Winter2022"
      ],
      "metadata": {
        "id": "kZijwYLzdqFw"
      }
    },
    {
      "cell_type": "markdown",
      "source": [
        "#Research_Project_Code\n",
        "\n",
        "**Modified By: Huda Diab Abdulgalil, UWaterloo ID: 20644888, UWaterloo email:hdiababd@uwaterloo.ca**\n"
      ],
      "metadata": {
        "id": "pRT1lpuFeqJ0"
      }
    },
    {
      "cell_type": "markdown",
      "source": [
        "#Chest Radiographs dataset"
      ],
      "metadata": {
        "id": "K9q2FklxmSMZ"
      }
    },
    {
      "cell_type": "code",
      "source": [
        "!pip install simpletransformers"
      ],
      "metadata": {
        "colab": {
          "base_uri": "https://localhost:8080/",
          "height": 1000
        },
        "id": "5gYRev9SJaqJ",
        "outputId": "8f0eefc0-d823-4aca-a2d5-34fd16931fc9"
      },
      "execution_count": null,
      "outputs": [
        {
          "output_type": "stream",
          "name": "stdout",
          "text": [
            "Collecting simpletransformers\n",
            "  Downloading simpletransformers-0.63.6-py3-none-any.whl (249 kB)\n",
            "\u001b[?25l\r\u001b[K     |█▎                              | 10 kB 23.4 MB/s eta 0:00:01\r\u001b[K     |██▋                             | 20 kB 29.7 MB/s eta 0:00:01\r\u001b[K     |████                            | 30 kB 21.7 MB/s eta 0:00:01\r\u001b[K     |█████▎                          | 40 kB 16.7 MB/s eta 0:00:01\r\u001b[K     |██████▋                         | 51 kB 11.6 MB/s eta 0:00:01\r\u001b[K     |████████                        | 61 kB 13.2 MB/s eta 0:00:01\r\u001b[K     |█████████▏                      | 71 kB 12.2 MB/s eta 0:00:01\r\u001b[K     |██████████▌                     | 81 kB 12.2 MB/s eta 0:00:01\r\u001b[K     |███████████▉                    | 92 kB 13.3 MB/s eta 0:00:01\r\u001b[K     |█████████████▏                  | 102 kB 12.3 MB/s eta 0:00:01\r\u001b[K     |██████████████▌                 | 112 kB 12.3 MB/s eta 0:00:01\r\u001b[K     |███████████████▉                | 122 kB 12.3 MB/s eta 0:00:01\r\u001b[K     |█████████████████               | 133 kB 12.3 MB/s eta 0:00:01\r\u001b[K     |██████████████████▍             | 143 kB 12.3 MB/s eta 0:00:01\r\u001b[K     |███████████████████▊            | 153 kB 12.3 MB/s eta 0:00:01\r\u001b[K     |█████████████████████           | 163 kB 12.3 MB/s eta 0:00:01\r\u001b[K     |██████████████████████▍         | 174 kB 12.3 MB/s eta 0:00:01\r\u001b[K     |███████████████████████▊        | 184 kB 12.3 MB/s eta 0:00:01\r\u001b[K     |█████████████████████████       | 194 kB 12.3 MB/s eta 0:00:01\r\u001b[K     |██████████████████████████▎     | 204 kB 12.3 MB/s eta 0:00:01\r\u001b[K     |███████████████████████████▋    | 215 kB 12.3 MB/s eta 0:00:01\r\u001b[K     |█████████████████████████████   | 225 kB 12.3 MB/s eta 0:00:01\r\u001b[K     |██████████████████████████████▎ | 235 kB 12.3 MB/s eta 0:00:01\r\u001b[K     |███████████████████████████████▋| 245 kB 12.3 MB/s eta 0:00:01\r\u001b[K     |████████████████████████████████| 249 kB 12.3 MB/s \n",
            "\u001b[?25hRequirement already satisfied: tensorboard in /usr/local/lib/python3.7/dist-packages (from simpletransformers) (2.8.0)\n",
            "Requirement already satisfied: pandas in /usr/local/lib/python3.7/dist-packages (from simpletransformers) (1.3.5)\n",
            "Collecting seqeval\n",
            "  Downloading seqeval-1.2.2.tar.gz (43 kB)\n",
            "\u001b[K     |████████████████████████████████| 43 kB 954 kB/s \n",
            "\u001b[?25hCollecting wandb>=0.10.32\n",
            "  Downloading wandb-0.12.14-py2.py3-none-any.whl (1.8 MB)\n",
            "\u001b[K     |████████████████████████████████| 1.8 MB 56.6 MB/s \n",
            "\u001b[?25hCollecting sentencepiece\n",
            "  Downloading sentencepiece-0.1.96-cp37-cp37m-manylinux_2_17_x86_64.manylinux2014_x86_64.whl (1.2 MB)\n",
            "\u001b[K     |████████████████████████████████| 1.2 MB 59.1 MB/s \n",
            "\u001b[?25hCollecting transformers>=4.6.0\n",
            "  Downloading transformers-4.18.0-py3-none-any.whl (4.0 MB)\n",
            "\u001b[K     |████████████████████████████████| 4.0 MB 67.2 MB/s \n",
            "\u001b[?25hCollecting datasets\n",
            "  Downloading datasets-2.0.0-py3-none-any.whl (325 kB)\n",
            "\u001b[K     |████████████████████████████████| 325 kB 56.9 MB/s \n",
            "\u001b[?25hRequirement already satisfied: numpy in /usr/local/lib/python3.7/dist-packages (from simpletransformers) (1.21.5)\n",
            "Requirement already satisfied: regex in /usr/local/lib/python3.7/dist-packages (from simpletransformers) (2019.12.20)\n",
            "Collecting tokenizers\n",
            "  Downloading tokenizers-0.11.6-cp37-cp37m-manylinux_2_12_x86_64.manylinux2010_x86_64.whl (6.5 MB)\n",
            "\u001b[K     |████████████████████████████████| 6.5 MB 52.8 MB/s \n",
            "\u001b[?25hRequirement already satisfied: scikit-learn in /usr/local/lib/python3.7/dist-packages (from simpletransformers) (1.0.2)\n",
            "Collecting streamlit\n",
            "  Downloading streamlit-1.8.1-py2.py3-none-any.whl (10.1 MB)\n",
            "\u001b[K     |████████████████████████████████| 10.1 MB 53.2 MB/s \n",
            "\u001b[?25hRequirement already satisfied: tqdm>=4.47.0 in /usr/local/lib/python3.7/dist-packages (from simpletransformers) (4.63.0)\n",
            "Requirement already satisfied: requests in /usr/local/lib/python3.7/dist-packages (from simpletransformers) (2.23.0)\n",
            "Requirement already satisfied: scipy in /usr/local/lib/python3.7/dist-packages (from simpletransformers) (1.4.1)\n",
            "Requirement already satisfied: packaging>=20.0 in /usr/local/lib/python3.7/dist-packages (from transformers>=4.6.0->simpletransformers) (21.3)\n",
            "Requirement already satisfied: importlib-metadata in /usr/local/lib/python3.7/dist-packages (from transformers>=4.6.0->simpletransformers) (4.11.3)\n",
            "Collecting sacremoses\n",
            "  Downloading sacremoses-0.0.49-py3-none-any.whl (895 kB)\n",
            "\u001b[K     |████████████████████████████████| 895 kB 53.1 MB/s \n",
            "\u001b[?25hCollecting huggingface-hub<1.0,>=0.1.0\n",
            "  Downloading huggingface_hub-0.5.1-py3-none-any.whl (77 kB)\n",
            "\u001b[K     |████████████████████████████████| 77 kB 3.5 MB/s \n",
            "\u001b[?25hCollecting pyyaml>=5.1\n",
            "  Downloading PyYAML-6.0-cp37-cp37m-manylinux_2_5_x86_64.manylinux1_x86_64.manylinux_2_12_x86_64.manylinux2010_x86_64.whl (596 kB)\n",
            "\u001b[K     |████████████████████████████████| 596 kB 60.2 MB/s \n",
            "\u001b[?25hRequirement already satisfied: filelock in /usr/local/lib/python3.7/dist-packages (from transformers>=4.6.0->simpletransformers) (3.6.0)\n",
            "Requirement already satisfied: typing-extensions>=3.7.4.3 in /usr/local/lib/python3.7/dist-packages (from huggingface-hub<1.0,>=0.1.0->transformers>=4.6.0->simpletransformers) (3.10.0.2)\n",
            "Requirement already satisfied: pyparsing!=3.0.5,>=2.0.2 in /usr/local/lib/python3.7/dist-packages (from packaging>=20.0->transformers>=4.6.0->simpletransformers) (3.0.7)\n",
            "Requirement already satisfied: Click!=8.0.0,>=7.0 in /usr/local/lib/python3.7/dist-packages (from wandb>=0.10.32->simpletransformers) (7.1.2)\n",
            "Collecting GitPython>=1.0.0\n",
            "  Downloading GitPython-3.1.27-py3-none-any.whl (181 kB)\n",
            "\u001b[K     |████████████████████████████████| 181 kB 65.4 MB/s \n",
            "\u001b[?25hCollecting shortuuid>=0.5.0\n",
            "  Downloading shortuuid-1.0.8-py3-none-any.whl (9.5 kB)\n",
            "Requirement already satisfied: psutil>=5.0.0 in /usr/local/lib/python3.7/dist-packages (from wandb>=0.10.32->simpletransformers) (5.4.8)\n",
            "Collecting docker-pycreds>=0.4.0\n",
            "  Downloading docker_pycreds-0.4.0-py2.py3-none-any.whl (9.0 kB)\n",
            "Requirement already satisfied: promise<3,>=2.0 in /usr/local/lib/python3.7/dist-packages (from wandb>=0.10.32->simpletransformers) (2.3)\n",
            "Requirement already satisfied: six>=1.13.0 in /usr/local/lib/python3.7/dist-packages (from wandb>=0.10.32->simpletransformers) (1.15.0)\n",
            "Collecting pathtools\n",
            "  Downloading pathtools-0.1.2.tar.gz (11 kB)\n",
            "Collecting setproctitle\n",
            "  Downloading setproctitle-1.2.2-cp37-cp37m-manylinux1_x86_64.whl (36 kB)\n",
            "Requirement already satisfied: python-dateutil>=2.6.1 in /usr/local/lib/python3.7/dist-packages (from wandb>=0.10.32->simpletransformers) (2.8.2)\n",
            "Requirement already satisfied: protobuf>=3.12.0 in /usr/local/lib/python3.7/dist-packages (from wandb>=0.10.32->simpletransformers) (3.17.3)\n",
            "Collecting sentry-sdk>=1.0.0\n",
            "  Downloading sentry_sdk-1.5.8-py2.py3-none-any.whl (144 kB)\n",
            "\u001b[K     |████████████████████████████████| 144 kB 50.5 MB/s \n",
            "\u001b[?25hCollecting gitdb<5,>=4.0.1\n",
            "  Downloading gitdb-4.0.9-py3-none-any.whl (63 kB)\n",
            "\u001b[K     |████████████████████████████████| 63 kB 1.6 MB/s \n",
            "\u001b[?25hCollecting smmap<6,>=3.0.1\n",
            "  Downloading smmap-5.0.0-py3-none-any.whl (24 kB)\n",
            "Requirement already satisfied: chardet<4,>=3.0.2 in /usr/local/lib/python3.7/dist-packages (from requests->simpletransformers) (3.0.4)\n",
            "Requirement already satisfied: certifi>=2017.4.17 in /usr/local/lib/python3.7/dist-packages (from requests->simpletransformers) (2021.10.8)\n",
            "Requirement already satisfied: urllib3!=1.25.0,!=1.25.1,<1.26,>=1.21.1 in /usr/local/lib/python3.7/dist-packages (from requests->simpletransformers) (1.24.3)\n",
            "Requirement already satisfied: idna<3,>=2.5 in /usr/local/lib/python3.7/dist-packages (from requests->simpletransformers) (2.10)\n",
            "Collecting xxhash\n",
            "  Downloading xxhash-3.0.0-cp37-cp37m-manylinux_2_17_x86_64.manylinux2014_x86_64.whl (212 kB)\n",
            "\u001b[K     |████████████████████████████████| 212 kB 61.3 MB/s \n",
            "\u001b[?25hCollecting fsspec[http]>=2021.05.0\n",
            "  Downloading fsspec-2022.3.0-py3-none-any.whl (136 kB)\n",
            "\u001b[K     |████████████████████████████████| 136 kB 65.2 MB/s \n",
            "\u001b[?25hCollecting responses<0.19\n",
            "  Downloading responses-0.18.0-py3-none-any.whl (38 kB)\n",
            "Requirement already satisfied: multiprocess in /usr/local/lib/python3.7/dist-packages (from datasets->simpletransformers) (0.70.12.2)\n",
            "Requirement already satisfied: dill in /usr/local/lib/python3.7/dist-packages (from datasets->simpletransformers) (0.3.4)\n",
            "Collecting aiohttp\n",
            "  Downloading aiohttp-3.8.1-cp37-cp37m-manylinux_2_5_x86_64.manylinux1_x86_64.manylinux_2_12_x86_64.manylinux2010_x86_64.whl (1.1 MB)\n",
            "\u001b[K     |████████████████████████████████| 1.1 MB 58.8 MB/s \n",
            "\u001b[?25hRequirement already satisfied: pyarrow>=5.0.0 in /usr/local/lib/python3.7/dist-packages (from datasets->simpletransformers) (6.0.1)\n",
            "Collecting urllib3!=1.25.0,!=1.25.1,<1.26,>=1.21.1\n",
            "  Downloading urllib3-1.25.11-py2.py3-none-any.whl (127 kB)\n",
            "\u001b[K     |████████████████████████████████| 127 kB 66.6 MB/s \n",
            "\u001b[?25hCollecting yarl<2.0,>=1.0\n",
            "  Downloading yarl-1.7.2-cp37-cp37m-manylinux_2_5_x86_64.manylinux1_x86_64.manylinux_2_12_x86_64.manylinux2010_x86_64.whl (271 kB)\n",
            "\u001b[K     |████████████████████████████████| 271 kB 68.8 MB/s \n",
            "\u001b[?25hCollecting asynctest==0.13.0\n",
            "  Downloading asynctest-0.13.0-py3-none-any.whl (26 kB)\n",
            "Requirement already satisfied: charset-normalizer<3.0,>=2.0 in /usr/local/lib/python3.7/dist-packages (from aiohttp->datasets->simpletransformers) (2.0.12)\n",
            "Collecting multidict<7.0,>=4.5\n",
            "  Downloading multidict-6.0.2-cp37-cp37m-manylinux_2_17_x86_64.manylinux2014_x86_64.whl (94 kB)\n",
            "\u001b[K     |████████████████████████████████| 94 kB 3.3 MB/s \n",
            "\u001b[?25hRequirement already satisfied: attrs>=17.3.0 in /usr/local/lib/python3.7/dist-packages (from aiohttp->datasets->simpletransformers) (21.4.0)\n",
            "Collecting async-timeout<5.0,>=4.0.0a3\n",
            "  Downloading async_timeout-4.0.2-py3-none-any.whl (5.8 kB)\n",
            "Collecting aiosignal>=1.1.2\n",
            "  Downloading aiosignal-1.2.0-py3-none-any.whl (8.2 kB)\n",
            "Collecting frozenlist>=1.1.1\n",
            "  Downloading frozenlist-1.3.0-cp37-cp37m-manylinux_2_5_x86_64.manylinux1_x86_64.manylinux_2_17_x86_64.manylinux2014_x86_64.whl (144 kB)\n",
            "\u001b[K     |████████████████████████████████| 144 kB 60.3 MB/s \n",
            "\u001b[?25hRequirement already satisfied: zipp>=0.5 in /usr/local/lib/python3.7/dist-packages (from importlib-metadata->transformers>=4.6.0->simpletransformers) (3.7.0)\n",
            "Requirement already satisfied: pytz>=2017.3 in /usr/local/lib/python3.7/dist-packages (from pandas->simpletransformers) (2018.9)\n",
            "Requirement already satisfied: joblib in /usr/local/lib/python3.7/dist-packages (from sacremoses->transformers>=4.6.0->simpletransformers) (1.1.0)\n",
            "Requirement already satisfied: threadpoolctl>=2.0.0 in /usr/local/lib/python3.7/dist-packages (from scikit-learn->simpletransformers) (3.1.0)\n",
            "Collecting watchdog\n",
            "  Downloading watchdog-2.1.7-py3-none-manylinux2014_x86_64.whl (76 kB)\n",
            "\u001b[K     |████████████████████████████████| 76 kB 5.6 MB/s \n",
            "\u001b[?25hCollecting toml\n",
            "  Downloading toml-0.10.2-py2.py3-none-any.whl (16 kB)\n",
            "Collecting pydeck>=0.1.dev5\n",
            "  Downloading pydeck-0.7.1-py2.py3-none-any.whl (4.3 MB)\n",
            "\u001b[K     |████████████████████████████████| 4.3 MB 46.5 MB/s \n",
            "\u001b[?25hRequirement already satisfied: tornado>=5.0 in /usr/local/lib/python3.7/dist-packages (from streamlit->simpletransformers) (5.1.1)\n",
            "Collecting validators\n",
            "  Downloading validators-0.18.2-py3-none-any.whl (19 kB)\n",
            "Requirement already satisfied: tzlocal in /usr/local/lib/python3.7/dist-packages (from streamlit->simpletransformers) (1.5.1)\n",
            "Requirement already satisfied: altair>=3.2.0 in /usr/local/lib/python3.7/dist-packages (from streamlit->simpletransformers) (4.2.0)\n",
            "Collecting blinker\n",
            "  Downloading blinker-1.4.tar.gz (111 kB)\n",
            "\u001b[K     |████████████████████████████████| 111 kB 65.7 MB/s \n",
            "\u001b[?25hCollecting pympler>=0.9\n",
            "  Downloading Pympler-1.0.1-py3-none-any.whl (164 kB)\n",
            "\u001b[K     |████████████████████████████████| 164 kB 59.9 MB/s \n",
            "\u001b[?25hRequirement already satisfied: cachetools>=4.0 in /usr/local/lib/python3.7/dist-packages (from streamlit->simpletransformers) (4.2.4)\n",
            "Requirement already satisfied: semver in /usr/local/lib/python3.7/dist-packages (from streamlit->simpletransformers) (2.13.0)\n",
            "Requirement already satisfied: pillow>=6.2.0 in /usr/local/lib/python3.7/dist-packages (from streamlit->simpletransformers) (7.1.2)\n",
            "Requirement already satisfied: entrypoints in /usr/local/lib/python3.7/dist-packages (from altair>=3.2.0->streamlit->simpletransformers) (0.4)\n",
            "Requirement already satisfied: jsonschema>=3.0 in /usr/local/lib/python3.7/dist-packages (from altair>=3.2.0->streamlit->simpletransformers) (4.3.3)\n",
            "Requirement already satisfied: toolz in /usr/local/lib/python3.7/dist-packages (from altair>=3.2.0->streamlit->simpletransformers) (0.11.2)\n",
            "Requirement already satisfied: jinja2 in /usr/local/lib/python3.7/dist-packages (from altair>=3.2.0->streamlit->simpletransformers) (2.11.3)\n",
            "Requirement already satisfied: pyrsistent!=0.17.0,!=0.17.1,!=0.17.2,>=0.14.0 in /usr/local/lib/python3.7/dist-packages (from jsonschema>=3.0->altair>=3.2.0->streamlit->simpletransformers) (0.18.1)\n",
            "Requirement already satisfied: importlib-resources>=1.4.0 in /usr/local/lib/python3.7/dist-packages (from jsonschema>=3.0->altair>=3.2.0->streamlit->simpletransformers) (5.4.0)\n",
            "Requirement already satisfied: ipywidgets>=7.0.0 in /usr/local/lib/python3.7/dist-packages (from pydeck>=0.1.dev5->streamlit->simpletransformers) (7.7.0)\n",
            "Collecting ipykernel>=5.1.2\n",
            "  Downloading ipykernel-6.12.1-py3-none-any.whl (130 kB)\n",
            "\u001b[K     |████████████████████████████████| 130 kB 59.7 MB/s \n",
            "\u001b[?25hRequirement already satisfied: traitlets>=4.3.2 in /usr/local/lib/python3.7/dist-packages (from pydeck>=0.1.dev5->streamlit->simpletransformers) (5.1.1)\n",
            "Collecting jupyter-client>=6.1.12\n",
            "  Downloading jupyter_client-7.2.2-py3-none-any.whl (130 kB)\n",
            "\u001b[K     |████████████████████████████████| 130 kB 63.5 MB/s \n",
            "\u001b[?25hRequirement already satisfied: nest-asyncio in /usr/local/lib/python3.7/dist-packages (from ipykernel>=5.1.2->pydeck>=0.1.dev5->streamlit->simpletransformers) (1.5.4)\n",
            "Requirement already satisfied: debugpy>=1.0 in /usr/local/lib/python3.7/dist-packages (from ipykernel>=5.1.2->pydeck>=0.1.dev5->streamlit->simpletransformers) (1.0.0)\n",
            "Collecting ipython>=7.23.1\n",
            "  Downloading ipython-7.32.0-py3-none-any.whl (793 kB)\n",
            "\u001b[K     |████████████████████████████████| 793 kB 57.1 MB/s \n",
            "\u001b[?25hRequirement already satisfied: matplotlib-inline>=0.1 in /usr/local/lib/python3.7/dist-packages (from ipykernel>=5.1.2->pydeck>=0.1.dev5->streamlit->simpletransformers) (0.1.3)\n",
            "Collecting tornado>=5.0\n",
            "  Downloading tornado-6.1-cp37-cp37m-manylinux2010_x86_64.whl (428 kB)\n",
            "\u001b[K     |████████████████████████████████| 428 kB 59.2 MB/s \n",
            "\u001b[?25hCollecting prompt-toolkit!=3.0.0,!=3.0.1,<3.1.0,>=2.0.0\n",
            "  Downloading prompt_toolkit-3.0.29-py3-none-any.whl (381 kB)\n",
            "\u001b[K     |████████████████████████████████| 381 kB 61.1 MB/s \n",
            "\u001b[?25hRequirement already satisfied: pickleshare in /usr/local/lib/python3.7/dist-packages (from ipython>=7.23.1->ipykernel>=5.1.2->pydeck>=0.1.dev5->streamlit->simpletransformers) (0.7.5)\n",
            "Requirement already satisfied: backcall in /usr/local/lib/python3.7/dist-packages (from ipython>=7.23.1->ipykernel>=5.1.2->pydeck>=0.1.dev5->streamlit->simpletransformers) (0.2.0)\n",
            "Requirement already satisfied: jedi>=0.16 in /usr/local/lib/python3.7/dist-packages (from ipython>=7.23.1->ipykernel>=5.1.2->pydeck>=0.1.dev5->streamlit->simpletransformers) (0.18.1)\n",
            "Requirement already satisfied: setuptools>=18.5 in /usr/local/lib/python3.7/dist-packages (from ipython>=7.23.1->ipykernel>=5.1.2->pydeck>=0.1.dev5->streamlit->simpletransformers) (57.4.0)\n",
            "Requirement already satisfied: decorator in /usr/local/lib/python3.7/dist-packages (from ipython>=7.23.1->ipykernel>=5.1.2->pydeck>=0.1.dev5->streamlit->simpletransformers) (4.4.2)\n",
            "Requirement already satisfied: pexpect>4.3 in /usr/local/lib/python3.7/dist-packages (from ipython>=7.23.1->ipykernel>=5.1.2->pydeck>=0.1.dev5->streamlit->simpletransformers) (4.8.0)\n",
            "Requirement already satisfied: pygments in /usr/local/lib/python3.7/dist-packages (from ipython>=7.23.1->ipykernel>=5.1.2->pydeck>=0.1.dev5->streamlit->simpletransformers) (2.6.1)\n",
            "Requirement already satisfied: widgetsnbextension~=3.6.0 in /usr/local/lib/python3.7/dist-packages (from ipywidgets>=7.0.0->pydeck>=0.1.dev5->streamlit->simpletransformers) (3.6.0)\n",
            "Requirement already satisfied: jupyterlab-widgets>=1.0.0 in /usr/local/lib/python3.7/dist-packages (from ipywidgets>=7.0.0->pydeck>=0.1.dev5->streamlit->simpletransformers) (1.1.0)\n",
            "Requirement already satisfied: nbformat>=4.2.0 in /usr/local/lib/python3.7/dist-packages (from ipywidgets>=7.0.0->pydeck>=0.1.dev5->streamlit->simpletransformers) (5.2.0)\n",
            "Requirement already satisfied: ipython-genutils~=0.2.0 in /usr/local/lib/python3.7/dist-packages (from ipywidgets>=7.0.0->pydeck>=0.1.dev5->streamlit->simpletransformers) (0.2.0)\n",
            "Requirement already satisfied: parso<0.9.0,>=0.8.0 in /usr/local/lib/python3.7/dist-packages (from jedi>=0.16->ipython>=7.23.1->ipykernel>=5.1.2->pydeck>=0.1.dev5->streamlit->simpletransformers) (0.8.3)\n",
            "Requirement already satisfied: MarkupSafe>=0.23 in /usr/local/lib/python3.7/dist-packages (from jinja2->altair>=3.2.0->streamlit->simpletransformers) (2.0.1)\n",
            "Requirement already satisfied: jupyter-core>=4.9.2 in /usr/local/lib/python3.7/dist-packages (from jupyter-client>=6.1.12->ipykernel>=5.1.2->pydeck>=0.1.dev5->streamlit->simpletransformers) (4.9.2)\n",
            "Requirement already satisfied: pyzmq>=22.3 in /usr/local/lib/python3.7/dist-packages (from jupyter-client>=6.1.12->ipykernel>=5.1.2->pydeck>=0.1.dev5->streamlit->simpletransformers) (22.3.0)\n",
            "Requirement already satisfied: ptyprocess>=0.5 in /usr/local/lib/python3.7/dist-packages (from pexpect>4.3->ipython>=7.23.1->ipykernel>=5.1.2->pydeck>=0.1.dev5->streamlit->simpletransformers) (0.7.0)\n",
            "Requirement already satisfied: wcwidth in /usr/local/lib/python3.7/dist-packages (from prompt-toolkit!=3.0.0,!=3.0.1,<3.1.0,>=2.0.0->ipython>=7.23.1->ipykernel>=5.1.2->pydeck>=0.1.dev5->streamlit->simpletransformers) (0.2.5)\n",
            "Requirement already satisfied: notebook>=4.4.1 in /usr/local/lib/python3.7/dist-packages (from widgetsnbextension~=3.6.0->ipywidgets>=7.0.0->pydeck>=0.1.dev5->streamlit->simpletransformers) (5.3.1)\n",
            "Requirement already satisfied: terminado>=0.8.1 in /usr/local/lib/python3.7/dist-packages (from notebook>=4.4.1->widgetsnbextension~=3.6.0->ipywidgets>=7.0.0->pydeck>=0.1.dev5->streamlit->simpletransformers) (0.13.3)\n",
            "Requirement already satisfied: Send2Trash in /usr/local/lib/python3.7/dist-packages (from notebook>=4.4.1->widgetsnbextension~=3.6.0->ipywidgets>=7.0.0->pydeck>=0.1.dev5->streamlit->simpletransformers) (1.8.0)\n",
            "Requirement already satisfied: nbconvert in /usr/local/lib/python3.7/dist-packages (from notebook>=4.4.1->widgetsnbextension~=3.6.0->ipywidgets>=7.0.0->pydeck>=0.1.dev5->streamlit->simpletransformers) (5.6.1)\n",
            "Requirement already satisfied: defusedxml in /usr/local/lib/python3.7/dist-packages (from nbconvert->notebook>=4.4.1->widgetsnbextension~=3.6.0->ipywidgets>=7.0.0->pydeck>=0.1.dev5->streamlit->simpletransformers) (0.7.1)\n",
            "Requirement already satisfied: bleach in /usr/local/lib/python3.7/dist-packages (from nbconvert->notebook>=4.4.1->widgetsnbextension~=3.6.0->ipywidgets>=7.0.0->pydeck>=0.1.dev5->streamlit->simpletransformers) (4.1.0)\n",
            "Requirement already satisfied: mistune<2,>=0.8.1 in /usr/local/lib/python3.7/dist-packages (from nbconvert->notebook>=4.4.1->widgetsnbextension~=3.6.0->ipywidgets>=7.0.0->pydeck>=0.1.dev5->streamlit->simpletransformers) (0.8.4)\n",
            "Requirement already satisfied: testpath in /usr/local/lib/python3.7/dist-packages (from nbconvert->notebook>=4.4.1->widgetsnbextension~=3.6.0->ipywidgets>=7.0.0->pydeck>=0.1.dev5->streamlit->simpletransformers) (0.6.0)\n",
            "Requirement already satisfied: pandocfilters>=1.4.1 in /usr/local/lib/python3.7/dist-packages (from nbconvert->notebook>=4.4.1->widgetsnbextension~=3.6.0->ipywidgets>=7.0.0->pydeck>=0.1.dev5->streamlit->simpletransformers) (1.5.0)\n",
            "Requirement already satisfied: webencodings in /usr/local/lib/python3.7/dist-packages (from bleach->nbconvert->notebook>=4.4.1->widgetsnbextension~=3.6.0->ipywidgets>=7.0.0->pydeck>=0.1.dev5->streamlit->simpletransformers) (0.5.1)\n",
            "Requirement already satisfied: google-auth-oauthlib<0.5,>=0.4.1 in /usr/local/lib/python3.7/dist-packages (from tensorboard->simpletransformers) (0.4.6)\n",
            "Requirement already satisfied: tensorboard-data-server<0.7.0,>=0.6.0 in /usr/local/lib/python3.7/dist-packages (from tensorboard->simpletransformers) (0.6.1)\n",
            "Requirement already satisfied: absl-py>=0.4 in /usr/local/lib/python3.7/dist-packages (from tensorboard->simpletransformers) (1.0.0)\n",
            "Requirement already satisfied: wheel>=0.26 in /usr/local/lib/python3.7/dist-packages (from tensorboard->simpletransformers) (0.37.1)\n",
            "Requirement already satisfied: grpcio>=1.24.3 in /usr/local/lib/python3.7/dist-packages (from tensorboard->simpletransformers) (1.44.0)\n",
            "Requirement already satisfied: google-auth<3,>=1.6.3 in /usr/local/lib/python3.7/dist-packages (from tensorboard->simpletransformers) (1.35.0)\n",
            "Requirement already satisfied: markdown>=2.6.8 in /usr/local/lib/python3.7/dist-packages (from tensorboard->simpletransformers) (3.3.6)\n",
            "Requirement already satisfied: werkzeug>=0.11.15 in /usr/local/lib/python3.7/dist-packages (from tensorboard->simpletransformers) (1.0.1)\n",
            "Requirement already satisfied: tensorboard-plugin-wit>=1.6.0 in /usr/local/lib/python3.7/dist-packages (from tensorboard->simpletransformers) (1.8.1)\n",
            "Requirement already satisfied: pyasn1-modules>=0.2.1 in /usr/local/lib/python3.7/dist-packages (from google-auth<3,>=1.6.3->tensorboard->simpletransformers) (0.2.8)\n",
            "Requirement already satisfied: rsa<5,>=3.1.4 in /usr/local/lib/python3.7/dist-packages (from google-auth<3,>=1.6.3->tensorboard->simpletransformers) (4.8)\n",
            "Requirement already satisfied: requests-oauthlib>=0.7.0 in /usr/local/lib/python3.7/dist-packages (from google-auth-oauthlib<0.5,>=0.4.1->tensorboard->simpletransformers) (1.3.1)\n",
            "Requirement already satisfied: pyasn1<0.5.0,>=0.4.6 in /usr/local/lib/python3.7/dist-packages (from pyasn1-modules>=0.2.1->google-auth<3,>=1.6.3->tensorboard->simpletransformers) (0.4.8)\n",
            "Requirement already satisfied: oauthlib>=3.0.0 in /usr/local/lib/python3.7/dist-packages (from requests-oauthlib>=0.7.0->google-auth-oauthlib<0.5,>=0.4.1->tensorboard->simpletransformers) (3.2.0)\n",
            "Building wheels for collected packages: pathtools, seqeval, blinker\n",
            "  Building wheel for pathtools (setup.py) ... \u001b[?25l\u001b[?25hdone\n",
            "  Created wheel for pathtools: filename=pathtools-0.1.2-py3-none-any.whl size=8806 sha256=25bca6074ec177ff0a630b78c4580a10f7bdae76a85222a373becadd9bce0c79\n",
            "  Stored in directory: /root/.cache/pip/wheels/3e/31/09/fa59cef12cdcfecc627b3d24273699f390e71828921b2cbba2\n",
            "  Building wheel for seqeval (setup.py) ... \u001b[?25l\u001b[?25hdone\n",
            "  Created wheel for seqeval: filename=seqeval-1.2.2-py3-none-any.whl size=16180 sha256=7ca2465fdc29e9da280f8c41a7171a704160ef928c5ffbbfeb0eefdfa999c485\n",
            "  Stored in directory: /root/.cache/pip/wheels/05/96/ee/7cac4e74f3b19e3158dce26a20a1c86b3533c43ec72a549fd7\n",
            "  Building wheel for blinker (setup.py) ... \u001b[?25l\u001b[?25hdone\n",
            "  Created wheel for blinker: filename=blinker-1.4-py3-none-any.whl size=13478 sha256=f794c546e07c109a6d35a5a239eb80fced62a7d14ed6d770c007494c4b3c359a\n",
            "  Stored in directory: /root/.cache/pip/wheels/22/f5/18/df711b66eb25b21325c132757d4314db9ac5e8dabeaf196eab\n",
            "Successfully built pathtools seqeval blinker\n",
            "Installing collected packages: tornado, prompt-toolkit, jupyter-client, ipython, ipykernel, urllib3, multidict, frozenlist, yarl, smmap, asynctest, async-timeout, aiosignal, pyyaml, gitdb, fsspec, aiohttp, xxhash, watchdog, validators, toml, tokenizers, shortuuid, setproctitle, sentry-sdk, sacremoses, responses, pympler, pydeck, pathtools, huggingface-hub, GitPython, docker-pycreds, blinker, wandb, transformers, streamlit, seqeval, sentencepiece, datasets, simpletransformers\n",
            "  Attempting uninstall: tornado\n",
            "    Found existing installation: tornado 5.1.1\n",
            "    Uninstalling tornado-5.1.1:\n",
            "      Successfully uninstalled tornado-5.1.1\n",
            "  Attempting uninstall: prompt-toolkit\n",
            "    Found existing installation: prompt-toolkit 1.0.18\n",
            "    Uninstalling prompt-toolkit-1.0.18:\n",
            "      Successfully uninstalled prompt-toolkit-1.0.18\n",
            "  Attempting uninstall: jupyter-client\n",
            "    Found existing installation: jupyter-client 5.3.5\n",
            "    Uninstalling jupyter-client-5.3.5:\n",
            "      Successfully uninstalled jupyter-client-5.3.5\n",
            "  Attempting uninstall: ipython\n",
            "    Found existing installation: ipython 5.5.0\n",
            "    Uninstalling ipython-5.5.0:\n",
            "      Successfully uninstalled ipython-5.5.0\n",
            "  Attempting uninstall: ipykernel\n",
            "    Found existing installation: ipykernel 4.10.1\n",
            "    Uninstalling ipykernel-4.10.1:\n",
            "      Successfully uninstalled ipykernel-4.10.1\n",
            "  Attempting uninstall: urllib3\n",
            "    Found existing installation: urllib3 1.24.3\n",
            "    Uninstalling urllib3-1.24.3:\n",
            "      Successfully uninstalled urllib3-1.24.3\n",
            "  Attempting uninstall: pyyaml\n",
            "    Found existing installation: PyYAML 3.13\n",
            "    Uninstalling PyYAML-3.13:\n",
            "      Successfully uninstalled PyYAML-3.13\n",
            "\u001b[31mERROR: pip's dependency resolver does not currently take into account all the packages that are installed. This behaviour is the source of the following dependency conflicts.\n",
            "jupyter-console 5.2.0 requires prompt-toolkit<2.0.0,>=1.0.0, but you have prompt-toolkit 3.0.29 which is incompatible.\n",
            "google-colab 1.0.0 requires ipykernel~=4.10, but you have ipykernel 6.12.1 which is incompatible.\n",
            "google-colab 1.0.0 requires ipython~=5.5.0, but you have ipython 7.32.0 which is incompatible.\n",
            "google-colab 1.0.0 requires tornado~=5.1.0; python_version >= \"3.0\", but you have tornado 6.1 which is incompatible.\n",
            "datascience 0.10.6 requires folium==0.2.1, but you have folium 0.8.3 which is incompatible.\u001b[0m\n",
            "Successfully installed GitPython-3.1.27 aiohttp-3.8.1 aiosignal-1.2.0 async-timeout-4.0.2 asynctest-0.13.0 blinker-1.4 datasets-2.0.0 docker-pycreds-0.4.0 frozenlist-1.3.0 fsspec-2022.3.0 gitdb-4.0.9 huggingface-hub-0.5.1 ipykernel-6.12.1 ipython-7.32.0 jupyter-client-7.2.2 multidict-6.0.2 pathtools-0.1.2 prompt-toolkit-3.0.29 pydeck-0.7.1 pympler-1.0.1 pyyaml-6.0 responses-0.18.0 sacremoses-0.0.49 sentencepiece-0.1.96 sentry-sdk-1.5.8 seqeval-1.2.2 setproctitle-1.2.2 shortuuid-1.0.8 simpletransformers-0.63.6 smmap-5.0.0 streamlit-1.8.1 tokenizers-0.11.6 toml-0.10.2 tornado-6.1 transformers-4.18.0 urllib3-1.25.11 validators-0.18.2 wandb-0.12.14 watchdog-2.1.7 xxhash-3.0.0 yarl-1.7.2\n"
          ]
        },
        {
          "output_type": "display_data",
          "data": {
            "application/vnd.colab-display-data+json": {
              "pip_warning": {
                "packages": [
                  "IPython",
                  "ipykernel",
                  "jupyter_client",
                  "prompt_toolkit",
                  "tornado"
                ]
              }
            }
          },
          "metadata": {}
        }
      ]
    },
    {
      "cell_type": "code",
      "source": [
        "!pip install transformers"
      ],
      "metadata": {
        "colab": {
          "base_uri": "https://localhost:8080/"
        },
        "id": "px7Hl6a0D7Ri",
        "outputId": "64eb1b48-7d0f-453d-e5b1-f04dd6554675"
      },
      "execution_count": null,
      "outputs": [
        {
          "output_type": "stream",
          "name": "stdout",
          "text": [
            "Requirement already satisfied: transformers in /usr/local/lib/python3.7/dist-packages (4.18.0)\n",
            "Requirement already satisfied: huggingface-hub<1.0,>=0.1.0 in /usr/local/lib/python3.7/dist-packages (from transformers) (0.5.1)\n",
            "Requirement already satisfied: tokenizers!=0.11.3,<0.13,>=0.11.1 in /usr/local/lib/python3.7/dist-packages (from transformers) (0.11.6)\n",
            "Requirement already satisfied: filelock in /usr/local/lib/python3.7/dist-packages (from transformers) (3.6.0)\n",
            "Requirement already satisfied: packaging>=20.0 in /usr/local/lib/python3.7/dist-packages (from transformers) (21.3)\n",
            "Requirement already satisfied: requests in /usr/local/lib/python3.7/dist-packages (from transformers) (2.23.0)\n",
            "Requirement already satisfied: pyyaml>=5.1 in /usr/local/lib/python3.7/dist-packages (from transformers) (6.0)\n",
            "Requirement already satisfied: tqdm>=4.27 in /usr/local/lib/python3.7/dist-packages (from transformers) (4.63.0)\n",
            "Requirement already satisfied: importlib-metadata in /usr/local/lib/python3.7/dist-packages (from transformers) (4.11.3)\n",
            "Requirement already satisfied: numpy>=1.17 in /usr/local/lib/python3.7/dist-packages (from transformers) (1.21.5)\n",
            "Requirement already satisfied: regex!=2019.12.17 in /usr/local/lib/python3.7/dist-packages (from transformers) (2019.12.20)\n",
            "Requirement already satisfied: sacremoses in /usr/local/lib/python3.7/dist-packages (from transformers) (0.0.49)\n",
            "Requirement already satisfied: typing-extensions>=3.7.4.3 in /usr/local/lib/python3.7/dist-packages (from huggingface-hub<1.0,>=0.1.0->transformers) (3.10.0.2)\n",
            "Requirement already satisfied: pyparsing!=3.0.5,>=2.0.2 in /usr/local/lib/python3.7/dist-packages (from packaging>=20.0->transformers) (3.0.7)\n",
            "Requirement already satisfied: zipp>=0.5 in /usr/local/lib/python3.7/dist-packages (from importlib-metadata->transformers) (3.7.0)\n",
            "Requirement already satisfied: idna<3,>=2.5 in /usr/local/lib/python3.7/dist-packages (from requests->transformers) (2.10)\n",
            "Requirement already satisfied: chardet<4,>=3.0.2 in /usr/local/lib/python3.7/dist-packages (from requests->transformers) (3.0.4)\n",
            "Requirement already satisfied: certifi>=2017.4.17 in /usr/local/lib/python3.7/dist-packages (from requests->transformers) (2021.10.8)\n",
            "Requirement already satisfied: urllib3!=1.25.0,!=1.25.1,<1.26,>=1.21.1 in /usr/local/lib/python3.7/dist-packages (from requests->transformers) (1.25.11)\n",
            "Requirement already satisfied: click in /usr/local/lib/python3.7/dist-packages (from sacremoses->transformers) (7.1.2)\n",
            "Requirement already satisfied: six in /usr/local/lib/python3.7/dist-packages (from sacremoses->transformers) (1.15.0)\n",
            "Requirement already satisfied: joblib in /usr/local/lib/python3.7/dist-packages (from sacremoses->transformers) (1.1.0)\n"
          ]
        }
      ]
    },
    {
      "cell_type": "code",
      "source": [
        "!pip install pyyaml==5.3.1"
      ],
      "metadata": {
        "colab": {
          "base_uri": "https://localhost:8080/"
        },
        "id": "2Dvk4p7SnSll",
        "outputId": "b861769d-c7bb-473f-e624-57b0190efe1a"
      },
      "execution_count": null,
      "outputs": [
        {
          "output_type": "stream",
          "name": "stdout",
          "text": [
            "Collecting pyyaml==5.3.1\n",
            "  Downloading PyYAML-5.3.1.tar.gz (269 kB)\n",
            "\u001b[?25l\r\u001b[K     |█▏                              | 10 kB 25.8 MB/s eta 0:00:01\r\u001b[K     |██▍                             | 20 kB 35.3 MB/s eta 0:00:01\r\u001b[K     |███▋                            | 30 kB 30.0 MB/s eta 0:00:01\r\u001b[K     |████▉                           | 40 kB 14.5 MB/s eta 0:00:01\r\u001b[K     |██████                          | 51 kB 13.1 MB/s eta 0:00:01\r\u001b[K     |███████▎                        | 61 kB 15.3 MB/s eta 0:00:01\r\u001b[K     |████████▌                       | 71 kB 15.2 MB/s eta 0:00:01\r\u001b[K     |█████████▊                      | 81 kB 14.7 MB/s eta 0:00:01\r\u001b[K     |███████████                     | 92 kB 16.3 MB/s eta 0:00:01\r\u001b[K     |████████████▏                   | 102 kB 14.5 MB/s eta 0:00:01\r\u001b[K     |█████████████▍                  | 112 kB 14.5 MB/s eta 0:00:01\r\u001b[K     |██████████████▋                 | 122 kB 14.5 MB/s eta 0:00:01\r\u001b[K     |███████████████▉                | 133 kB 14.5 MB/s eta 0:00:01\r\u001b[K     |█████████████████               | 143 kB 14.5 MB/s eta 0:00:01\r\u001b[K     |██████████████████▎             | 153 kB 14.5 MB/s eta 0:00:01\r\u001b[K     |███████████████████▌            | 163 kB 14.5 MB/s eta 0:00:01\r\u001b[K     |████████████████████▊           | 174 kB 14.5 MB/s eta 0:00:01\r\u001b[K     |██████████████████████          | 184 kB 14.5 MB/s eta 0:00:01\r\u001b[K     |███████████████████████▏        | 194 kB 14.5 MB/s eta 0:00:01\r\u001b[K     |████████████████████████▎       | 204 kB 14.5 MB/s eta 0:00:01\r\u001b[K     |█████████████████████████▌      | 215 kB 14.5 MB/s eta 0:00:01\r\u001b[K     |██████████████████████████▊     | 225 kB 14.5 MB/s eta 0:00:01\r\u001b[K     |████████████████████████████    | 235 kB 14.5 MB/s eta 0:00:01\r\u001b[K     |█████████████████████████████▏  | 245 kB 14.5 MB/s eta 0:00:01\r\u001b[K     |██████████████████████████████▍ | 256 kB 14.5 MB/s eta 0:00:01\r\u001b[K     |███████████████████████████████▋| 266 kB 14.5 MB/s eta 0:00:01\r\u001b[K     |████████████████████████████████| 269 kB 14.5 MB/s \n",
            "\u001b[?25hBuilding wheels for collected packages: pyyaml\n",
            "  Building wheel for pyyaml (setup.py) ... \u001b[?25l\u001b[?25hdone\n",
            "  Created wheel for pyyaml: filename=PyYAML-5.3.1-cp37-cp37m-linux_x86_64.whl size=44636 sha256=f4721ebb43decccbbedcc4a3c9ec2c357113c11533f08b9be92fc245d0a56757\n",
            "  Stored in directory: /root/.cache/pip/wheels/5e/03/1e/e1e954795d6f35dfc7b637fe2277bff021303bd9570ecea653\n",
            "Successfully built pyyaml\n",
            "Installing collected packages: pyyaml\n",
            "  Attempting uninstall: pyyaml\n",
            "    Found existing installation: PyYAML 6.0\n",
            "    Uninstalling PyYAML-6.0:\n",
            "      Successfully uninstalled PyYAML-6.0\n",
            "Successfully installed pyyaml-5.3.1\n"
          ]
        }
      ]
    },
    {
      "cell_type": "code",
      "source": [
        "!pip install -q xlrd"
      ],
      "metadata": {
        "id": "wOlF8pRjm8C-"
      },
      "execution_count": 6,
      "outputs": []
    },
    {
      "cell_type": "code",
      "source": [
        "!pip install scikit-plot"
      ],
      "metadata": {
        "colab": {
          "base_uri": "https://localhost:8080/"
        },
        "id": "oeupPYSXJnXd",
        "outputId": "07be11fb-a925-49f5-9f0c-72c93f0cdf5f"
      },
      "execution_count": 5,
      "outputs": [
        {
          "output_type": "stream",
          "name": "stdout",
          "text": [
            "Collecting scikit-plot\n",
            "  Downloading scikit_plot-0.3.7-py3-none-any.whl (33 kB)\n",
            "Requirement already satisfied: joblib>=0.10 in /usr/local/lib/python3.7/dist-packages (from scikit-plot) (1.1.0)\n",
            "Requirement already satisfied: scipy>=0.9 in /usr/local/lib/python3.7/dist-packages (from scikit-plot) (1.4.1)\n",
            "Requirement already satisfied: scikit-learn>=0.18 in /usr/local/lib/python3.7/dist-packages (from scikit-plot) (1.0.2)\n",
            "Requirement already satisfied: matplotlib>=1.4.0 in /usr/local/lib/python3.7/dist-packages (from scikit-plot) (3.2.2)\n",
            "Requirement already satisfied: python-dateutil>=2.1 in /usr/local/lib/python3.7/dist-packages (from matplotlib>=1.4.0->scikit-plot) (2.8.2)\n",
            "Requirement already satisfied: kiwisolver>=1.0.1 in /usr/local/lib/python3.7/dist-packages (from matplotlib>=1.4.0->scikit-plot) (1.4.0)\n",
            "Requirement already satisfied: cycler>=0.10 in /usr/local/lib/python3.7/dist-packages (from matplotlib>=1.4.0->scikit-plot) (0.11.0)\n",
            "Requirement already satisfied: pyparsing!=2.0.4,!=2.1.2,!=2.1.6,>=2.0.1 in /usr/local/lib/python3.7/dist-packages (from matplotlib>=1.4.0->scikit-plot) (3.0.7)\n",
            "Requirement already satisfied: numpy>=1.11 in /usr/local/lib/python3.7/dist-packages (from matplotlib>=1.4.0->scikit-plot) (1.21.5)\n",
            "Requirement already satisfied: typing-extensions in /usr/local/lib/python3.7/dist-packages (from kiwisolver>=1.0.1->matplotlib>=1.4.0->scikit-plot) (3.10.0.2)\n",
            "Requirement already satisfied: six>=1.5 in /usr/local/lib/python3.7/dist-packages (from python-dateutil>=2.1->matplotlib>=1.4.0->scikit-plot) (1.15.0)\n",
            "Requirement already satisfied: threadpoolctl>=2.0.0 in /usr/local/lib/python3.7/dist-packages (from scikit-learn>=0.18->scikit-plot) (3.1.0)\n",
            "Installing collected packages: scikit-plot\n",
            "Successfully installed scikit-plot-0.3.7\n"
          ]
        }
      ]
    },
    {
      "cell_type": "code",
      "source": [
        "pip list"
      ],
      "metadata": {
        "colab": {
          "base_uri": "https://localhost:8080/"
        },
        "id": "sAfSiQDyJ7jK",
        "outputId": "6438eb92-b47c-4bc1-9381-c4007678714b"
      },
      "execution_count": null,
      "outputs": [
        {
          "output_type": "stream",
          "name": "stdout",
          "text": [
            "Package                       Version\n",
            "----------------------------- ---------------------\n",
            "absl-py                       1.0.0\n",
            "aiohttp                       3.8.1\n",
            "aiosignal                     1.2.0\n",
            "alabaster                     0.7.12\n",
            "albumentations                0.1.12\n",
            "altair                        4.2.0\n",
            "appdirs                       1.4.4\n",
            "argon2-cffi                   21.3.0\n",
            "argon2-cffi-bindings          21.2.0\n",
            "arviz                         0.11.4\n",
            "astor                         0.8.1\n",
            "astropy                       4.3.1\n",
            "astunparse                    1.6.3\n",
            "async-timeout                 4.0.2\n",
            "asynctest                     0.13.0\n",
            "atari-py                      0.2.9\n",
            "atomicwrites                  1.4.0\n",
            "attrs                         21.4.0\n",
            "audioread                     2.1.9\n",
            "autograd                      1.3\n",
            "Babel                         2.9.1\n",
            "backcall                      0.2.0\n",
            "beautifulsoup4                4.6.3\n",
            "bleach                        4.1.0\n",
            "blinker                       1.4\n",
            "blis                          0.4.1\n",
            "bokeh                         2.3.3\n",
            "Bottleneck                    1.3.4\n",
            "branca                        0.4.2\n",
            "bs4                           0.0.1\n",
            "CacheControl                  0.12.10\n",
            "cached-property               1.5.2\n",
            "cachetools                    4.2.4\n",
            "catalogue                     1.0.0\n",
            "certifi                       2021.10.8\n",
            "cffi                          1.15.0\n",
            "cftime                        1.6.0\n",
            "chardet                       3.0.4\n",
            "charset-normalizer            2.0.12\n",
            "click                         7.1.2\n",
            "cloudpickle                   1.3.0\n",
            "cmake                         3.12.0\n",
            "cmdstanpy                     0.9.5\n",
            "colorcet                      3.0.0\n",
            "colorlover                    0.3.0\n",
            "community                     1.0.0b1\n",
            "contextlib2                   0.5.5\n",
            "convertdate                   2.4.0\n",
            "coverage                      3.7.1\n",
            "coveralls                     0.5\n",
            "crcmod                        1.7\n",
            "cufflinks                     0.17.3\n",
            "cvxopt                        1.2.7\n",
            "cvxpy                         1.0.31\n",
            "cycler                        0.11.0\n",
            "cymem                         2.0.6\n",
            "Cython                        0.29.28\n",
            "daft                          0.0.4\n",
            "dask                          2.12.0\n",
            "datascience                   0.10.6\n",
            "datasets                      2.0.0\n",
            "debugpy                       1.0.0\n",
            "decorator                     4.4.2\n",
            "defusedxml                    0.7.1\n",
            "descartes                     1.1.0\n",
            "dill                          0.3.4\n",
            "distributed                   1.25.3\n",
            "dlib                          19.18.0\n",
            "dm-tree                       0.1.6\n",
            "docker-pycreds                0.4.0\n",
            "docopt                        0.6.2\n",
            "docutils                      0.17.1\n",
            "dopamine-rl                   1.0.5\n",
            "earthengine-api               0.1.303\n",
            "easydict                      1.9\n",
            "ecos                          2.0.10\n",
            "editdistance                  0.5.3\n",
            "en-core-web-sm                2.2.5\n",
            "entrypoints                   0.4\n",
            "ephem                         4.1.3\n",
            "et-xmlfile                    1.1.0\n",
            "fa2                           0.3.5\n",
            "fastai                        1.0.61\n",
            "fastdtw                       0.3.4\n",
            "fastprogress                  1.0.2\n",
            "fastrlock                     0.8\n",
            "fbprophet                     0.7.1\n",
            "feather-format                0.4.1\n",
            "filelock                      3.6.0\n",
            "firebase-admin                4.4.0\n",
            "fix-yahoo-finance             0.0.22\n",
            "Flask                         1.1.4\n",
            "flatbuffers                   2.0\n",
            "folium                        0.8.3\n",
            "frozenlist                    1.3.0\n",
            "fsspec                        2022.3.0\n",
            "future                        0.16.0\n",
            "gast                          0.5.3\n",
            "GDAL                          2.2.2\n",
            "gdown                         4.2.2\n",
            "gensim                        3.6.0\n",
            "geographiclib                 1.52\n",
            "geopy                         1.17.0\n",
            "gin-config                    0.5.0\n",
            "gitdb                         4.0.9\n",
            "GitPython                     3.1.27\n",
            "glob2                         0.7\n",
            "google                        2.0.3\n",
            "google-api-core               1.26.3\n",
            "google-api-python-client      1.12.11\n",
            "google-auth                   1.35.0\n",
            "google-auth-httplib2          0.0.4\n",
            "google-auth-oauthlib          0.4.6\n",
            "google-cloud-bigquery         1.21.0\n",
            "google-cloud-bigquery-storage 1.1.0\n",
            "google-cloud-core             1.0.3\n",
            "google-cloud-datastore        1.8.0\n",
            "google-cloud-firestore        1.7.0\n",
            "google-cloud-language         1.2.0\n",
            "google-cloud-storage          1.18.1\n",
            "google-cloud-translate        1.5.0\n",
            "google-colab                  1.0.0\n",
            "google-pasta                  0.2.0\n",
            "google-resumable-media        0.4.1\n",
            "googleapis-common-protos      1.56.0\n",
            "googledrivedownloader         0.4\n",
            "graphviz                      0.10.1\n",
            "greenlet                      1.1.2\n",
            "grpcio                        1.44.0\n",
            "gspread                       3.4.2\n",
            "gspread-dataframe             3.0.8\n",
            "gym                           0.17.3\n",
            "h5py                          3.1.0\n",
            "HeapDict                      1.0.1\n",
            "hijri-converter               2.2.3\n",
            "holidays                      0.10.5.2\n",
            "holoviews                     1.14.8\n",
            "html5lib                      1.0.1\n",
            "httpimport                    0.5.18\n",
            "httplib2                      0.17.4\n",
            "httplib2shim                  0.0.3\n",
            "huggingface-hub               0.5.1\n",
            "humanize                      0.5.1\n",
            "hyperopt                      0.1.2\n",
            "ideep4py                      2.0.0.post3\n",
            "idna                          2.10\n",
            "imageio                       2.4.1\n",
            "imagesize                     1.3.0\n",
            "imbalanced-learn              0.8.1\n",
            "imblearn                      0.0\n",
            "imgaug                        0.2.9\n",
            "importlib-metadata            4.11.3\n",
            "importlib-resources           5.4.0\n",
            "imutils                       0.5.4\n",
            "inflect                       2.1.0\n",
            "iniconfig                     1.1.1\n",
            "intel-openmp                  2022.0.2\n",
            "intervaltree                  2.1.0\n",
            "ipykernel                     6.12.1\n",
            "ipython                       7.32.0\n",
            "ipython-genutils              0.2.0\n",
            "ipython-sql                   0.3.9\n",
            "ipywidgets                    7.7.0\n",
            "itsdangerous                  1.1.0\n",
            "jax                           0.3.4\n",
            "jaxlib                        0.3.2+cuda11.cudnn805\n",
            "jedi                          0.18.1\n",
            "jieba                         0.42.1\n",
            "Jinja2                        2.11.3\n",
            "joblib                        1.1.0\n",
            "jpeg4py                       0.1.4\n",
            "jsonschema                    4.3.3\n",
            "jupyter                       1.0.0\n",
            "jupyter-client                7.2.2\n",
            "jupyter-console               5.2.0\n",
            "jupyter-core                  4.9.2\n",
            "jupyterlab-pygments           0.1.2\n",
            "jupyterlab-widgets            1.1.0\n",
            "kaggle                        1.5.12\n",
            "kapre                         0.3.7\n",
            "keras                         2.8.0\n",
            "Keras-Preprocessing           1.1.2\n",
            "keras-vis                     0.4.1\n",
            "kiwisolver                    1.4.0\n",
            "korean-lunar-calendar         0.2.1\n",
            "libclang                      13.0.0\n",
            "librosa                       0.8.1\n",
            "lightgbm                      2.2.3\n",
            "llvmlite                      0.34.0\n",
            "lmdb                          0.99\n",
            "LunarCalendar                 0.0.9\n",
            "lxml                          4.2.6\n",
            "Markdown                      3.3.6\n",
            "MarkupSafe                    2.0.1\n",
            "matplotlib                    3.2.2\n",
            "matplotlib-inline             0.1.3\n",
            "matplotlib-venn               0.11.6\n",
            "missingno                     0.5.1\n",
            "mistune                       0.8.4\n",
            "mizani                        0.6.0\n",
            "mkl                           2019.0\n",
            "mlxtend                       0.14.0\n",
            "more-itertools                8.12.0\n",
            "moviepy                       0.2.3.5\n",
            "mpmath                        1.2.1\n",
            "msgpack                       1.0.3\n",
            "multidict                     6.0.2\n",
            "multiprocess                  0.70.12.2\n",
            "multitasking                  0.0.10\n",
            "murmurhash                    1.0.6\n",
            "music21                       5.5.0\n",
            "natsort                       5.5.0\n",
            "nbclient                      0.5.13\n",
            "nbconvert                     5.6.1\n",
            "nbformat                      5.2.0\n",
            "nest-asyncio                  1.5.4\n",
            "netCDF4                       1.5.8\n",
            "networkx                      2.6.3\n",
            "nibabel                       3.0.2\n",
            "nltk                          3.2.5\n",
            "notebook                      5.3.1\n",
            "numba                         0.51.2\n",
            "numexpr                       2.8.1\n",
            "numpy                         1.21.5\n",
            "nvidia-ml-py3                 7.352.0\n",
            "oauth2client                  4.1.3\n",
            "oauthlib                      3.2.0\n",
            "okgrade                       0.4.3\n",
            "opencv-contrib-python         4.1.2.30\n",
            "opencv-python                 4.1.2.30\n",
            "openpyxl                      3.0.9\n",
            "opt-einsum                    3.3.0\n",
            "osqp                          0.6.2.post0\n",
            "packaging                     21.3\n",
            "palettable                    3.3.0\n",
            "pandas                        1.3.5\n",
            "pandas-datareader             0.9.0\n",
            "pandas-gbq                    0.13.3\n",
            "pandas-profiling              1.4.1\n",
            "pandocfilters                 1.5.0\n",
            "panel                         0.12.1\n",
            "param                         1.12.0\n",
            "parso                         0.8.3\n",
            "pathlib                       1.0.1\n",
            "pathtools                     0.1.2\n",
            "patsy                         0.5.2\n",
            "pep517                        0.12.0\n",
            "pexpect                       4.8.0\n",
            "pickleshare                   0.7.5\n",
            "Pillow                        7.1.2\n",
            "pip                           21.1.3\n",
            "pip-tools                     6.2.0\n",
            "plac                          1.1.3\n",
            "plotly                        5.5.0\n",
            "plotnine                      0.6.0\n",
            "pluggy                        0.7.1\n",
            "pooch                         1.6.0\n",
            "portpicker                    1.3.9\n",
            "prefetch-generator            1.0.1\n",
            "preshed                       3.0.6\n",
            "prettytable                   3.2.0\n",
            "progressbar2                  3.38.0\n",
            "prometheus-client             0.13.1\n",
            "promise                       2.3\n",
            "prompt-toolkit                3.0.29\n",
            "protobuf                      3.17.3\n",
            "psutil                        5.4.8\n",
            "psycopg2                      2.7.6.1\n",
            "ptyprocess                    0.7.0\n",
            "py                            1.11.0\n",
            "pyarrow                       6.0.1\n",
            "pyasn1                        0.4.8\n",
            "pyasn1-modules                0.2.8\n",
            "pycocotools                   2.0.4\n",
            "pycparser                     2.21\n",
            "pyct                          0.4.8\n",
            "pydata-google-auth            1.4.0\n",
            "pydeck                        0.7.1\n",
            "pydot                         1.3.0\n",
            "pydot-ng                      2.0.0\n",
            "pydotplus                     2.0.2\n",
            "PyDrive                       1.3.1\n",
            "pyemd                         0.5.1\n",
            "pyerfa                        2.0.0.1\n",
            "pyglet                        1.5.0\n",
            "Pygments                      2.6.1\n",
            "pygobject                     3.26.1\n",
            "pymc3                         3.11.4\n",
            "PyMeeus                       0.5.11\n",
            "pymongo                       4.0.2\n",
            "Pympler                       1.0.1\n",
            "pymystem3                     0.2.0\n",
            "PyOpenGL                      3.1.6\n",
            "pyparsing                     3.0.7\n",
            "pyrsistent                    0.18.1\n",
            "pysndfile                     1.3.8\n",
            "PySocks                       1.7.1\n",
            "pystan                        2.19.1.1\n",
            "pytest                        3.6.4\n",
            "python-apt                    0.0.0\n",
            "python-chess                  0.23.11\n",
            "python-dateutil               2.8.2\n",
            "python-louvain                0.16\n",
            "python-slugify                6.1.1\n",
            "python-utils                  3.1.0\n",
            "pytz                          2018.9\n",
            "pyviz-comms                   2.1.0\n",
            "PyWavelets                    1.3.0\n",
            "PyYAML                        5.3.1\n",
            "pyzmq                         22.3.0\n",
            "qdldl                         0.1.5.post0\n",
            "qtconsole                     5.2.2\n",
            "QtPy                          2.0.1\n",
            "regex                         2019.12.20\n",
            "requests                      2.23.0\n",
            "requests-oauthlib             1.3.1\n",
            "resampy                       0.2.2\n",
            "responses                     0.18.0\n",
            "rpy2                          3.4.5\n",
            "rsa                           4.8\n",
            "sacremoses                    0.0.49\n",
            "scikit-image                  0.18.3\n",
            "scikit-learn                  1.0.2\n",
            "scikit-plot                   0.3.7\n",
            "scipy                         1.4.1\n",
            "screen-resolution-extra       0.0.0\n",
            "scs                           3.2.0\n",
            "seaborn                       0.11.2\n",
            "semver                        2.13.0\n",
            "Send2Trash                    1.8.0\n",
            "sentencepiece                 0.1.96\n",
            "sentry-sdk                    1.5.8\n",
            "seqeval                       1.2.2\n",
            "setproctitle                  1.2.2\n",
            "setuptools                    57.4.0\n",
            "setuptools-git                1.2\n",
            "Shapely                       1.8.1.post1\n",
            "shortuuid                     1.0.8\n",
            "simplegeneric                 0.8.1\n",
            "simpletransformers            0.63.6\n",
            "six                           1.15.0\n",
            "sklearn                       0.0\n",
            "sklearn-pandas                1.8.0\n",
            "smart-open                    5.2.1\n",
            "smmap                         5.0.0\n",
            "snowballstemmer               2.2.0\n",
            "sortedcontainers              2.4.0\n",
            "SoundFile                     0.10.3.post1\n",
            "soupsieve                     2.3.1\n",
            "spacy                         2.2.4\n",
            "Sphinx                        1.8.6\n",
            "sphinxcontrib-serializinghtml 1.1.5\n",
            "sphinxcontrib-websupport      1.2.4\n",
            "SQLAlchemy                    1.4.32\n",
            "sqlparse                      0.4.2\n",
            "srsly                         1.0.5\n",
            "statsmodels                   0.10.2\n",
            "streamlit                     1.8.1\n",
            "sympy                         1.7.1\n",
            "tables                        3.7.0\n",
            "tabulate                      0.8.9\n",
            "tblib                         1.7.0\n",
            "tenacity                      8.0.1\n",
            "tensorboard                   2.8.0\n",
            "tensorboard-data-server       0.6.1\n",
            "tensorboard-plugin-wit        1.8.1\n",
            "tensorflow                    2.8.0\n",
            "tensorflow-datasets           4.0.1\n",
            "tensorflow-estimator          2.8.0\n",
            "tensorflow-gcs-config         2.8.0\n",
            "tensorflow-hub                0.12.0\n",
            "tensorflow-io-gcs-filesystem  0.24.0\n",
            "tensorflow-metadata           1.7.0\n",
            "tensorflow-probability        0.16.0\n",
            "termcolor                     1.1.0\n",
            "terminado                     0.13.3\n",
            "testpath                      0.6.0\n",
            "text-unidecode                1.3\n",
            "textblob                      0.15.3\n",
            "Theano-PyMC                   1.1.2\n",
            "thinc                         7.4.0\n",
            "threadpoolctl                 3.1.0\n",
            "tifffile                      2021.11.2\n",
            "tokenizers                    0.11.6\n",
            "toml                          0.10.2\n",
            "tomli                         2.0.1\n",
            "toolz                         0.11.2\n",
            "torch                         1.10.0+cu111\n",
            "torchaudio                    0.10.0+cu111\n",
            "torchsummary                  1.5.1\n",
            "torchtext                     0.11.0\n",
            "torchvision                   0.11.1+cu111\n",
            "tornado                       6.1\n",
            "tqdm                          4.63.0\n",
            "traitlets                     5.1.1\n",
            "transformers                  4.18.0\n",
            "tweepy                        3.10.0\n",
            "typeguard                     2.7.1\n",
            "typing-extensions             3.10.0.2\n",
            "tzlocal                       1.5.1\n",
            "uritemplate                   3.0.1\n",
            "urllib3                       1.25.11\n",
            "validators                    0.18.2\n",
            "vega-datasets                 0.9.0\n",
            "wandb                         0.12.14\n",
            "wasabi                        0.9.0\n",
            "watchdog                      2.1.7\n",
            "wcwidth                       0.2.5\n",
            "webencodings                  0.5.1\n",
            "Werkzeug                      1.0.1\n",
            "wheel                         0.37.1\n",
            "widgetsnbextension            3.6.0\n",
            "wordcloud                     1.5.0\n",
            "wrapt                         1.14.0\n",
            "xarray                        0.18.2\n",
            "xgboost                       0.90\n",
            "xkit                          0.0.0\n",
            "xlrd                          1.1.0\n",
            "xlwt                          1.3.0\n",
            "xxhash                        3.0.0\n",
            "yarl                          1.7.2\n",
            "yellowbrick                   1.4\n",
            "zict                          2.1.0\n",
            "zipp                          3.7.0\n"
          ]
        }
      ]
    },
    {
      "cell_type": "markdown",
      "source": [
        "#Machine Learning Models:"
      ],
      "metadata": {
        "id": "OUI_drKzMTyF"
      }
    },
    {
      "cell_type": "markdown",
      "source": [
        "#DataSet 2 (Chest Radiographs dataset): "
      ],
      "metadata": {
        "id": "v_F7lI49KsGw"
      }
    },
    {
      "cell_type": "code",
      "source": [
        "#load and read the dataset\n",
        "import io\n",
        "import pandas as pd\n",
        "#import packages to use\n",
        "from google.colab import files\n",
        "data = files.upload()\n"
      ],
      "metadata": {
        "colab": {
          "resources": {
            "http://localhost:8080/nbextensions/google.colab/files.js": {
              "data": "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",
              "ok": true,
              "headers": [
                [
                  "content-type",
                  "application/javascript"
                ]
              ],
              "status": 200,
              "status_text": ""
            }
          },
          "base_uri": "https://localhost:8080/",
          "height": 74
        },
        "id": "5duHQNVibAEV",
        "outputId": "b96f2b92-727e-4e12-a5a9-fb380c907a48"
      },
      "execution_count": 1,
      "outputs": [
        {
          "output_type": "display_data",
          "data": {
            "text/plain": [
              "<IPython.core.display.HTML object>"
            ],
            "text/html": [
              "\n",
              "     <input type=\"file\" id=\"files-f764b6ab-8509-448e-852b-03dde6b4d5b0\" name=\"files[]\" multiple disabled\n",
              "        style=\"border:none\" />\n",
              "     <output id=\"result-f764b6ab-8509-448e-852b-03dde6b4d5b0\">\n",
              "      Upload widget is only available when the cell has been executed in the\n",
              "      current browser session. Please rerun this cell to enable.\n",
              "      </output>\n",
              "      <script src=\"/nbextensions/google.colab/files.js\"></script> "
            ]
          },
          "metadata": {}
        },
        {
          "output_type": "stream",
          "name": "stdout",
          "text": [
            "Saving ProjectDatasetComplex.xlsx to ProjectDatasetComplex.xlsx\n"
          ]
        }
      ]
    },
    {
      "cell_type": "code",
      "source": [
        "\n",
        "xlsx_file = io.BytesIO(data.get('ProjectDatasetComplex.xlsx'))\n",
        "df = pd.read_excel('ProjectDatasetComplex.xlsx', 'Sheet1')\n",
        "df.head()"
      ],
      "metadata": {
        "id": "E2AHMn0TeuMK",
        "colab": {
          "base_uri": "https://localhost:8080/",
          "height": 206
        },
        "outputId": "1218a728-e9bd-4239-c127-b6fc2a691666"
      },
      "execution_count": 2,
      "outputs": [
        {
          "output_type": "execute_result",
          "data": {
            "text/plain": [
              "                                          ReportText  Label\n",
              "0  X thorax 16-04-2020, 16:05\\n\\nHartgrootte is b...      0\n",
              "1  X thorax 16-04-2020, 11:14\\n\\nHartgrootte is b...      0\n",
              "2  X thorax 16-04-2020, 11:38\\n\\nLaagstaande, afg...      0\n",
              "3  CT thorax 16-04-2020, 21:41\\n\\nGeen pulmonale ...      1\n",
              "4  CT HR-thorax 16-04-2020, 13:07\\nBlanco HRCT sc...      1"
            ],
            "text/html": [
              "\n",
              "  <div id=\"df-94a3846c-98e1-4bb6-86c3-80357c2b359f\">\n",
              "    <div class=\"colab-df-container\">\n",
              "      <div>\n",
              "<style scoped>\n",
              "    .dataframe tbody tr th:only-of-type {\n",
              "        vertical-align: middle;\n",
              "    }\n",
              "\n",
              "    .dataframe tbody tr th {\n",
              "        vertical-align: top;\n",
              "    }\n",
              "\n",
              "    .dataframe thead th {\n",
              "        text-align: right;\n",
              "    }\n",
              "</style>\n",
              "<table border=\"1\" class=\"dataframe\">\n",
              "  <thead>\n",
              "    <tr style=\"text-align: right;\">\n",
              "      <th></th>\n",
              "      <th>ReportText</th>\n",
              "      <th>Label</th>\n",
              "    </tr>\n",
              "  </thead>\n",
              "  <tbody>\n",
              "    <tr>\n",
              "      <th>0</th>\n",
              "      <td>X thorax 16-04-2020, 16:05\\n\\nHartgrootte is b...</td>\n",
              "      <td>0</td>\n",
              "    </tr>\n",
              "    <tr>\n",
              "      <th>1</th>\n",
              "      <td>X thorax 16-04-2020, 11:14\\n\\nHartgrootte is b...</td>\n",
              "      <td>0</td>\n",
              "    </tr>\n",
              "    <tr>\n",
              "      <th>2</th>\n",
              "      <td>X thorax 16-04-2020, 11:38\\n\\nLaagstaande, afg...</td>\n",
              "      <td>0</td>\n",
              "    </tr>\n",
              "    <tr>\n",
              "      <th>3</th>\n",
              "      <td>CT thorax 16-04-2020, 21:41\\n\\nGeen pulmonale ...</td>\n",
              "      <td>1</td>\n",
              "    </tr>\n",
              "    <tr>\n",
              "      <th>4</th>\n",
              "      <td>CT HR-thorax 16-04-2020, 13:07\\nBlanco HRCT sc...</td>\n",
              "      <td>1</td>\n",
              "    </tr>\n",
              "  </tbody>\n",
              "</table>\n",
              "</div>\n",
              "      <button class=\"colab-df-convert\" onclick=\"convertToInteractive('df-94a3846c-98e1-4bb6-86c3-80357c2b359f')\"\n",
              "              title=\"Convert this dataframe to an interactive table.\"\n",
              "              style=\"display:none;\">\n",
              "        \n",
              "  <svg xmlns=\"http://www.w3.org/2000/svg\" height=\"24px\"viewBox=\"0 0 24 24\"\n",
              "       width=\"24px\">\n",
              "    <path d=\"M0 0h24v24H0V0z\" fill=\"none\"/>\n",
              "    <path d=\"M18.56 5.44l.94 2.06.94-2.06 2.06-.94-2.06-.94-.94-2.06-.94 2.06-2.06.94zm-11 1L8.5 8.5l.94-2.06 2.06-.94-2.06-.94L8.5 2.5l-.94 2.06-2.06.94zm10 10l.94 2.06.94-2.06 2.06-.94-2.06-.94-.94-2.06-.94 2.06-2.06.94z\"/><path d=\"M17.41 7.96l-1.37-1.37c-.4-.4-.92-.59-1.43-.59-.52 0-1.04.2-1.43.59L10.3 9.45l-7.72 7.72c-.78.78-.78 2.05 0 2.83L4 21.41c.39.39.9.59 1.41.59.51 0 1.02-.2 1.41-.59l7.78-7.78 2.81-2.81c.8-.78.8-2.07 0-2.86zM5.41 20L4 18.59l7.72-7.72 1.47 1.35L5.41 20z\"/>\n",
              "  </svg>\n",
              "      </button>\n",
              "      \n",
              "  <style>\n",
              "    .colab-df-container {\n",
              "      display:flex;\n",
              "      flex-wrap:wrap;\n",
              "      gap: 12px;\n",
              "    }\n",
              "\n",
              "    .colab-df-convert {\n",
              "      background-color: #E8F0FE;\n",
              "      border: none;\n",
              "      border-radius: 50%;\n",
              "      cursor: pointer;\n",
              "      display: none;\n",
              "      fill: #1967D2;\n",
              "      height: 32px;\n",
              "      padding: 0 0 0 0;\n",
              "      width: 32px;\n",
              "    }\n",
              "\n",
              "    .colab-df-convert:hover {\n",
              "      background-color: #E2EBFA;\n",
              "      box-shadow: 0px 1px 2px rgba(60, 64, 67, 0.3), 0px 1px 3px 1px rgba(60, 64, 67, 0.15);\n",
              "      fill: #174EA6;\n",
              "    }\n",
              "\n",
              "    [theme=dark] .colab-df-convert {\n",
              "      background-color: #3B4455;\n",
              "      fill: #D2E3FC;\n",
              "    }\n",
              "\n",
              "    [theme=dark] .colab-df-convert:hover {\n",
              "      background-color: #434B5C;\n",
              "      box-shadow: 0px 1px 3px 1px rgba(0, 0, 0, 0.15);\n",
              "      filter: drop-shadow(0px 1px 2px rgba(0, 0, 0, 0.3));\n",
              "      fill: #FFFFFF;\n",
              "    }\n",
              "  </style>\n",
              "\n",
              "      <script>\n",
              "        const buttonEl =\n",
              "          document.querySelector('#df-94a3846c-98e1-4bb6-86c3-80357c2b359f button.colab-df-convert');\n",
              "        buttonEl.style.display =\n",
              "          google.colab.kernel.accessAllowed ? 'block' : 'none';\n",
              "\n",
              "        async function convertToInteractive(key) {\n",
              "          const element = document.querySelector('#df-94a3846c-98e1-4bb6-86c3-80357c2b359f');\n",
              "          const dataTable =\n",
              "            await google.colab.kernel.invokeFunction('convertToInteractive',\n",
              "                                                     [key], {});\n",
              "          if (!dataTable) return;\n",
              "\n",
              "          const docLinkHtml = 'Like what you see? Visit the ' +\n",
              "            '<a target=\"_blank\" href=https://colab.research.google.com/notebooks/data_table.ipynb>data table notebook</a>'\n",
              "            + ' to learn more about interactive tables.';\n",
              "          element.innerHTML = '';\n",
              "          dataTable['output_type'] = 'display_data';\n",
              "          await google.colab.output.renderOutput(dataTable, element);\n",
              "          const docLink = document.createElement('div');\n",
              "          docLink.innerHTML = docLinkHtml;\n",
              "          element.appendChild(docLink);\n",
              "        }\n",
              "      </script>\n",
              "    </div>\n",
              "  </div>\n",
              "  "
            ]
          },
          "metadata": {},
          "execution_count": 2
        }
      ]
    },
    {
      "cell_type": "code",
      "source": [
        "#df = df[['ReportTextText', 'Result_Infiltraat']]\n",
        "df = df[['ReportText', 'Label']]\n",
        "print(df)"
      ],
      "metadata": {
        "id": "txxfJYa2KhkX",
        "colab": {
          "base_uri": "https://localhost:8080/"
        },
        "outputId": "25b5dc49-96af-4282-f489-33393587b0a4"
      },
      "execution_count": 3,
      "outputs": [
        {
          "output_type": "stream",
          "name": "stdout",
          "text": [
            "                                             ReportText  Label\n",
            "0     X thorax 16-04-2020, 16:05\\n\\nHartgrootte is b...      0\n",
            "1     X thorax 16-04-2020, 11:14\\n\\nHartgrootte is b...      0\n",
            "2     X thorax 16-04-2020, 11:38\\n\\nLaagstaande, afg...      0\n",
            "3     CT thorax 16-04-2020, 21:41\\n\\nGeen pulmonale ...      1\n",
            "4     CT HR-thorax 16-04-2020, 13:07\\nBlanco HRCT sc...      1\n",
            "...                                                 ...    ...\n",
            "2250  CTA pulmonalis (longembolie) 14-04-2020, 16:21...      0\n",
            "2251  CTA pulmonalis (longembolie) 14-04-2020, 16:40...      0\n",
            "2252  CTA pulmonalis (longembolie) 15-04-2020, 06:10...      0\n",
            "2253  CTA pulmonalis (longembolie) 15-04-2020, 16:16...      0\n",
            "2254  CTA pulmonalis (longembolie) 15-04-2020, 19:43...      0\n",
            "\n",
            "[2255 rows x 2 columns]\n"
          ]
        }
      ]
    },
    {
      "cell_type": "markdown",
      "source": [
        "#Data pre-processing:\n",
        "Remove Blank rows in Data, if any\n",
        "Change all the text to lower case\n",
        "Word Tokenization\n",
        "Remove Stop words\n",
        "Remove Non-alpha text\n",
        "Word Lemmatization"
      ],
      "metadata": {
        "id": "v01mrV9VW5BD"
      }
    },
    {
      "cell_type": "code",
      "source": [
        "import pandas as pd\n",
        "import numpy as np\n",
        "import seaborn as sns\n",
        "import matplotlib.pyplot as plt\n",
        "from nltk.tokenize import word_tokenize\n",
        "from nltk import pos_tag\n",
        "from nltk.corpus import stopwords\n",
        "from nltk.stem import WordNetLemmatizer\n",
        "from sklearn.preprocessing import LabelEncoder\n",
        "from collections import defaultdict\n",
        "from nltk.corpus import wordnet as wn\n",
        "from sklearn.feature_extraction.text import TfidfVectorizer\n",
        "from sklearn import model_selection, naive_bayes, svm\n",
        "from sklearn.ensemble import RandomForestClassifier\n",
        "from sklearn.linear_model import LogisticRegression\n",
        "from sklearn import metrics\n",
        "import sklearn.metrics\n",
        "import math\n",
        "from sklearn.metrics import accuracy_score\n",
        "from sklearn.metrics import roc_auc_score\n",
        "from matplotlib import pyplot\n",
        "from sklearn.metrics import confusion_matrix\n",
        "import scikitplot as skplt\n",
        "import warnings\n",
        "warnings.filterwarnings('ignore')\n",
        "#used to remove the necessity of calling show after each plot.\n",
        "%matplotlib inline"
      ],
      "metadata": {
        "id": "GpUdLVoISGpB"
      },
      "execution_count": 7,
      "outputs": []
    },
    {
      "cell_type": "code",
      "source": [
        "#look at the data shape through shape, which shows the number of data sample, and number of variable.\n",
        "df.shape"
      ],
      "metadata": {
        "colab": {
          "base_uri": "https://localhost:8080/"
        },
        "id": "DwRdJs8arDvO",
        "outputId": "f378b599-ab37-4a0e-e355-132a6ee237e0"
      },
      "execution_count": 8,
      "outputs": [
        {
          "output_type": "execute_result",
          "data": {
            "text/plain": [
              "(2255, 2)"
            ]
          },
          "metadata": {},
          "execution_count": 8
        }
      ]
    },
    {
      "cell_type": "code",
      "source": [
        "#look at the target column \"target\" (class distribution) using through groupby and size\n",
        "df.groupby('Label').size()"
      ],
      "metadata": {
        "colab": {
          "base_uri": "https://localhost:8080/"
        },
        "id": "2d-_Wc5BrPFE",
        "outputId": "f7887489-9559-4fc4-e9d6-d78f357ea6d0"
      },
      "execution_count": 9,
      "outputs": [
        {
          "output_type": "execute_result",
          "data": {
            "text/plain": [
              "Label\n",
              "0    1901\n",
              "1     354\n",
              "dtype: int64"
            ]
          },
          "metadata": {},
          "execution_count": 9
        }
      ]
    },
    {
      "cell_type": "code",
      "source": [
        "#lets use sns and count the number of observations of each tatget, to figureout if we hava a balanced data\n",
        "sns.countplot(data= df, x='Label')"
      ],
      "metadata": {
        "colab": {
          "base_uri": "https://localhost:8080/",
          "height": 296
        },
        "id": "ow4bx43kqmlP",
        "outputId": "84382061-dc2f-4414-87ec-e32360a7bec8"
      },
      "execution_count": 10,
      "outputs": [
        {
          "output_type": "execute_result",
          "data": {
            "text/plain": [
              "<matplotlib.axes._subplots.AxesSubplot at 0x7f19633894d0>"
            ]
          },
          "metadata": {},
          "execution_count": 10
        },
        {
          "output_type": "display_data",
          "data": {
            "text/plain": [
              "<Figure size 432x288 with 1 Axes>"
            ],
            "image/png": "[encoded data removed]"
          },
          "metadata": {
            "needs_background": "light"
          }
        }
      ]
    },
    {
      "cell_type": "code",
      "source": [
        "#reproduce the same result every time if the script is kept consistent otherwise each run will produce different results\n",
        "np.random.seed(500)"
      ],
      "metadata": {
        "id": "exbLtoFDWKBD"
      },
      "execution_count": 11,
      "outputs": []
    },
    {
      "cell_type": "code",
      "source": [
        "import nltk\n",
        "nltk.download('punkt')\n",
        "nltk.download('wordnet')\n",
        "nltk.download('averaged_perceptron_tagger')\n",
        "nltk.download('stopwords')"
      ],
      "metadata": {
        "colab": {
          "base_uri": "https://localhost:8080/"
        },
        "id": "S9n146TZiIOV",
        "outputId": "1bf788be-a31c-43a1-9ab9-a63541cf5bf1"
      },
      "execution_count": 12,
      "outputs": [
        {
          "output_type": "stream",
          "name": "stdout",
          "text": [
            "[nltk_data] Downloading package punkt to /root/nltk_data...\n",
            "[nltk_data]   Unzipping tokenizers/punkt.zip.\n",
            "[nltk_data] Downloading package wordnet to /root/nltk_data...\n",
            "[nltk_data]   Unzipping corpora/wordnet.zip.\n",
            "[nltk_data] Downloading package averaged_perceptron_tagger to\n",
            "[nltk_data]     /root/nltk_data...\n",
            "[nltk_data]   Unzipping taggers/averaged_perceptron_tagger.zip.\n",
            "[nltk_data] Downloading package stopwords to /root/nltk_data...\n",
            "[nltk_data]   Unzipping corpora/stopwords.zip.\n"
          ]
        },
        {
          "output_type": "execute_result",
          "data": {
            "text/plain": [
              "True"
            ]
          },
          "metadata": {},
          "execution_count": 12
        }
      ]
    },
    {
      "cell_type": "code",
      "source": [
        "# Step - a : Remove blank rows if any.\n",
        "df['ReportText'].dropna(inplace=True)"
      ],
      "metadata": {
        "id": "2BEjLOUtW4r9"
      },
      "execution_count": 13,
      "outputs": []
    },
    {
      "cell_type": "code",
      "source": [
        "# Step - b : Change all the text to lower case.\n",
        "df['ReportText']= [entry.lower() for entry in df['ReportText']]"
      ],
      "metadata": {
        "id": "804dG4XFWKFc"
      },
      "execution_count": 14,
      "outputs": []
    },
    {
      "cell_type": "code",
      "source": [
        "# Step - c : Tokenization : In this each entry in the report will be broken into set of words\n",
        "df['ReportText']= [word_tokenize(entry) for entry in df['ReportText']]"
      ],
      "metadata": {
        "id": "Gw5ZPF_MWKJw"
      },
      "execution_count": 15,
      "outputs": []
    },
    {
      "cell_type": "code",
      "source": [
        "# Step - d : Remove Stop words, Non-Numeric and perfom Word Stemming/Lemmenting.\n",
        "# WordNetLemmatizer requires Pos tags to understand if the word is noun or verb or adjective etc. \n",
        "tag_map = defaultdict(lambda : wn.NOUN)\n",
        "tag_map['J'] = wn.ADJ\n",
        "tag_map['V'] = wn.VERB\n",
        "tag_map['R'] = wn.ADV\n",
        "for index,entry in enumerate(df['ReportText']):\n",
        "    # Declaring Empty List to store the words that follow the rules for this step\n",
        "    Final_words = []\n",
        "    # Initializing WordNetLemmatizer()\n",
        "    word_Lemmatized = WordNetLemmatizer()\n",
        "    # pos_tag function below will provide the 'tag' i.e if the word is Noun(N) or Verb(V) or something else.\n",
        "    for word, tag in pos_tag(entry):\n",
        "        # Below condition is to check for Stop words and consider only alphabets\n",
        "        if word not in stopwords.words('english') and word.isalpha():\n",
        "            word_Final = word_Lemmatized.lemmatize(word,tag_map[tag[0]])\n",
        "            Final_words.append(word_Final)\n",
        "    # The final processed set of words for each iteration will be stored in 'text_final'\n",
        "    df.loc[index,'text_final'] = str(Final_words)"
      ],
      "metadata": {
        "id": "EsEeo88IhC2r"
      },
      "execution_count": 16,
      "outputs": []
    },
    {
      "cell_type": "code",
      "source": [
        "df.head()"
      ],
      "metadata": {
        "colab": {
          "base_uri": "https://localhost:8080/",
          "height": 206
        },
        "id": "y0N3SOcujuJa",
        "outputId": "28264976-d019-477e-f3f0-29bc751f8d04"
      },
      "execution_count": 17,
      "outputs": [
        {
          "output_type": "execute_result",
          "data": {
            "text/plain": [
              "                                          ReportText  Label  \\\n",
              "0  [x, thorax, 16-04-2020, ,, 16:05, hartgrootte,...      0   \n",
              "1  [x, thorax, 16-04-2020, ,, 11:14, hartgrootte,...      0   \n",
              "2  [x, thorax, 16-04-2020, ,, 11:38, laagstaande,...      0   \n",
              "3  [ct, thorax, 16-04-2020, ,, 21:41, geen, pulmo...      1   \n",
              "4  [ct, hr-thorax, 16-04-2020, ,, 13:07, blanco, ...      1   \n",
              "\n",
              "                                          text_final  \n",
              "0  ['x', 'thorax', 'hartgrootte', 'binnen', 'de',...  \n",
              "1  ['x', 'thorax', 'hartgrootte', 'binnen', 'de',...  \n",
              "2  ['x', 'thorax', 'laagstaande', 'afgevlakte', '...  \n",
              "3  ['ct', 'thorax', 'geen', 'pulmonale', 'infiltr...  \n",
              "4  ['ct', 'blanco', 'hrct', 'scan', 'ten', 'opzic...  "
            ],
            "text/html": [
              "\n",
              "  <div id=\"df-9efaa0ed-b894-4f07-a766-c9c5d89298da\">\n",
              "    <div class=\"colab-df-container\">\n",
              "      <div>\n",
              "<style scoped>\n",
              "    .dataframe tbody tr th:only-of-type {\n",
              "        vertical-align: middle;\n",
              "    }\n",
              "\n",
              "    .dataframe tbody tr th {\n",
              "        vertical-align: top;\n",
              "    }\n",
              "\n",
              "    .dataframe thead th {\n",
              "        text-align: right;\n",
              "    }\n",
              "</style>\n",
              "<table border=\"1\" class=\"dataframe\">\n",
              "  <thead>\n",
              "    <tr style=\"text-align: right;\">\n",
              "      <th></th>\n",
              "      <th>ReportText</th>\n",
              "      <th>Label</th>\n",
              "      <th>text_final</th>\n",
              "    </tr>\n",
              "  </thead>\n",
              "  <tbody>\n",
              "    <tr>\n",
              "      <th>0</th>\n",
              "      <td>[x, thorax, 16-04-2020, ,, 16:05, hartgrootte,...</td>\n",
              "      <td>0</td>\n",
              "      <td>['x', 'thorax', 'hartgrootte', 'binnen', 'de',...</td>\n",
              "    </tr>\n",
              "    <tr>\n",
              "      <th>1</th>\n",
              "      <td>[x, thorax, 16-04-2020, ,, 11:14, hartgrootte,...</td>\n",
              "      <td>0</td>\n",
              "      <td>['x', 'thorax', 'hartgrootte', 'binnen', 'de',...</td>\n",
              "    </tr>\n",
              "    <tr>\n",
              "      <th>2</th>\n",
              "      <td>[x, thorax, 16-04-2020, ,, 11:38, laagstaande,...</td>\n",
              "      <td>0</td>\n",
              "      <td>['x', 'thorax', 'laagstaande', 'afgevlakte', '...</td>\n",
              "    </tr>\n",
              "    <tr>\n",
              "      <th>3</th>\n",
              "      <td>[ct, thorax, 16-04-2020, ,, 21:41, geen, pulmo...</td>\n",
              "      <td>1</td>\n",
              "      <td>['ct', 'thorax', 'geen', 'pulmonale', 'infiltr...</td>\n",
              "    </tr>\n",
              "    <tr>\n",
              "      <th>4</th>\n",
              "      <td>[ct, hr-thorax, 16-04-2020, ,, 13:07, blanco, ...</td>\n",
              "      <td>1</td>\n",
              "      <td>['ct', 'blanco', 'hrct', 'scan', 'ten', 'opzic...</td>\n",
              "    </tr>\n",
              "  </tbody>\n",
              "</table>\n",
              "</div>\n",
              "      <button class=\"colab-df-convert\" onclick=\"convertToInteractive('df-9efaa0ed-b894-4f07-a766-c9c5d89298da')\"\n",
              "              title=\"Convert this dataframe to an interactive table.\"\n",
              "              style=\"display:none;\">\n",
              "        \n",
              "  <svg xmlns=\"http://www.w3.org/2000/svg\" height=\"24px\"viewBox=\"0 0 24 24\"\n",
              "       width=\"24px\">\n",
              "    <path d=\"M0 0h24v24H0V0z\" fill=\"none\"/>\n",
              "    <path d=\"M18.56 5.44l.94 2.06.94-2.06 2.06-.94-2.06-.94-.94-2.06-.94 2.06-2.06.94zm-11 1L8.5 8.5l.94-2.06 2.06-.94-2.06-.94L8.5 2.5l-.94 2.06-2.06.94zm10 10l.94 2.06.94-2.06 2.06-.94-2.06-.94-.94-2.06-.94 2.06-2.06.94z\"/><path d=\"M17.41 7.96l-1.37-1.37c-.4-.4-.92-.59-1.43-.59-.52 0-1.04.2-1.43.59L10.3 9.45l-7.72 7.72c-.78.78-.78 2.05 0 2.83L4 21.41c.39.39.9.59 1.41.59.51 0 1.02-.2 1.41-.59l7.78-7.78 2.81-2.81c.8-.78.8-2.07 0-2.86zM5.41 20L4 18.59l7.72-7.72 1.47 1.35L5.41 20z\"/>\n",
              "  </svg>\n",
              "      </button>\n",
              "      \n",
              "  <style>\n",
              "    .colab-df-container {\n",
              "      display:flex;\n",
              "      flex-wrap:wrap;\n",
              "      gap: 12px;\n",
              "    }\n",
              "\n",
              "    .colab-df-convert {\n",
              "      background-color: #E8F0FE;\n",
              "      border: none;\n",
              "      border-radius: 50%;\n",
              "      cursor: pointer;\n",
              "      display: none;\n",
              "      fill: #1967D2;\n",
              "      height: 32px;\n",
              "      padding: 0 0 0 0;\n",
              "      width: 32px;\n",
              "    }\n",
              "\n",
              "    .colab-df-convert:hover {\n",
              "      background-color: #E2EBFA;\n",
              "      box-shadow: 0px 1px 2px rgba(60, 64, 67, 0.3), 0px 1px 3px 1px rgba(60, 64, 67, 0.15);\n",
              "      fill: #174EA6;\n",
              "    }\n",
              "\n",
              "    [theme=dark] .colab-df-convert {\n",
              "      background-color: #3B4455;\n",
              "      fill: #D2E3FC;\n",
              "    }\n",
              "\n",
              "    [theme=dark] .colab-df-convert:hover {\n",
              "      background-color: #434B5C;\n",
              "      box-shadow: 0px 1px 3px 1px rgba(0, 0, 0, 0.15);\n",
              "      filter: drop-shadow(0px 1px 2px rgba(0, 0, 0, 0.3));\n",
              "      fill: #FFFFFF;\n",
              "    }\n",
              "  </style>\n",
              "\n",
              "      <script>\n",
              "        const buttonEl =\n",
              "          document.querySelector('#df-9efaa0ed-b894-4f07-a766-c9c5d89298da button.colab-df-convert');\n",
              "        buttonEl.style.display =\n",
              "          google.colab.kernel.accessAllowed ? 'block' : 'none';\n",
              "\n",
              "        async function convertToInteractive(key) {\n",
              "          const element = document.querySelector('#df-9efaa0ed-b894-4f07-a766-c9c5d89298da');\n",
              "          const dataTable =\n",
              "            await google.colab.kernel.invokeFunction('convertToInteractive',\n",
              "                                                     [key], {});\n",
              "          if (!dataTable) return;\n",
              "\n",
              "          const docLinkHtml = 'Like what you see? Visit the ' +\n",
              "            '<a target=\"_blank\" href=https://colab.research.google.com/notebooks/data_table.ipynb>data table notebook</a>'\n",
              "            + ' to learn more about interactive tables.';\n",
              "          element.innerHTML = '';\n",
              "          dataTable['output_type'] = 'display_data';\n",
              "          await google.colab.output.renderOutput(dataTable, element);\n",
              "          const docLink = document.createElement('div');\n",
              "          docLink.innerHTML = docLinkHtml;\n",
              "          element.appendChild(docLink);\n",
              "        }\n",
              "      </script>\n",
              "    </div>\n",
              "  </div>\n",
              "  "
            ]
          },
          "metadata": {},
          "execution_count": 17
        }
      ]
    },
    {
      "cell_type": "markdown",
      "source": [
        "*STEP -5: Prepare Train and Test Data sets*"
      ],
      "metadata": {
        "id": "UScyZNBUjREa"
      }
    },
    {
      "cell_type": "code",
      "source": [
        "Train_X, Test_X, Train_Y, Test_Y = model_selection.train_test_split(df['text_final'],df['Label'],test_size=0.2)"
      ],
      "metadata": {
        "id": "FzzQsOnohC7Z"
      },
      "execution_count": 18,
      "outputs": []
    },
    {
      "cell_type": "markdown",
      "source": [
        "*STEP -6: Encoding*"
      ],
      "metadata": {
        "id": "DF18LnYkj3Bm"
      }
    },
    {
      "cell_type": "code",
      "source": [
        "Encoder = LabelEncoder()\n",
        "Train_Y = Encoder.fit_transform(Train_Y)\n",
        "Test_Y = Encoder.fit_transform(Test_Y)"
      ],
      "metadata": {
        "id": "D1Uh2AnvhDAF"
      },
      "execution_count": 19,
      "outputs": []
    },
    {
      "cell_type": "markdown",
      "source": [
        "*STEP -7: Word Vectorization*"
      ],
      "metadata": {
        "id": "cbHEPM0LkGIZ"
      }
    },
    {
      "cell_type": "code",
      "source": [
        "Tfidf_vect = TfidfVectorizer(max_features=5000)\n",
        "Tfidf_vect.fit(df['text_final'])\n",
        "Train_X_Tfidf = Tfidf_vect.transform(Train_X)\n",
        "Test_X_Tfidf = Tfidf_vect.transform(Test_X)"
      ],
      "metadata": {
        "id": "q41rGkX3kGaN"
      },
      "execution_count": 20,
      "outputs": []
    },
    {
      "cell_type": "code",
      "source": [
        "#syntax to see the vocabulary \n",
        "print(Tfidf_vect.vocabulary_)"
      ],
      "metadata": {
        "colab": {
          "base_uri": "https://localhost:8080/"
        },
        "id": "2aOMVQjekWta",
        "outputId": "0d55e346-131c-4182-9a26-8cf9a544380e"
      },
      "execution_count": 21,
      "outputs": [
        {
          "output_type": "stream",
          "name": "stdout",
          "text": [
            "{'thorax': 3603, 'hartgrootte': 1475, 'binnen': 450, 'de': 871, 'norm': 2501, 'hilus': 1552, 'en': 1106, 'mediastinum': 2261, 'niet': 2484, 'afwijkend': 136, 'longvelden': 2123, 'helder': 1489, 'meet': 2281, 'normale': 2505, 'interstitiele': 1765, 'tekening': 3572, 'longvaattekening': 2120, 'conclusie': 717, 'geen': 1289, 'bijzonderheden': 445, 'conform': 727, 'laagstaande': 1896, 'afgevlakte': 117, 'diafragmakoepels': 926, 'ruim': 3227, 'retrosternaal': 3182, 'venster': 3824, 'passend': 2778, 'bij': 428, 'copd': 770, 'aan': 0, 'hart': 1469, 'afwijkingen': 139, 'longen': 2083, 'plaat': 2855, 'atelectatische': 278, 'afwijking': 138, 'die': 943, 'op': 2626, 'dorsobasaal': 1010, 'aanwezig': 44, 'laterale': 1924, 'opname': 2648, 'nu': 2511, 'verdwenen': 3868, 'verder': 3858, 'ct': 824, 'pulmonale': 3003, 'infiltraten': 1710, 'volumeverlies': 4008, 'onderkwabben': 2568, 'prominente': 2983, 'segmentale': 3310, 'vaten': 3815, 'perifeer': 2819, 'dorsaal': 1006, 'matglas': 2236, 'ventrodorsale': 3833, 'gradient': 1419, 'bronchuspathologie': 568, 'lymfadenopathie': 2166, 'normaal': 2502, 'hiatus': 1536, 'hernia': 1520, 'vreemde': 4041, 'vorm': 4035, 'van': 3793, 'maag': 2187, 'met': 2299, 'balvormige': 304, 'configuratie': 723, 'lineaire': 1993, 'structuren': 3484, 'aspecifieke': 261, 'diffuse': 953, 'verdichting': 3860, 'mesenteriaal': 2290, 'vetweefsel': 3971, 'bovenbuik': 515, 'wel': 4091, 'atelectase': 275, 'inhoud': 1744, 'blanco': 466, 'hrct': 1609, 'scan': 3249, 'ten': 3575, 'opzichte': 2660, 'geringe': 1348, 'gynaecomastie': 1449, 'beiderzijds': 345, 'aanwijzingen': 49, 'voor': 4010, 'axillaire': 297, 'supraclaviculaire': 3541, 'mediastinale': 2260, 'er': 1123, 'een': 1073, 'lymfeklier': 2170, 'level': 1946, 'korte': 1871, 'mm': 2372, 'dit': 978, 'eventuele': 1143, 'hilaire': 1550, 'goed': 1412, 'te': 3566, 'beoordelen': 372, 'deze': 920, 'forse': 1204, 'truncus': 3680, 'pulmonalis': 3005, 'welke': 4092, 'cm': 687, 'hoofdstam': 1587, 'rechts': 3088, 'link': 1998, 'cave': 635, 'hypertensie': 1642, 'pericardvocht': 2818, 'pleuravocht': 2882, 'tonen': 3643, 'uitgebreid': 3719, 'centrilobulair': 644, 'emfyseem': 1101, 'beeld': 325, 'het': 1525, 'meest': 2279, 'uitgesproken': 3724, 'bovenvelden': 534, 'tevens': 3591, 'sprake': 3422, 'paraseptaal': 2760, 'fissuren': 1189, 'imponeren': 1682, 'intact': 1752, 'versterkte': 3928, 'subpleurale': 3517, 'reticulatie': 3164, 'ondervelden': 2582, 'zijn': 4196, 'ter': 3582, 'plaatse': 2859, 'tractiebronchiëctasieën': 3666, 'enkele': 1117, 'bulla': 588, 'zekere': 4175, 'honeycomb': 1581, 'kader': 1815, 'fibrose': 1179, 'fibrotische': 1182, 'pleurale': 2876, 'topafwijkingen': 3648, 'rechterzijde': 3086, 'onscherp': 2600, 'begrensde': 335, 'consolidatie': 731, 'lingula': 1995, 'maximaal': 2248, 'transversale': 3672, 'vlak': 3979, 'rip': 3210, 'toch': 3629, 'meegescande': 2275, 'bovenbuiks': 517, 'coupe': 807, 'skelet': 3357, 'degeneratieve': 883, 'kenmerken': 1833, 'advies': 100, 'overweeg': 2717, 'correlatie': 792, 'middels': 2322, 'pet': 2846, 'meer': 2276, 'dan': 856, 'intrapulmonaal': 1780, 'abdomen': 59, 'lever': 1947, 'homogeen': 1579, 'galblaas': 1228, 'pancreas': 2730, 'milt': 2350, 'aankleuring': 22, 'nierparenchym': 2480, 'corticale': 798, 'cysten': 838, 'stuwing': 3491, 'retroperitoneale': 3178, 'kleine': 1843, 'bekken': 349, 'colon': 699, 'zover': 4210, 'standaard': 3434, 'ossaal': 2673, 'osteolytische': 2680, 'deels': 876, 'sclerotisch': 3296, 'corpus': 789, 'onderbrekingen': 2564, 'maligniteit': 2209, 'uit': 3707, 'sluiten': 3378, 'ossale': 2674, 'laesies': 1906, 'thoracaal': 3596, 'behoudens': 342, 'fractuur': 1213, 'abdominaal': 60, 'obesitas': 2513, 'nieuwe': 2486, 'focale': 1198, 'perifissurale': 2823, 'rechter': 3046, 'bovenkwab': 522, 'spiculae': 3397, 'tractie': 3665, 'fissura': 1187, 'minor': 2361, 'vorige': 4033, 'hier': 1537, 'discrete': 969, 'matglasverdichtingen': 2244, 'matglasverdichting': 2243, 'perifere': 2820, 'linker': 1999, 'meerdere': 2277, 'onderkwab': 2567, 'minimaal': 2359, 'veranderd': 3841, 'bronchiale': 551, 'levercyste': 1951, 'parapelvine': 2758, 'niercysten': 2474, 'solitaire': 3390, 'dd': 870, 'infect': 1701, 'inflammatie': 1716, 'neoplasie': 2458, 'wezenlijk': 4113, 'tov': 3654, 'typisch': 3703, 'longembolien': 2078, 'cardiaal': 616, 'device': 918, 'situ': 3355, 'overvulling': 2712, 'vergelijking': 3873, 'onderzoek': 2585, 'april': 230, 'staande': 3426, 'goede': 1414, 'inspiratiestand': 1749, 'verbreed': 3853, 'slank': 3365, 'tracheabandje': 3658, 'opgebouwd': 2637, 'tekenen': 3571, 'infiltraat': 1706, 'voorgaand': 4016, 'beschreven': 387, 'densiteiten': 900, 'thans': 3594, 'reproduceerbaar': 3136, 'tepelmarkering': 3579, 'cardiopulmonaal': 623, 'breed': 543, 'ribskelet': 3201, 'imponeert': 1681, 'thoraxbeeld': 3604, 'acute': 79, 'cardiopulmonale': 624, 'pathologie': 2781, 'pa': 2722, 'lateraal': 1923, 'scherp': 3262, 'heldere': 1490, 'sinus': 3353, 'pleura': 2874, 'ongewijzigde': 2593, 'perihilair': 2825, 'infiltratief': 1712, 'aspect': 262, 'linkerlong': 2016, 'beide': 343, 'liggen': 1981, 'minimale': 2360, 'wervelkolom': 4108, 'suggestie': 3526, 'gering': 1347, 'vaattekening': 3777, 'vasculaire': 3807, 'nog': 2496, 'eenmaal': 1076, 'controle': 758, 'iets': 1659, 'suboptimaal': 3514, 'coronairsclerose': 786, 'atherosclerotische': 281, 'veranderingen': 3844, 'thoracale': 3597, 'aorta': 201, 'basaal': 310, 'ademhalingsartefacten': 83, 'streepvormige': 3473, 'zeer': 4172, 'mozaïek': 2390, 'attenuatie': 288, 'perifissuraal': 2822, 'infectieus': 1703, 'omschreven': 2553, 'haarden': 1454, 'noduli': 2493, 'bronchiëctasieën': 556, 'slide': 3372, 'diaphragmatica': 938, 'wat': 4078, 'atherosclerose': 280, 'bronchopathische': 561, 'verspreid': 3923, 'mucoïde': 2398, 'impactie': 1678, 'name': 2436, 'afgenomen': 112, 'maar': 2200, 'nodulaire': 2491, 'laesie': 1905, 'rechterbovenkwab': 3051, 'eerder': 1080, 'duidelijk': 1044, 'densiteit': 899, 'vrij': 4042, 'gedemarqueerd': 1281, 'ook': 2622, 'toont': 3646, 'resterende': 3153, 'centraal': 642, 'hoogte': 1594, 'nodus': 2495, 'linkeronderkwab': 2022, 'afgebeeld': 106, 'slanke': 3366, 'bijnieren': 438, 'bekende': 348, 'verspreide': 3924, 'verdere': 3859, 'follow': 1202, 'inspiratie': 1747, 'vergeleken': 3869, 'juli': 1812, 'essentieel': 1135, 'gewijzigd': 1382, 'strengen': 3475, 'zichtbaar': 4187, 'subtiele': 3523, 'linkerbovenkwab': 2005, 'mindere': 2355, 'mate': 2233, 'lucente': 2137, 'gebieden': 1255, 'vaatstructuren': 3774, 'longnoduli': 2102, 'centrale': 643, 'bronchopathie': 560, 'ernstige': 1130, 'coronaire': 783, 'tot': 3651, 'ca': 595, 'verwijde': 3949, 'valsalva': 3791, 'verloop': 3894, 'kaliber': 1817, 'overige': 2704, 'ligging': 1984, 'coil': 691, 'afgebeelde': 107, 'nieren': 2475, 'hyperdense': 1635, 'cyste': 836, 'bovenpool': 530, 'toegenomen': 3633, 'grootte': 1440, 'augustus': 292, 'weke': 4088, 'delen': 889, 'bekend': 347, 'bovenkwabben': 523, 'respiratoire': 3143, 'bronchiolitis': 552, 'post': 2929, 'medicatiegerelateerd': 2265, 'belangrijke': 354, 'nevenbevindingen': 2467, 'thoraxfoto': 3609, 'primaire': 2966, 'bevinding': 413, 'subpleuraal': 3516, 'apicaal': 221, 'bevindingen': 414, 'interstitieel': 1764, 'patroon': 2787, 'linkernier': 2019, 'gedilateerd': 1282, 'pyelum': 3015, 'calicessysteem': 608, 'rechternier': 3073, 'waarschijnlijk': 4059, 'basis': 313, 'status': 3444, 'na': 2423, 'uterusextirpatie': 3756, 'diverticulosis': 981, 'sigmoïd': 3338, 'hematogene': 1496, 'lymfogene': 2179, 'metastasen': 2303, 'aantoonbaar': 36, 'vergelijk': 3870, 'longembolie': 2077, 'target': 3563, 'non': 2498, 'gladde': 1404, 'segment': 3309, 'kan': 1825, 'passen': 2777, 'hemangioom': 1495, 'spoor': 3419, 'portaal': 2919, 'paracolisch': 2750, 'blastische': 467, 'lytische': 2186, 'skelethaarden': 3360, 'aerobili': 101, 'chirurgie': 658, 'porta': 2918, 'cath': 631, 'subclavia': 3503, 'vena': 3819, 'cava': 634, 'superior': 3533, 'ziekte': 4190, 'activiteit': 75, 'aangetoond': 10, 'uw': 3759, 'verzoek': 3959, 'tracheostoma': 3664, 'operatieclips': 2632, 'supraclaviculair': 3540, 'aanwijzing': 48, 'fors': 1203, 'cor': 772, 'verwijd': 3948, 'beperkt': 375, 'uitgesloten': 3723, 'mucusimpactie': 2400, 'elder': 1089, 'consolidaties': 732, 'organen': 2663, 'veel': 3818, 'vocht': 3988, 'licht': 1972, 'afgeplatte': 114, 'wervelcorpora': 4100, 'laagthoracaal': 1897, 'laryngectomie': 1919, 'plaatsen': 2862, 'onwaarschijnlijk': 2619, 'dependente': 904, 'pericardeffusie': 2813, 'galsteen': 1235, 'intrapulmonale': 1781, 'dependent': 903, 'gemeten': 1324, 'oogt': 2621, 'minder': 2354, 'volumineus': 4009, 'multipele': 2411, 'puntiforme': 3012, 'verkalkingen': 3881, 'grove': 1448, 'verkalking': 3880, 'langs': 1916, 'major': 2207, 'dorsale': 1007, 'zijde': 4192, 'wigvormige': 4118, 'inzakking': 1788, 'oude': 2687, 'ribfracturen': 3195, 'costa': 802, 'hiervan': 1547, 'basale': 311, 'brede': 541, 'oa': 2512, 'obv': 2521, 'doorgemaakte': 997, 'infectie': 1702, 'pneumoconiose': 2900, 'microlithiasis': 2314, 'sarcoidose': 3244, 'maart': 2201, 'nodulus': 2494, 'ongewijzigd': 2592, 'afname': 126, 'wijde': 4121, 'lymfeklieren': 2171, 'longnodus': 2104, 'zonder': 4207, 'contrast': 744, 'twk': 3701, 'plaatatelectase': 2856, 'middenkwab': 2327, 'rechteronderkwab': 3076, 'verbrede': 3850, 'intralobulaire': 1773, 'septum': 3326, 'solide': 3389, 'focus': 1200, 'vergrote': 3875, 'atrium': 283, 'coronair': 780, 'sclerose': 3293, 'dilatatie': 961, 'pulmonaal': 2998, 'arterie': 242, 'wijzen': 4125, 'longafwijking': 2064, 'uitslag': 3731, 'telefonisch': 3574, 'doorgegeven': 995, 'door': 989, 'xxxxxlmann': 4164, 'hein': 1487, 'xxxxvrager': 4160, 'gescand': 1354, 'aansluiting': 33, 'conventionele': 765, 'foto': 1208, 'vandaag': 3795, 'buismaag': 585, 'reconstructie': 3101, 'streng': 3474, 'verbreding': 3851, 'suspecte': 3547, 'verkalkte': 3883, 'schildkliernoduli': 3270, 'separate': 3320, 'afbeelding': 103, 'enigszins': 1115, 'verademde': 3838, 'afplatting': 128, 'bovenste': 532, 'sluitplaat': 3379, 'wervel': 4099, 'cortexonderbrekingen': 797, 'omgevende': 2550, 'recente': 3042, 'anteropositie': 199, 'facetartrose': 1164, 'betreffende': 402, 'spondylolistesis': 3415, 'graad': 1416, 'mitralisannulus': 2367, 'intrathoracaal': 1782, 'gelegen': 1303, 'rustig': 3233, 'parastomale': 2765, 'vet': 3961, 'verbredingen': 3852, 'mogelijk': 2379, 'bijmilt': 432, 'traumatisch': 3675, 'letsel': 1942, 'inzakkingsfractuur': 1791, 'multinodulaire': 2409, 'gebied': 1254, 'plaatatelectasen': 2857, 'perihilaire': 2826, 'pleuraverkalkingen': 2881, 'wervelinzakkingen': 4106, 'groei': 1435, 'gemengde': 1322, 'januari': 1805, 'evidente': 1145, 'vaatkalk': 3769, 'leeftijdsconforme': 1932, 'degeneratie': 881, 'februari': 1173, 'tumor': 3686, 'longhaard': 2087, 'groter': 1444, 'toename': 3636, 'meetbaar': 2282, 'subcarinale': 3500, 'kleiner': 1844, 'anterieur': 190, 'lymphangitis': 2184, 'carcinomatosa': 613, 'levermetastasen': 1961, 'skeletmetastasen': 3362, 'ribben': 3190, 'sternum': 3464, 'biconcaaf': 424, 'hoogteverlies': 1596, 'wervelcorpus': 4101, 'postoperatieve': 2945, 'verandering': 3843, 'wigexcisie': 4115, 'twee': 3697, 'expiratie': 1152, 'derhalve': 908, 'longembolieën': 2080, 'scatter': 3256, 'artefacten': 239, 'paratracheaal': 2766, 'longsetting': 2109, 'duidelijke': 1045, 'plompe': 2891, 'bijnier': 436, 'collaps': 694, 'beoordeelbaar': 369, 'rechterlong': 3067, 'pneumonectomie': 2902, 'operatiegebied': 2634, 'hilair': 1549, 'apicodorsaal': 224, 'restafwijking': 3145, 'leversegment': 1965, 'recidief': 3098, 'zowel': 4211, 'al': 147, 'protocol': 2991, 'toediening': 3632, 'intraveneus': 1784, 'arterieel': 243, 'getimede': 1364, 'verminderde': 3899, 'pompfunctie': 2916, 'wijder': 4122, 'uitgebreide': 3720, 'grootste': 1438, 'afmeting': 124, 'plaque': 2868, 'granuloompjes': 1427, 'decompensatie': 873, 'past': 2779, 'longoedeem': 2105, 'bijmiltje': 433, 'spondylosis': 3417, 'thoracalis': 3598, 'wervelkanaal': 4107, 'doorgankelijk': 993, 'slechte': 3369, 'decompensatio': 874, 'cordis': 776, 'reactief': 3037, 'vergroot': 3874, 'actuele': 77, 'mesothelioom': 2298, 'lead': 1930, 'pacemaker': 2724, 'via': 3972, 'positie': 2927, 'partiële': 2776, 'relaxatie': 3131, 'hemidiafragma': 1502, 'plaatvormige': 2864, 'endobronchiale': 1109, 'steatosis': 3446, 'hepatis': 1511, 'samengevallen': 3241, 'galwegen': 1238, 'drie': 1027, 'subcapsulaire': 3498, 'hypodensiteiten': 1651, 'wigvormig': 4117, 'hemangiomen': 1494, 'darmstructuren': 864, 'verkalkt': 3882, 'anterieure': 191, 'paraspinale': 2762, 'ligament': 1978, 'idiopathische': 1657, 'skeletale': 3358, 'hyperostose': 1640, 'dish': 971, 'cardiomegalie': 622, 'ctr': 826, 'elongatio': 1098, 'teveel': 3590, 'basodorsaal': 314, 'summatiebeeld': 3529, 'echt': 1068, 'hiermee': 1543, 'volledig': 4001, 'verklaren': 3886, 'overprojectie': 2709, 'geëlongeerde': 1392, 'descendens': 909, 'boven': 513, 'genoemde': 1330, 'locatie': 2053, 'toen': 3635, 'geduid': 1287, 'eci': 1070, 'eenmalige': 1078, 'aanvragen': 39, 'verband': 3845, 'bovengenoemde': 521, 'november': 2508, 'schouderprothese': 3282, 'mei': 2286, 'oud': 2686, 'pneumothorax': 2906, 'wervelinzakking': 4105, 'verdenking': 3857, 'pneumonie': 2903, 'weken': 4090, 'lijken': 1988, 'onveranderd': 2613, 'voorgaande': 4017, 'werden': 4096, 'net': 2461, 'pneulijn': 2896, 'afgrensbaar': 119, 'tekst': 3573, 'addendum': 80, 'excuse': 1149, 'eerste': 1083, 'instantie': 1750, 'foutieve': 1210, 'verslag': 3918, 'werd': 4095, 'veroorzaakt': 3907, 'fout': 1209, 'spraak': 3421, 'herkenning': 1519, 'ap': 219, 'liggende': 1983, 'hoogstand': 1593, 'projectiekwestie': 2981, 'zaal': 4170, 'rechteratrium': 3048, 'vlekkige': 3982, 'midthoracaal': 2339, 'dag': 854, 'om': 2539, 'uur': 3758, 'geluxeerde': 1317, 'maagsonde': 2194, 'verwijderd': 3951, 'randpneumothorax': 3032, 'schil': 3265, 'lucht': 2140, 'rond': 3217, 'long': 2063, 'shift': 3330, 'naar': 2425, 'luchthoudendheid': 2148, 'apicale': 222, 'tweede': 3698, 'beademingstube': 319, 'carina': 626, 'neus': 2464, 'voorbij': 4015, 'diafragmata': 929, 'superius': 3534, 'mediaanlijn': 2256, 'interstitiële': 1767, 'luchtbronchogram': 2141, 'thoraxdrain': 3605, 'tip': 3628, 'ontplooid': 2604, 'hoeveelheid': 1568, 'subcutaan': 3507, 'thoraxwand': 3616, 'thoraxopname': 3612, 'staplenaad': 3438, 'lobectomie': 2049, 'restlong': 3157, 'luchtconfiguratie': 2144, 'projecterend': 2979, 'steed': 3449, 'uitbreiding': 3709, 'richting': 3203, 'rechterhilus': 3060, 'enige': 1114, 'irradiatie': 1794, 'zoals': 4204, 'gemeld': 1319, 'essentie': 1134, 'sclc': 3292, 'ventraal': 3825, 'ruime': 3228, 'linkerhemithorax': 2012, 'ondanks': 2561, 'meting': 2308, 'dat': 867, 'vermoedelijk': 3900, 'sarcoïdose': 3245, 'progressie': 2974, 'kastje': 1830, 'pectoraal': 2792, 'overbruggende': 2699, 'spondylofyten': 3414, 'pacemakerimplantatie': 2726, 'complicaties': 710, 'bedraagt': 322, 'suboptimale': 3515, 'arm': 235, 'alleen': 156, 'verwijdering': 3954, 'drain': 1021, 'afgrensbare': 121, 'patiënt': 2785, 'zittende': 4202, 'bolvormige': 491, 'waaruit': 4065, 'vanmorgen': 3796, 'onder': 2562, 'drietal': 1030, 'biopten': 454, 'genomen': 1331, 'longbeeld': 2070, 'staan': 3425, 'matige': 2246, 'cardiomediastinale': 621, 'schaduw': 3257, 'lijkt': 1989, 'hierbij': 1539, 'elongatie': 1097, 'diafragmakoepel': 925, 'linkerzijde': 2034, 'longtoppen': 2113, 'beschaduwing': 382, 'rechterbovenveld': 3053, 'geloketteerd': 1314, 'diafragmahoogstand': 924, 'adhesieve': 95, 'bevindt': 415, 'zich': 4186, 'trachea': 3657, 'rechterhoofdbronchus': 3061, 'lopen': 2132, 'xxxxxer': 4163, 'hooijboer': 1600, 'xxxx': 4137, 'huizen': 1620, 'neuroloog': 2462, 'afgeronde': 115, 'onscherpe': 2601, 'aanwijsbaar': 46, 'hyperinflatie': 1638, 'midthoracale': 2340, 'afvlakking': 135, 'eerdere': 1081, 'half': 1457, 'massa': 2225, 'mediaal': 2255, 'chronisch': 670, 'stuwingsbeeld': 3493, 'redelijke': 3113, 'stuwingskenmerken': 3494, 'bronchovasculaire': 566, 'bundeling': 593, 'klein': 1841, 'superpositie': 3537, 'oktober': 2537, 'geëlongeerd': 1391, 'paracardiaal': 2748, 'toppneumothorax': 3650, 'dorso': 1009, 'mediobasale': 2268, 'samenhangend': 3242, 'juni': 1813, 'essentiële': 1136, 'wijzigingen': 4128, 'longstructuur': 2110, 'diepe': 948, 'recessus': 3044, 'phrenicocostalis': 2848, 'dorsalis': 1008, 'verdikkingen': 3865, 'longhili': 2089, 'aortaschaduw': 212, 'thoraxskelet': 3614, 'onopvallend': 2595, 'vlakke': 3980, 'december': 872, 'lichte': 1973, 'sluiering': 3376, 'infiltratieve': 1713, 'luchthoudend': 2146, 'overvullingsbeeld': 2714, 'hr': 1608, 'spiraal': 3406, 'volgens': 3998, 'subtotale': 3524, 'verdikking': 3864, 'rib': 3189, 'onveranderde': 2614, 'longparenchym': 2106, 'september': 3324, 'cta': 825, 'coronairen': 784, 'subsegmentaire': 3519, 'bronchus': 567, 'grote': 1442, 'irregulair': 1795, 'hyperdens': 1634, 'micronodulair': 2315, 'go': 1411, 'mip': 2363, 'doet': 985, 'denken': 896, 'galaxy': 1227, 'sign': 3342, 'calcificaties': 604, 'irregulaire': 1796, 'circa': 672, 'nieuw': 2485, 'differentiaaldiagnostisch': 951, 'wordt': 4134, 'gedacht': 1271, 'tuberculose': 3684, 'progressieve': 2976, 'massieve': 2229, 'aangezien': 15, 'silicosis': 3348, 'organiserende': 2664, 'helix': 1493, 'dikke': 957, 'axiale': 294, 'mpr': 2392, 'tracheatube': 3660, 'pathologische': 2783, 'mediastinaal': 2259, 'maximale': 2249, 'diameter': 937, 'laag': 1890, 'subcarinaal': 3499, 'huidige': 1613, 'lastig': 1920, 'vaatwandverkalkingen': 3785, 'arcus': 232, 'aortae': 204, 'bilateraal': 446, 'surplus': 3545, 'rondom': 3219, 'bronchi': 548, 'image': 1676, 'serie': 3327, 'bronchuswandverdikking': 573, 'bovenkwabsbronchus': 527, 'consolidatieve': 733, 'ground': 1446, 'glass': 1407, 'crazy': 814, 'pave': 2788, 'parahilair': 2751, 'grillige': 1434, 'parenchymateuze': 2770, 'ontbreken': 2603, 'intraveneuze': 1785, 'contrasttoediening': 753, 'herkenbare': 1517, 'leverlaesies': 1959, 'cholecystectomie': 662, 'nefrectomie': 2449, 'spoortje': 3420, 'perirenaal': 2835, 'locoregionale': 2056, 'vetinfiltratie': 3963, 'perirenale': 2836, 'onderpool': 2574, 'pyelocalicessysteem': 3014, 'atrofie': 284, 'traject': 3668, 'blaaskatheter': 460, 'coli': 692, 'diverticulitis': 979, 'afgekapselde': 111, 'vochtcollecties': 3990, 'wandaankleuring': 4069, 'verdacht': 3854, 'abcesvorming': 58, 'diffuus': 954, 'oedeem': 2523, 'botsetting': 509, 'laaglumbale': 1895, 'dientengevolge': 946, 'beperkte': 376, 'beoordeelbaarheid': 370, 'hetgeen': 1528, 'bovenkwabsbronchi': 525, 'duiden': 1047, 'lymfomen': 2180, 'anderszins': 177, 'covid': 808, 'abces': 56, 'eventueel': 1142, 'nader': 2430, 'analyse': 171, 'bovenstaande': 531, 'besproken': 392, 'sein': 3316, 'echo': 1065, 'opvallende': 2658, 'uitstulping': 3736, 'caudale': 633, 'nauwe': 2438, 'relatie': 3128, 'costosternale': 806, 'gewricht': 1385, 'interlobulaire': 1758, 'biliaire': 448, 'inhomogeen': 1742, 'hobbelig': 1557, 'leveroppervlak': 1963, 'pathologisch': 2782, 'aantal': 34, 'bolronde': 489, 'kliertjes': 1858, 'blaas': 457, 'blaasdivertikels': 459, 'miliaire': 2347, 'beschikbaar': 384, 'veneuze': 3823, 'fase': 1169, 'cervicaal': 650, 'axillair': 296, 'betrokkenheid': 406, 'arteriën': 248, 'oesophagei': 2527, 'longlaesies': 2095, 'dekplaatimpressie': 887, 'arteriële': 247, 'heeft': 1484, 'component': 711, 'septaties': 3323, 'calcificatie': 603, 'vasculair': 3806, 'concrement': 719, 'wijd': 4120, 'extrarenaal': 1159, 'obstructie': 2517, 'diverticulose': 980, 'wandverdikking': 4073, 'induratie': 1696, 'leverparenchym': 1964, 'matig': 2245, 'ontplooide': 2605, 'ovarica': 2694, 'convoluten': 768, 'buikwandbreuk': 581, 'herniatie': 1521, 'diastase': 940, 'buikwandmusculatuur': 583, 'navel': 2441, 'beklemming': 351, 'vanuit': 3798, 'talair': 3559, 'heupprothese': 1532, 'verminderd': 3898, 'lumbale': 2156, 'graag': 1417, 'kliniek': 1859, 'mail': 2204, 'verstuurd': 3931, 'huisman': 1619, 'ml': 2371, 'laat': 1899, 'beschrijving': 389, 'relevante': 3133, 'aankleurende': 21, 'portale': 2922, 'tenminste': 3576, 'overwegend': 2719, 'hypodense': 1648, 'afmetingen': 125, 'variëren': 3804, 'laatste': 1900, 'isodense': 1800, 'late': 1922, 'toenemend': 3637, 'andere': 175, 'isodens': 1799, 'geworden': 1384, 'diagnose': 931, 'hypodens': 1647, 'suspect': 3546, 'iso': 1798, 'echter': 1069, 'oncologische': 2559, 'verdachte': 3855, 'klieren': 1854, 'retroperitoneaal': 3177, 'inguinaal': 1740, 'cysteuze': 842, 'ventrale': 3826, 'wand': 4068, 'wandverkalking': 4075, 'bosniak': 497, 'iii': 1662, 'wisselende': 4132, 'kleinere': 1845, 'ascites': 258, 'peritoneale': 2838, 'deposities': 905, 'overig': 2703, 'asymmetrische': 273, 'niergrootte': 2477, 'nier': 2468, 'onregelmatig': 2597, 'blaaswand': 463, 'verdikt': 3866, 'gesepteerd': 1357, 'trabekelblaas': 3656, 'multiple': 2412, 'zeker': 4174, 'onderscheid': 2577, 'tussen': 3695, 'nadere': 2431, 'mri': 2394, 'afwijkende': 137, 'alsook': 159, 'mijn': 2343, 'inziens': 1792, 'alveolair': 161, 'paving': 2789, 'subtiel': 3522, 'aanzet': 50, 'zie': 4189, 'kunnen': 1879, 'daarbij': 848, 'luchtbronchogrammen': 2142, 'rok': 3214, 'mk': 2370, 'verhoogde': 3877, 'longveld': 2122, 'versterkt': 3927, 'zichtbare': 4188, 'interlobaire': 1757, 'septae': 3321, 'anderzins': 178, 'aanvraag': 38, 'onduidelijk': 2589, 'bewezen': 420, 'mrsa': 2395, 'geval': 1368, 'longlesies': 2096, 'hoogabdominaal': 1589, 'aansluitend': 32, 'aanvrager': 41, 'contrastprotocol': 751, 'matglasafwijkingen': 2237, 'hhe': 1534, 'sigmoid': 3335, 'grillig': 1433, 'gevormde': 1376, 'vochtcollectie': 3989, 'musculus': 2414, 'rectus': 3109, 'abdominus': 63, 'beginnende': 333, 'randaankleuring': 3028, 'volledige': 4002, 'afkapseling': 123, 'anterolisthesis': 198, 'aanwijzigen': 47, 'xxxxxveld': 4169, 'anne': 187, 'degradatie': 884, 'metaalartefacten': 2301, 'rechtszijdig': 3095, 'lad': 1904, 'cx': 835, 'reticulaire': 3163, 'rechtermiddenkwab': 3071, 'lingulasegment': 1997, 'dorsobasale': 1011, 'symmetrisch': 3549, 'voornamelijk': 4025, 'parahilaire': 2752, 'distributie': 977, 'rechterflank': 3054, 'vanwege': 3799, 'bovenmatig': 529, 'linkerbijnier': 2002, 'hu': 1610, 'adenoom': 86, 'dwarse': 1062, 'aortapulmonale': 211, 'laagcervicaal': 1891, 'stellate': 3451, 'omvang': 2556, 'asymmetrie': 271, 'pectoralis': 2794, 'musculatuur': 2413, 'zwelling': 4213, 'thrombus': 3619, 'brachiocephalica': 540, 'pericard': 2810, 'gevolg': 1371, 'laagcervicale': 1892, 'verdikte': 3867, 'sterk': 3456, 'degeneratief': 882, 'gehele': 1298, 'scoliose': 3298, 'gezien': 1390, 'leeftijd': 1931, 'uitzondering': 3737, 'onderveld': 2581, 'vaatverkalkingen': 3781, 'vaatwandcalcificatie': 3782, 'bifurcatie': 426, 'arteria': 240, 'carotis': 629, 'communis': 705, 'bronchuswanden': 571, 'vaatwandcalcificaties': 3783, 'directe': 965, 'ingroei': 1739, 'langwerpige': 1917, 'uiterst': 3714, 'uitloper': 3729, 'coronale': 787, 'reconstructies': 3102, 'confluerende': 726, 'azygos': 300, 'daarnaast': 852, 'weefselsurplus': 4083, 'hoofdbronchus': 1586, 'pericardiale': 2815, 'leverafwijkingen': 1949, 'beginnend': 332, 'dekplaat': 886, 'emfysemateuze': 1103, 'nodi': 2489, 'necrotische': 2446, 'opnieuw': 2652, 'sagittaal': 3239, 'erosie': 1131, 'geconflueerd': 1266, 'grotere': 1445, 'omgevend': 2549, 'kennis': 1835, 'uitgang': 3718, 'ima': 1675, 'mammasparende': 2217, 'therapie': 3595, 'rechterleverkwab': 3065, 'confluerend': 725, 'metastase': 2302, 'precarinale': 2950, 'meten': 2306, 'prevasculair': 2960, 'naast': 2426, 'clippen': 685, 'hartoor': 1476, 'paravertebraal': 2768, 'linkerleverkwab': 2015, 'paracardiale': 2749, 'longafwijkingen': 2065, 'katheter': 1831, 'costale': 803, 'ruimte': 3229, 'voorste': 4028, 'axillairlijn': 298, 'craniaal': 810, 'verlopend': 3895, 'grotendeels': 1443, 'aanliggende': 29, 'luchtcollectie': 2143, 'ventrocaudale': 3832, 'dorsomediale': 1015, 'bullae': 589, 'ventrocaudaal': 3831, 'delenemfyseem': 890, 'hals': 1460, 'pectorale': 2793, 'regio': 3122, 'rechterschouder': 3080, 'partieel': 2774, 'bovenbuikorganen': 516, 'behalve': 338, 'geheelde': 1297, 'waarschijnljik': 4064, 'symptomatisch': 3552, 'morfologie': 2387, 'extrathoracale': 1160, 'structuur': 3485, 'verademing': 3839, 'longnodi': 2101, 'enig': 1113, 'reversed': 3186, 'halo': 1459, 'levercysten': 1952, 'ivc': 1803, 'niveau': 2487, 'bronchuswand': 570, 'onvoldoende': 2618, 'aangeduide': 8, 'verdichtinkjes': 3863, 'zodanig': 4205, 'mijns': 2344, 'projectie': 2980, 'correlaat': 791, 'mamillaschaduw': 2211, 'onopvallende': 2596, 'diafragma': 922, 'contouren': 739, 'midlineshift': 2336, 'pleuro': 2884, 'epicardiaal': 1120, 'lijnen': 1991, 'kalkhoudendheid': 1823, 'botstructuur': 511, 'artritis': 251, 'arthrose': 249, 'kyfose': 1887, 'monitor': 2382, 'longcirculatie': 2073, 'geprononceerd': 1337, 'vervolgen': 3944, 'subdiafragmaal': 3510, 'scherpe': 3263, 'contour': 738, 'apex': 220, 'patiënte': 2786, 'geïntubeerd': 1399, 'tube': 3682, 'distaal': 975, 'middenveld': 2333, 'onderzoeken': 2586, 'opnamen': 2649, 'bandvormige': 308, 'fissuur': 1190, 'retrocardiaal': 3170, 'bijna': 435, 'genormaliseerd': 1332, 'gezichtspunten': 1389, 'retrocardiale': 3171, 'vrijwel': 4044, 'stompe': 3469, 'jugularislijn': 1811, 'ligt': 1986, 'adequaat': 88, 'tentvormige': 3577, 'optrekking': 2655, 'nauwelijks': 2439, 'bespeuren': 391, 'bestraling': 397, 'nsclc': 2509, 'genoemd': 1329, 'qua': 3017, 'verwijderen': 3953, 'toppneu': 3649, 'altijd': 160, 'sinuspleurae': 3354, 'blijkens': 472, 'belijning': 358, 'richtingen': 3204, 'hartfiguur': 1473, 'haardvormige': 1455, 'significant': 3343, 'vertebra': 3932, 'intrathoracale': 1783, 'botstructuren': 510, 'wezenlijke': 4114, 'thoraxdraintje': 3608, 'rechtsboven': 3089, 'terug': 3585, 'zien': 4191, 'draintje': 1024, 'relatieve': 3130, 'lingulagebied': 1996, 'reeds': 3117, 'mee': 2274, 'peribronchovasculaire': 2809, 'aortasclerose': 213, 'midline': 2335, 'wervels': 4111, 'bijvoorbeeld': 442, 'bronchopneumonie': 562, 'evident': 1144, 'hartschaduw': 1477, 'tweetal': 3699, 'progressief': 2975, 'empyeem': 1104, 'holtevorming': 1578, 'verbeterd': 3846, 'zelfs': 4180, 'thoraxhelft': 3610, 'gb': 1245, 'circumscripte': 676, 'haard': 1453, 'presentatie': 2956, 'geldt': 1301, 'voeten': 3994, 'voetskelet': 3995, 'prominerende': 2986, 'onderliggend': 2572, 'geenszins': 1290, 'daarom': 853, 'aanvullend': 42, 'imponerend': 1683, 'onderliggende': 2573, 'zekerheid': 4176, 'verdichtingen': 3861, 'beademde': 317, 'vettige': 3969, 'fysiologisch': 1221, 'longparenchymsetting': 2107, 'paraseptale': 2761, 'verlaagde': 3890, 'kalkhoudende': 1822, 'interpolair': 1762, 'concrementje': 721, 'relatief': 3129, 'hoog': 1588, 'centrilobulaire': 645, 'bulleuze': 592, 'reticulair': 3162, 'posterieure': 2932, 'micronodulus': 2317, 'significante': 3344, 'afgrensbaarheid': 120, 'cholesterol': 668, 'galstenen': 1237, 'gas': 1239, 'configuraties': 724, 'galblaashals': 1232, 'intrahepatische': 1772, 'ductus': 1042, 'choledochus': 666, 'pancreaticus': 2741, 'geaccentueerde': 1247, 'concrementen': 720, 'divertikels': 983, 'flexura': 1195, 'hepatica': 1510, 'consult': 734, 'longgeneeskunde': 2086, 'cholesterolstenen': 669, 'cholecystitis': 663, 'divertikel': 982, 'spoedarts': 3409, 'gedegradeerd': 1279, 'restafwijkingen': 3146, 'versterk': 3926, 'dense': 898, 'granuloom': 1425, 'anterobasale': 196, 'posterieur': 2931, 'verbinding': 3849, 'posterior': 2933, 'eveneens': 1141, 'ossificaties': 2675, 'zo': 4203, 'ander': 174, 'geheel': 1296, 'origine': 2666, 'reed': 3116, 'preëxistente': 2963, 'vooralsnog': 4013, 'slechts': 3370, 'gebiedjes': 1257, 'dubieus': 1040, 'drogbeeld': 1031, 'groundglass': 1447, 'mediale': 2257, 'gebiedje': 1256, 'antero': 194, 'sclerotische': 3297, 'boteilandje': 502, 'bilaterale': 447, 'virale': 3977, 'station': 3443, 'zgn': 4185, 'vasculitis': 3809, 'hemorragie': 1508, 'cop': 769, 'min': 2353, 'verwijding': 3955, 'proximale': 2993, 'herkenbaar': 1516, 'waarbij': 4051, 'bijkomende': 431, 'dubieuze': 1041, 'uitsluiten': 3732, 'lage': 1908, 'bo': 483, 'ah': 142, 'tsetting': 3681, 'laagthoracale': 1898, 'overtuigende': 2711, 'argumenten': 234, 'verlopende': 3896, 'xxxxx': 4161, 'der': 906, 'xxxxedarts': 4144, 'infraclaviculaire': 1725, 'maatvoering': 2202, 'mekaar': 2287, 'onderscheiden': 2578, 'massawerking': 2228, 'vernauwing': 3905, 'onderkwabsbronchus': 2571, 'lineair': 1992, 'ribfractuur': 3196, 'anterolateraal': 197, 'rechtsconvexe': 3091, 'buiging': 575, 'subcutane': 3508, 'postobstructie': 2941, 'vochtdensiteit': 3991, 'diagnostische': 933, 'xxxxavec': 4140, 'vertoont': 3937, 'veranderde': 3842, 'longmetastasen': 2099, 'ovale': 2693, 'schildklier': 3267, 'aneurysmatische': 183, 'suprarenale': 3544, 'abdominalis': 62, 'schrompelnier': 3286, 'echografie': 1066, 'karakteriseren': 1829, 'ernstig': 1129, 'emfysemateus': 1102, 'onzeker': 2620, 'schildkliercarcinoom': 3268, 'voorgesteld': 4020, 'beleid': 357, 'fna': 1196, 'ondiepe': 2588, 'jugularis': 1810, 'lijn': 1990, 'ondiep': 2587, 'xxxxxo': 4165, 'xqxqxxxx': 4136, 'xxxxnstdoend': 4154, 'intensivist': 1755, 'sterke': 3457, 'convexe': 767, 'ventriculoperitoneale': 3828, 'indien': 1692, 'klinisch': 1860, 'halfzittende': 1458, 'buiten': 586, 'projecteert': 2977, 'onderrand': 2576, 'prominent': 2982, 'longvaatovervulling': 2118, 'worden': 4133, 'onscherpte': 2602, 'hoeveelheden': 1567, 'vage': 3786, 'rechterthoraxhelft': 3083, 'overtuigend': 2710, 'sternotomie': 3463, 'nagenoeg': 2435, 'alle': 155, 'infiltraatvorming': 1709, 'dubbelzijdige': 1039, 'ards': 233, 'hoge': 1570, 'linkerhemidiafragma': 2011, 'rechteronderveld': 3077, 'evenals': 1140, 'restant': 3147, 'opvulling': 2659, 'lateralis': 1925, 'betreft': 403, 'tepelschaduw': 3580, 'ac': 65, 'arthrosis': 250, 'verbeterde': 3847, 'linksonder': 2037, 'plauravocht': 2872, 'behoeve': 340, 'dialyse': 935, 'ga': 1224, 'geprononceerde': 1338, 'bedthorax': 323, 'langgerekte': 1915, 'retractie': 3168, 'peribronchiale': 2807, 'paramediastinaal': 2754, 'laterodorsale': 1928, 'fijn': 1183, 'pyelumdiameter': 3016, 'inflammatoir': 1717, 'medicatie': 2264, 'gerelateerd': 1340, 'cryptogene': 823, 'beeldvorming': 329, 'overwegen': 2718, 'draads': 1019, 'cabg': 596, 'homogene': 1580, 'uitgezette': 3725, 'genormaliseerde': 1333, 'ureter': 3744, 'totale': 3652, 'prostaat': 2987, 'darmwandverdikking': 866, 'caecum': 599, 'appendix': 229, 'ontstoken': 2610, 'appendicitis': 228, 'acuta': 78, 'iliacaalvaten': 1671, 'ercp': 1124, 'xxxxdjer': 4143, 'seh': 3315, 'art': 237, 'hematoom': 1497, 'subcapsulair': 3497, 'onderpoolskelkje': 2575, 'lekkage': 1937, 'verzamelsysteem': 3958, 'extravasatie': 1161, 'urine': 3748, 'actieve': 74, 'bloeding': 478, 'leeg': 1933, 'buikwandhematoom': 582, 'contusie': 761, 'laceratie': 1902, 'urinelekkage': 3750, 'aast': 54, 'niertrauma': 2481, 'xxxxvragend': 4159, 'spoedeisende': 3410, 'hulp': 1621, 'gradiënt': 1420, 'pneumatoceles': 2897, 'aangedaan': 7, 'reverse': 3185, 'darmpakket': 863, 'alveolaire': 162, 'omgeven': 2548, 'dunwandige': 1053, 'gastric': 1241, 'osteopeen': 2681, 'septale': 3322, 'corads': 773, 'lengte': 1940, 'mesenteriale': 2291, 'lymfekliertjes': 2174, 'portocavaal': 2925, 'ogen': 2533, 'pancreasprotocol': 2737, 'arteriele': 244, 'portaalveneuze': 2920, 'pancreascalcificaties': 2731, 'peripancreatische': 2830, 'galblaasconcrement': 1231, 'galblaaswand': 1233, 'hepatocholedochus': 1513, 'obstruerend': 2518, 'tractus': 3667, 'digestivus': 955, 'lwk': 2164, 'volumerverlies': 4006, 'matglascomponent': 2239, 'waarschijnlik': 4063, 'fysiologish': 1223, 'lesies': 1941, 'lymfadenodpatie': 2165, 'coronairarterien': 781, 'cholecystolithiasis': 664, 'pancreatitis': 2742, 'vroege': 4045, 'start': 3440, 'klachten': 1840, 'herhalen': 1515, 'anders': 176, 'suggestief': 3527, 'positieve': 2928, 'pcr': 2790, 'ectatische': 1072, 'simpele': 3349, 'pleit': 2873, 'cardiogeen': 618, 'medegezien': 2254, 'panlobulair': 2743, 'buik': 576, 'steatotische': 3448, 'vormvariant': 4037, 'leverkwab': 1957, 'reikt': 3127, 'verklaring': 3887, 'koorts': 1868, 'alzijdig': 164, 'aortaklep': 205, 'bijnieradenoom': 437, 'darmlissen': 862, 'laterobasaal': 1926, 'sleeve': 3371, 'maagresectie': 2193, 'mamma': 2212, 'prothesen': 2990, 'geresorbeerd': 1342, 'monolead': 2384, 'corschaduw': 793, 'rechtermiddenveld': 3072, 'veroek': 3906, 'assen': 267, 'bandvorminge': 309, 'matglasdensiteit': 2240, 'resteert': 3149, 'flank': 1192, 'ontplooiing': 2606, 'standsafwijking': 3437, 'thoracolumbale': 3600, 'aortaboog': 203, 'mede': 2252, 'moeizame': 2378, 'lange': 1912, 'tijd': 3625, 'icd': 1656, 'mitralisklep': 2368, 'blijven': 474, 'ileum': 1667, 'terminale': 3584, 'waarvan': 4066, 'gecompliceerde': 1264, 'dunnedarmlissen': 1051, 'pneumatosis': 2898, 'leverafwijking': 1948, 'abdominale': 61, 'discopathie': 966, 'plaatselijk': 2860, 'reactieve': 3038, 'ileitis': 1665, 'draineerbare': 1023, 'sneltekst': 3387, 'nee': 2447, 'dominante': 988, 'effusie': 1085, 'ja': 1804, 'banden': 307, 'gelokaliseerd': 1313, 'vasodilatatie': 3810, 'destijds': 911, 'pericardcalcificaties': 2811, 'scanogram': 3251, 'begrensd': 334, 'schimmelinfectie': 3274, 'craniocaudale': 813, 'rechterventrikel': 3085, 'fungale': 1220, 'superinfectie': 3532, 'stand': 3433, 'infectieuze': 1704, 'jongen': 1809, 'vetpad': 3966, 'onregelmatige': 2598, 'linkercorcontour': 2007, 'pericardcyste': 2812, 'ascendens': 257, 'pericarditis': 2816, 'ze': 4171, 'betrokken': 405, 'multipel': 2410, 'myeloom': 2417, 'septische': 3325, 'embolieën': 1100, 'bothaarden': 504, 'midschacht': 2338, 'claviculafractuur': 680, 'trapje': 3673, 'cortex': 794, 'superpositiebeeld': 3538, 'cwk': 834, 'huidplooien': 1616, 'aspiratie': 265, 'biventriculaire': 456, 'linkerventrikel': 2033, 'lagere': 1910, 'hematothorax': 1499, 'plaatsing': 2863, 'bovenveld': 533, 'scheef': 3260, 'scheve': 3264, 'houding': 1604, 'begrenzing': 336, 'beoordeling': 373, 'corcontour': 775, 'diagnostiek': 932, 'inderdaad': 1689, 'spanningscomponent': 3394, 'forsere': 1206, 'beter': 399, 'gedeeltelijk': 1273, 'gewijzigde': 1383, 'opnamerichting': 2650, 'conventioneel': 764, 'drukke': 1033, 'atelectasen': 276, 'heup': 1530, 'femurfractuur': 1177, 'trochanter': 3678, 'complex': 708, 'aanzienlijke': 52, 'angulatie': 186, 'intacte': 1753, 'begrenzingen': 337, 'pogingen': 2909, 'kwaliteit': 1884, 'opmerking': 2647, 'laborant': 1901, 'dementerende': 894, 'pijnklachten': 2852, 'vergelijkbaar': 3871, 'bloedwaarden': 481, 'xxxxktijk': 4150, 'huisarts': 1618, 'zelfde': 4179, 'datum': 868, 'verplaatste': 3911, 'hematopneumothorax': 1498, 'mediodorsaal': 2270, 'luxatie': 2162, 'vetlijnen': 3965, 'bijholten': 429, 'wervelfractuur': 4103, 'screenend': 3303, 'bronchiëctasie': 554, 'gevorderde': 1375, 'humeruskop': 1624, 'plompere': 2892, 'oesophagus': 2529, 'maagovergang': 2191, 'vermoedelijke': 3901, 'weefsel': 4082, 'distale': 976, 'doorsnede': 1003, 'epd': 1119, 'cardia': 615, 'lymfenodi': 2175, 'callus': 609, 'impressies': 1685, 'periportaal': 2832, 'oesophagustumor': 2530, 'maligne': 2208, 'classificatie': 678, 'voorstel': 4029, 'biopsie': 452, 'opties': 2653, 'geleid': 1304, 'buikligging': 578, 'klierpakket': 1855, 'clip': 682, 'klier': 1853, 'aortopulmonaal': 217, 'ongeveer': 2591, 'dezelfde': 921, 'wijze': 4124, 'dus': 1057, 'gegroeid': 1293, 'caudaal': 632, 'aantasting': 35, 'manchet': 2218, 'aortopulmonale': 218, 'bewegingsartefacten': 418, 'volle': 4000, 'techniek': 3567, 'redelijk': 3112, 'luchthoudenheid': 2149, 'rechterhemithorax': 3059, 'bovenzijde': 535, 'gewrichten': 1386, 'onderzijde': 2584, 'uiteinde': 3711, 'ecg': 1064, 'draden': 1020, 'endotracheale': 1111, 'opgekruld': 2638, 'betere': 400, 'moeilijk': 2376, 'correcte': 790, 'tubus': 3685, 'discreet': 968, 'mediobasaal': 2267, 'recompensatie': 3100, 'subclavialijn': 3504, 'maagregio': 2192, 'liggend': 1982, 'groot': 1437, 'ontrolde': 2607, 'crp': 819, 'nodulair': 2490, 'costofrenische': 805, 'hoek': 1561, 'quo': 3018, 'ante': 189, 'pocket': 2908, 'vloeistofspiegel': 3985, 'gebaseerd': 1252, 'callusvorming': 610, 'gerichte': 1346, 'optimale': 2654, 'mediodorsobasale': 2272, 'longweefsel': 2128, 'verslechterd': 3920, 'elektrode': 1091, 'kamer': 1824, 'sub': 3495, 'thoracotomie': 3602, 'bypass': 594, 'subpulmonale': 3518, 'peribronchovasculair': 2808, 'resterend': 3152, 'clavicula': 679, 'pectus': 2795, 'excavatum': 1148, 'zijdigheid': 4194, 'ribdetailopname': 3194, 'markering': 2224, 'resectie': 3137, 'vraagstelling': 4039, 'ribresectie': 3199, 'wegens': 4086, 'benigne': 368, 'zesde': 4182, 'diafragmale': 927, 'adhesie': 92, 'verstreken': 3930, 'ontstaan': 2608, 'overigens': 2705, 'uip': 3706, 'algehele': 149, 'cachexie': 598, 'weinig': 4087, 'onderscheidend': 2579, 'uitgedraaide': 3722, 'stenose': 3452, 'iliaca': 1669, 'descenderende': 910, 'afgang': 105, 'mesenterica': 2293, 'cystes': 839, 'stenosis': 3454, 'schorsverlies': 3277, 'graciele': 1418, 'renalis': 3135, 'occlusie': 2522, 'origo': 2667, 'contrasterend': 746, 'vermogen': 3904, 'toevalsbevindingen': 3641, 'nierarteriestenose': 2469, 'targetlaesies': 3564, 'subcentimeter': 3501, 'iliacaal': 1670, 'presacrale': 2955, 'rectumtumor': 3107, 'ringvormig': 3208, 'aankleurend': 20, 'reikend': 3126, 'sacrum': 3238, 'ringvormige': 3209, 'dubbelloops': 1036, 'colostoma': 702, 'linkeronderbuik': 2021, 'mucosale': 2397, 'sigmoïdlis': 3340, 'ischemie': 1797, 'morbus': 2386, 'crohn': 817, 'trombose': 3679, 'osteoporotische': 2683, 'inzakkingsfracturen': 1790, 'xxxxlega': 4151, 'schasfoort': 3259, 'chirurg': 657, 'cuff': 828, 'dissectie': 973, 'doorgemaakt': 996, 'infarctje': 1700, 'systeem': 3555, 'inmonding': 1746, 'linkerureter': 2032, 'kalibersprong': 1818, 'focaal': 1197, 'dens': 897, 'stolsel': 3467, 'sacculair': 3237, 'aneurysma': 179, 'massaal': 2226, 'gemetastaseerd': 1323, 'prostaatcarcinoom': 2988, 'doorbreking': 991, 'ergens': 1127, 'myelumcompressie': 2419, 'kanaalstenose': 1827, 'artrose': 252, 'skeletmetastasering': 3363, 'iliacale': 1672, 'toevalsbevinding': 3640, 'hydronefrose': 1628, 'nephrolithiasis': 2459, 'xxxxxot': 4167, 'willemse': 4130, 'xxxxin': 4148, 'gehad': 1295, 'osteoblastische': 2676, 'beduidend': 324, 'vastgesteld': 3812, 'struma': 3487, 'doorlopend': 1002, 'lap': 1918, 'chol': 660, 'atrofisch': 285, 'rechterbijnier': 3049, 'milli': 2348, 'meter': 2307, 'hounsfield': 1607, 'unit': 3742, 'waarde': 4052, 'doorgroeiend': 1000, 'bleek': 469, 'controles': 760, 'vooraf': 4011, 'bloed': 477, 'kon': 1867, 'geaspireerd': 1250, 'infuus': 1733, 'ingespoten': 1737, 'besloten': 390, 'prikken': 2964, 'metingen': 2309, 'verricht': 3912, 'leek': 1934, 'verleden': 3891, 'bestaan': 394, 'elkaar': 1096, 'hierdoor': 1541, 'betrouwbare': 409, 'uitspraak': 3735, 'pro': 2967, 'regressie': 3124, 'gevuld': 1377, 'paramediaan': 2753, 'precarinaal': 2949, 'subcutis': 3509, 'atheroomcyste': 279, 'comminutieve': 704, 'polycysteuze': 2914, 'hooguit': 1599, 'destructie': 912, 'granulomen': 1424, 'lobus': 2051, 'aangrenzende': 17, 'voorbeschreven': 4014, 'renale': 3134, 'vooral': 4012, 'rechtszijdige': 3096, 'viraal': 3976, 'inclusief': 1688, 'bacterieel': 303, 'pleuraal': 2875, 'stabiele': 3430, 'hypodensiteit': 1650, 'abcedering': 55, 'volume': 4004, 'gedeelte': 1272, 'craniale': 811, 'cavitaties': 637, 'meetbare': 2283, 'leverhilus': 1955, 'variant': 3800, 'locaties': 2054, 'leverhaarden': 1953, 'hoekige': 1562, 'chronische': 671, 'fibreuze': 1178, 'comnclusie': 706, 'longkwabben': 2093, 'dichtheid': 942, 'morphologie': 2388, 'waarschijnlijke': 4060, 'waaronder': 4057, 'ongecompliceerde': 2590, 'parapelviene': 2757, 'pedikel': 2796, 'gemengd': 1321, 'laaglumbaal': 1894, 'hierin': 1542, 'centimeter': 641, 'aortaklepverkalkingen': 207, 'caviterende': 638, 'werking': 4098, 'cavitatie': 636, 'staat': 3428, 'kalkarm': 1820, 'inzakkingen': 1789, 'plakker': 2865, 'verwijzing': 3957, 'termijn': 3583, 'hamstra': 1465, 'posttraumatische': 2948, 'geïnclaveerde': 1394, 'collum': 698, 'femorisfractuur': 1175, 'linkerheup': 2013, 'bekkenring': 350, 'hoogliggende': 1590, 'empyeemholte': 1105, 'ronde': 3218, 'stralengang': 3471, 'persisteert': 2842, 'thoracoscopie': 3601, 'thoraxopnamen': 3613, 'overvullings': 2713, 'tepelschaduwen': 3581, 'corgrootte': 778, 'dislocatie': 972, 'pleuropulmonale': 2888, 'houdingsafhankelijke': 1605, 'schouder': 3278, 'bronchiëctasievorming': 555, 'pneumectomie': 2899, 'peritoneum': 2839, 'omgeeft': 2546, 'ovarium': 2695, 'linkerovarium': 2024, 'luchthoudende': 2147, 'gedeeltes': 1275, 'gedilateerde': 1283, 'lymfoom': 2182, 'primair': 2965, 'ovariumcarcinoom': 2696, 'xxxxxof': 4166, 'allard': 154, 'xxxxik': 4147, 'cervicale': 651, 'infracarinale': 1723, 'lymfenodus': 2176, 'overweging': 2720, 'ascitesdrain': 259, 'omentum': 2545, 'biopt': 453, 'intraluminale': 1775, 'pancreaskopregio': 2734, 'colononderzoek': 701, 'kyfosering': 1888, 'geriater': 1345, 'linkeratrium': 2001, 'concrementjes': 722, 'darm': 858, 'nooit': 2500, 'manubrium': 2221, 'sterni': 3459, 'opvallend': 2657, 'nierloge': 2479, 'tientallen': 3624, 'bovenbuiksorganen': 519, 'peritoneaal': 2837, 'smalle': 3385, 'inferior': 1705, 'inmondende': 1745, 'levervenen': 1969, 'vanaf': 3794, 'niervene': 2483, 'venen': 3820, 'retroperitoneum': 3179, 'buikholte': 577, 'retrohepatische': 3174, 'compressie': 713, 'tumorproces': 3689, 'verwacht': 3945, 'radicaal': 3022, 'verwijderde': 3952, 'poliep': 2911, 'overgang': 2702, 'inhomogene': 1743, 'puntvormige': 3013, 'cystetjes': 840, 'variante': 3801, 'anatomie': 173, 'arteriae': 241, 'lienalis': 1974, 'sma': 3382, 'gastrica': 1242, 'sinistra': 3352, 'rechtstreeks': 3094, 'sigmoïdresectie': 3341, 'anastomose': 172, 'gevoeligheid': 1370, 'retrosternale': 3183, 'deviatie': 917, 'detectie': 915, 'afhankelijk': 122, 'gecorreleerd': 1269, 'toegevoegde': 3634, 'respectievelijk': 3142, 'bijniermetastase': 439, 'skeletmetastase': 3361, 'genitalia': 1328, 'interna': 1759, 'iud': 1801, 'blaasvulling': 462, 'veneus': 3822, 'portae': 2921, 'uitbreidt': 3710, 'variatie': 3802, 'contrastrijk': 752, 'achter': 69, 'levertumor': 1967, 'verschillende': 3916, 'fasen': 1170, 'scintigrafie': 3290, 'röntgenfoto': 3236, 'nevenbevinding': 2466, 'spondylose': 3416, 'aortaverkalkingen': 214, 'cervicothoracale': 652, 'mucuspluggen': 2402, 'maaltijd': 2198, 'voedsel': 3992, 'gespiculeerde': 1360, 'multifocale': 2407, 'anterobasaal': 195, 'rijige': 3205, 'cystevorming': 843, 'collectie': 696, 'gasbellen': 1240, 'miltverkalkingen': 2352, 'geconsolideerde': 1268, 'xxxxberg': 4141, 'longtumor': 2115, 'satelliet': 3246, 'infraclaviculair': 1724, 'negatief': 2451, 'schildkliernodus': 3271, 'hemistrumectomie': 1505, 'lymfocytaire': 2178, 'lymfangiomyomatosis': 2167, 'daar': 847, 'ovaalvormige': 2692, 'circumscript': 675, 'werkelijk': 4097, 'longtekening': 2111, 'geroteerde': 1352, 'pericardiaal': 2814, 'waardoor': 4054, 'cerclagedraden': 648, 'berust': 379, 'persisterend': 2843, 'per': 2800, 'infiltraatjes': 1708, 'hoe': 1559, 'hili': 1551, 'stuwings': 3492, 'deformatie': 878, 'humerus': 1622, 'mediane': 2258, 'rechtsonder': 3093, 'midden': 2323, 'zin': 4198, 'tbc': 3565, 'onderste': 2580, 'geopacifieerde': 1334, 'beschaduwingen': 383, 'opacificatie': 2627, 'rechterlongtop': 3069, 'komt': 1866, 'overeen': 2700, 'gesuperponeerd': 1363, 'onderbreking': 2563, 'zevende': 4184, 'blijkt': 473, 'waarop': 4058, 'achtste': 73, 'kabels': 1814, 'longcontusie': 2074, 'laceraties': 1903, 'gevulde': 1378, 'scapula': 3253, 'traumatische': 3676, 'lucenties': 2139, 'langer': 1914, 'bestaand': 395, 'betrouwbaar': 407, 'geïnduceerd': 1396, 'bronchustak': 569, 'vullingsdefecten': 4049, 'hele': 1491, 'xxxxenhuis': 4146, 'oncoloog': 2560, 'geruptureerd': 1353, 'duwt': 1059, 'loopt': 2131, 'douglas': 1017, 'nierarteriën': 2470, 'gaan': 1225, 'gelijk': 1309, 'af': 102, 'rechternierarterie': 3074, 'smal': 3383, 'kleurt': 1852, 'lang': 1911, 'aic': 143, 'opgestolde': 2641, 'aii': 145, 'aie': 144, 'open': 2629, 'liezen': 1977, 'verademd': 3837, 'belangrijk': 353, 'geschikt': 1356, 'evar': 1139, 'collega': 697, 'clerckx': 681, 'hissink': 1556, 'direct': 964, 'operatiekamer': 2635, 'opgevuld': 2643, 'cavum': 639, 'uteri': 3754, 'endometrium': 1110, 'lokaal': 2059, 'vetlijn': 3964, 'uterus': 3755, 'naastliggende': 2427, 'dunnedarm': 1050, 'li': 1970, 'tumoruitbreiding': 3693, 'vettig': 3968, 'centrum': 646, 'myometrium': 2421, 'dunne': 1049, 'darmlis': 861, 'beschouwd': 385, 'rectosigmoïd': 3103, 'rectumstomp': 3106, 'stoma': 3468, 'getromboseerde': 1367, 'oorzaak': 2624, 'leverlaesie': 1958, 'indicatie': 1691, 'kortere': 1872, 'reguliere': 3125, 'xxxxretariaat': 4155, 'polikliniek': 2912, 'oudere': 2689, 'side': 3333, 'geleidelijk': 1306, 'streperige': 3478, 'uitlopers': 3730, 'matglasaspect': 2238, 'co': 688, 'duidelijker': 1046, 'duur': 1058, 'vermeld': 3897, 'rechtermamma': 3070, 'operatie': 2630, 'clipjes': 684, 'recent': 3041, 'lumpectomie': 2158, 'mammacarcinoom': 2213, 'mono': 2383, 'hydropische': 1630, 'geadviseerd': 1249, 'beiderzeids': 344, 'bolrond': 488, 'kliertje': 1857, 'behoorlijk': 341, 'encasement': 1107, 'metastatisch': 2305, 'contrastuitsparingen': 755, 'mammae': 2214, 'mat': 2232, 'glas': 1406, 'dorsomediaal': 1014, 'fysiologische': 1222, 'punctate': 3008, 'hyperdensiteit': 1636, 'geloketteerde': 1315, 'erin': 1128, 'luchtvloeistofspiegels': 2152, 'linkerthoraxhelft': 2030, 'infarceringsgebied': 1698, 'wandverkalkingen': 4076, 'getromboseerd': 1366, 'belangrijkste': 355, 'vaatchirurg': 3766, 'niercyste': 2473, 'plomp': 2890, 'vaatdilatatie': 3767, 'kort': 1870, 'interval': 1768, 'hoewel': 1569, 'mogelijke': 2380, 'tumorprogressie': 3690, 'vaat': 3763, 'fibrotisch': 1181, 'mild': 2345, 'ventromediaal': 3835, 'berusten': 380, 'ademhalingsartefact': 82, 'fibrosering': 1180, 'geleidelijke': 1307, 'teruggaand': 3586, 'behandeling': 339, 'verklaart': 3885, 'misschien': 2364, 'majeure': 2206, 'nabij': 2428, 'verificatie': 3879, 'wellicht': 4093, 'combinatie': 703, 'jl': 1807, 'gewichtsverlies': 1381, 'hd': 1480, 'dagen': 855, 'geleden': 1302, 'situatie': 3356, 'grosso': 1441, 'modo': 2375, 'luchtvloeistofspiegel': 2151, 'blijkbaar': 471, 'aortaklepprothese': 206, 'recht': 3045, 'cuffing': 829, 'pleuraverbreding': 2879, 'anterius': 193, 'rima': 3206, 'linkerschildklierkwab': 2027, 'groeit': 1436, 'controlateraal': 757, 'talloze': 3561, 'scheiden': 3261, 'maagwand': 2195, 'gastrohepatisch': 1244, 'continu': 737, 'maagcarcinoom': 2189, 'omental': 2543, 'cake': 602, 'onbekende': 2558, 'contrastuitsparing': 754, 'longarteriën': 2067, 'multicysteuze': 2406, 'partijen': 2775, 'perihepatisch': 2824, 'dikker': 958, 'links': 2035, 'infiltratie': 1711, 'hypodenser': 1649, 'lign': 1985, 'helemaal': 1492, 'omentaal': 2542, 'vulling': 4047, 'dvt': 1060, 'borstlap': 496, 'apico': 223, 'longcarcinoom': 2071, 'driehoekige': 1028, 'periviscerale': 2841, 'cardiale': 617, 'voorgeschiedenis': 4019, 'wandstandige': 4072, 'derde': 907, 'nb': 2443, 'amendment': 166, 'craniocaudaal': 812, 'aspecifiek': 260, 'colitis': 693, 'vaatcalcificaties': 3765, 'lysis': 2185, 'dek': 885, 'modic': 2374, 'pijn': 2851, 'rugpijn': 3226, 'laagdrempelig': 1893, 'spondylodiscitis': 3413, 'inguinale': 1741, 'sigmoïdcarcinoom': 3339, 'belang': 352, 'dorsolateraal': 1013, 'halverwege': 1463, 'gelobuleerde': 1312, 'sagittale': 3240, 'transfissurale': 3670, 'breidt': 545, 'plat': 2871, 'rechtzijdig': 3097, 'kloeke': 1862, 'dekplaten': 888, 'xxxxxtsch': 4168, 'frederique': 1217, 'hasami': 1478, 'longarts': 2068, 'gedeeltelijke': 1274, 'randcalcificaties': 3029, 'hierover': 1546, 'uroloog': 3753, 'densiteitjes': 901, 'erg': 1126, 'indrukwekkend': 1695, 'buikorganen': 579, 'bijzonder': 443, 'heden': 1482, 'strikt': 3480, 'alhoewel': 151, 'bijniettumorprotocol': 441, 'zijner': 4197, 'boteiland': 501, 'ii': 1661, 'bijniertumor': 440, 'iv': 1802, 'zou': 4208, 'xxxxs': 4156, 'assistent': 268, 'toestel': 3639, 'spoed': 3408, 'vaatwandverdikkingen': 3784, 'soort': 3392, 'middenkwabsgebied': 2330, 'rechterschildklierkwab': 3079, 'doorgroei': 999, 'rbk': 3033, 'lok': 2058, 'georienteerd': 1335, 'fijnnodulair': 1185, 'geschat': 1355, 'stent': 3455, 'levertransplantatie': 1966, 'gebroken': 1258, 'geweest': 1379, 'zouden': 4209, 'reëel': 3187, 'haar': 1451, 'maius': 2205, 'helaas': 1488, 'verstoord': 3929, 'benadeeld': 364, 'delensetting': 893, 'nauwkeurige': 2440, 'kwantificeren': 1885, 'grenzen': 1430, 'scapulablad': 3254, 'indeuking': 1690, 'postoperatief': 2944, 'litteken': 2043, 'holte': 1574, 'kwab': 1882, 'tegen': 3569, 'terwijl': 3589, 'referentie': 3119, 'pretracheaal': 2958, 'levermetastasering': 1962, 'staart': 3427, 'bevatten': 411, 'pancreasstaart': 2739, 'mediodorsale': 2271, 'breuk': 546, 'hemi': 1500, 'intraperitoneaal': 1777, 'vetherniatie': 3962, 'lumbaal': 2155, 'parenchymal': 2769, 'band': 306, 'daarboven': 849, 'matglasfenomeen': 2241, 'strengvormige': 3477, 'littekenweefsel': 2044, 'aangrenzend': 16, 'eigenlijk': 1087, 'toonde': 3645, 'thymusrest': 3623, 'infiltraatje': 1707, 'adenomen': 85, 'ild': 1664, 'anteriorsegment': 192, 'longmaligniteit': 2097, 'metastasering': 2304, 'dethmers': 916, 'rechterschoudergewricht': 3081, 'ribdetail': 3193, 'marker': 2223, 'azygosschaduw': 301, 'teruggetrokken': 3587, 'diep': 947, 'verbetering': 3848, 'top': 3647, 'mammaprothese': 2215, 'bijkomend': 430, 'haakvorming': 1450, 'hedenochtend': 1483, 'aantoonbare': 37, 'tepel': 3578, 'pierce': 2849, 'metaal': 2300, 'slecht': 3368, 'aspiratiepneumonie': 266, 'verander': 3840, 'tracheobronchiale': 3663, 'boom': 495, 'bovine': 536, 'omringend': 2552, 'granuloompje': 1426, 'convex': 766, 'vorming': 4036, 'mesenterium': 2295, 'panniculitis': 2744, 'typische': 3704, 'lymfekliertje': 2173, 'superieure': 3531, 'matgla': 2235, 'tumornefrectomie': 3688, 'preëxistent': 2962, 'iabp': 1654, 'reanimatiepad': 3040, 'xxxxeling': 4145, 'hartbewaking': 1470, 'superponerend': 3535, 'hoofd': 1584, 'toe': 3630, 'linkeronderveld': 2023, 'wet': 4112, 'lung': 2159, 'irds': 1793, 'doorgebeld': 994, 'dienstdoende': 944, 'kinderarts': 1839, 'knik': 1864, 'summatie': 3528, 'linkerflank': 2008, 'herkend': 1518, 'infrahilair': 1730, 'vaatstructuur': 3775, 'omartrose': 2540, 'gedisloceerde': 1284, 'cerclagedraad': 647, 'klepprothese': 1846, 'draad': 1018, 'krul': 1878, 'rechterharthelft': 3057, 'artefact': 238, 'obliterans': 2516, 'perilymfatische': 2827, 'type': 3702, 'rechtshilair': 3092, 'gestuwde': 1362, 'granulair': 1421, 'hyaliene': 1626, 'membraanziekte': 2288, 'oftewel': 2532, 'verklaard': 3884, 'vloeistofspiegels': 3986, 'draintraject': 1025, 'oplopend': 2645, 'hilusniveau': 1553, 'fixatie': 1191, 'fracuur': 1216, 'osm': 2672, 'linkermamma': 2017, 'hydropneumothorax': 1631, 'verteerbaar': 3936, 'ventrobasaal': 3830, 'ventrikel': 3829, 'curvilineaire': 833, 'broncho': 559, 'fractie': 1211, 'aangezet': 13, 'vermoeden': 3902, 'xxxxxard': 4162, 'xxxxistente': 4149, 'ieder': 1658, 'restanten': 3148, 'talkage': 3560, 'begeleidende': 330, 'nagemeten': 2434, 'cardiothoracale': 625, 'randnormale': 3031, 'pil': 2854, 'resten': 3150, 'massale': 2227, 'wekedelen': 4089, 'aspergillose': 263, 'leukemisch': 1944, 'hepato': 1512, 'splenomegalie': 3407, 'symptomen': 3553, 'saturatiedaling': 3247, 'eisende': 1088, 'full': 1218, 'dose': 1016, 'kapsel': 1828, 'severity': 3329, 'score': 3300, 'punt': 3010, 'punten': 3011, 'influenza': 1719, 'organserende': 2665, 'sediment': 3308, 'luchtconfiguraties': 2145, 'drainage': 1022, 'vaatverdikkingen': 3779, 'effect': 1084, 'uitgebreidheid': 3721, 'ling': 1994, 'axillo': 299, 'femoraal': 1174, 'radiatiepneumonitis': 3021, 'fracturen': 1212, 'geconsolideerd': 1267, 'gemelde': 1320, 'bleb': 468, 'holtevormige': 1577, 'precies': 2951, 'eenzelfde': 1079, 'holtevormende': 1576, 'structuurtje': 3486, 'holtevormend': 1575, 'strengetje': 3476, 'doorademen': 990, 'tijdens': 3627, 'bdz': 316, 'dependant': 902, 'lk': 2045, 'paramediastinale': 2755, 'circumferentiële': 674, 'ik': 1663, 'gelukt': 1316, 'pretracheale': 2959, 'vorig': 4032, 'linkerapex': 2000, 'kalk': 1819, 'linkerschouderblad': 2028, 'brachiale': 538, 'plexus': 2889, 'linkerscapula': 2026, 'brachialis': 539, 'cortexonderbreking': 796, 'horvath': 1603, 'matglasgebieden': 2242, 'inflitraatvorming': 1718, 'vaattekeningen': 3778, 'opv': 2656, 'glad': 1402, 'schilletje': 3273, 'reeel': 3118, 'cosolidatie': 801, 'as': 253, 'echografisch': 1067, 'nadien': 2432, 'hoelang': 1563, 'hoest': 1564, 'bronchuswandverbreding': 572, 'slijm': 3374, 'luchtwegen': 2153, 'deel': 875, 'xxxxsarts': 4157, 'oelen': 2525, 'druk': 1032, 'milde': 2346, 'jonge': 1808, 'omgeklapt': 2547, 'fokkema': 1201, 'moppige': 2385, 'agv': 141, 'staplenaden': 3439, 'zijdig': 4193, 'linkszijdig': 2039, 'rechtersinus': 3082, 'restinfiltraten': 3156, 'aortaknop': 209, 'dolicho': 986, 'os': 2671, 'bullectomie': 590, 'blijft': 470, 'reticulonodulair': 3166, 'zittend': 4201, 'elektroden': 1093, 'kahler': 1816, 'radiopneumonitis': 3025, 'neigt': 2456, 'vertebro': 3934, 'plana': 2867, 'neigend': 2454, 'longfibrose': 2084, 'infitraat': 1715, 'ingezakte': 1738, 'patient': 2784, 'lonvelden': 2129, 'infintraat': 1714, 'accentuering': 66, 'mn': 2373, 'nierfunctie': 2476, 'hoofdbronchi': 1585, 'vervolgbaar': 3943, 'proces': 2970, 'mucusplugging': 2403, 'indirecte': 1693, 'belasting': 356, 'nierbovenpool': 2472, 'pararenale': 2759, 'perforatie': 2802, 'hol': 1573, 'orgaan': 2662, 'linkernierarterie': 2020, 'sigma': 3334, 'conclusies': 718, 'secundair': 3307, 'obstruerende': 2519, 'effusies': 1086, 'parasternale': 2764, 'gevolge': 1373, 'adnex': 97, 'extirpatie': 1156, 'omentale': 2544, 'buikwand': 580, 'uitsparing': 3734, 'asystolie': 274, 'reanimatie': 3039, 'succesvol': 3525, 'klerckx': 1850, 'lissen': 2041, 'coprostase': 771, 'linkerbovenbuik': 2004, 'mesenterialis': 2292, 'processus': 2971, 'spinosi': 3405, 'duideijke': 1043, 'steatotisch': 3447, 'naad': 2424, 'afgegrensd': 109, 'adnexcyste': 98, 'ventrolateraal': 3834, 'breukpoort': 547, 'hinchey': 1555, 'hieraan': 1538, 'aard': 53, 'algemeen': 150, 'minieme': 2358, 'overwogen': 2721, 'meetfout': 2284, 'neiging': 2455, 'zitten': 4200, 'scrotum': 3305, 'hydrocele': 1627, 'adenomatoïde': 84, 'epididymis': 1122, 'vaak': 3762, 'vaker': 3788, 'voorkomen': 4023, 'scrotale': 3304, 'contrastaanbod': 745, 'abuis': 64, 'aangeboden': 5, 'plaats': 2858, 'minstens': 2362, 'intra': 1769, 'extrahepatische': 1158, 'bovenbeschreven': 514, 'cbd': 640, 'papilregio': 2746, 'kop': 1869, 'cysteachtige': 837, 'sbipmn': 3248, 'retro': 3169, 'aortaal': 202, 'bolle': 487, 'inadequate': 1686, 'papil': 2745, 'retroportaal': 3180, 'hoort': 1601, 'grootsten': 1439, 'infracarinaal': 1722, 'chirurgische': 659, 'dubbele': 1035, 'bronchiaalarterie': 549, 'fijne': 1184, 'vertebroplastiek': 3935, 'beweging': 417, 'differentiaal': 950, 'pneumonitis': 2905, 'atypische': 290, 'verwekker': 3946, 'xxxxdag': 4142, 'persisterende': 2844, 'linkerhartoor': 2010, 'mitralisplastiek': 2369, 'cardioloog': 619, 'superponerende': 3536, 'mid': 2319, 'linkerhartcontour': 2009, 'mors': 2389, 'doorverwijzing': 1005, 'neemt': 2448, 'contact': 735, 'belt': 360, 'informatie': 1720, 'adherentie': 91, 'linksvoor': 2038, 'schuine': 3289, 'bnp': 482, 'fractuurtje': 1215, 'betrouwbaarder': 408, 'pacemakervervanging': 2728, 'pleurapunctie': 2877, 'rechterhals': 3055, 'ketting': 1838, 'onveranderlijkheid': 2615, 'hetzelfde': 1529, 'pacemakerdraden': 2725, 'infradiafragmatisch': 1728, 'vrije': 4043, 'intraperitoneale': 1778, 'manifeste': 2220, 'hyperkyfose': 1639, 'luchtschil': 2150, 'reticulaties': 3165, 'overvullingscomponent': 2715, 'resulterende': 3161, 'bewegingsonscherpte': 419, 'bovinum': 537, 'ventriculaire': 3827, 'clipje': 683, 'mitraalklepring': 2365, 'subcm': 3506, 'accesoire': 67, 'opeengepakte': 2628, 'niveaus': 2488, 'overeenkomend': 2701, 'mr': 2393, 'tgv': 3592, 'gladbegrensde': 1403, 'differentiatie': 952, 'hemorragische': 1509, 'hepatosplenomegalie': 1514, 'rechterbovenbuik': 3050, 'coarctatio': 689, 'aortitis': 216, 'contractiegolf': 741, 'rcc': 3035, 'niertumor': 2482, 'specifieke': 3396, 'contracties': 742, 'colonografie': 700, 'armen': 236, 'lichaam': 1971, 'coeliacus': 690, 'ams': 168, 'ami': 167, 'infrarenale': 1732, 'nierinsufficiëntie': 2478, 'afs': 130, 'lv': 2163, 'infarct': 1699, 'stroomgebied': 3481, 'darmischemie': 860, 'ligamentum': 1980, 'falciforme': 1166, 'calices': 607, 'si': 3332, 'spondylodese': 3411, 'rectum': 3104, 'mesorectale': 2297, 'fascie': 1168, 'presacraal': 2954, 'paratracheale': 2767, 'segmentele': 3313, 'verspreiding': 3925, 'aneurysmatisch': 182, 'boog': 492, 'ureteren': 3745, 'dubbeltumor': 1038, 'corticomedullaire': 800, 'gerota': 1350, 'nierbekken': 2471, 'adnexen': 99, 'spiculum': 3398, 'grenst': 1429, 'uitgaande': 3716, 'honingraat': 1583, 'eendraads': 1074, 'hyperemisch': 1637, 'intraluminaal': 1774, 'gedekte': 1280, 'fundus': 1219, 'flarden': 1194, 'middenkwabssyndroom': 2332, 'hypervasculaire': 1646, 'scannen': 3250, 'toedienen': 3631, 'betrof': 404, 'am': 165, 'wigvorming': 4119, 'extrinsieke': 1162, 'allergische': 157, 'alveolitis': 163, 'candida': 611, 'pneumocystis': 2901, 'virus': 3978, 'longtop': 2112, 'leucocytengetal': 1943, 'redistributie': 3114, 'linkersinus': 2029, 'alsmede': 158, 'vlekkerige': 3981, 'hooglumbale': 1591, 'normalisatie': 2506, 'vervangen': 3941, 'oorspronkelijke': 2623, 'losgekoppeld': 2134, 'ribkraakbeen': 3197, 'inspiraties': 1748, 'thoraxdrains': 3607, 'separaat': 3319, 'adhesief': 93, 'linkerbovenveld': 2006, 'gastrische': 1243, 'sonde': 3391, 'hartcontour': 1471, 'grens': 1428, 'opgevulde': 2644, 'diafragmarelaxatie': 928, 'orthogonaal': 2668, 'getroffen': 1365, 'bloedvat': 480, 'twijfel': 3700, 'omtrent': 2555, 'hiervoor': 1548, 'nervus': 2460, 'recurrence': 3110, 'stukje': 3490, 'recurrens': 3111, 'tablet': 3556, 'duodenum': 1054, 'aanknopingspunten': 24, 'lager': 1909, 'hydronefrosebeeld': 1629, 'onderbuik': 2566, 'gevonden': 1374, 'voorzijde': 4031, 'hoefijzernier': 1560, 'thoracolumbaal': 3599, 'subclaviculair': 3505, 'pleuritis': 2883, 'rfa': 3188, 'sclerosering': 3295, 'pubis': 2997, 'symphysis': 3551, 'onverdacht': 2616, 'lokale': 2060, 'perirectaal': 2833, 'extra': 1157, 'mesorectaal': 2296, 'nadele': 2429, 'gecalcificeerde': 1261, 'hoger': 1571, 'huidig': 1612, 'complete': 707, 'bovenkwabs': 524, 'adenosine': 87, 'stress': 3479, 'myocardperfusiescintigrafie': 2420, 'polygonaal': 2915, 'pfn': 2847, 'sclerosen': 3294, 'unipolaire': 3741, 'aanmerking': 30, 'dient': 945, 'waarvoor': 4067, 'geïndiceerd': 1395, 'voorheen': 4021, 'resolutie': 3138, 'vaathili': 3768, 'mamil': 2210, 'moment': 2381, 'ons': 2599, 'archief': 231, 'fatpad': 1171, 'beademing': 318, 'restinfiltraat': 3155, 'subluxatie': 3511, 'caput': 612, 'rotatiefout': 3222, 'longvaten': 2121, 'rechterlonghilus': 3068, 'ectasie': 1071, 'longinfarct': 2090, 'polycyclisch': 2913, 'vat': 3814, 'alienum': 153, 'operatiemateriaal': 2636, 'implantatie': 1680, 'compressiefracturen': 715, 'opnames': 2651, 'scapulapunt': 3255, 'bipolaire': 455, 'ingebrachte': 1735, 'thoraxdrainage': 3606, 'intrapleurale': 1779, 'beluchting': 361, 'beschouwen': 386, 'small': 3384, 'redistributiebeeld': 3115, 'langedijk': 1913, 'klinische': 1861, 'betekenis': 398, 'teken': 3570, 'intrabronchiale': 1770, 'mucus': 2399, 'mycose': 2415, 'hieromheen': 1544, 'geven': 1369, 'cervixcarcinoom': 653, 'parametrium': 2756, 'varicosis': 3803, 'negatieve': 2452, 'ovariële': 2697, 'buitencontour': 587, 'vagina': 3787, 'eenduidig': 1075, 'hemicolectomie': 1501, 'relevant': 3132, 'vooronderzoek': 4026, 'crus': 822, 'diaphragmaticus': 939, 'locaal': 2052, 'infra': 1721, 'cruraal': 820, 'curvatura': 832, 'pelvien': 2798, 'steatose': 3445, 'aanliggend': 28, 'sigmoidei': 3336, 'hypotrofe': 1653, 'linkermusculus': 2018, 'psoas': 2996, 'oesofagus': 2526, 'crurale': 821, 'trauma': 3674, 'aandoende': 3, 'grenzend': 1431, 'invasie': 1787, 'ontstane': 2609, 'microcystevorming': 2313, 'longemfyseem': 2082, 'impressie': 1684, 'botlaesies': 506, 'longpatroon': 2108, 'ribdestructie': 3192, 'summiere': 3530, 'onjuiste': 2594, 'longmetastasering': 2100, 'variërend': 3805, 'granulomateus': 1422, 'aangelegen': 9, 'fdg': 1172, 'avide': 293, 'longvene': 2124, 'omslagplooi': 2554, 'blijvende': 476, 'bevinden': 412, 'ihk': 1660, 'atriale': 282, 'medische': 2273, 'gegevens': 1292, 'digitale': 956, 'kunt': 1880, 'zelf': 4178, 'gedeformeerd': 1277, 'osteofyten': 2678, 'mediocaudaal': 2269, 'versmalde': 3921, 'glenohumerale': 1408, 'gewrichtsspleet': 1388, 'gedeformeerde': 1278, 'posttraumatisch': 2947, 'corconfiguratie': 774, 'peribronchiaal': 2806, 'contralaterale': 743, 'ingebracht': 1734, 'steekt': 3450, 'actueel': 76, 'chemoradiatie': 655, 'uhartgrootte': 3705, 'lokalisatie': 2061, 'verplaatsing': 3909, 'harten': 1472, 'gedraaid': 1285, 'zit': 4199, 'longfibrotische': 2085, 'muller': 2405, 'middengebied': 2326, 'scissura': 3291, 'kruising': 1877, 'negende': 2453, 'toenemende': 3638, 'costalis': 804, 'benadering': 366, 'fissurale': 1188, 'posteriorsegment': 2934, 'goeddeels': 1413, 'tracheadeviatie': 3659, 'hierop': 1545, 'afronding': 129, 'resorptie': 3141, 'weer': 4084, 'vervaagd': 3939, 'postirradiatie': 2940, 'ilr': 1674, 'normalisering': 2507, 'aanduiding': 4, 'punctie': 3009, 'submandibulair': 3512, 'hyoïd': 1633, 'cytologisch': 846, 'gepuncteerd': 1339, 'necrose': 2444, 'rand': 3027, 'destructieve': 913, 'axilla': 295, 'micronoduli': 2316, 'apicodorsale': 225, 'honeycombing': 1582, 'den': 895, 'bepalen': 374, 'scoliotische': 3299, 'kennelijk': 1834, 'atelectatisch': 277, 'pleuraschwarte': 2878, 'heupprothesen': 1533, 'lege': 1935, 'pancreaskop': 2733, 'vaatbetrokkenheid': 3764, 'pancreasregio': 2738, 'urinewegen': 3751, 'dorsocraniaal': 1012, 'oesophagocardiale': 2528, 'extensie': 1153, 'bereik': 377, 'outflowobstructie': 2690, 'infracruraal': 1726, 'paraaortaal': 2747, 'thv': 3621, 'infrarenaal': 1731, 'retroclaviculair': 3172, 'preoperatief': 2953, 'blaastumor': 461, 'posterobasale': 2936, 'perivesicale': 2840, 'schorsintrekkingen': 3276, 'liesbreuk': 1975, 'aneurysmata': 181, 'uiteinden': 3712, 'vierde': 3973, 'sprieterige': 3423, 'incidentaloom': 1687, 'geëvalueerd': 1393, 'mibi': 2311, 'gebaseerde': 1253, 'schrompelnieren': 3287, 'aanwezige': 45, 'lobulaire': 2050, 'retrotracheaal': 3184, 'lymfomenpakket': 2181, 'granulomateuze': 1423, 'periferie': 2821, 'volumen': 4005, 'pulmonum': 3007, 'auctum': 291, 'tonvormige': 3644, 'royaal': 3224, 'scanprotocol': 3252, 'plus': 2893, 'tijde': 3626, 'verslaglegging': 3919, 'vorkrib': 4034, 'hoogthoracaal': 1597, 'linkerborst': 2003, 'kerley': 1836, 'gisteren': 1401, 'tripolaire': 3677, 'rest': 3144, 'wederom': 4080, 'pleuraverdikking': 2880, 'welving': 4094, 'study': 3488, 'basolateraal': 315, 'laterodorsaal': 1927, 'plakkers': 2866, 'elk': 1095, 'bed': 321, 'betreffen': 401, 'tangentieel': 3562, 'spiegel': 3399, 'neurostimulator': 2463, 'transit': 3671, 'pleurodiafragmale': 2886, 'verkleind': 3888, 'longvolume': 2126, 'ribresecties': 3200, 'longvaatkaliber': 2117, 'cardiomediastinaal': 620, 'silhouet': 3346, 'wervelhoogten': 4104, 'spaarzame': 3393, 'hemidiafragmata': 1504, 'mammaprothesen': 2216, 'heesheid': 1486, 'sternocleido': 3461, 'mastoïdeus': 2231, 'schildklierkwab': 3269, 'lucentie': 2138, 'kraaltje': 1875, 'posterobasaal': 2935, 'herniërend': 1522, 'parenchymdistorsie': 2771, 'ouder': 2688, 'gelaagde': 1300, 'longhaarden': 2088, 'nsip': 2510, 'mictie': 2318, 'patchy': 2780, 'marginaal': 2222, 'pmr': 2894, 'mij': 2342, 'banaal': 305, 'osteosyntheseschroef': 2684, 'airtrapping': 146, 'grijs': 1432, 'oedemateus': 2524, 'cachectisch': 597, 'ovaalvormig': 2691, 'bevat': 410, 'hemo': 1506, 'portatrombose': 2923, 'ileusbeeld': 1668, 'binnenzijde': 451, 'iliopsoas': 1673, 'periostale': 2828, 'reactie': 3036, 'tpv': 3655, 'lipoom': 2040, 'exofytische': 1150, 'segmenten': 3314, 'miltinfarct': 2351, 'klierpathologie': 1856, 'oesophaguswand': 2531, 'stasis': 3442, 'proximaal': 2992, 'dolichosigmoïd': 987, 'ctu': 827, 'heterogeen': 1526, 'uitgaand': 3715, 'snapshot': 3386, 'tumortrombus': 3692, 'omgeving': 2551, 'strand': 3472, 'peripelvine': 2831, 'asbest': 254, 'tumorthrombus': 3691, 'analis': 170, 'tumorweefsel': 3694, 'afstandsmetastasen': 132, 'locoregionaal': 2055, 'blaasachterwand': 458, 'externa': 1154, 'subchondrale': 3502, 'rechteracetabulum': 3047, 'pancreascyste': 2732, 'nefrostomiekatheter': 2450, 'vertraagd': 3938, 'lastige': 1921, 'verwijdingen': 3956, 'technisch': 3568, 'interstitium': 1766, 'peri': 2805, 'lymfatisch': 2168, 'bronchiaalboom': 550, 'premusculair': 2952, 'voet': 3993, 'cysteus': 841, 'bovenbuikscoupes': 518, 'bronchopulmonaal': 563, 'parenchymverlies': 2772, 'vervet': 3942, 'micro': 2312, 'attentie': 287, 'recist': 3099, 'aangevragd': 12, 'gebruikt': 1259, 'necrotisch': 2445, 'hierboven': 1540, 'postobstructief': 2942, 'volumetoename': 4007, 'beelden': 326, 'geleide': 1305, 'heterogene': 1527, 'bolvormig': 490, 'doorheen': 1001, 'dimensies': 962, 'lag': 1907, 'erdichting': 1125, 'lymfekliermetastasen': 2172, 'beeldvormend': 328, 'eosinofiele': 1118, 'radiologisch': 3023, 'delenmassa': 892, 'posterolateraal': 2937, 'vermoeidheid': 3903, 'hoesten': 1565, 'luchtweginfectie': 2154, 'begin': 331, 'houdt': 1606, 'vast': 3811, 'verdichtingsbeeld': 3862, 'val': 3789, 'pol': 2910, 'gemarkeerd': 1318, 'terugherkend': 3588, 'vaatleegte': 3770, 'vallend': 3790, 'controlefoto': 759, 'fijnvlekkige': 1186, 'corfiguur': 777, 'rechterhartcontour': 3056, 'adhesies': 94, 'resorberend': 3139, 'eerdergenoemde': 1082, 'omdat': 2541, 'geroteerd': 1351, 'verschil': 3915, 'contourverandering': 740, 'duodenumsonde': 1056, 'pacemakerplaatsing': 2727, 'pneu': 2895, 'randje': 3030, 'dubbel': 1034, 'rechterthoraxwand': 3084, 'waarschijnlijkheid': 4062, 'lijden': 1987, 'ingeschoten': 1736, 'sternale': 3458, 'compressiefractuur': 716, 'th': 3593, 'breder': 542, 'harde': 1467, 'huidplooi': 1615, 'dubbellumen': 1037, 'daarna': 851, 'keer': 1832, 'pedikels': 2797, 'middenkwabsinfiltraat': 2331, 'suprahilair': 3542, 'lymforeticulaire': 2183, 'noodzakelijk': 2499, 'longcontusies': 2075, 'opgemerkt': 2639, 'hoogmediastinaal': 1592, 'uitbreidend': 3708, 'contrastextravasaat': 748, 'stase': 3441, 'achterste': 71, 'hoogteveries': 1595, 'hersenen': 1523, 'bewogen': 421, 'vessel': 3960, 'cerebellum': 649, 'stam': 3432, 'coronoideus': 788, 'neusbijholten': 2465, 'intracranieel': 1771, 'mandibulafractuur': 2219, 'humerusfractuur': 1623, 'hypersensitiviteit': 1641, 'trans': 3669, 'aortale': 210, 'aortaklepvervanging': 208, 'consequenties': 730, 'waren': 4077, 'mucusstase': 2404, 'resteren': 3151, 'bulleus': 591, 'cystoprostatectomie': 845, 'aanleggen': 25, 'neoblaas': 2457, 'bevond': 416, 'utriculuscyste': 3757, 'hypodensiteitjes': 1652, 'orchidectomie': 2661, 'evaluatie': 1138, 'lordose': 2133, 'xxxxtsma': 4158, 'hho': 1535, 'gelobde': 1310, 'urologische': 3752, 'rechterbovenkwabsbronchus': 3052, 'bereikbaar': 378, 'dialysepatiënt': 936, 'aftakkingen': 133, 'pancreasparenchym': 2736, 'sternocleidomastoideus': 3462, 'spierbuik': 3401, 'stabiel': 3429, 'valt': 3792, 'wee': 4081, 'bronchiëctatische': 557, 'radiotherapie': 3026, 'onderbroken': 2565, 'corticalis': 799, 'lucent': 2136, 'fractuurlijn': 1214, 'botmetastasen': 508, 'objectiveren': 2514, 'middel': 2321, 'maakt': 2196, 'apicolateraal': 226, 'dikte': 959, 'stroomrichting': 3483, 'loodmarkering': 2130, 'aangebracht': 6, 'doorgestuurd': 998, 'xxxxassistente': 4139, 'geresorbeerde': 1343, 'ok': 2534, 'radiatie': 3020, 'thoraxvorm': 3615, 'nodule': 2492, 'onbekend': 2557, 'aanleveren': 27, 'externe': 1155, 'rechterzijligging': 3087, 'individueel': 1694, 'calciumscore': 605, 'rca': 3034, 'agatson': 140, 'percentiel': 2801, 'gecorrigeerd': 1270, 'geslacht': 1358, 'coronairarteriën': 782, 'drietaks': 1029, 'coronairlijden': 785, 'substraat': 3521, 'schuilgaat': 3288, 'zeggen': 4173, 'elektrodes': 1094, 'afnemend': 127, 'progredient': 2973, 'aanvullende': 43, 'humeruskopfractuur': 1625, 'verscholen': 3917, 'supra': 3539, 'tubepositie': 3683, 'aandacht': 1, 'adherente': 90, 'rechterhemidiafragma': 3058, 'verkregen': 3889, 'waarden': 4053, 'sensitiviteit': 3318, 'leukocyten': 1945, 'lleuravocht': 2046, 'projecteren': 2978, 'overprojecterende': 2708, 'vannacht': 3797, 'thoraxholte': 3611, 'contusies': 762, 'ontwikkelend': 2611, 'regionale': 3123, 'lobair': 2047, 'vijf': 3974, 'olisthesis': 2538, 'facet': 1163, 'calgett': 606, 'lateroventrale': 1929, 'waarin': 4055, 'medio': 2266, 'venentekening': 3821, 'syndroom': 3554, 'linkerhoofdbronchus': 2014, 'enkel': 1116, 'spronggewricht': 3424, 'middenvelden': 2334, 'restpneu': 3159, 'horizontaal': 1602, 'carinahoek': 627, 'meervoudige': 2278, 'haemothorax': 1456, 'segmentbronchi': 3311, 'adipositas': 96, 'bodem': 485, 'sd': 3306, 'longvaatstuwing': 2119, 'hilusvaten': 1554, 'vooronderzoeken': 4027, 'spanningspneumothorax': 3395, 'vloeistof': 3984, 'rooster': 3221, 'uitlopende': 3728, 'contactvlak': 736, 'vaatsteel': 3773, 'pac': 2723, 'eenmalig': 1077, 'watt': 4079, 'osteofytvorming': 2679, 'wijzend': 4126, 'stadium': 3431, 'uitlijning': 3726, 'facetluxatie': 1165, 'verplaatst': 3910, 'standaardopnamen': 3435, 'halsvaten': 1462, 'glandula': 1405, 'parotis': 2773, 'submandibularis': 3513, 'mastoïden': 2230, 'geaccepteerd': 1248, 'longtoptumor': 2114, 'procedure': 2969, 'caecumtumor': 600, 'longmetastase': 2098, 'gelobuleerd': 1311, 'bestaande': 396, 'tumoren': 3687, 'insufficiëntie': 1751, 'fossa': 1207, 'obturatoria': 2520, 'blaaswandverdikking': 464, 'cholestase': 667, 'ligamentaire': 1979, 'hypertrofie': 1645, 'spinale': 3403, 'kanaal': 1826, 'sluitplaatimpressies': 3380, 'exacte': 1147, 'aankleuringsdefect': 23, 'stenosering': 3453, 'contrastvulling': 756, 'urineblaas': 3749, 'macroscopisch': 2203, 'cystische': 844, 'sigmoideum': 3337, 'plaatselijke': 2861, 'darmwand': 865, 'et': 1137, 'wortel': 4135, 'middenbuik': 2324, 'angiomyolipoom': 185, 'postinfectieus': 2938, 'achterwand': 72, 'tussenwervelruimtes': 3696, 'duidend': 1048, 'orthostatische': 2670, 'duodenumdivertikel': 1055, 'pleuropneumonie': 2887, 'kalkdense': 1821, 'mesenteritis': 2294, 'thymus': 3622, 'anaal': 169, 'symmetrische': 3550, 'stervormige': 3465, 'meyenburg': 2310, 'complexen': 709, 'coronaal': 779, 'diepte': 949, 'resorberende': 3140, 'ribkraakbeenverkalkingen': 3198, 'atypisch': 289, 'assistente': 269, 'vijfde': 3975, 'verwezen': 3947, 'longvolumina': 2127, 'midclaviculaire': 2320, 'osteofyt': 2677, 'osteoporose': 2682, 'screen': 3302, 'ademgeruis': 81, 'lelijke': 1939, 'bronchitis': 553, 'roker': 3215, 'hoestklachten': 1566, 'rookt': 3220, 'dyspnoe': 1063, 'willekeurige': 4129, 'verdeling': 3856, 'silicose': 3347, 'huidmarkering': 1614, 'detail': 914, 'crowd': 818, 'huidverdikking': 1617, 'huid': 1611, 'meeste': 2280, 'levervene': 1968, 'waarschijnlijker': 4061, 'wervellichamen': 4110, 'levermetastase': 1960, 'handen': 1466, 'carpalia': 630, 'mcp': 2250, 'versmalling': 3922, 'aanpunting': 31, 'straal': 3470, 'dip': 963, 'erosies': 1132, 'aanzetting': 51, 'forser': 1205, 'kwestie': 1886, 'rotatoire': 3223, 'zuurstof': 4212, 'slang': 3364, 'intubatie': 1786, 'shock': 3331, 'rechterkamer': 3063, 'sluit': 3377, 'uitgaat': 3717, 'sind': 3350, 'gedraaide': 1286, 'kogel': 1865, 'expander': 1151, 'implantaat': 1679, 'schaduwen': 3258, 'sanguinolente': 3243, 'pneumothoraxlijn': 2907, 'thoraxwandresectie': 3617, 'apicolaterale': 227, 'schildikte': 3266, 'voorgenoemde': 4018, 'deformering': 879, 'linkerribbenboog': 2025, 'klepprotheses': 1848, 'heel': 1485, 'intramuraal': 1776, 'infarcering': 1697, 'sikkelcelziekte': 3345, 'sle': 3367, 'hb': 1479, 'verlies': 3893, 'bronchopulmonale': 564, 'aspergillosis': 264, 'dunwandig': 1052, 'mucusplug': 2401, 'plaquevormige': 2869, 'onderkwabsarterie': 2569, 'longembolus': 2081, 'totaliteit': 3653, 'rechterlever': 3064, 'rectumwand': 3108, 'perirectale': 2834, 'discopathieën': 967, 'millimeter': 2349, 'natieve': 2437, 'aneurysmamantel': 180, 'geclusterde': 1262, 'verwijder': 3950, 'kern': 1837, 'heupgewrichten': 1531, 'spier': 3400, 'longchirurgie': 2072, 'perfusie': 2803, 'diafragmaal': 923, 'asbestose': 256, 'minderwaarschijnlijk': 2356, 'penetrerend': 2799, 'ulcus': 3738, 'wandstandig': 4071, 'plaquevorming': 2870, 'müller': 2422, 'bibasaal': 422, 'wandverdikkingen': 4074, 'bihilair': 427, 'urig': 3746, 'gegroeide': 1294, 'longlaesie': 2094, 'aanhoudend': 18, 'afgekapseld': 110, 'sluitplaten': 3381, 'intercostaal': 1756, 'periostreactie': 2829, 'vetvlakken': 3970, 'bot': 498, 'vragen': 4040, 'vaag': 3761, 'afvlakken': 134, 'hemoptoe': 1507, 'gewenst': 1380, 'uitsluiting': 3733, 'vue': 4046, 'bekeken': 346, 'hoogthoracale': 1598, 'kraakbenige': 1874, 'ribuiteinde': 3202, 'klepvervanging': 1849, 'prevertebraal': 2961, 'infradiafragmatische': 1729, 'maagantrum': 2188, 'vertebraal': 3933, 'hypertrofe': 1644, 'pe': 2791, 'prominentie': 2985, 'pericardverkalkingen': 2817, 'operatieclipjes': 2631, 'rv': 3235, 'elektrodebreuk': 1092, 'dissociatie': 974, 'tracheaverkalkingen': 3661, 'lumen': 2157, 'overvullingskenmerken': 2716, 'normaalvariant': 2503, 'benauwdheid': 367, 'lobaire': 2048, 'postobstructieve': 2943, 'logisch': 2057, 'uiteraard': 3713, 'geaccentueerd': 1246, 'gevolgd': 1372, 'danwel': 857, 'waarneembare': 4056, 'middenkwabs': 2328, 'oorzakelijke': 2625, 'gewrichtsbegrenzing': 1387, 'erosieve': 1133, 'gesluierd': 1359, 'multinodulair': 2408, 'tracheaverplaatsing': 3662, 'asymmetrisch': 272, 'postinfectieuze': 2939, 'miniem': 2357, 'afgietselsteen': 118, 'vulva': 4050, 'bochdalek': 484, 'ostium': 2685, 'boteilandjes': 503, 'bronchiën': 558, 'afgesloten': 116, 'galblaasbed': 1229, 'botlaesie': 505, 'rechterpedikel': 3078, 'skeletdelen': 3359, 'internist': 1761, 'crista': 815, 'botbiopt': 499, 'gecombineerde': 1263, 'bronchovasculair': 565, 'prominenter': 2984, 'golvend': 1415, 'voorkeur': 4022, 'geformuleerd': 1291, 'uitlopend': 3727, 'glenoïdale': 1410, 'hebben': 1481, 'perfusiedefect': 2804, 'mdl': 2251, 'rectumcarcinoom': 3105, 'schouderbladen': 3279, 'vetpluim': 3967, 'bilobectomie': 449, 'spondylodesemateriaal': 3412, 'schroef': 3285, 'midlumbaal': 2337, 'wervellichaam': 4109, 'spina': 3402, 'bifida': 425, 'unipolair': 3740, 'cuffpezen': 830, 'zekerheidshalve': 4177, 'endovasculaire': 1112, 'okselkliertoilet': 2536, 'congenitaal': 728, 'max': 2247, 'dicht': 941, 'gecomprimeerd': 1265, 'retromamillair': 3175, 'sliding': 3373, 'geretraheerde': 1344, 'aanleiding': 26, 'aandoend': 2, 'botuitbouw': 512, 'delenfiguur': 891, 'longinterstitium': 2092, 'volstrekt': 4003, 'interne': 1760, 'geneeskunde': 1326, 'asbestcontact': 255, 'thrombusvorming': 3620, 'baseline': 312, 'gedefinieerde': 1276, 'nadir': 2433, 'criterion': 816, 'oplopende': 2646, 'pijnlijke': 2853, 'stuit': 3489, 'bovenkwadrant': 528, 'femur': 1176, 'carcinoom': 614, 'lusoria': 2160, 'aankleuren': 19, 'pseudocystevorming': 2994, 'componenten': 712, 'atrofische': 286, 'flanken': 1193, 'abcessen': 57, 'lieskanaal': 1976, 'okselklierdissectie': 2535, 'aortawortel': 215, 'doorgang': 992, 'oblique': 2515, 'boogvaten': 493, 'proteïnose': 2989, 'restpneumothorax': 3160, 'lowdose': 2135, 'migratie': 2341, 'nogmaals': 2497, 'blijvend': 475, 'herstel': 1524, 'exacerbatie': 1146, 'astma': 270, 'kraakbeen': 1873, 'subcapitale': 3496, 'operatiecoils': 2633, 'buikwandplastiek': 584, 'geeft': 1288, 'haarclip': 1452, 'gaarne': 1226, 'stokman': 3466, 'vd': 3817, 'aliena': 152, 'postbiopsie': 2930, 'vervaardigd': 3940, 'mitraclip': 2366, 'interpulmonaal': 1763, 'pneumonisch': 2904, 'recenter': 3043, 'wigvorm': 4116, 'vc': 3816, 'mst': 2396, 'vastzittend': 3813, 'beeldkwaliteit': 327, 'dwarsdoorsnede': 1061, 'gehernieerde': 1299, 'ruis': 3230, 'bemoeilijkte': 363, 'presternaal': 2957, 'afstand': 131, 'bemoeilijkt': 362, 'gelijike': 1308, 'meetrichting': 2285, 'sod': 3388, 'annulus': 188, 'ring': 3207, 'maagdivertikel': 2190, 'ileocaecaalhoek': 1666, 'rechteronderbuik': 3075, 'schouderprothesen': 3283, 'navelbreuk': 2442, 'jejunum': 1806, 'vaatstructuurtjes': 3776, 'collateralen': 695, 'umbilicalis': 3739, 'levercirrose': 1950, 'hobbelige': 1558, 'wijziging': 4127, 'middenkwabsbronchus': 2329, 'materiaal': 2234, 'restmassa': 3158, 'beloop': 359, 'longvenen': 2125, 'defect': 877, 'restholte': 3154, 'vergroting': 3876, 'sternoclaviculaire': 3460, 'achterblijvende': 70, 'gemiddelde': 1325, 'hamartoom': 1464, 'bijmiltjes': 434, 'bovenkwabsbronchien': 526, 'vaatmalformatie': 3771, 'gecalcificeerd': 1260, 'onvermogen': 2617, 'leggen': 1936, 'bechterew': 320, 'botdoorbouw': 500, 'boer': 486, 'spine': 3404, 'series': 3328, 'epicardiale': 1121, 'kwalitatief': 1883, 'daardoor': 850, 'beoordeelbare': 371, 'gerookt': 1349, 'kuur': 1881, 'overleg': 2706, 'aanvragend': 40, 'luten': 2161, 'doorverwezen': 1004, 'harding': 1468, 'overlegd': 2707, 'dc': 869, 'ton': 3642, 'spondylotische': 3418, 'rustiger': 3234, 'doch': 984, 'vlindervormig': 3983, 'best': 393, 'klepprothesen': 1847, 'kyfotische': 1889, 'psma': 2995, 'sinds': 3351, 'moeite': 2377, 'vp': 4038, 'rechterhumeruskop': 3062, 'bloedingen': 479, 'vergelijken': 3872, 'mediatie': 2263, 'intensiteit': 1754, 'postradiaire': 2946, 'discusruimten': 970, 'boogvoetjes': 494, 'breedbasische': 544, 'zes': 4181, 'zeven': 4183, 'vers': 3914, 'halsribje': 1461, 'linksconvexe': 2036, 'risico': 3211, 'profiel': 2972, 'mozaïekpatroon': 2391, 'wanden': 4070, 'normaalwaarde': 2504, 'maanden': 2199, 'lymfkliermetastasen': 2177, 'hogerop': 1572, 'chemotherapie': 656, 'geïnduceerde': 1397, 'proberen': 2968, 'zijligging': 4195, 'circulaire': 673, 'porseleinen': 2917, 'risicofactor': 3212, 'galblaascarcinoom': 1230, 'aangevraagd': 11, 'opgeroepen': 2640, 'volgt': 3999, 'carotiden': 628, 'wegen': 4085, 'pancreasverkalkingen': 2740, 'benaderbaar': 365, 'leverhemangiomen': 1954, 'schrap': 3284, 'dikwandig': 960, 'leverkapsel': 1956, 'schmorlse': 3275, 'lymfe': 2169, 'ontwikkeling': 2612, 'klopt': 1863, 'immatuur': 1677, 'urinair': 3747, 'algeheel': 148, 'geaëreerd': 1251, 'geïnspireerd': 1398, 'sensitief': 3317, 'check': 654, 'rolstoel': 3216, 'diagonaal': 934, 'georiënteerde': 1336, 'radiopake': 3024, 'suprahilaire': 3543, 'volgen': 3997, 'afgeplat': 113, 'berustend': 381, 'piercing': 2850, 'ra': 3019, 'infradiafragmaal': 1727, 'uren': 3743, 'acht': 68, 'contusio': 763, 'pulmonis': 3006, 'congruent': 729, 'hemidiafragmakoepel': 1503, 'schoudergewrichten': 3281, 'schoudergewricht': 3280, 'retropectoraal': 3176, 'xxxxami': 4138, 'gestart': 1361, 'antibiotica': 200, 'rechterlies': 3066, 'darmen': 859, 'blaauw': 465, 'maal': 2197, 'electroden': 1090, 'coxartrose': 809, 'thp': 3618, 'cup': 831, 'slijtage': 3375, 'brummer': 574, 'orthopedie': 2669, 'embolie': 1099, 'hartfunctie': 1474, 'kleincellig': 1842, 'foci': 1199, 'xxxxler': 4152, 'pleurodese': 2885, 'wijdere': 4123, 'longvaatekening': 2116, 'xxxxma': 4153, 'segmenteel': 3312, 'schildklierregio': 3272, 'risicoprofiel': 3213, 'ruiterembolus': 3231, 'overbelasting': 2698, 'reflux': 3120, 'cag': 601, 'stroomgebieden': 3482, 'contrastering': 747, 'dextra': 919, 'subsegmentele': 3520, 'pulmonaaltak': 3001, 'verlengde': 3892, 'pulmonaaltakken': 3002, 'backflow': 302, 'contrastmiddel': 749, 'glenoïd': 1409, 'cortexdoorbraak': 795, 'botmetastase': 507, 'aangezette': 14, 'pulmonales': 3004, 'ribdeformaties': 3191, 'standaardprotocol': 3436, 'vasculatuur': 3808, 'ver': 3836, 'cll': 686, 'diafragmatica': 930, 'arteriosus': 246, 'verhoudingen': 3878, 'linkerthoraxwand': 2031, 'hypertonie': 1643, 'adequate': 89, 'longarteriele': 2066, 'voldoende': 3996, 'longembolieprotocol': 2079, 'mediastinumsetting': 2262, 'falen': 1167, 'krap': 1876, 'pessariumring': 2845, 'va': 3760, 'retropulsie': 3181, 'symfyse': 3548, 'longatelectase': 2069, 'retrograde': 3173, 'myeloomhaarden': 2418, 'dreigende': 1026, 'wervelfracturen': 4102, 'myelomen': 2416, 'longcysten': 2076, 'bibasale': 423, 'longnodulus': 2103, 'literatuur': 2042, 'beschrijven': 388, 'vaatvergroting': 3780, 'gerelateerde': 1341, 'vullingsdefect': 4048, 'merkwaardig': 2289, 'onderkwabsarterien': 2570, 'kleuren': 1851, 'pulmonaalarteriën': 3000, 'medebeoordeeld': 2253, 'willemsen': 4131, 'ruizig': 3232, 'parasternaal': 2763, 'takjes': 3557, 'bovenbuk': 520, 'portofeneuze': 2926, 'longinfiltraat': 2091, 'middenbuk': 2325, 'vms': 3987, 'pancreasloge': 2735, 'pulmonaalarteriele': 2999, 'arterien': 245, 'ic': 1655, 'rechtscardiale': 3090, 'compressieatelectase': 714, 'lomgembolie': 2062, 'onderwkabscompressieatelectase': 2583, 'bijzondere': 444, 'zojuist': 4206, 'refluxklachten': 3121, 'angio': 184, 'voorlopige': 4024, 'cirkel': 677, 'rug': 3225, 'vaatmalformaties': 3772, 'generatie': 1327, 'verrichten': 3913, 'scout': 3301, 'voortijdig': 4030, 'afgebroken': 108, 'lekker': 1938, 'ging': 1400, 'retour': 3167, 'afdeling': 104, 'deformiteit': 880, 'contrastoediening': 750, 'opgevraagd': 2642, 'takken': 3558, 'galsteentjes': 1236, 'verplaats': 3908, 'hydrops': 1632, 'galblaaswandverdikking': 1234, 'pahologische': 2729, 'porthocavaal': 2924, 'end': 1108, 'choledocholithiasis': 665, 'cholangitis': 661}\n"
          ]
        }
      ]
    },
    {
      "cell_type": "markdown",
      "source": [
        "*STEP -8: Use the ML Algorithms to Predict the outcome*"
      ],
      "metadata": {
        "id": "cRpO77gnklTZ"
      }
    },
    {
      "cell_type": "markdown",
      "source": [
        "# NLP Based-Classification using Naive Bayes, SVM and Random Forest:"
      ],
      "metadata": {
        "id": "YxxgoXqGWK1X"
      }
    },
    {
      "cell_type": "code",
      "source": [
        "import sklearn.metrics\n",
        "import math\n",
        "def matrix_metrix(real_values,pred_values,beta):\n",
        "   CM = confusion_matrix(real_values,pred_values)\n",
        "   TN = CM[0][0]\n",
        "   FN = CM[1][0] \n",
        "   TP = CM[1][1]\n",
        "   FP = CM[0][1]\n",
        "   Population = TN+FN+TP+FP\n",
        "   Prevalence = round( (TP+FP) / Population,2)\n",
        "   Accuracy   = round( (TP+TN) / Population,4)\n",
        "   Precision  = round( TP / (TP+FP),4 )\n",
        "   NPV        = round( TN / (TN+FN),4 )\n",
        "   PPV        = round( TP / (TP+FP),4 )\n",
        "   Sensitivity = round( TP / (TP+FN),4 )\n",
        "   Specificity = round( TN / (TN+FP),4 )\n",
        "   #FDR        = round( FP / (TP+FP),4 )\n",
        "  #FOR        = round( FN / (TN+FN),4 ) \n",
        "   #check_Pos  = Precision + FDR\n",
        "   #check_Neg  = NPV + FOR\n",
        "   Recall     = round( TP / (TP+FN),4 )\n",
        "   FPR        = round( FP / (TN+FP),4 )\n",
        "   FNR        = round( FN / (TP+FN),4 )\n",
        "   TNR        = round( TN / (TN+FP),4 ) \n",
        "   #check_Pos2 = Recall + FNR\n",
        "   #check_Neg2 = FPR + TNR\n",
        "   #LRPos      = round( Recall/FPR,4 ) \n",
        "   #LRNeg      = round( FNR / TNR ,4 )\n",
        "   #DOR        = round( LRPos/LRNeg)\n",
        "   F1_score         = round ( 2 * ((Precision*Recall)/(Precision+Recall)),4)\n",
        "   #FBeta      = round ( (1+beta**2)*((Precision*Recall)/((beta**2 * Precision)+ Recall)) ,4)\n",
        "   #MCC        = round ( ((TP*TN)-(FP*FN))/math.sqrt((TP+FP)*(TP+FN)*(TN+FP)*(TN+FN))  ,4)\n",
        "   #BM         = Recall+TNR-1\n",
        "   #MK         = Precision+NPV-1\n",
        "   mat_met = pd.DataFrame({\n",
        "'Metric':['TP','TN','FP','FN','Prevalence','Accuracy','Precision','NPV','PPV ','Sensitivity','Specificity', 'Recall','FPR','FNR','TNR','F1_score'],     'Value':[TP,TN,FP,FN,Prevalence,Accuracy,Precision,NPV,PPV,Sensitivity,Specificity, Recall,FPR,FNR,TNR,F1_score]})\n",
        "   return (mat_met)"
      ],
      "metadata": {
        "id": "5gXs-463Owwr"
      },
      "execution_count": 22,
      "outputs": []
    },
    {
      "cell_type": "markdown",
      "source": [
        "**Naive Bayes Classifier Algorithm:**"
      ],
      "metadata": {
        "id": "CfredS2Gkvwk"
      }
    },
    {
      "cell_type": "code",
      "source": [
        "# fit the training dataset on the NB classifier\n",
        "NB = naive_bayes.MultinomialNB()\n",
        "NB.fit(Train_X_Tfidf,Train_Y)\n",
        "# predict the labels on validation dataset\n",
        "predictions_NB = NB.predict(Test_X_Tfidf)\n",
        "# Use accuracy_score function to get the accuracy\n",
        "print(\"Naive Bayes Accuracy Score -> \",accuracy_score(predictions_NB, Test_Y)*100)\n",
        "print(\"Naive Bayes Precision:\",metrics.precision_score(predictions_NB, Test_Y))\n",
        "print(\"Naive Bayes Recall:\",metrics.recall_score(predictions_NB, Test_Y))\n",
        "print(\"NB:\",metrics.classification_report(predictions_NB, Test_Y))\n",
        "print(\"area under curve (auc): \", metrics.roc_auc_score(predictions_NB, Test_Y))"
      ],
      "metadata": {
        "colab": {
          "base_uri": "https://localhost:8080/"
        },
        "id": "uefCB4l8klgE",
        "outputId": "84eb84cd-87ae-4b71-930a-984fd55cc25b"
      },
      "execution_count": 23,
      "outputs": [
        {
          "output_type": "stream",
          "name": "stdout",
          "text": [
            "Naive Bayes Accuracy Score ->  82.48337028824834\n",
            "Naive Bayes Precision: 0.0125\n",
            "Naive Bayes Recall: 1.0\n",
            "NB:               precision    recall  f1-score   support\n",
            "\n",
            "           0       1.00      0.82      0.90       450\n",
            "           1       0.01      1.00      0.02         1\n",
            "\n",
            "    accuracy                           0.82       451\n",
            "   macro avg       0.51      0.91      0.46       451\n",
            "weighted avg       1.00      0.82      0.90       451\n",
            "\n",
            "area under curve (auc):  0.9122222222222222\n"
          ]
        }
      ]
    },
    {
      "cell_type": "markdown",
      "source": [
        "**Confusion_Matrix of Naive Bayes Classifier Algorithm:**"
      ],
      "metadata": {
        "id": "K1N8OwjtSAwF"
      }
    },
    {
      "cell_type": "code",
      "source": [
        "print(confusion_matrix(Test_Y, predictions_NB))\n",
        "skplt.metrics.plot_confusion_matrix(Test_Y, predictions_NB,figsize=(8,8))"
      ],
      "metadata": {
        "colab": {
          "base_uri": "https://localhost:8080/",
          "height": 524
        },
        "id": "J6jZ2jV5JV9H",
        "outputId": "64c10484-c7d9-43e9-f81a-8200e1aae7bd"
      },
      "execution_count": 24,
      "outputs": [
        {
          "output_type": "stream",
          "name": "stdout",
          "text": [
            "[[371   0]\n",
            " [ 79   1]]\n"
          ]
        },
        {
          "output_type": "execute_result",
          "data": {
            "text/plain": [
              "<matplotlib.axes._subplots.AxesSubplot at 0x7f195acad7d0>"
            ]
          },
          "metadata": {},
          "execution_count": 24
        },
        {
          "output_type": "display_data",
          "data": {
            "text/plain": [
              "<Figure size 576x576 with 2 Axes>"
            ],
            "image/png": "[encoded data removed]"
          },
          "metadata": {
            "needs_background": "light"
          }
        }
      ]
    },
    {
      "cell_type": "code",
      "source": [
        "beta = 0.4\n",
        "mat_met_NB = matrix_metrix(Test_Y, predictions_NB,beta)\n",
        "print (mat_met_NB)"
      ],
      "metadata": {
        "colab": {
          "base_uri": "https://localhost:8080/"
        },
        "id": "tliv2ev5PKNz",
        "outputId": "975698be-147a-4f2d-cd96-b86b283985b4"
      },
      "execution_count": 25,
      "outputs": [
        {
          "output_type": "stream",
          "name": "stdout",
          "text": [
            "         Metric     Value\n",
            "0            TP    1.0000\n",
            "1            TN  371.0000\n",
            "2            FP    0.0000\n",
            "3            FN   79.0000\n",
            "4    Prevalence    0.0000\n",
            "5      Accuracy    0.8248\n",
            "6     Precision    1.0000\n",
            "7           NPV    0.8244\n",
            "8          PPV     1.0000\n",
            "9   Sensitivity    0.0125\n",
            "10  Specificity    1.0000\n",
            "11       Recall    0.0125\n",
            "12          FPR    0.0000\n",
            "13          FNR    0.9875\n",
            "14          TNR    1.0000\n",
            "15     F1_score    0.0247\n"
          ]
        }
      ]
    },
    {
      "cell_type": "code",
      "source": [
        "mat_met_NB.head(16)"
      ],
      "metadata": {
        "colab": {
          "base_uri": "https://localhost:8080/",
          "height": 551
        },
        "id": "DWMH5RhAYtVD",
        "outputId": "ea3c47fa-45cc-4835-8982-f4110d69a3db"
      },
      "execution_count": 26,
      "outputs": [
        {
          "output_type": "execute_result",
          "data": {
            "text/plain": [
              "         Metric     Value\n",
              "0            TP    1.0000\n",
              "1            TN  371.0000\n",
              "2            FP    0.0000\n",
              "3            FN   79.0000\n",
              "4    Prevalence    0.0000\n",
              "5      Accuracy    0.8248\n",
              "6     Precision    1.0000\n",
              "7           NPV    0.8244\n",
              "8          PPV     1.0000\n",
              "9   Sensitivity    0.0125\n",
              "10  Specificity    1.0000\n",
              "11       Recall    0.0125\n",
              "12          FPR    0.0000\n",
              "13          FNR    0.9875\n",
              "14          TNR    1.0000\n",
              "15     F1_score    0.0247"
            ],
            "text/html": [
              "\n",
              "  <div id=\"df-69802391-6696-4963-bf59-35adf2a02410\">\n",
              "    <div class=\"colab-df-container\">\n",
              "      <div>\n",
              "<style scoped>\n",
              "    .dataframe tbody tr th:only-of-type {\n",
              "        vertical-align: middle;\n",
              "    }\n",
              "\n",
              "    .dataframe tbody tr th {\n",
              "        vertical-align: top;\n",
              "    }\n",
              "\n",
              "    .dataframe thead th {\n",
              "        text-align: right;\n",
              "    }\n",
              "</style>\n",
              "<table border=\"1\" class=\"dataframe\">\n",
              "  <thead>\n",
              "    <tr style=\"text-align: right;\">\n",
              "      <th></th>\n",
              "      <th>Metric</th>\n",
              "      <th>Value</th>\n",
              "    </tr>\n",
              "  </thead>\n",
              "  <tbody>\n",
              "    <tr>\n",
              "      <th>0</th>\n",
              "      <td>TP</td>\n",
              "      <td>1.0000</td>\n",
              "    </tr>\n",
              "    <tr>\n",
              "      <th>1</th>\n",
              "      <td>TN</td>\n",
              "      <td>371.0000</td>\n",
              "    </tr>\n",
              "    <tr>\n",
              "      <th>2</th>\n",
              "      <td>FP</td>\n",
              "      <td>0.0000</td>\n",
              "    </tr>\n",
              "    <tr>\n",
              "      <th>3</th>\n",
              "      <td>FN</td>\n",
              "      <td>79.0000</td>\n",
              "    </tr>\n",
              "    <tr>\n",
              "      <th>4</th>\n",
              "      <td>Prevalence</td>\n",
              "      <td>0.0000</td>\n",
              "    </tr>\n",
              "    <tr>\n",
              "      <th>5</th>\n",
              "      <td>Accuracy</td>\n",
              "      <td>0.8248</td>\n",
              "    </tr>\n",
              "    <tr>\n",
              "      <th>6</th>\n",
              "      <td>Precision</td>\n",
              "      <td>1.0000</td>\n",
              "    </tr>\n",
              "    <tr>\n",
              "      <th>7</th>\n",
              "      <td>NPV</td>\n",
              "      <td>0.8244</td>\n",
              "    </tr>\n",
              "    <tr>\n",
              "      <th>8</th>\n",
              "      <td>PPV</td>\n",
              "      <td>1.0000</td>\n",
              "    </tr>\n",
              "    <tr>\n",
              "      <th>9</th>\n",
              "      <td>Sensitivity</td>\n",
              "      <td>0.0125</td>\n",
              "    </tr>\n",
              "    <tr>\n",
              "      <th>10</th>\n",
              "      <td>Specificity</td>\n",
              "      <td>1.0000</td>\n",
              "    </tr>\n",
              "    <tr>\n",
              "      <th>11</th>\n",
              "      <td>Recall</td>\n",
              "      <td>0.0125</td>\n",
              "    </tr>\n",
              "    <tr>\n",
              "      <th>12</th>\n",
              "      <td>FPR</td>\n",
              "      <td>0.0000</td>\n",
              "    </tr>\n",
              "    <tr>\n",
              "      <th>13</th>\n",
              "      <td>FNR</td>\n",
              "      <td>0.9875</td>\n",
              "    </tr>\n",
              "    <tr>\n",
              "      <th>14</th>\n",
              "      <td>TNR</td>\n",
              "      <td>1.0000</td>\n",
              "    </tr>\n",
              "    <tr>\n",
              "      <th>15</th>\n",
              "      <td>F1_score</td>\n",
              "      <td>0.0247</td>\n",
              "    </tr>\n",
              "  </tbody>\n",
              "</table>\n",
              "</div>\n",
              "      <button class=\"colab-df-convert\" onclick=\"convertToInteractive('df-69802391-6696-4963-bf59-35adf2a02410')\"\n",
              "              title=\"Convert this dataframe to an interactive table.\"\n",
              "              style=\"display:none;\">\n",
              "        \n",
              "  <svg xmlns=\"http://www.w3.org/2000/svg\" height=\"24px\"viewBox=\"0 0 24 24\"\n",
              "       width=\"24px\">\n",
              "    <path d=\"M0 0h24v24H0V0z\" fill=\"none\"/>\n",
              "    <path d=\"M18.56 5.44l.94 2.06.94-2.06 2.06-.94-2.06-.94-.94-2.06-.94 2.06-2.06.94zm-11 1L8.5 8.5l.94-2.06 2.06-.94-2.06-.94L8.5 2.5l-.94 2.06-2.06.94zm10 10l.94 2.06.94-2.06 2.06-.94-2.06-.94-.94-2.06-.94 2.06-2.06.94z\"/><path d=\"M17.41 7.96l-1.37-1.37c-.4-.4-.92-.59-1.43-.59-.52 0-1.04.2-1.43.59L10.3 9.45l-7.72 7.72c-.78.78-.78 2.05 0 2.83L4 21.41c.39.39.9.59 1.41.59.51 0 1.02-.2 1.41-.59l7.78-7.78 2.81-2.81c.8-.78.8-2.07 0-2.86zM5.41 20L4 18.59l7.72-7.72 1.47 1.35L5.41 20z\"/>\n",
              "  </svg>\n",
              "      </button>\n",
              "      \n",
              "  <style>\n",
              "    .colab-df-container {\n",
              "      display:flex;\n",
              "      flex-wrap:wrap;\n",
              "      gap: 12px;\n",
              "    }\n",
              "\n",
              "    .colab-df-convert {\n",
              "      background-color: #E8F0FE;\n",
              "      border: none;\n",
              "      border-radius: 50%;\n",
              "      cursor: pointer;\n",
              "      display: none;\n",
              "      fill: #1967D2;\n",
              "      height: 32px;\n",
              "      padding: 0 0 0 0;\n",
              "      width: 32px;\n",
              "    }\n",
              "\n",
              "    .colab-df-convert:hover {\n",
              "      background-color: #E2EBFA;\n",
              "      box-shadow: 0px 1px 2px rgba(60, 64, 67, 0.3), 0px 1px 3px 1px rgba(60, 64, 67, 0.15);\n",
              "      fill: #174EA6;\n",
              "    }\n",
              "\n",
              "    [theme=dark] .colab-df-convert {\n",
              "      background-color: #3B4455;\n",
              "      fill: #D2E3FC;\n",
              "    }\n",
              "\n",
              "    [theme=dark] .colab-df-convert:hover {\n",
              "      background-color: #434B5C;\n",
              "      box-shadow: 0px 1px 3px 1px rgba(0, 0, 0, 0.15);\n",
              "      filter: drop-shadow(0px 1px 2px rgba(0, 0, 0, 0.3));\n",
              "      fill: #FFFFFF;\n",
              "    }\n",
              "  </style>\n",
              "\n",
              "      <script>\n",
              "        const buttonEl =\n",
              "          document.querySelector('#df-69802391-6696-4963-bf59-35adf2a02410 button.colab-df-convert');\n",
              "        buttonEl.style.display =\n",
              "          google.colab.kernel.accessAllowed ? 'block' : 'none';\n",
              "\n",
              "        async function convertToInteractive(key) {\n",
              "          const element = document.querySelector('#df-69802391-6696-4963-bf59-35adf2a02410');\n",
              "          const dataTable =\n",
              "            await google.colab.kernel.invokeFunction('convertToInteractive',\n",
              "                                                     [key], {});\n",
              "          if (!dataTable) return;\n",
              "\n",
              "          const docLinkHtml = 'Like what you see? Visit the ' +\n",
              "            '<a target=\"_blank\" href=https://colab.research.google.com/notebooks/data_table.ipynb>data table notebook</a>'\n",
              "            + ' to learn more about interactive tables.';\n",
              "          element.innerHTML = '';\n",
              "          dataTable['output_type'] = 'display_data';\n",
              "          await google.colab.output.renderOutput(dataTable, element);\n",
              "          const docLink = document.createElement('div');\n",
              "          docLink.innerHTML = docLinkHtml;\n",
              "          element.appendChild(docLink);\n",
              "        }\n",
              "      </script>\n",
              "    </div>\n",
              "  </div>\n",
              "  "
            ]
          },
          "metadata": {},
          "execution_count": 26
        }
      ]
    },
    {
      "cell_type": "markdown",
      "source": [
        "**Support Vector Machine Classifier Algorithm:**"
      ],
      "metadata": {
        "id": "4qHlPum4lC6f"
      }
    },
    {
      "cell_type": "code",
      "source": [
        "# Classifier - Algorithm - SVM\n",
        "# fit the training dataset on the classifier\n",
        "SVM = svm.SVC(C=1.0, kernel='linear', degree=3, gamma='auto', probability=True)\n",
        "SVM.fit(Train_X_Tfidf,Train_Y)\n",
        "# predict the labels on validation dataset\n",
        "predictions_SVM = SVM.predict(Test_X_Tfidf)\n",
        "# Use accuracy_score function to get the accuracy\n",
        "print(\"SVM Accuracy Score -> \",accuracy_score(predictions_SVM, Test_Y)*100)\n",
        "print(\"SVM Precision:\",metrics.precision_score(predictions_SVM, Test_Y))\n",
        "print(\"SVM Recall:\",metrics.recall_score(predictions_SVM, Test_Y))\n",
        "print(\"SVM:\",metrics.classification_report(predictions_SVM, Test_Y))\n",
        "print(\"area under curve (auc): \", metrics.roc_auc_score(predictions_SVM, Test_Y))"
      ],
      "metadata": {
        "colab": {
          "base_uri": "https://localhost:8080/"
        },
        "id": "3lvFAzuJlB7l",
        "outputId": "cea72b8d-d89d-4192-ff52-af9bff33e446"
      },
      "execution_count": 27,
      "outputs": [
        {
          "output_type": "stream",
          "name": "stdout",
          "text": [
            "SVM Accuracy Score ->  92.90465631929047\n",
            "SVM Precision: 0.6625\n",
            "SVM Recall: 0.9137931034482759\n",
            "SVM:               precision    recall  f1-score   support\n",
            "\n",
            "           0       0.99      0.93      0.96       393\n",
            "           1       0.66      0.91      0.77        58\n",
            "\n",
            "    accuracy                           0.93       451\n",
            "   macro avg       0.82      0.92      0.86       451\n",
            "weighted avg       0.94      0.93      0.93       451\n",
            "\n",
            "area under curve (auc):  0.92254540668597\n"
          ]
        }
      ]
    },
    {
      "cell_type": "markdown",
      "source": [
        "**Confusion_Matrix of Support Vector Machine Classifier Algorithm**"
      ],
      "metadata": {
        "id": "Eyhu7BhoS6l0"
      }
    },
    {
      "cell_type": "code",
      "source": [
        "print(confusion_matrix(Test_Y, predictions_SVM))\n",
        "skplt.metrics.plot_confusion_matrix(Test_Y, predictions_SVM,figsize=(8,8))"
      ],
      "metadata": {
        "colab": {
          "base_uri": "https://localhost:8080/",
          "height": 518
        },
        "id": "UCqJAuVDKRU_",
        "outputId": "4497d0fa-d970-4482-a085-b24a80aaeff1"
      },
      "execution_count": 28,
      "outputs": [
        {
          "output_type": "stream",
          "name": "stdout",
          "text": [
            "[[366   5]\n",
            " [ 27  53]]\n"
          ]
        },
        {
          "output_type": "execute_result",
          "data": {
            "text/plain": [
              "<matplotlib.axes._subplots.AxesSubplot at 0x7f1959a88050>"
            ]
          },
          "metadata": {},
          "execution_count": 28
        },
        {
          "output_type": "display_data",
          "data": {
            "text/plain": [
              "<Figure size 576x576 with 2 Axes>"
            ],
            "image/png": "[encoded data removed]"
          },
          "metadata": {
            "needs_background": "light"
          }
        }
      ]
    },
    {
      "cell_type": "code",
      "source": [
        "beta = 0.4\n",
        "mat_met_SVM = matrix_metrix(Test_Y, predictions_SVM,beta)\n",
        "print (mat_met_SVM)"
      ],
      "metadata": {
        "colab": {
          "base_uri": "https://localhost:8080/"
        },
        "id": "qO1Jd_LcPaLq",
        "outputId": "88f68f53-72d2-4489-fc00-81da1b12194c"
      },
      "execution_count": 29,
      "outputs": [
        {
          "output_type": "stream",
          "name": "stdout",
          "text": [
            "         Metric     Value\n",
            "0            TP   53.0000\n",
            "1            TN  366.0000\n",
            "2            FP    5.0000\n",
            "3            FN   27.0000\n",
            "4    Prevalence    0.1300\n",
            "5      Accuracy    0.9290\n",
            "6     Precision    0.9138\n",
            "7           NPV    0.9313\n",
            "8          PPV     0.9138\n",
            "9   Sensitivity    0.6625\n",
            "10  Specificity    0.9865\n",
            "11       Recall    0.6625\n",
            "12          FPR    0.0135\n",
            "13          FNR    0.3375\n",
            "14          TNR    0.9865\n",
            "15     F1_score    0.7681\n"
          ]
        }
      ]
    },
    {
      "cell_type": "code",
      "source": [
        "mat_met_SVM.head(16)"
      ],
      "metadata": {
        "colab": {
          "base_uri": "https://localhost:8080/",
          "height": 551
        },
        "id": "0dEfpSfYbE6B",
        "outputId": "67f37ac4-aa1c-40b4-a256-8c3ef4cb987a"
      },
      "execution_count": 30,
      "outputs": [
        {
          "output_type": "execute_result",
          "data": {
            "text/plain": [
              "         Metric     Value\n",
              "0            TP   53.0000\n",
              "1            TN  366.0000\n",
              "2            FP    5.0000\n",
              "3            FN   27.0000\n",
              "4    Prevalence    0.1300\n",
              "5      Accuracy    0.9290\n",
              "6     Precision    0.9138\n",
              "7           NPV    0.9313\n",
              "8          PPV     0.9138\n",
              "9   Sensitivity    0.6625\n",
              "10  Specificity    0.9865\n",
              "11       Recall    0.6625\n",
              "12          FPR    0.0135\n",
              "13          FNR    0.3375\n",
              "14          TNR    0.9865\n",
              "15     F1_score    0.7681"
            ],
            "text/html": [
              "\n",
              "  <div id=\"df-efb89fa0-97d9-4d61-aa40-d09f7a383ba9\">\n",
              "    <div class=\"colab-df-container\">\n",
              "      <div>\n",
              "<style scoped>\n",
              "    .dataframe tbody tr th:only-of-type {\n",
              "        vertical-align: middle;\n",
              "    }\n",
              "\n",
              "    .dataframe tbody tr th {\n",
              "        vertical-align: top;\n",
              "    }\n",
              "\n",
              "    .dataframe thead th {\n",
              "        text-align: right;\n",
              "    }\n",
              "</style>\n",
              "<table border=\"1\" class=\"dataframe\">\n",
              "  <thead>\n",
              "    <tr style=\"text-align: right;\">\n",
              "      <th></th>\n",
              "      <th>Metric</th>\n",
              "      <th>Value</th>\n",
              "    </tr>\n",
              "  </thead>\n",
              "  <tbody>\n",
              "    <tr>\n",
              "      <th>0</th>\n",
              "      <td>TP</td>\n",
              "      <td>53.0000</td>\n",
              "    </tr>\n",
              "    <tr>\n",
              "      <th>1</th>\n",
              "      <td>TN</td>\n",
              "      <td>366.0000</td>\n",
              "    </tr>\n",
              "    <tr>\n",
              "      <th>2</th>\n",
              "      <td>FP</td>\n",
              "      <td>5.0000</td>\n",
              "    </tr>\n",
              "    <tr>\n",
              "      <th>3</th>\n",
              "      <td>FN</td>\n",
              "      <td>27.0000</td>\n",
              "    </tr>\n",
              "    <tr>\n",
              "      <th>4</th>\n",
              "      <td>Prevalence</td>\n",
              "      <td>0.1300</td>\n",
              "    </tr>\n",
              "    <tr>\n",
              "      <th>5</th>\n",
              "      <td>Accuracy</td>\n",
              "      <td>0.9290</td>\n",
              "    </tr>\n",
              "    <tr>\n",
              "      <th>6</th>\n",
              "      <td>Precision</td>\n",
              "      <td>0.9138</td>\n",
              "    </tr>\n",
              "    <tr>\n",
              "      <th>7</th>\n",
              "      <td>NPV</td>\n",
              "      <td>0.9313</td>\n",
              "    </tr>\n",
              "    <tr>\n",
              "      <th>8</th>\n",
              "      <td>PPV</td>\n",
              "      <td>0.9138</td>\n",
              "    </tr>\n",
              "    <tr>\n",
              "      <th>9</th>\n",
              "      <td>Sensitivity</td>\n",
              "      <td>0.6625</td>\n",
              "    </tr>\n",
              "    <tr>\n",
              "      <th>10</th>\n",
              "      <td>Specificity</td>\n",
              "      <td>0.9865</td>\n",
              "    </tr>\n",
              "    <tr>\n",
              "      <th>11</th>\n",
              "      <td>Recall</td>\n",
              "      <td>0.6625</td>\n",
              "    </tr>\n",
              "    <tr>\n",
              "      <th>12</th>\n",
              "      <td>FPR</td>\n",
              "      <td>0.0135</td>\n",
              "    </tr>\n",
              "    <tr>\n",
              "      <th>13</th>\n",
              "      <td>FNR</td>\n",
              "      <td>0.3375</td>\n",
              "    </tr>\n",
              "    <tr>\n",
              "      <th>14</th>\n",
              "      <td>TNR</td>\n",
              "      <td>0.9865</td>\n",
              "    </tr>\n",
              "    <tr>\n",
              "      <th>15</th>\n",
              "      <td>F1_score</td>\n",
              "      <td>0.7681</td>\n",
              "    </tr>\n",
              "  </tbody>\n",
              "</table>\n",
              "</div>\n",
              "      <button class=\"colab-df-convert\" onclick=\"convertToInteractive('df-efb89fa0-97d9-4d61-aa40-d09f7a383ba9')\"\n",
              "              title=\"Convert this dataframe to an interactive table.\"\n",
              "              style=\"display:none;\">\n",
              "        \n",
              "  <svg xmlns=\"http://www.w3.org/2000/svg\" height=\"24px\"viewBox=\"0 0 24 24\"\n",
              "       width=\"24px\">\n",
              "    <path d=\"M0 0h24v24H0V0z\" fill=\"none\"/>\n",
              "    <path d=\"M18.56 5.44l.94 2.06.94-2.06 2.06-.94-2.06-.94-.94-2.06-.94 2.06-2.06.94zm-11 1L8.5 8.5l.94-2.06 2.06-.94-2.06-.94L8.5 2.5l-.94 2.06-2.06.94zm10 10l.94 2.06.94-2.06 2.06-.94-2.06-.94-.94-2.06-.94 2.06-2.06.94z\"/><path d=\"M17.41 7.96l-1.37-1.37c-.4-.4-.92-.59-1.43-.59-.52 0-1.04.2-1.43.59L10.3 9.45l-7.72 7.72c-.78.78-.78 2.05 0 2.83L4 21.41c.39.39.9.59 1.41.59.51 0 1.02-.2 1.41-.59l7.78-7.78 2.81-2.81c.8-.78.8-2.07 0-2.86zM5.41 20L4 18.59l7.72-7.72 1.47 1.35L5.41 20z\"/>\n",
              "  </svg>\n",
              "      </button>\n",
              "      \n",
              "  <style>\n",
              "    .colab-df-container {\n",
              "      display:flex;\n",
              "      flex-wrap:wrap;\n",
              "      gap: 12px;\n",
              "    }\n",
              "\n",
              "    .colab-df-convert {\n",
              "      background-color: #E8F0FE;\n",
              "      border: none;\n",
              "      border-radius: 50%;\n",
              "      cursor: pointer;\n",
              "      display: none;\n",
              "      fill: #1967D2;\n",
              "      height: 32px;\n",
              "      padding: 0 0 0 0;\n",
              "      width: 32px;\n",
              "    }\n",
              "\n",
              "    .colab-df-convert:hover {\n",
              "      background-color: #E2EBFA;\n",
              "      box-shadow: 0px 1px 2px rgba(60, 64, 67, 0.3), 0px 1px 3px 1px rgba(60, 64, 67, 0.15);\n",
              "      fill: #174EA6;\n",
              "    }\n",
              "\n",
              "    [theme=dark] .colab-df-convert {\n",
              "      background-color: #3B4455;\n",
              "      fill: #D2E3FC;\n",
              "    }\n",
              "\n",
              "    [theme=dark] .colab-df-convert:hover {\n",
              "      background-color: #434B5C;\n",
              "      box-shadow: 0px 1px 3px 1px rgba(0, 0, 0, 0.15);\n",
              "      filter: drop-shadow(0px 1px 2px rgba(0, 0, 0, 0.3));\n",
              "      fill: #FFFFFF;\n",
              "    }\n",
              "  </style>\n",
              "\n",
              "      <script>\n",
              "        const buttonEl =\n",
              "          document.querySelector('#df-efb89fa0-97d9-4d61-aa40-d09f7a383ba9 button.colab-df-convert');\n",
              "        buttonEl.style.display =\n",
              "          google.colab.kernel.accessAllowed ? 'block' : 'none';\n",
              "\n",
              "        async function convertToInteractive(key) {\n",
              "          const element = document.querySelector('#df-efb89fa0-97d9-4d61-aa40-d09f7a383ba9');\n",
              "          const dataTable =\n",
              "            await google.colab.kernel.invokeFunction('convertToInteractive',\n",
              "                                                     [key], {});\n",
              "          if (!dataTable) return;\n",
              "\n",
              "          const docLinkHtml = 'Like what you see? Visit the ' +\n",
              "            '<a target=\"_blank\" href=https://colab.research.google.com/notebooks/data_table.ipynb>data table notebook</a>'\n",
              "            + ' to learn more about interactive tables.';\n",
              "          element.innerHTML = '';\n",
              "          dataTable['output_type'] = 'display_data';\n",
              "          await google.colab.output.renderOutput(dataTable, element);\n",
              "          const docLink = document.createElement('div');\n",
              "          docLink.innerHTML = docLinkHtml;\n",
              "          element.appendChild(docLink);\n",
              "        }\n",
              "      </script>\n",
              "    </div>\n",
              "  </div>\n",
              "  "
            ]
          },
          "metadata": {},
          "execution_count": 30
        }
      ]
    },
    {
      "cell_type": "markdown",
      "source": [
        "**Random Forest Classifier Algorithm:**"
      ],
      "metadata": {
        "id": "GBwXoEKy4bq7"
      }
    },
    {
      "cell_type": "code",
      "source": [
        "# Classifier - Algorithm - RF\n",
        "# fit the training dataset on the classifier\n",
        "RF = RandomForestClassifier(n_estimators=1000, random_state=0)\n",
        "RF.fit(Train_X_Tfidf,Train_Y)\n",
        "# predict the labels on validation dataset\n",
        "predictions_RF = RF.predict(Test_X_Tfidf)\n",
        "# Use accuracy_score function to get the accuracy\n",
        "print(\"Random Forest Accuracy Score -> \",accuracy_score(predictions_RF, Test_Y)*100)\n",
        "print(\"RF Precision:\",metrics.precision_score(predictions_RF, Test_Y))\n",
        "print(\"RF Recall:\",metrics.recall_score(predictions_RF, Test_Y))\n",
        "print(\"RF:\",metrics.classification_report(predictions_RF, Test_Y))\n",
        "print(\"area under curve (auc): \", metrics.roc_auc_score(predictions_RF, Test_Y))"
      ],
      "metadata": {
        "colab": {
          "base_uri": "https://localhost:8080/"
        },
        "id": "8E2Fq0-a4b8p",
        "outputId": "599a2507-9e76-45e1-aaca-f935d9ee700a"
      },
      "execution_count": 31,
      "outputs": [
        {
          "output_type": "stream",
          "name": "stdout",
          "text": [
            "Random Forest Accuracy Score ->  87.13968957871397\n",
            "RF Precision: 0.2875\n",
            "RF Recall: 0.9583333333333334\n",
            "RF:               precision    recall  f1-score   support\n",
            "\n",
            "           0       1.00      0.87      0.93       427\n",
            "           1       0.29      0.96      0.44        24\n",
            "\n",
            "    accuracy                           0.87       451\n",
            "   macro avg       0.64      0.91      0.68       451\n",
            "weighted avg       0.96      0.87      0.90       451\n",
            "\n",
            "area under curve (auc):  0.9124219359875099\n"
          ]
        }
      ]
    },
    {
      "cell_type": "markdown",
      "source": [
        "**Confusion_Matrix of Random Forest Classifier Algorithm**"
      ],
      "metadata": {
        "id": "e9c-h8nMTgzk"
      }
    },
    {
      "cell_type": "code",
      "source": [
        "print(confusion_matrix(Test_Y, predictions_RF))\n",
        "skplt.metrics.plot_confusion_matrix(Test_Y, predictions_RF,figsize=(8,8))"
      ],
      "metadata": {
        "colab": {
          "base_uri": "https://localhost:8080/",
          "height": 518
        },
        "id": "So0g6yQBKezi",
        "outputId": "efa92253-5114-485f-a559-5652219b7681"
      },
      "execution_count": 32,
      "outputs": [
        {
          "output_type": "stream",
          "name": "stdout",
          "text": [
            "[[370   1]\n",
            " [ 57  23]]\n"
          ]
        },
        {
          "output_type": "execute_result",
          "data": {
            "text/plain": [
              "<matplotlib.axes._subplots.AxesSubplot at 0x7f195999bc90>"
            ]
          },
          "metadata": {},
          "execution_count": 32
        },
        {
          "output_type": "display_data",
          "data": {
            "text/plain": [
              "<Figure size 576x576 with 2 Axes>"
            ],
            "image/png": "[encoded data removed]"
          },
          "metadata": {
            "needs_background": "light"
          }
        }
      ]
    },
    {
      "cell_type": "code",
      "source": [
        "beta = 0.4\n",
        "mat_met_RF = matrix_metrix(Test_Y, predictions_RF,beta)\n",
        "print (mat_met_RF)"
      ],
      "metadata": {
        "colab": {
          "base_uri": "https://localhost:8080/"
        },
        "id": "IaK0ACy3PjAn",
        "outputId": "f53112a2-91e6-4b8a-be0a-783793dcefc1"
      },
      "execution_count": 33,
      "outputs": [
        {
          "output_type": "stream",
          "name": "stdout",
          "text": [
            "         Metric     Value\n",
            "0            TP   23.0000\n",
            "1            TN  370.0000\n",
            "2            FP    1.0000\n",
            "3            FN   57.0000\n",
            "4    Prevalence    0.0500\n",
            "5      Accuracy    0.8714\n",
            "6     Precision    0.9583\n",
            "7           NPV    0.8665\n",
            "8          PPV     0.9583\n",
            "9   Sensitivity    0.2875\n",
            "10  Specificity    0.9973\n",
            "11       Recall    0.2875\n",
            "12          FPR    0.0027\n",
            "13          FNR    0.7125\n",
            "14          TNR    0.9973\n",
            "15     F1_score    0.4423\n"
          ]
        }
      ]
    },
    {
      "cell_type": "code",
      "source": [
        "mat_met_RF.head(16)"
      ],
      "metadata": {
        "colab": {
          "base_uri": "https://localhost:8080/",
          "height": 551
        },
        "id": "z_HZMehccAWt",
        "outputId": "2266e01d-ad06-4b38-c32d-36877a310f45"
      },
      "execution_count": 34,
      "outputs": [
        {
          "output_type": "execute_result",
          "data": {
            "text/plain": [
              "         Metric     Value\n",
              "0            TP   23.0000\n",
              "1            TN  370.0000\n",
              "2            FP    1.0000\n",
              "3            FN   57.0000\n",
              "4    Prevalence    0.0500\n",
              "5      Accuracy    0.8714\n",
              "6     Precision    0.9583\n",
              "7           NPV    0.8665\n",
              "8          PPV     0.9583\n",
              "9   Sensitivity    0.2875\n",
              "10  Specificity    0.9973\n",
              "11       Recall    0.2875\n",
              "12          FPR    0.0027\n",
              "13          FNR    0.7125\n",
              "14          TNR    0.9973\n",
              "15     F1_score    0.4423"
            ],
            "text/html": [
              "\n",
              "  <div id=\"df-291f8ece-7109-4264-91c2-b38e4aef173c\">\n",
              "    <div class=\"colab-df-container\">\n",
              "      <div>\n",
              "<style scoped>\n",
              "    .dataframe tbody tr th:only-of-type {\n",
              "        vertical-align: middle;\n",
              "    }\n",
              "\n",
              "    .dataframe tbody tr th {\n",
              "        vertical-align: top;\n",
              "    }\n",
              "\n",
              "    .dataframe thead th {\n",
              "        text-align: right;\n",
              "    }\n",
              "</style>\n",
              "<table border=\"1\" class=\"dataframe\">\n",
              "  <thead>\n",
              "    <tr style=\"text-align: right;\">\n",
              "      <th></th>\n",
              "      <th>Metric</th>\n",
              "      <th>Value</th>\n",
              "    </tr>\n",
              "  </thead>\n",
              "  <tbody>\n",
              "    <tr>\n",
              "      <th>0</th>\n",
              "      <td>TP</td>\n",
              "      <td>23.0000</td>\n",
              "    </tr>\n",
              "    <tr>\n",
              "      <th>1</th>\n",
              "      <td>TN</td>\n",
              "      <td>370.0000</td>\n",
              "    </tr>\n",
              "    <tr>\n",
              "      <th>2</th>\n",
              "      <td>FP</td>\n",
              "      <td>1.0000</td>\n",
              "    </tr>\n",
              "    <tr>\n",
              "      <th>3</th>\n",
              "      <td>FN</td>\n",
              "      <td>57.0000</td>\n",
              "    </tr>\n",
              "    <tr>\n",
              "      <th>4</th>\n",
              "      <td>Prevalence</td>\n",
              "      <td>0.0500</td>\n",
              "    </tr>\n",
              "    <tr>\n",
              "      <th>5</th>\n",
              "      <td>Accuracy</td>\n",
              "      <td>0.8714</td>\n",
              "    </tr>\n",
              "    <tr>\n",
              "      <th>6</th>\n",
              "      <td>Precision</td>\n",
              "      <td>0.9583</td>\n",
              "    </tr>\n",
              "    <tr>\n",
              "      <th>7</th>\n",
              "      <td>NPV</td>\n",
              "      <td>0.8665</td>\n",
              "    </tr>\n",
              "    <tr>\n",
              "      <th>8</th>\n",
              "      <td>PPV</td>\n",
              "      <td>0.9583</td>\n",
              "    </tr>\n",
              "    <tr>\n",
              "      <th>9</th>\n",
              "      <td>Sensitivity</td>\n",
              "      <td>0.2875</td>\n",
              "    </tr>\n",
              "    <tr>\n",
              "      <th>10</th>\n",
              "      <td>Specificity</td>\n",
              "      <td>0.9973</td>\n",
              "    </tr>\n",
              "    <tr>\n",
              "      <th>11</th>\n",
              "      <td>Recall</td>\n",
              "      <td>0.2875</td>\n",
              "    </tr>\n",
              "    <tr>\n",
              "      <th>12</th>\n",
              "      <td>FPR</td>\n",
              "      <td>0.0027</td>\n",
              "    </tr>\n",
              "    <tr>\n",
              "      <th>13</th>\n",
              "      <td>FNR</td>\n",
              "      <td>0.7125</td>\n",
              "    </tr>\n",
              "    <tr>\n",
              "      <th>14</th>\n",
              "      <td>TNR</td>\n",
              "      <td>0.9973</td>\n",
              "    </tr>\n",
              "    <tr>\n",
              "      <th>15</th>\n",
              "      <td>F1_score</td>\n",
              "      <td>0.4423</td>\n",
              "    </tr>\n",
              "  </tbody>\n",
              "</table>\n",
              "</div>\n",
              "      <button class=\"colab-df-convert\" onclick=\"convertToInteractive('df-291f8ece-7109-4264-91c2-b38e4aef173c')\"\n",
              "              title=\"Convert this dataframe to an interactive table.\"\n",
              "              style=\"display:none;\">\n",
              "        \n",
              "  <svg xmlns=\"http://www.w3.org/2000/svg\" height=\"24px\"viewBox=\"0 0 24 24\"\n",
              "       width=\"24px\">\n",
              "    <path d=\"M0 0h24v24H0V0z\" fill=\"none\"/>\n",
              "    <path d=\"M18.56 5.44l.94 2.06.94-2.06 2.06-.94-2.06-.94-.94-2.06-.94 2.06-2.06.94zm-11 1L8.5 8.5l.94-2.06 2.06-.94-2.06-.94L8.5 2.5l-.94 2.06-2.06.94zm10 10l.94 2.06.94-2.06 2.06-.94-2.06-.94-.94-2.06-.94 2.06-2.06.94z\"/><path d=\"M17.41 7.96l-1.37-1.37c-.4-.4-.92-.59-1.43-.59-.52 0-1.04.2-1.43.59L10.3 9.45l-7.72 7.72c-.78.78-.78 2.05 0 2.83L4 21.41c.39.39.9.59 1.41.59.51 0 1.02-.2 1.41-.59l7.78-7.78 2.81-2.81c.8-.78.8-2.07 0-2.86zM5.41 20L4 18.59l7.72-7.72 1.47 1.35L5.41 20z\"/>\n",
              "  </svg>\n",
              "      </button>\n",
              "      \n",
              "  <style>\n",
              "    .colab-df-container {\n",
              "      display:flex;\n",
              "      flex-wrap:wrap;\n",
              "      gap: 12px;\n",
              "    }\n",
              "\n",
              "    .colab-df-convert {\n",
              "      background-color: #E8F0FE;\n",
              "      border: none;\n",
              "      border-radius: 50%;\n",
              "      cursor: pointer;\n",
              "      display: none;\n",
              "      fill: #1967D2;\n",
              "      height: 32px;\n",
              "      padding: 0 0 0 0;\n",
              "      width: 32px;\n",
              "    }\n",
              "\n",
              "    .colab-df-convert:hover {\n",
              "      background-color: #E2EBFA;\n",
              "      box-shadow: 0px 1px 2px rgba(60, 64, 67, 0.3), 0px 1px 3px 1px rgba(60, 64, 67, 0.15);\n",
              "      fill: #174EA6;\n",
              "    }\n",
              "\n",
              "    [theme=dark] .colab-df-convert {\n",
              "      background-color: #3B4455;\n",
              "      fill: #D2E3FC;\n",
              "    }\n",
              "\n",
              "    [theme=dark] .colab-df-convert:hover {\n",
              "      background-color: #434B5C;\n",
              "      box-shadow: 0px 1px 3px 1px rgba(0, 0, 0, 0.15);\n",
              "      filter: drop-shadow(0px 1px 2px rgba(0, 0, 0, 0.3));\n",
              "      fill: #FFFFFF;\n",
              "    }\n",
              "  </style>\n",
              "\n",
              "      <script>\n",
              "        const buttonEl =\n",
              "          document.querySelector('#df-291f8ece-7109-4264-91c2-b38e4aef173c button.colab-df-convert');\n",
              "        buttonEl.style.display =\n",
              "          google.colab.kernel.accessAllowed ? 'block' : 'none';\n",
              "\n",
              "        async function convertToInteractive(key) {\n",
              "          const element = document.querySelector('#df-291f8ece-7109-4264-91c2-b38e4aef173c');\n",
              "          const dataTable =\n",
              "            await google.colab.kernel.invokeFunction('convertToInteractive',\n",
              "                                                     [key], {});\n",
              "          if (!dataTable) return;\n",
              "\n",
              "          const docLinkHtml = 'Like what you see? Visit the ' +\n",
              "            '<a target=\"_blank\" href=https://colab.research.google.com/notebooks/data_table.ipynb>data table notebook</a>'\n",
              "            + ' to learn more about interactive tables.';\n",
              "          element.innerHTML = '';\n",
              "          dataTable['output_type'] = 'display_data';\n",
              "          await google.colab.output.renderOutput(dataTable, element);\n",
              "          const docLink = document.createElement('div');\n",
              "          docLink.innerHTML = docLinkHtml;\n",
              "          element.appendChild(docLink);\n",
              "        }\n",
              "      </script>\n",
              "    </div>\n",
              "  </div>\n",
              "  "
            ]
          },
          "metadata": {},
          "execution_count": 34
        }
      ]
    },
    {
      "cell_type": "code",
      "source": [
        "# predict probabilities\n",
        "pred_prob1 = NB.predict_proba(Test_X_Tfidf)\n",
        "pred_prob2 = SVM.predict_proba(Test_X_Tfidf)\n",
        "pred_prob3 = RF.predict_proba(Test_X_Tfidf)\n"
      ],
      "metadata": {
        "id": "SpccrGhQv1bK"
      },
      "execution_count": 35,
      "outputs": []
    },
    {
      "cell_type": "code",
      "source": [
        "from sklearn.metrics import roc_curve\n",
        "\n",
        "# roc curve for models\n",
        "fpr1, tpr1, thresh1 = roc_curve(Test_Y, pred_prob1[:,1], pos_label=1)\n",
        "fpr2, tpr2, thresh2 = roc_curve(Test_Y, pred_prob2[:,1], pos_label=1)\n",
        "fpr3, tpr3, thresh3 = roc_curve(Test_Y, pred_prob3[:,1], pos_label=1)\n",
        "\n",
        "\n",
        "# roc curve for tpr = fpr \n",
        "random_probs = [0 for i in range(len(Test_Y))]\n",
        "p_fpr, p_tpr, _ = roc_curve(Test_Y, random_probs, pos_label=1)\n",
        "#print(\"SVM Recall:\",metrics.recall_score(predictions_SVM, Test_Y)fpr1, tpr1)\n",
        "#print(\"NB fpr, tpr:\",fpr1, tpr1)\n",
        "##print(\"RF fpr, tpr:\",fpr3, tpr3)"
      ],
      "metadata": {
        "id": "l3I9sLoyxYc6"
      },
      "execution_count": 37,
      "outputs": []
    },
    {
      "cell_type": "code",
      "source": [
        "# matplotlib\n",
        "import matplotlib.pyplot as plt\n",
        "plt.style.use('seaborn')\n",
        "\n",
        "# plot roc curves\n",
        "plt.plot(fpr1, tpr1, linestyle='--',color='orange', label='Naive Bayes')\n",
        "plt.plot(fpr2, tpr2, linestyle='--',color='red', label='Support Vector Machine')\n",
        "plt.plot(fpr3, tpr3, linestyle='--',color='green', label='Random Forest')\n",
        "\n",
        "plt.plot(p_fpr, p_tpr, linestyle='--', color='blue')\n",
        "# title\n",
        "plt.title('ROC curve')\n",
        "# x label\n",
        "plt.xlabel('False Positive Rate')\n",
        "# y label\n",
        "plt.ylabel('True Positive rate')\n",
        "\n",
        "plt.legend(loc='best')\n",
        "plt.savefig('ROC',dpi=300)\n",
        "plt.show();"
      ],
      "metadata": {
        "colab": {
          "base_uri": "https://localhost:8080/",
          "height": 376
        },
        "id": "rrlzJToExr_W",
        "outputId": "ed6bad3f-7c84-4d20-ae08-60e84c4c6a29"
      },
      "execution_count": 38,
      "outputs": [
        {
          "output_type": "display_data",
          "data": {
            "text/plain": [
              "<Figure size 576x396 with 1 Axes>"
            ],
            "image/png": "[encoded data removed]"
          },
          "metadata": {}
        }
      ]
    },
    {
      "cell_type": "code",
      "source": [
        "#Precision-recall implementation\n",
        "precision1, recall1, thresholds1 = sklearn.metrics.precision_recall_curve(Test_Y, predictions_NB)\n",
        "precision2, recall2, thresholds2 = sklearn.metrics.precision_recall_curve(Test_Y, predictions_SVM)\n",
        "precision3, recall3, thresholds3 = sklearn.metrics.precision_recall_curve(Test_Y, predictions_RF)\n",
        "\n",
        "\n",
        "plt.style.use('seaborn')\n",
        "# plot the precision-recall curves\n",
        "no_skill = len(Test_Y[Test_Y==1]) / len(Test_Y)\n",
        "plt.plot(recall1, precision1, linestyle='--', color='orange', label='Naive Bayes')\n",
        "plt.plot(recall2, precision2, linestyle='--', color='red', label='Support Vector Machine')\n",
        "plt.plot(recall3, precision3, linestyle='--', color='green', label='Random Forest')\n",
        "\n",
        "plt.plot([0, 1], [no_skill, no_skill], linestyle='--')\n",
        "# title\n",
        "plt.title('Precision-Recall Curve')\n",
        "# x label\n",
        "plt.xlabel('Recall')\n",
        "# y label\n",
        "plt.ylabel('Precision')\n",
        "\n",
        "plt.legend(loc='best')\n",
        "plt.savefig('Precision-Recall Curve',dpi=500)\n",
        "plt.show();\n"
      ],
      "metadata": {
        "colab": {
          "base_uri": "https://localhost:8080/",
          "height": 376
        },
        "id": "EKdsWGd9K1Ft",
        "outputId": "41ed059a-1e7c-4f20-a378-a3c37aea5ef7"
      },
      "execution_count": 39,
      "outputs": [
        {
          "output_type": "display_data",
          "data": {
            "text/plain": [
              "<Figure size 576x396 with 1 Axes>"
            ],
            "image/png": "[encoded data removed]"
          },
          "metadata": {}
        }
      ]
    },
    {
      "cell_type": "markdown",
      "source": [
        "#Deep Learning Models:"
      ],
      "metadata": {
        "id": "E0Mvi1VxL9eP"
      }
    },
    {
      "cell_type": "code",
      "source": [
        "import numpy as np\n",
        "import pandas as pd\n",
        "import tensorflow as tf\n",
        "from sklearn.utils import shuffle\n",
        "from tensorflow.keras.preprocessing.text import Tokenizer\n",
        "from tensorflow.keras.preprocessing.sequence import pad_sequences\n",
        "from simpletransformers.classification import ClassificationModel\n",
        "import logging\n",
        "from datetime import datetime\n",
        "from sklearn.metrics import balanced_accuracy_score\n",
        "from sklearn.metrics import roc_auc_score\n",
        "from sklearn.metrics import precision_recall_fscore_support\n",
        "from sklearn.metrics import classification_report\n",
        "import keras.backend as K"
      ],
      "metadata": {
        "id": "KP0M5dgtL82h"
      },
      "execution_count": null,
      "outputs": []
    },
    {
      "cell_type": "code",
      "source": [
        "#load and read the dataset\n",
        "import io\n",
        "import pandas as pd\n",
        "#import packages to use\n",
        "from google.colab import files\n",
        "data = files.upload()"
      ],
      "metadata": {
        "id": "1T5c7vVfsc_a"
      },
      "execution_count": null,
      "outputs": []
    },
    {
      "cell_type": "code",
      "source": [
        "\n",
        "xlsx_file = io.BytesIO(data.get('ProjectDatasetComplex.xlsx'))\n",
        "df = pd.read_excel('ProjectDatasetComplex.xlsx', 'Sheet1')\n",
        "df.head()"
      ],
      "metadata": {
        "colab": {
          "base_uri": "https://localhost:8080/",
          "height": 206
        },
        "outputId": "414d33ae-f3b4-45c8-d0e3-c3a72a481a60",
        "id": "TpDsrk72sflH"
      },
      "execution_count": null,
      "outputs": [
        {
          "output_type": "execute_result",
          "data": {
            "text/plain": [
              "                                          ReportText  Label\n",
              "0  X thorax 16-04-2020, 16:05\\n\\nHartgrootte is b...      0\n",
              "1  X thorax 16-04-2020, 11:14\\n\\nHartgrootte is b...      0\n",
              "2  X thorax 16-04-2020, 11:38\\n\\nLaagstaande, afg...      0\n",
              "3  CT thorax 16-04-2020, 21:41\\n\\nGeen pulmonale ...      1\n",
              "4  CT HR-thorax 16-04-2020, 13:07\\nBlanco HRCT sc...      1"
            ],
            "text/html": [
              "\n",
              "  <div id=\"df-7ca73f68-ae98-4890-af7b-e1f473b654ed\">\n",
              "    <div class=\"colab-df-container\">\n",
              "      <div>\n",
              "<style scoped>\n",
              "    .dataframe tbody tr th:only-of-type {\n",
              "        vertical-align: middle;\n",
              "    }\n",
              "\n",
              "    .dataframe tbody tr th {\n",
              "        vertical-align: top;\n",
              "    }\n",
              "\n",
              "    .dataframe thead th {\n",
              "        text-align: right;\n",
              "    }\n",
              "</style>\n",
              "<table border=\"1\" class=\"dataframe\">\n",
              "  <thead>\n",
              "    <tr style=\"text-align: right;\">\n",
              "      <th></th>\n",
              "      <th>ReportText</th>\n",
              "      <th>Label</th>\n",
              "    </tr>\n",
              "  </thead>\n",
              "  <tbody>\n",
              "    <tr>\n",
              "      <th>0</th>\n",
              "      <td>X thorax 16-04-2020, 16:05\\n\\nHartgrootte is b...</td>\n",
              "      <td>0</td>\n",
              "    </tr>\n",
              "    <tr>\n",
              "      <th>1</th>\n",
              "      <td>X thorax 16-04-2020, 11:14\\n\\nHartgrootte is b...</td>\n",
              "      <td>0</td>\n",
              "    </tr>\n",
              "    <tr>\n",
              "      <th>2</th>\n",
              "      <td>X thorax 16-04-2020, 11:38\\n\\nLaagstaande, afg...</td>\n",
              "      <td>0</td>\n",
              "    </tr>\n",
              "    <tr>\n",
              "      <th>3</th>\n",
              "      <td>CT thorax 16-04-2020, 21:41\\n\\nGeen pulmonale ...</td>\n",
              "      <td>1</td>\n",
              "    </tr>\n",
              "    <tr>\n",
              "      <th>4</th>\n",
              "      <td>CT HR-thorax 16-04-2020, 13:07\\nBlanco HRCT sc...</td>\n",
              "      <td>1</td>\n",
              "    </tr>\n",
              "  </tbody>\n",
              "</table>\n",
              "</div>\n",
              "      <button class=\"colab-df-convert\" onclick=\"convertToInteractive('df-7ca73f68-ae98-4890-af7b-e1f473b654ed')\"\n",
              "              title=\"Convert this dataframe to an interactive table.\"\n",
              "              style=\"display:none;\">\n",
              "        \n",
              "  <svg xmlns=\"http://www.w3.org/2000/svg\" height=\"24px\"viewBox=\"0 0 24 24\"\n",
              "       width=\"24px\">\n",
              "    <path d=\"M0 0h24v24H0V0z\" fill=\"none\"/>\n",
              "    <path d=\"M18.56 5.44l.94 2.06.94-2.06 2.06-.94-2.06-.94-.94-2.06-.94 2.06-2.06.94zm-11 1L8.5 8.5l.94-2.06 2.06-.94-2.06-.94L8.5 2.5l-.94 2.06-2.06.94zm10 10l.94 2.06.94-2.06 2.06-.94-2.06-.94-.94-2.06-.94 2.06-2.06.94z\"/><path d=\"M17.41 7.96l-1.37-1.37c-.4-.4-.92-.59-1.43-.59-.52 0-1.04.2-1.43.59L10.3 9.45l-7.72 7.72c-.78.78-.78 2.05 0 2.83L4 21.41c.39.39.9.59 1.41.59.51 0 1.02-.2 1.41-.59l7.78-7.78 2.81-2.81c.8-.78.8-2.07 0-2.86zM5.41 20L4 18.59l7.72-7.72 1.47 1.35L5.41 20z\"/>\n",
              "  </svg>\n",
              "      </button>\n",
              "      \n",
              "  <style>\n",
              "    .colab-df-container {\n",
              "      display:flex;\n",
              "      flex-wrap:wrap;\n",
              "      gap: 12px;\n",
              "    }\n",
              "\n",
              "    .colab-df-convert {\n",
              "      background-color: #E8F0FE;\n",
              "      border: none;\n",
              "      border-radius: 50%;\n",
              "      cursor: pointer;\n",
              "      display: none;\n",
              "      fill: #1967D2;\n",
              "      height: 32px;\n",
              "      padding: 0 0 0 0;\n",
              "      width: 32px;\n",
              "    }\n",
              "\n",
              "    .colab-df-convert:hover {\n",
              "      background-color: #E2EBFA;\n",
              "      box-shadow: 0px 1px 2px rgba(60, 64, 67, 0.3), 0px 1px 3px 1px rgba(60, 64, 67, 0.15);\n",
              "      fill: #174EA6;\n",
              "    }\n",
              "\n",
              "    [theme=dark] .colab-df-convert {\n",
              "      background-color: #3B4455;\n",
              "      fill: #D2E3FC;\n",
              "    }\n",
              "\n",
              "    [theme=dark] .colab-df-convert:hover {\n",
              "      background-color: #434B5C;\n",
              "      box-shadow: 0px 1px 3px 1px rgba(0, 0, 0, 0.15);\n",
              "      filter: drop-shadow(0px 1px 2px rgba(0, 0, 0, 0.3));\n",
              "      fill: #FFFFFF;\n",
              "    }\n",
              "  </style>\n",
              "\n",
              "      <script>\n",
              "        const buttonEl =\n",
              "          document.querySelector('#df-7ca73f68-ae98-4890-af7b-e1f473b654ed button.colab-df-convert');\n",
              "        buttonEl.style.display =\n",
              "          google.colab.kernel.accessAllowed ? 'block' : 'none';\n",
              "\n",
              "        async function convertToInteractive(key) {\n",
              "          const element = document.querySelector('#df-7ca73f68-ae98-4890-af7b-e1f473b654ed');\n",
              "          const dataTable =\n",
              "            await google.colab.kernel.invokeFunction('convertToInteractive',\n",
              "                                                     [key], {});\n",
              "          if (!dataTable) return;\n",
              "\n",
              "          const docLinkHtml = 'Like what you see? Visit the ' +\n",
              "            '<a target=\"_blank\" href=https://colab.research.google.com/notebooks/data_table.ipynb>data table notebook</a>'\n",
              "            + ' to learn more about interactive tables.';\n",
              "          element.innerHTML = '';\n",
              "          dataTable['output_type'] = 'display_data';\n",
              "          await google.colab.output.renderOutput(dataTable, element);\n",
              "          const docLink = document.createElement('div');\n",
              "          docLink.innerHTML = docLinkHtml;\n",
              "          element.appendChild(docLink);\n",
              "        }\n",
              "      </script>\n",
              "    </div>\n",
              "  </div>\n",
              "  "
            ]
          },
          "metadata": {},
          "execution_count": 7
        }
      ]
    },
    {
      "cell_type": "code",
      "source": [
        "# Define variables\n",
        "vocab_size = 2500 #1000\n",
        "embedding_dim = 32 #16\n",
        "max_length = 250 #150 #120\n",
        "trunc_type='post'\n",
        "padding_type='post'\n",
        "oov_tok = \"<OOV>\"\n",
        "training_size_perc = 0.8 ##2200\n",
        "num_epochs_number = 12\n",
        "dataset_stepsize = 100 #250\n",
        "dataset_stepsize_TEST = 40\n",
        "use_small_sample_perc = 1 # < 1 to us small sample of dataset for testing purpose\n",
        "path = '[path]'"
      ],
      "metadata": {
        "id": "Fczb32CAL898"
      },
      "execution_count": null,
      "outputs": []
    },
    {
      "cell_type": "code",
      "source": [
        "#prepare train-test-sets\n",
        "#df pos neg split\n",
        "#df_pos = df.query('Result_Infiltraat == 1')\n",
        "#df_neg = df.query('Result_Infiltraat == 0')\n",
        "df_pos = df.query('Label == 1')\n",
        "df_neg = df.query('Label == 0')\n",
        "\n",
        "# shuffle\n",
        "df_pos_shuf = shuffle(df_pos)\n",
        "df_neg_shuf = shuffle(df_neg)\n",
        "#split train test\n",
        "nr_pos = len(df_pos_shuf)\n",
        "nr_neg = len(df_neg_shuf)\n",
        "nr_train_pos = int(training_size_perc * nr_pos )\n",
        "nr_train_neg = int(training_size_perc * nr_neg )\n",
        "df_pos_TRAIN = df_pos_shuf.iloc[0:nr_train_pos]\n",
        "df_pos_TEST = df_pos_shuf.iloc[nr_train_pos:]\n",
        "df_neg_TRAIN = df_neg_shuf.iloc[0:nr_train_neg]\n",
        "df_neg_TEST = df_neg_shuf.iloc[nr_train_neg:]\n",
        "df_TEST = pd.concat([df_pos_TEST, df_neg_TEST])\n"
      ],
      "metadata": {
        "id": "H_fQOpCnSM_8"
      },
      "execution_count": null,
      "outputs": []
    },
    {
      "cell_type": "code",
      "source": [
        "#safe dataset\n",
        "#Filename1 = 'df_TEST_THORAX_20201006'\n",
        "#df_TEST.to_excel(path+'/Jupyter_NLP_thoraxdataset/Data/'+Filename1+\".xlsx\")\n",
        "Filename1 = 'df_TEST_THORAX_20201006'\n",
        "df_TEST.to_excel(\"Filename1.xlsx\")"
      ],
      "metadata": {
        "id": "Kw3B1SggjOb2"
      },
      "execution_count": null,
      "outputs": []
    },
    {
      "cell_type": "code",
      "source": [
        "Filename2 = 'df_pos_TRAIN_THORAX_20201006'\n",
        "#df_pos_TRAIN.to_excel(path+'/Jupyter_NLP_thoraxdataset/Data/'+Filename2+\".xlsx\")\n",
        "df_pos_TRAIN.to_excel(\"Filename2.xlsx\")\n",
        "Filename3= 'df_neg_TRAIN_THORAX_20201006'\n",
        "#df_neg_TRAIN.to_excel(path+'/Jupyter_NLP_thoraxdataset/Data/'+Filename3+\".xlsx\")\n",
        "df_neg_TRAIN.to_excel(\"Filename3.xlsx\")"
      ],
      "metadata": {
        "id": "i04uX0JVkJjw"
      },
      "execution_count": null,
      "outputs": []
    },
    {
      "cell_type": "code",
      "source": [
        "\n",
        "#def make_list_Pos_Neg_N(pos, neg, dataset_stepsize):\n",
        "list_Pos_N = [*range(dataset_stepsize, nr_train_pos, dataset_stepsize)]\n",
        "#list_Pos_N.append(pos) # add largest number of positive cases\n",
        "list_Neg_N = [*range(dataset_stepsize, nr_train_neg, dataset_stepsize)]\n",
        "#list_Neg_N.append(neg) # add largest number of negative cases\n",
        "#return(list_Pos_N, list_Neg_N)\n",
        "#prepare results dataframe\n",
        "Training_combinations = pd.DataFrame(columns=['Dataset_ID', 'Pos', 'Neg', 'Training_size', 'Prevalence'])\n",
        "teller=1\n",
        "for i in list_Pos_N:\n",
        "    for ii in list_Neg_N:\n",
        "        ID = teller\n",
        "        Pos = round(i ,0)\n",
        "        Neg = round(ii, 0)\n",
        "        Size = round((i + ii),0)\n",
        "        Prev = round( (i/ (i + ii)), 2)\n",
        "        Training_combinations.loc[teller] = (ID, Pos, Neg, Size, Prev)\n",
        "        teller = teller + 1\n",
        "print(Training_combinations)\n"
      ],
      "metadata": {
        "colab": {
          "base_uri": "https://localhost:8080/"
        },
        "id": "2lKmktydg4Or",
        "outputId": "6801e193-c741-489e-907b-5842bf7e0955"
      },
      "execution_count": null,
      "outputs": [
        {
          "output_type": "stream",
          "name": "stdout",
          "text": [
            "    Dataset_ID    Pos     Neg  Training_size  Prevalence\n",
            "1          1.0  100.0   100.0          200.0        0.50\n",
            "2          2.0  100.0   200.0          300.0        0.33\n",
            "3          3.0  100.0   300.0          400.0        0.25\n",
            "4          4.0  100.0   400.0          500.0        0.20\n",
            "5          5.0  100.0   500.0          600.0        0.17\n",
            "6          6.0  100.0   600.0          700.0        0.14\n",
            "7          7.0  100.0   700.0          800.0        0.12\n",
            "8          8.0  100.0   800.0          900.0        0.11\n",
            "9          9.0  100.0   900.0         1000.0        0.10\n",
            "10        10.0  100.0  1000.0         1100.0        0.09\n",
            "11        11.0  100.0  1100.0         1200.0        0.08\n",
            "12        12.0  100.0  1200.0         1300.0        0.08\n",
            "13        13.0  100.0  1300.0         1400.0        0.07\n",
            "14        14.0  100.0  1400.0         1500.0        0.07\n",
            "15        15.0  100.0  1500.0         1600.0        0.06\n",
            "16        16.0  200.0   100.0          300.0        0.67\n",
            "17        17.0  200.0   200.0          400.0        0.50\n",
            "18        18.0  200.0   300.0          500.0        0.40\n",
            "19        19.0  200.0   400.0          600.0        0.33\n",
            "20        20.0  200.0   500.0          700.0        0.29\n",
            "21        21.0  200.0   600.0          800.0        0.25\n",
            "22        22.0  200.0   700.0          900.0        0.22\n",
            "23        23.0  200.0   800.0         1000.0        0.20\n",
            "24        24.0  200.0   900.0         1100.0        0.18\n",
            "25        25.0  200.0  1000.0         1200.0        0.17\n",
            "26        26.0  200.0  1100.0         1300.0        0.15\n",
            "27        27.0  200.0  1200.0         1400.0        0.14\n",
            "28        28.0  200.0  1300.0         1500.0        0.13\n",
            "29        29.0  200.0  1400.0         1600.0        0.12\n",
            "30        30.0  200.0  1500.0         1700.0        0.12\n"
          ]
        }
      ]
    },
    {
      "cell_type": "code",
      "source": [
        "Filename4 = 'Training_combinations_THORAX_20201006'\n",
        "#Training_combinations.to_excel(path+'/Jupyter_NLP_thoraxdataset/Data/'+Filename4+\".xlsx\")\n",
        "Training_combinations.to_excel(\"Filename4.xlsx\")\n",
        "#append info to results"
      ],
      "metadata": {
        "id": "IIYkkZSLmk9I"
      },
      "execution_count": null,
      "outputs": []
    },
    {
      "cell_type": "code",
      "source": [
        "from google.colab import files\n",
        "files.download('Filename1.xlsx')\n",
        "files.download('Filename2.xlsx')\n",
        "files.download('Filename3.xlsx')\n",
        "files.download('Filename4.xlsx')"
      ],
      "metadata": {
        "colab": {
          "base_uri": "https://localhost:8080/",
          "height": 17
        },
        "id": "T29Yo-9wQ_mF",
        "outputId": "3e2b8c3c-9b29-4ee8-bb14-3331be023499"
      },
      "execution_count": null,
      "outputs": [
        {
          "output_type": "display_data",
          "data": {
            "text/plain": [
              "<IPython.core.display.Javascript object>"
            ],
            "application/javascript": [
              "\n",
              "    async function download(id, filename, size) {\n",
              "      if (!google.colab.kernel.accessAllowed) {\n",
              "        return;\n",
              "      }\n",
              "      const div = document.createElement('div');\n",
              "      const label = document.createElement('label');\n",
              "      label.textContent = `Downloading \"${filename}\": `;\n",
              "      div.appendChild(label);\n",
              "      const progress = document.createElement('progress');\n",
              "      progress.max = size;\n",
              "      div.appendChild(progress);\n",
              "      document.body.appendChild(div);\n",
              "\n",
              "      const buffers = [];\n",
              "      let downloaded = 0;\n",
              "\n",
              "      const channel = await google.colab.kernel.comms.open(id);\n",
              "      // Send a message to notify the kernel that we're ready.\n",
              "      channel.send({})\n",
              "\n",
              "      for await (const message of channel.messages) {\n",
              "        // Send a message to notify the kernel that we're ready.\n",
              "        channel.send({})\n",
              "        if (message.buffers) {\n",
              "          for (const buffer of message.buffers) {\n",
              "            buffers.push(buffer);\n",
              "            downloaded += buffer.byteLength;\n",
              "            progress.value = downloaded;\n",
              "          }\n",
              "        }\n",
              "      }\n",
              "      const blob = new Blob(buffers, {type: 'application/binary'});\n",
              "      const a = document.createElement('a');\n",
              "      a.href = window.URL.createObjectURL(blob);\n",
              "      a.download = filename;\n",
              "      div.appendChild(a);\n",
              "      a.click();\n",
              "      div.remove();\n",
              "    }\n",
              "  "
            ]
          },
          "metadata": {}
        },
        {
          "output_type": "display_data",
          "data": {
            "text/plain": [
              "<IPython.core.display.Javascript object>"
            ],
            "application/javascript": [
              "download(\"download_1007a4f3-50fc-4985-b0fa-cf8b7aefbf1b\", \"Filename1.xlsx\", 73321)"
            ]
          },
          "metadata": {}
        },
        {
          "output_type": "display_data",
          "data": {
            "text/plain": [
              "<IPython.core.display.Javascript object>"
            ],
            "application/javascript": [
              "\n",
              "    async function download(id, filename, size) {\n",
              "      if (!google.colab.kernel.accessAllowed) {\n",
              "        return;\n",
              "      }\n",
              "      const div = document.createElement('div');\n",
              "      const label = document.createElement('label');\n",
              "      label.textContent = `Downloading \"${filename}\": `;\n",
              "      div.appendChild(label);\n",
              "      const progress = document.createElement('progress');\n",
              "      progress.max = size;\n",
              "      div.appendChild(progress);\n",
              "      document.body.appendChild(div);\n",
              "\n",
              "      const buffers = [];\n",
              "      let downloaded = 0;\n",
              "\n",
              "      const channel = await google.colab.kernel.comms.open(id);\n",
              "      // Send a message to notify the kernel that we're ready.\n",
              "      channel.send({})\n",
              "\n",
              "      for await (const message of channel.messages) {\n",
              "        // Send a message to notify the kernel that we're ready.\n",
              "        channel.send({})\n",
              "        if (message.buffers) {\n",
              "          for (const buffer of message.buffers) {\n",
              "            buffers.push(buffer);\n",
              "            downloaded += buffer.byteLength;\n",
              "            progress.value = downloaded;\n",
              "          }\n",
              "        }\n",
              "      }\n",
              "      const blob = new Blob(buffers, {type: 'application/binary'});\n",
              "      const a = document.createElement('a');\n",
              "      a.href = window.URL.createObjectURL(blob);\n",
              "      a.download = filename;\n",
              "      div.appendChild(a);\n",
              "      a.click();\n",
              "      div.remove();\n",
              "    }\n",
              "  "
            ]
          },
          "metadata": {}
        },
        {
          "output_type": "display_data",
          "data": {
            "text/plain": [
              "<IPython.core.display.Javascript object>"
            ],
            "application/javascript": [
              "download(\"download_a28a99b8-0b96-431b-ab36-26a6653713ef\", \"Filename2.xlsx\", 59287)"
            ]
          },
          "metadata": {}
        },
        {
          "output_type": "display_data",
          "data": {
            "text/plain": [
              "<IPython.core.display.Javascript object>"
            ],
            "application/javascript": [
              "\n",
              "    async function download(id, filename, size) {\n",
              "      if (!google.colab.kernel.accessAllowed) {\n",
              "        return;\n",
              "      }\n",
              "      const div = document.createElement('div');\n",
              "      const label = document.createElement('label');\n",
              "      label.textContent = `Downloading \"${filename}\": `;\n",
              "      div.appendChild(label);\n",
              "      const progress = document.createElement('progress');\n",
              "      progress.max = size;\n",
              "      div.appendChild(progress);\n",
              "      document.body.appendChild(div);\n",
              "\n",
              "      const buffers = [];\n",
              "      let downloaded = 0;\n",
              "\n",
              "      const channel = await google.colab.kernel.comms.open(id);\n",
              "      // Send a message to notify the kernel that we're ready.\n",
              "      channel.send({})\n",
              "\n",
              "      for await (const message of channel.messages) {\n",
              "        // Send a message to notify the kernel that we're ready.\n",
              "        channel.send({})\n",
              "        if (message.buffers) {\n",
              "          for (const buffer of message.buffers) {\n",
              "            buffers.push(buffer);\n",
              "            downloaded += buffer.byteLength;\n",
              "            progress.value = downloaded;\n",
              "          }\n",
              "        }\n",
              "      }\n",
              "      const blob = new Blob(buffers, {type: 'application/binary'});\n",
              "      const a = document.createElement('a');\n",
              "      a.href = window.URL.createObjectURL(blob);\n",
              "      a.download = filename;\n",
              "      div.appendChild(a);\n",
              "      a.click();\n",
              "      div.remove();\n",
              "    }\n",
              "  "
            ]
          },
          "metadata": {}
        },
        {
          "output_type": "display_data",
          "data": {
            "text/plain": [
              "<IPython.core.display.Javascript object>"
            ],
            "application/javascript": [
              "download(\"download_ae75cdfd-26e5-4662-925d-3d7e5e39f11e\", \"Filename3.xlsx\", 221887)"
            ]
          },
          "metadata": {}
        },
        {
          "output_type": "display_data",
          "data": {
            "text/plain": [
              "<IPython.core.display.Javascript object>"
            ],
            "application/javascript": [
              "\n",
              "    async function download(id, filename, size) {\n",
              "      if (!google.colab.kernel.accessAllowed) {\n",
              "        return;\n",
              "      }\n",
              "      const div = document.createElement('div');\n",
              "      const label = document.createElement('label');\n",
              "      label.textContent = `Downloading \"${filename}\": `;\n",
              "      div.appendChild(label);\n",
              "      const progress = document.createElement('progress');\n",
              "      progress.max = size;\n",
              "      div.appendChild(progress);\n",
              "      document.body.appendChild(div);\n",
              "\n",
              "      const buffers = [];\n",
              "      let downloaded = 0;\n",
              "\n",
              "      const channel = await google.colab.kernel.comms.open(id);\n",
              "      // Send a message to notify the kernel that we're ready.\n",
              "      channel.send({})\n",
              "\n",
              "      for await (const message of channel.messages) {\n",
              "        // Send a message to notify the kernel that we're ready.\n",
              "        channel.send({})\n",
              "        if (message.buffers) {\n",
              "          for (const buffer of message.buffers) {\n",
              "            buffers.push(buffer);\n",
              "            downloaded += buffer.byteLength;\n",
              "            progress.value = downloaded;\n",
              "          }\n",
              "        }\n",
              "      }\n",
              "      const blob = new Blob(buffers, {type: 'application/binary'});\n",
              "      const a = document.createElement('a');\n",
              "      a.href = window.URL.createObjectURL(blob);\n",
              "      a.download = filename;\n",
              "      div.appendChild(a);\n",
              "      a.click();\n",
              "      div.remove();\n",
              "    }\n",
              "  "
            ]
          },
          "metadata": {}
        },
        {
          "output_type": "display_data",
          "data": {
            "text/plain": [
              "<IPython.core.display.Javascript object>"
            ],
            "application/javascript": [
              "download(\"download_d2fe3c71-6c81-4726-b355-9a23de8f986a\", \"Filename4.xlsx\", 5832)"
            ]
          },
          "metadata": {}
        }
      ]
    },
    {
      "cell_type": "code",
      "source": [
        "print(df)"
      ],
      "metadata": {
        "colab": {
          "base_uri": "https://localhost:8080/"
        },
        "id": "X_imKDoQSO6c",
        "outputId": "81819d68-0012-4376-8788-c5d822b1ea95"
      },
      "execution_count": null,
      "outputs": [
        {
          "output_type": "stream",
          "name": "stdout",
          "text": [
            "                                             ReportText  Label\n",
            "0     X thorax 16-04-2020, 16:05\\n\\nHartgrootte is b...      0\n",
            "1     X thorax 16-04-2020, 11:14\\n\\nHartgrootte is b...      0\n",
            "2     X thorax 16-04-2020, 11:38\\n\\nLaagstaande, afg...      0\n",
            "3     CT thorax 16-04-2020, 21:41\\n\\nGeen pulmonale ...      1\n",
            "4     CT HR-thorax 16-04-2020, 13:07\\nBlanco HRCT sc...      1\n",
            "...                                                 ...    ...\n",
            "2250  CTA pulmonalis (longembolie) 14-04-2020, 16:21...      0\n",
            "2251  CTA pulmonalis (longembolie) 14-04-2020, 16:40...      0\n",
            "2252  CTA pulmonalis (longembolie) 15-04-2020, 06:10...      0\n",
            "2253  CTA pulmonalis (longembolie) 15-04-2020, 16:16...      0\n",
            "2254  CTA pulmonalis (longembolie) 15-04-2020, 19:43...      0\n",
            "\n",
            "[2255 rows x 2 columns]\n"
          ]
        }
      ]
    },
    {
      "cell_type": "code",
      "source": [
        "#count the word in the report\n",
        "df['WordCount'] = df['ReportText'].str.split().str.len()"
      ],
      "metadata": {
        "id": "TicvDDTyS_vs"
      },
      "execution_count": null,
      "outputs": []
    },
    {
      "cell_type": "code",
      "source": [
        "df_WORDS = df['WordCount'].value_counts()"
      ],
      "metadata": {
        "id": "vqcGjAo4TKfr"
      },
      "execution_count": null,
      "outputs": []
    },
    {
      "cell_type": "code",
      "source": [
        "print(df_WORDS)"
      ],
      "metadata": {
        "colab": {
          "base_uri": "https://localhost:8080/"
        },
        "id": "mhNgj-sSTPJz",
        "outputId": "ed900e05-dd39-4f04-93db-dd079c4c5f53"
      },
      "execution_count": null,
      "outputs": [
        {
          "output_type": "stream",
          "name": "stdout",
          "text": [
            "26     97\n",
            "28     97\n",
            "30     59\n",
            "39     37\n",
            "32     37\n",
            "       ..\n",
            "283     1\n",
            "268     1\n",
            "267     1\n",
            "196     1\n",
            "126     1\n",
            "Name: WordCount, Length: 253, dtype: int64\n"
          ]
        }
      ]
    },
    {
      "cell_type": "code",
      "source": [
        "df.info()"
      ],
      "metadata": {
        "colab": {
          "base_uri": "https://localhost:8080/"
        },
        "id": "87YDwF6VgFqm",
        "outputId": "7f3fedae-a6d0-43f6-94a8-f04e96d7e3d8"
      },
      "execution_count": null,
      "outputs": [
        {
          "output_type": "stream",
          "name": "stdout",
          "text": [
            "<class 'pandas.core.frame.DataFrame'>\n",
            "RangeIndex: 2255 entries, 0 to 2254\n",
            "Data columns (total 3 columns):\n",
            " #   Column      Non-Null Count  Dtype \n",
            "---  ------      --------------  ----- \n",
            " 0   ReportText  2255 non-null   object\n",
            " 1   Label       2255 non-null   int64 \n",
            " 2   WordCount   2255 non-null   int64 \n",
            "dtypes: int64(2), object(1)\n",
            "memory usage: 53.0+ KB\n"
          ]
        }
      ]
    },
    {
      "cell_type": "code",
      "source": [
        "import plotly.express as px\n",
        "#df.sort_values(by=['Result_Infiltraat'], inplace=True, ascending=False)\n",
        "#fig = px.histogram(df, x=\"WordCount\", color=\"Result_Infiltraat\")\n",
        "df.sort_values(by=['Label'], inplace=True, ascending=False)\n",
        "fig = px.histogram(df, x=\"WordCount\", color=\"Label\")\n",
        "fig.show()"
      ],
      "metadata": {
        "colab": {
          "base_uri": "https://localhost:8080/",
          "height": 597
        },
        "id": "Ff84hBaiTVnS",
        "outputId": "1b20d6c9-a3d2-44c5-8c29-50b136d392d3"
      },
      "execution_count": null,
      "outputs": [
        {
          "output_type": "stream",
          "name": "stderr",
          "text": [
            "/usr/local/lib/python3.7/dist-packages/distributed/config.py:20: YAMLLoadWarning: calling yaml.load() without Loader=... is deprecated, as the default Loader is unsafe. Please read https://msg.pyyaml.org/load for full details.\n",
            "  defaults = yaml.load(f)\n"
          ]
        },
        {
          "output_type": "display_data",
          "data": {
            "text/html": [
              "<html>\n",
              "<head><meta charset=\"utf-8\" /></head>\n",
              "<body>\n",
              "    <div>            <script src=\"https://cdnjs.cloudflare.com/ajax/libs/mathjax/2.7.5/MathJax.js?config=TeX-AMS-MML_SVG\"></script><script type=\"text/javascript\">if (window.MathJax) {MathJax.Hub.Config({SVG: {font: \"STIX-Web\"}});}</script>                <script type=\"text/javascript\">window.PlotlyConfig = {MathJaxConfig: 'local'};</script>\n",
              "        <script src=\"https://cdn.plot.ly/plotly-2.8.3.min.js\"></script>                <div id=\"f6422c21-c8fb-4f50-9757-cb8356246bde\" class=\"plotly-graph-div\" style=\"height:525px; width:100%;\"></div>            <script type=\"text/javascript\">                                    window.PLOTLYENV=window.PLOTLYENV || {};                                    if (document.getElementById(\"f6422c21-c8fb-4f50-9757-cb8356246bde\")) {                    Plotly.newPlot(                        \"f6422c21-c8fb-4f50-9757-cb8356246bde\",                        [{\"alignmentgroup\":\"True\",\"bingroup\":\"x\",\"hovertemplate\":\"Label=1<br>WordCount=%{x}<br>count=%{y}<extra></extra>\",\"legendgroup\":\"1\",\"marker\":{\"color\":\"#636efa\",\"pattern\":{\"shape\":\"\"}},\"name\":\"1\",\"offsetgroup\":\"1\",\"orientation\":\"v\",\"showlegend\":true,\"x\":[65,80,17,73,59,125,110,25,164,115,62,83,99,180,21,40,62,179,31,76,26,65,35,69,76,59,269,92,50,67,180,42,59,75,46,151,233,54,44,45,36,95,71,53,54,19,29,99,28,74,68,58,50,38,34,46,44,34,35,22,28,41,62,45,77,53,64,102,60,192,66,217,35,123,51,51,51,56,58,62,36,40,38,27,47,63,63,25,64,67,44,48,63,55,51,48,61,27,43,59,88,55,71,34,29,31,74,75,221,52,49,45,82,48,52,32,32,58,43,42,67,99,23,187,87,106,208,26,87,78,30,30,66,145,137,75,91,20,37,34,105,58,34,57,17,46,21,43,41,72,158,81,109,61,69,129,76,71,17,265,26,45,87,260,76,29,117,93,82,33,25,43,22,33,48,68,237,54,65,26,87,63,83,37,50,341,191,232,292,57,39,245,49,86,73,122,116,93,87,33,96,393,59,204,54,136,238,471,59,298,75,37,72,73,38,86,419,36,70,98,24,76,34,39,274,100,89,111,62,95,39,85,84,102,47,62,29,60,87,128,67,103,39,36,98,111,49,48,32,61,32,138,55,37,108,73,144,28,50,195,37,110,26,117,56,77,120,87,73,50,88,250,66,66,103,98,147,49,94,34,185,186,61,315,304,94,97,58,60,88,28,86,56,107,52,28,115,94,51,43,115,34,109,52,25,75,71,67,54,110,28,172,238,471,348,205,410,314,28,209,29,61,102,22,44,88,49,25,39,43,29,30,103,17,31,181,121,74,38,112,178,40,49,46,79,81,107,105,91,60,98,75,136,105],\"xaxis\":\"x\",\"yaxis\":\"y\",\"type\":\"histogram\"},{\"alignmentgroup\":\"True\",\"bingroup\":\"x\",\"hovertemplate\":\"Label=0<br>WordCount=%{x}<br>count=%{y}<extra></extra>\",\"legendgroup\":\"0\",\"marker\":{\"color\":\"#EF553B\",\"pattern\":{\"shape\":\"\"}},\"name\":\"0\",\"offsetgroup\":\"0\",\"orientation\":\"v\",\"showlegend\":true,\"x\":[27,26,111,50,41,30,68,50,66,49,32,26,80,20,27,32,80,69,60,34,34,30,110,87,40,67,34,243,30,47,27,13,37,26,84,19,26,49,40,31,89,40,31,57,28,52,41,57,26,68,21,47,26,60,76,88,41,25,38,26,20,38,25,23,18,67,31,28,35,81,69,44,37,23,63,43,134,71,221,48,32,21,19,61,37,26,25,96,28,100,83,46,118,92,145,49,93,140,38,94,37,26,58,98,105,37,49,23,24,47,35,51,38,19,36,187,34,45,38,68,34,34,380,31,51,99,36,38,108,55,26,24,41,77,76,41,26,26,27,61,30,40,23,50,37,32,28,19,17,20,76,36,28,36,50,26,30,47,56,69,45,65,121,45,85,48,28,32,47,32,65,50,76,51,44,60,37,42,30,19,90,24,42,72,42,43,33,36,28,63,17,21,24,45,28,23,32,30,164,21,28,28,38,38,119,277,28,26,59,53,27,58,28,63,26,28,26,60,65,18,68,32,28,44,42,25,29,28,25,79,98,77,57,30,26,50,31,51,36,53,30,42,26,22,34,53,105,161,53,101,201,39,23,339,207,54,159,125,115,28,28,51,63,55,57,44,122,43,34,64,91,45,33,26,26,73,38,18,52,50,70,127,195,154,166,260,167,56,356,82,54,62,72,28,22,53,30,30,42,25,30,28,45,44,45,108,112,28,18,28,26,26,282,29,56,26,36,26,61,55,120,63,42,149,56,63,39,35,42,51,20,37,32,60,38,55,37,28,37,45,43,47,25,24,45,58,211,44,26,23,23,68,18,31,34,59,48,40,29,58,70,82,19,47,60,32,29,68,48,39,31,35,30,39,66,32,19,83,40,24,39,29,53,25,70,110,239,73,64,47,32,111,25,16,80,13,140,63,43,87,80,78,53,33,83,77,55,36,21,47,33,57,127,143,26,53,37,85,32,39,59,26,21,98,24,44,63,20,26,82,15,20,64,74,43,212,217,79,56,40,52,53,36,41,35,20,77,74,21,84,17,45,77,30,41,41,49,18,85,56,30,20,28,36,23,24,31,28,59,25,46,47,29,119,93,31,68,22,86,34,24,45,37,31,83,31,43,26,62,22,40,58,44,45,19,71,24,33,23,28,77,14,65,86,64,57,107,36,30,74,218,74,45,159,36,129,14,56,218,67,47,44,50,23,55,37,85,35,68,31,71,43,63,41,71,49,85,133,66,98,28,134,75,108,65,29,55,106,135,78,32,123,81,17,16,102,126,22,97,39,74,98,124,43,41,36,103,28,29,48,23,57,17,110,39,20,107,36,47,18,83,49,42,12,26,94,84,73,33,21,27,81,41,41,39,87,21,30,74,67,56,90,26,20,20,118,25,12,42,100,30,21,16,20,90,28,55,28,38,86,58,90,35,79,97,95,39,86,58,72,13,19,22,61,508,477,462,458,457,44,18,80,32,24,31,70,43,12,23,19,35,36,19,25,20,60,34,30,61,15,49,67,49,61,26,31,52,26,38,22,70,94,170,115,25,87,58,224,42,108,136,98,136,128,189,72,77,15,69,26,68,23,43,24,80,21,30,30,26,33,41,16,21,28,31,30,241,83,100,99,191,96,60,90,256,37,28,19,63,49,39,43,48,59,18,26,78,24,57,29,26,28,34,30,32,23,49,23,31,31,46,45,82,23,62,304,49,13,37,58,26,26,26,28,26,105,292,78,125,124,57,46,39,79,59,77,26,58,39,28,28,52,68,43,55,15,37,77,24,39,46,59,40,16,52,174,39,260,18,67,54,77,24,18,38,32,65,32,18,301,217,93,176,210,102,262,178,220,138,53,51,185,200,165,178,31,55,99,34,46,42,68,70,47,26,39,52,39,32,41,26,46,30,30,72,47,26,40,87,90,26,45,55,83,38,42,43,77,26,25,52,63,50,87,42,40,60,44,46,91,42,24,47,25,27,38,111,154,41,28,127,26,97,61,40,92,26,136,125,20,33,25,22,30,74,34,43,34,104,78,89,53,69,23,82,123,229,109,107,12,179,147,51,152,159,35,161,64,33,35,173,70,14,14,101,93,73,80,146,248,68,57,83,185,196,160,15,192,63,116,32,31,37,30,30,40,38,33,37,31,160,213,20,200,155,155,65,142,80,99,41,40,68,56,48,267,207,216,83,229,178,76,283,42,39,180,19,45,40,69,43,26,117,62,220,48,200,108,31,72,28,35,37,25,43,82,54,54,42,46,62,50,35,52,54,55,26,56,53,110,78,59,32,47,56,103,26,22,43,49,116,62,125,223,75,60,33,82,60,36,40,39,55,42,36,32,22,76,71,52,28,67,85,67,128,50,151,124,59,29,28,34,30,44,21,50,54,71,30,56,25,35,24,35,59,30,42,44,47,54,26,26,60,77,51,47,122,83,24,62,78,26,40,26,71,81,33,26,36,21,49,55,32,48,64,56,28,93,40,181,60,37,98,50,142,42,134,143,93,71,40,38,99,158,65,93,104,83,121,59,116,96,48,75,119,98,301,150,46,249,166,35,35,30,34,37,66,32,31,74,62,61,26,28,55,40,62,84,52,94,66,69,46,55,35,43,62,50,34,37,46,45,45,54,49,80,47,104,28,117,149,174,266,109,34,80,75,48,19,34,123,22,136,47,38,52,98,223,460,202,88,39,52,49,57,77,76,64,32,28,35,78,49,78,36,57,152,295,157,141,46,7,73,60,46,51,26,27,137,165,91,124,61,72,38,74,88,62,71,78,31,183,179,55,65,23,110,44,45,78,320,28,140,193,65,45,56,39,49,90,35,31,46,26,54,81,74,39,81,49,26,60,34,50,28,81,79,100,54,57,36,143,30,31,89,249,248,165,32,55,74,30,28,77,60,28,90,28,163,36,40,31,48,35,49,28,33,28,57,17,34,60,131,78,33,43,40,26,53,26,57,28,52,90,88,28,26,47,23,47,77,27,28,66,42,234,149,135,32,27,35,52,17,56,58,36,77,77,34,41,67,77,69,142,191,208,54,44,67,51,39,45,43,44,31,84,112,85,68,84,264,45,80,84,86,60,50,84,30,59,30,45,28,27,37,38,25,43,54,55,31,30,49,36,53,12,179,105,191,57,38,53,90,58,51,78,60,45,61,29,26,28,26,24,19,28,28,96,41,154,23,28,46,26,28,35,22,26,30,26,53,26,23,40,28,28,110,164,113,157,28,30,29,10,48,31,16,46,21,41,14,22,30,16,31,47,13,26,28,89,27,26,28,30,30,28,48,41,26,26,25,30,89,102,48,79,32,33,30,48,23,9,71,99,90,41,44,22,30,9,65,9,17,30,33,74,60,50,28,57,47,28,66,82,42,25,71,16,54,68,54,223,149,228,219,123,82,76,170,41,35,28,34,80,28,18,12,21,23,26,24,58,21,87,14,28,27,28,13,30,30,50,39,46,81,44,48,28,26,109,77,26,26,81,26,70,26,52,50,28,121,94,54,45,49,99,39,44,37,34,28,38,22,68,59,24,28,49,26,26,74,119,41,39,37,78,17,57,70,25,20,59,30,49,56,55,87,31,44,38,32,32,40,20,13,19,61,16,35,41,51,17,26,27,30,30,30,42,26,22,48,32,76,26,17,42,28,63,30,21,17,48,31,88,70,122,28,30,39,154,159,182,70,67,103,114,24,156,62,282,28,88,122,97,285,52,68,28,77,28,39,52,45,40,46,52,76,81,35,42,43,65,60,16,45,75,43,71,71,114,268,153,57,153,46,235,235,130,166,129,66,111,117,124,134,219,40,38,44,48,77,14,14,27,25,64,54,34,23,80,35,72,34,51,72,23,37,28,39,67,57,57,70,60,47,82,89,68,104,42,88,108,49,50,47,83,37,214,129,143,282,274,127,112,135,138,21,224,37,275,160,39,43,21,30,33,28,39,20,41,65,44,44,80,48,39,43,78,72,56,38,26,64,16,37,40,50,63,35,69,85,64,57,50,26,38,61,69,28,53,32,64,129,230,28,40,25,216,182,141,195,183,62,28,119,30,26,87,50,28,108,77,35,9,57,59,25,12,17,21,25,46,13,54,144,139,46,52,17,28,33,54,86,61,27,29,26,28,27,28,74,49,64,64,57,32,26,27,38,26,28,52,26,65,70,159,47,49,202,16,48,59,29,8,9,12,53,54,89,66,20,48,11,62,41,16,21,21,40,17,24,16,17,92,85,25,174,157,43,82,63,36,23,42,52,21,25,55,37,49,13,70,20,95,20,11,15,45,91,21,50,52,11,9,29,47,41,48,43,43,214],\"xaxis\":\"x\",\"yaxis\":\"y\",\"type\":\"histogram\"}],                        {\"template\":{\"data\":{\"bar\":[{\"error_x\":{\"color\":\"#2a3f5f\"},\"error_y\":{\"color\":\"#2a3f5f\"},\"marker\":{\"line\":{\"color\":\"#E5ECF6\",\"width\":0.5},\"pattern\":{\"fillmode\":\"overlay\",\"size\":10,\"solidity\":0.2}},\"type\":\"bar\"}],\"barpolar\":[{\"marker\":{\"line\":{\"color\":\"#E5ECF6\",\"width\":0.5},\"pattern\":{\"fillmode\":\"overlay\",\"size\":10,\"solidity\":0.2}},\"type\":\"barpolar\"}],\"carpet\":[{\"aaxis\":{\"endlinecolor\":\"#2a3f5f\",\"gridcolor\":\"white\",\"linecolor\":\"white\",\"minorgridcolor\":\"white\",\"startlinecolor\":\"#2a3f5f\"},\"baxis\":{\"endlinecolor\":\"#2a3f5f\",\"gridcolor\":\"white\",\"linecolor\":\"white\",\"minorgridcolor\":\"white\",\"startlinecolor\":\"#2a3f5f\"},\"type\":\"carpet\"}],\"choropleth\":[{\"colorbar\":{\"outlinewidth\":0,\"ticks\":\"\"},\"type\":\"choropleth\"}],\"contour\":[{\"colorbar\":{\"outlinewidth\":0,\"ticks\":\"\"},\"colorscale\":[[0.0,\"#0d0887\"],[0.1111111111111111,\"#46039f\"],[0.2222222222222222,\"#7201a8\"],[0.3333333333333333,\"#9c179e\"],[0.4444444444444444,\"#bd3786\"],[0.5555555555555556,\"#d8576b\"],[0.6666666666666666,\"#ed7953\"],[0.7777777777777778,\"#fb9f3a\"],[0.8888888888888888,\"#fdca26\"],[1.0,\"#f0f921\"]],\"type\":\"contour\"}],\"contourcarpet\":[{\"colorbar\":{\"outlinewidth\":0,\"ticks\":\"\"},\"type\":\"contourcarpet\"}],\"heatmap\":[{\"colorbar\":{\"outlinewidth\":0,\"ticks\":\"\"},\"colorscale\":[[0.0,\"#0d0887\"],[0.1111111111111111,\"#46039f\"],[0.2222222222222222,\"#7201a8\"],[0.3333333333333333,\"#9c179e\"],[0.4444444444444444,\"#bd3786\"],[0.5555555555555556,\"#d8576b\"],[0.6666666666666666,\"#ed7953\"],[0.7777777777777778,\"#fb9f3a\"],[0.8888888888888888,\"#fdca26\"],[1.0,\"#f0f921\"]],\"type\":\"heatmap\"}],\"heatmapgl\":[{\"colorbar\":{\"outlinewidth\":0,\"ticks\":\"\"},\"colorscale\":[[0.0,\"#0d0887\"],[0.1111111111111111,\"#46039f\"],[0.2222222222222222,\"#7201a8\"],[0.3333333333333333,\"#9c179e\"],[0.4444444444444444,\"#bd3786\"],[0.5555555555555556,\"#d8576b\"],[0.6666666666666666,\"#ed7953\"],[0.7777777777777778,\"#fb9f3a\"],[0.8888888888888888,\"#fdca26\"],[1.0,\"#f0f921\"]],\"type\":\"heatmapgl\"}],\"histogram\":[{\"marker\":{\"pattern\":{\"fillmode\":\"overlay\",\"size\":10,\"solidity\":0.2}},\"type\":\"histogram\"}],\"histogram2d\":[{\"colorbar\":{\"outlinewidth\":0,\"ticks\":\"\"},\"colorscale\":[[0.0,\"#0d0887\"],[0.1111111111111111,\"#46039f\"],[0.2222222222222222,\"#7201a8\"],[0.3333333333333333,\"#9c179e\"],[0.4444444444444444,\"#bd3786\"],[0.5555555555555556,\"#d8576b\"],[0.6666666666666666,\"#ed7953\"],[0.7777777777777778,\"#fb9f3a\"],[0.8888888888888888,\"#fdca26\"],[1.0,\"#f0f921\"]],\"type\":\"histogram2d\"}],\"histogram2dcontour\":[{\"colorbar\":{\"outlinewidth\":0,\"ticks\":\"\"},\"colorscale\":[[0.0,\"#0d0887\"],[0.1111111111111111,\"#46039f\"],[0.2222222222222222,\"#7201a8\"],[0.3333333333333333,\"#9c179e\"],[0.4444444444444444,\"#bd3786\"],[0.5555555555555556,\"#d8576b\"],[0.6666666666666666,\"#ed7953\"],[0.7777777777777778,\"#fb9f3a\"],[0.8888888888888888,\"#fdca26\"],[1.0,\"#f0f921\"]],\"type\":\"histogram2dcontour\"}],\"mesh3d\":[{\"colorbar\":{\"outlinewidth\":0,\"ticks\":\"\"},\"type\":\"mesh3d\"}],\"parcoords\":[{\"line\":{\"colorbar\":{\"outlinewidth\":0,\"ticks\":\"\"}},\"type\":\"parcoords\"}],\"pie\":[{\"automargin\":true,\"type\":\"pie\"}],\"scatter\":[{\"marker\":{\"colorbar\":{\"outlinewidth\":0,\"ticks\":\"\"}},\"type\":\"scatter\"}],\"scatter3d\":[{\"line\":{\"colorbar\":{\"outlinewidth\":0,\"ticks\":\"\"}},\"marker\":{\"colorbar\":{\"outlinewidth\":0,\"ticks\":\"\"}},\"type\":\"scatter3d\"}],\"scattercarpet\":[{\"marker\":{\"colorbar\":{\"outlinewidth\":0,\"ticks\":\"\"}},\"type\":\"scattercarpet\"}],\"scattergeo\":[{\"marker\":{\"colorbar\":{\"outlinewidth\":0,\"ticks\":\"\"}},\"type\":\"scattergeo\"}],\"scattergl\":[{\"marker\":{\"colorbar\":{\"outlinewidth\":0,\"ticks\":\"\"}},\"type\":\"scattergl\"}],\"scattermapbox\":[{\"marker\":{\"colorbar\":{\"outlinewidth\":0,\"ticks\":\"\"}},\"type\":\"scattermapbox\"}],\"scatterpolar\":[{\"marker\":{\"colorbar\":{\"outlinewidth\":0,\"ticks\":\"\"}},\"type\":\"scatterpolar\"}],\"scatterpolargl\":[{\"marker\":{\"colorbar\":{\"outlinewidth\":0,\"ticks\":\"\"}},\"type\":\"scatterpolargl\"}],\"scatterternary\":[{\"marker\":{\"colorbar\":{\"outlinewidth\":0,\"ticks\":\"\"}},\"type\":\"scatterternary\"}],\"surface\":[{\"colorbar\":{\"outlinewidth\":0,\"ticks\":\"\"},\"colorscale\":[[0.0,\"#0d0887\"],[0.1111111111111111,\"#46039f\"],[0.2222222222222222,\"#7201a8\"],[0.3333333333333333,\"#9c179e\"],[0.4444444444444444,\"#bd3786\"],[0.5555555555555556,\"#d8576b\"],[0.6666666666666666,\"#ed7953\"],[0.7777777777777778,\"#fb9f3a\"],[0.8888888888888888,\"#fdca26\"],[1.0,\"#f0f921\"]],\"type\":\"surface\"}],\"table\":[{\"cells\":{\"fill\":{\"color\":\"#EBF0F8\"},\"line\":{\"color\":\"white\"}},\"header\":{\"fill\":{\"color\":\"#C8D4E3\"},\"line\":{\"color\":\"white\"}},\"type\":\"table\"}]},\"layout\":{\"annotationdefaults\":{\"arrowcolor\":\"#2a3f5f\",\"arrowhead\":0,\"arrowwidth\":1},\"autotypenumbers\":\"strict\",\"coloraxis\":{\"colorbar\":{\"outlinewidth\":0,\"ticks\":\"\"}},\"colorscale\":{\"diverging\":[[0,\"#8e0152\"],[0.1,\"#c51b7d\"],[0.2,\"#de77ae\"],[0.3,\"#f1b6da\"],[0.4,\"#fde0ef\"],[0.5,\"#f7f7f7\"],[0.6,\"#e6f5d0\"],[0.7,\"#b8e186\"],[0.8,\"#7fbc41\"],[0.9,\"#4d9221\"],[1,\"#276419\"]],\"sequential\":[[0.0,\"#0d0887\"],[0.1111111111111111,\"#46039f\"],[0.2222222222222222,\"#7201a8\"],[0.3333333333333333,\"#9c179e\"],[0.4444444444444444,\"#bd3786\"],[0.5555555555555556,\"#d8576b\"],[0.6666666666666666,\"#ed7953\"],[0.7777777777777778,\"#fb9f3a\"],[0.8888888888888888,\"#fdca26\"],[1.0,\"#f0f921\"]],\"sequentialminus\":[[0.0,\"#0d0887\"],[0.1111111111111111,\"#46039f\"],[0.2222222222222222,\"#7201a8\"],[0.3333333333333333,\"#9c179e\"],[0.4444444444444444,\"#bd3786\"],[0.5555555555555556,\"#d8576b\"],[0.6666666666666666,\"#ed7953\"],[0.7777777777777778,\"#fb9f3a\"],[0.8888888888888888,\"#fdca26\"],[1.0,\"#f0f921\"]]},\"colorway\":[\"#636efa\",\"#EF553B\",\"#00cc96\",\"#ab63fa\",\"#FFA15A\",\"#19d3f3\",\"#FF6692\",\"#B6E880\",\"#FF97FF\",\"#FECB52\"],\"font\":{\"color\":\"#2a3f5f\"},\"geo\":{\"bgcolor\":\"white\",\"lakecolor\":\"white\",\"landcolor\":\"#E5ECF6\",\"showlakes\":true,\"showland\":true,\"subunitcolor\":\"white\"},\"hoverlabel\":{\"align\":\"left\"},\"hovermode\":\"closest\",\"mapbox\":{\"style\":\"light\"},\"paper_bgcolor\":\"white\",\"plot_bgcolor\":\"#E5ECF6\",\"polar\":{\"angularaxis\":{\"gridcolor\":\"white\",\"linecolor\":\"white\",\"ticks\":\"\"},\"bgcolor\":\"#E5ECF6\",\"radialaxis\":{\"gridcolor\":\"white\",\"linecolor\":\"white\",\"ticks\":\"\"}},\"scene\":{\"xaxis\":{\"backgroundcolor\":\"#E5ECF6\",\"gridcolor\":\"white\",\"gridwidth\":2,\"linecolor\":\"white\",\"showbackground\":true,\"ticks\":\"\",\"zerolinecolor\":\"white\"},\"yaxis\":{\"backgroundcolor\":\"#E5ECF6\",\"gridcolor\":\"white\",\"gridwidth\":2,\"linecolor\":\"white\",\"showbackground\":true,\"ticks\":\"\",\"zerolinecolor\":\"white\"},\"zaxis\":{\"backgroundcolor\":\"#E5ECF6\",\"gridcolor\":\"white\",\"gridwidth\":2,\"linecolor\":\"white\",\"showbackground\":true,\"ticks\":\"\",\"zerolinecolor\":\"white\"}},\"shapedefaults\":{\"line\":{\"color\":\"#2a3f5f\"}},\"ternary\":{\"aaxis\":{\"gridcolor\":\"white\",\"linecolor\":\"white\",\"ticks\":\"\"},\"baxis\":{\"gridcolor\":\"white\",\"linecolor\":\"white\",\"ticks\":\"\"},\"bgcolor\":\"#E5ECF6\",\"caxis\":{\"gridcolor\":\"white\",\"linecolor\":\"white\",\"ticks\":\"\"}},\"title\":{\"x\":0.05},\"xaxis\":{\"automargin\":true,\"gridcolor\":\"white\",\"linecolor\":\"white\",\"ticks\":\"\",\"title\":{\"standoff\":15},\"zerolinecolor\":\"white\",\"zerolinewidth\":2},\"yaxis\":{\"automargin\":true,\"gridcolor\":\"white\",\"linecolor\":\"white\",\"ticks\":\"\",\"title\":{\"standoff\":15},\"zerolinecolor\":\"white\",\"zerolinewidth\":2}}},\"xaxis\":{\"anchor\":\"y\",\"domain\":[0.0,1.0],\"title\":{\"text\":\"WordCount\"}},\"yaxis\":{\"anchor\":\"x\",\"domain\":[0.0,1.0],\"title\":{\"text\":\"count\"}},\"legend\":{\"title\":{\"text\":\"Label\"},\"tracegroupgap\":0},\"margin\":{\"t\":60},\"barmode\":\"relative\"},                        {\"responsive\": true}                    ).then(function(){\n",
              "                            \n",
              "var gd = document.getElementById('f6422c21-c8fb-4f50-9757-cb8356246bde');\n",
              "var x = new MutationObserver(function (mutations, observer) {{\n",
              "        var display = window.getComputedStyle(gd).display;\n",
              "        if (!display || display === 'none') {{\n",
              "            console.log([gd, 'removed!']);\n",
              "            Plotly.purge(gd);\n",
              "            observer.disconnect();\n",
              "        }}\n",
              "}});\n",
              "\n",
              "// Listen for the removal of the full notebook cells\n",
              "var notebookContainer = gd.closest('#notebook-container');\n",
              "if (notebookContainer) {{\n",
              "    x.observe(notebookContainer, {childList: true});\n",
              "}}\n",
              "\n",
              "// Listen for the clearing of the current output cell\n",
              "var outputEl = gd.closest('.output');\n",
              "if (outputEl) {{\n",
              "    x.observe(outputEl, {childList: true});\n",
              "}}\n",
              "\n",
              "                        })                };                            </script>        </div>\n",
              "</body>\n",
              "</html>"
            ]
          },
          "metadata": {}
        }
      ]
    },
    {
      "cell_type": "code",
      "source": [
        "print(df_TEST)"
      ],
      "metadata": {
        "colab": {
          "base_uri": "https://localhost:8080/"
        },
        "id": "Xgj2cNg8ThS_",
        "outputId": "5aba4446-c2b8-44de-91c3-c1f093031ff3"
      },
      "execution_count": null,
      "outputs": [
        {
          "output_type": "stream",
          "name": "stdout",
          "text": [
            "                                             ReportText  Label\n",
            "296   CT thorax 09-04-2020, 16:21\\n\\nLobus vena azyg...      1\n",
            "691   02-04-2020, 02:29, X thorax op zaal\\n\\nAP opna...      1\n",
            "811   CT thorax 13-03-2020, 10:52\\n\\nGescand na i.v....      1\n",
            "745   CT thorax 01-04-2020, 16:30\\nTen opzichte van ...      1\n",
            "1144  CT thorax 10-03-2020, 14:40\\n\\nVerslag:\\nGesca...      1\n",
            "...                                                 ...    ...\n",
            "225   10-04-2020, 14:08, CT HR-thorax\\n\\nVergelijk 2...      0\n",
            "2061  CT thorax/abdomen 03-02-2020, 08:29\\n\\nProtoco...      0\n",
            "1312  X thorax 09-03-2020, 12:02\\n\\nTen opzichte van...      0\n",
            "402   CT thorax/abdomen 07-04-2020, 15:08\\n\\n\\nProto...      0\n",
            "1126  CT HR-thorax 10-03-2020, 14:02\\n\\nWordt vergel...      0\n",
            "\n",
            "[452 rows x 2 columns]\n"
          ]
        }
      ]
    },
    {
      "cell_type": "code",
      "source": [
        "print(list_Pos_N, list_Neg_N)"
      ],
      "metadata": {
        "colab": {
          "base_uri": "https://localhost:8080/"
        },
        "id": "9dGCKefATiXX",
        "outputId": "67343105-112a-4e24-cf2f-11ade5d1aea7"
      },
      "execution_count": null,
      "outputs": [
        {
          "output_type": "stream",
          "name": "stdout",
          "text": [
            "[100, 200] [100, 200, 300, 400, 500, 600, 700, 800, 900, 1000, 1100, 1200, 1300, 1400, 1500]\n"
          ]
        }
      ]
    },
    {
      "cell_type": "markdown",
      "source": [
        "#Models"
      ],
      "metadata": {
        "id": "yuxRd8Z6TskX"
      }
    },
    {
      "cell_type": "markdown",
      "source": [
        "#\"Dense\", \"LSTM\", and \"CNN\" Models:"
      ],
      "metadata": {
        "id": "U0KvRm5ZUJQh"
      }
    },
    {
      "cell_type": "code",
      "source": [
        "def make_and_compile_models():\n",
        "  model_dense = tf.keras.Sequential([\n",
        "    tf.keras.layers.Embedding(vocab_size, embedding_dim, input_length=max_length, name='Embedding'),\n",
        "    tf.keras.layers.Flatten(),\n",
        "    tf.keras.layers.Dense(32, activation='relu', name='Dense1'),\n",
        "    #tf.keras.layers.Dense(128, activation='relu'),\n",
        "    #tf.keras.layers.Dropout(0.2),\n",
        "    tf.keras.layers.Dense(16, activation='relu', name='Dense-2'),\n",
        "    tf.keras.layers.Dense(8, activation='relu', name='Dense-3'), #24\n",
        "    tf.keras.layers.Dense(1, activation='sigmoid', name='Dense-4')\n",
        "  ])\n",
        "\n",
        "  model_lstm = tf.keras.Sequential([\n",
        "  tf.keras.layers.Embedding(vocab_size, embedding_dim, input_length=max_length, name='Embedding'),\n",
        "  tf.keras.layers.Bidirectional(tf.keras.layers.LSTM(32, return_sequences=True), name='LSTM-1'), #32\n",
        "  tf.keras.layers.Bidirectional(tf.keras.layers.LSTM(32), name='LSTM-2'),\n",
        "  tf.keras.layers.Dense(24, activation='relu', name='Dense-1'), #24\n",
        "  tf.keras.layers.Dense(1, activation='sigmoid', name='Dense-2')\n",
        "  ])\n",
        "\n",
        "  model_cnn = tf.keras.Sequential([\n",
        "  tf.keras.layers.Embedding(vocab_size, embedding_dim, input_length=max_length, name='Embedding'),\n",
        "  tf.keras.layers.Conv1D(64, 5, activation='relu', name='Conv-1D-1'), #32\n",
        "  tf.keras.layers.AveragePooling1D(name='Pooling-1'),\n",
        "  tf.keras.layers.Conv1D(64, 5, activation='relu', name='Conv-1D-2'), #32\n",
        "  #tf.keras.layers.AveragePooling1D(),\n",
        "  #tf.keras.layers.Conv1D(32, 5, activation='relu'), #32\n",
        "  #tf.keras.layers.AveragePooling1D(),\n",
        "  #tf.keras.layers.Conv1D(32, 5, activation='relu'), #32\n",
        "  tf.keras.layers.GlobalAveragePooling1D( name='Pooling-2'),\n",
        "  tf.keras.layers.Dense(24, activation='relu', name='Dense-1'), #24\n",
        "  #tf.keras.layers.Dropout(0.2),\n",
        "  #tf.keras.layers.Dense(12, activation='relu'),\n",
        "  tf.keras.layers.Dense(1, activation='sigmoid', name='Dense-2')\n",
        "  ])\n",
        "  model_dense.compile(loss='binary_crossentropy',optimizer='adam',metrics=['accuracy'])\n",
        "  model_dense.summary()\n",
        "  model_lstm.compile(loss='binary_crossentropy',optimizer='adam',metrics=['accuracy'])\n",
        "  model_lstm.summary()\n",
        "  model_cnn.compile(loss='binary_crossentropy',optimizer='adam',metrics=['accuracy'])\n",
        "  model_cnn.summary()\n",
        "  return(model_dense, model_lstm, model_cnn)"
      ],
      "metadata": {
        "id": "zp1uda3ku1zR"
      },
      "execution_count": null,
      "outputs": []
    },
    {
      "cell_type": "markdown",
      "source": [
        "#Def's"
      ],
      "metadata": {
        "id": "tRo4xIxoU5Cj"
      }
    },
    {
      "cell_type": "code",
      "source": [
        "def make_datastore_train(nr, Training_combinations, df_pos_TRAIN, df_neg_TRAIN):\n",
        "  pos = Training_combinations.loc[nr]['Pos']\n",
        "  neg = Training_combinations.loc[nr]['Neg']\n",
        "  temp_pos = df_pos_TRAIN.loc[0:pos]\n",
        "  temp_neg = df_neg_TRAIN.loc[0:neg]\n",
        "  datastore_train = pd.concat([temp_pos, temp_neg])\n",
        "  datastore_train = shuffle(datastore_train)\n",
        "  return(datastore_train)\n",
        "def make_trainset_from_datastore_train_and_testset_from_df_TEST(datastore_train, df_TEST):\n",
        "  training_sentences_fixed = []\n",
        "  training_labels_fixed = []\n",
        "  #teller = 0\n",
        "  for item in range(len(datastore_train)):\n",
        "      #print(teller)\n",
        "      #print('item=',item)\n",
        "      temp_train = datastore_train.iloc[item]\n",
        "      training_sentences_fixed.append(temp_train['ReportText'])\n",
        "      #print('sentences=',sentences)\n",
        "      training_labels_fixed.append(temp_train['Label'])\n",
        "      #print('labels=',labels)\n",
        "      #teller = teller +1\n",
        "  tokenizer = Tokenizer(num_words=vocab_size, oov_token=oov_tok)\n",
        "  tokenizer.fit_on_texts(training_sentences_fixed)\n",
        "  word_index = tokenizer.word_index\n",
        "  training_sequences_fixed = tokenizer.texts_to_sequences(training_sentences_fixed)\n",
        "  training_padded_fixed = pad_sequences(training_sequences_fixed, maxlen=max_length, padding=padding_type, truncating=trunc_type)\n",
        "  #make test datasets with tokenized reports\n",
        "  testing_sentences_fixed = []\n",
        "  testing_labels_fixed = []\n",
        "  for item in range(len(df_TEST)):\n",
        "      temp_test = df_TEST.iloc[item]\n",
        "      testing_sentences_fixed.append(temp_test['ReportText'])\n",
        "      testing_labels_fixed.append(temp_test['Label'])\n",
        "      # tokenizer en word-index van trainingset\n",
        "      #word_index = tokenizer.word_index van trainingset\n",
        "      testing_sequences_fixed = tokenizer.texts_to_sequences(testing_sentences_fixed)\n",
        "      testing_padded_fixed = pad_sequences(testing_sequences_fixed, maxlen=max_length, padding=padding_type, truncating=trunc_type)\n",
        "      Tokenizer_Ext = tokenizer\n",
        "  return(training_padded_fixed, training_labels_fixed, testing_padded_fixed, testing_labels_fixed, Tokenizer_Ext)"
      ],
      "metadata": {
        "id": "Zb0C-PoEU6hY"
      },
      "execution_count": null,
      "outputs": []
    },
    {
      "cell_type": "code",
      "source": [
        "\n",
        "# train models(Dense, LSTM, CNN) and return histories\n",
        "def train_models(training_padded, training_labels, testing_padded, testing_labels, model_dense, model_lstm, model_cnn):\n",
        "  num_epochs = num_epochs_number # 50\n",
        "  training_padded = np.array(training_padded)\n",
        "  training_labels = np.array(training_labels)\n",
        "  testing_padded = np.array(testing_padded)\n",
        "  testing_labels = np.array(testing_labels)\n",
        "  history1 = model_dense.fit(training_padded, training_labels, epochs=num_epochs, verbose=2, use_multiprocessing = False)\n",
        "  history2 = model_lstm.fit(training_padded, training_labels, epochs=num_epochs, verbose=2, use_multiprocessing = False)\n",
        "  history3 = model_cnn.fit(training_padded, training_labels, epochs=num_epochs, verbose=2, use_multiprocessing = False)\n",
        "  return(history1, history2, history3)"
      ],
      "metadata": {
        "id": "VVmyU5RQvHYK"
      },
      "execution_count": null,
      "outputs": []
    },
    {
      "cell_type": "code",
      "source": [
        "#evaluation\n",
        "def eval_model(model_nr, testing_padded_fixed, testing_labels_fixed):\n",
        "  y_pred1 = model_nr.predict(testing_padded_fixed)\n",
        "  y_true = testing_labels_fixed\n",
        "  y_pred1_rounded = np.around(y_pred1) #convert prediction to 0/1 labels\n",
        "  precision, recall, fscore, support = precision_recall_fscore_support(y_true, y_pred1_rounded)\n",
        "  fscore_0 = fscore[0]\n",
        "  f1_score = fscore[1]\n",
        "  npv = precision[0]\n",
        "  ppv = precision[1]\n",
        "  spec = recall[0]\n",
        "  sens = recall[1]\n",
        "  auc = roc_auc_score(y_true, y_pred1_rounded)\n",
        "  return(sens, spec, ppv, npv, auc, f1_score)\n"
      ],
      "metadata": {
        "id": "Ie5A1-U2V-hQ"
      },
      "execution_count": null,
      "outputs": []
    },
    {
      "cell_type": "code",
      "source": [
        "# overview of models\n",
        "model_dense_graph, model_lstm_graph, model_cnn_graph = make_and_compile_models()"
      ],
      "metadata": {
        "colab": {
          "base_uri": "https://localhost:8080/"
        },
        "id": "GNjHHytsWthP",
        "outputId": "e5c97b8d-7c66-4c77-cfb6-0d2efd371b3e"
      },
      "execution_count": null,
      "outputs": [
        {
          "output_type": "stream",
          "name": "stderr",
          "text": [
            "2022-04-09 09:52:57.177786: E tensorflow/stream_executor/cuda/cuda_driver.cc:271] failed call to cuInit: CUDA_ERROR_NO_DEVICE: no CUDA-capable device is detected\n"
          ]
        },
        {
          "output_type": "stream",
          "name": "stdout",
          "text": [
            "Model: \"sequential\"\n",
            "_________________________________________________________________\n",
            " Layer (type)                Output Shape              Param #   \n",
            "=================================================================\n",
            " Embedding (Embedding)       (None, 250, 32)           80000     \n",
            "                                                                 \n",
            " flatten (Flatten)           (None, 8000)              0         \n",
            "                                                                 \n",
            " Dense1 (Dense)              (None, 32)                256032    \n",
            "                                                                 \n",
            " Dense-2 (Dense)             (None, 16)                528       \n",
            "                                                                 \n",
            " Dense-3 (Dense)             (None, 8)                 136       \n",
            "                                                                 \n",
            " Dense-4 (Dense)             (None, 1)                 9         \n",
            "                                                                 \n",
            "=================================================================\n",
            "Total params: 336,705\n",
            "Trainable params: 336,705\n",
            "Non-trainable params: 0\n",
            "_________________________________________________________________\n",
            "Model: \"sequential_1\"\n",
            "_________________________________________________________________\n",
            " Layer (type)                Output Shape              Param #   \n",
            "=================================================================\n",
            " Embedding (Embedding)       (None, 250, 32)           80000     \n",
            "                                                                 \n",
            " LSTM-1 (Bidirectional)      (None, 250, 64)           16640     \n",
            "                                                                 \n",
            " LSTM-2 (Bidirectional)      (None, 64)                24832     \n",
            "                                                                 \n",
            " Dense-1 (Dense)             (None, 24)                1560      \n",
            "                                                                 \n",
            " Dense-2 (Dense)             (None, 1)                 25        \n",
            "                                                                 \n",
            "=================================================================\n",
            "Total params: 123,057\n",
            "Trainable params: 123,057\n",
            "Non-trainable params: 0\n",
            "_________________________________________________________________\n",
            "Model: \"sequential_2\"\n",
            "_________________________________________________________________\n",
            " Layer (type)                Output Shape              Param #   \n",
            "=================================================================\n",
            " Embedding (Embedding)       (None, 250, 32)           80000     \n",
            "                                                                 \n",
            " Conv-1D-1 (Conv1D)          (None, 246, 64)           10304     \n",
            "                                                                 \n",
            " Pooling-1 (AveragePooling1D  (None, 123, 64)          0         \n",
            " )                                                               \n",
            "                                                                 \n",
            " Conv-1D-2 (Conv1D)          (None, 119, 64)           20544     \n",
            "                                                                 \n",
            " Pooling-2 (GlobalAveragePoo  (None, 64)               0         \n",
            " ling1D)                                                         \n",
            "                                                                 \n",
            " Dense-1 (Dense)             (None, 24)                1560      \n",
            "                                                                 \n",
            " Dense-2 (Dense)             (None, 1)                 25        \n",
            "                                                                 \n",
            "=================================================================\n",
            "Total params: 112,433\n",
            "Trainable params: 112,433\n",
            "Non-trainable params: 0\n",
            "_________________________________________________________________\n"
          ]
        }
      ]
    },
    {
      "cell_type": "code",
      "source": [
        ""
      ],
      "metadata": {
        "id": "LaEbu0_FW_GF"
      },
      "execution_count": null,
      "outputs": []
    },
    {
      "cell_type": "markdown",
      "source": [
        "#Experiments"
      ],
      "metadata": {
        "id": "hCGZt6-qXUWp"
      }
    },
    {
      "cell_type": "code",
      "source": [
        "Filename1 = 'df_TEST_THORAX_20201006'\n",
        "Filename2 = 'df_pos_TRAIN_THORAX_20201006'\n",
        "Filename3= 'df_neg_TRAIN_THORAX_20201006'\n",
        "Filename4 = 'Training_combinations_THORAX_20201006'\n",
        "#Training_combinations = pd.read_excel(path+'/Jupyter_NLP_thoraxdataset/Data/'+Filename4+\".xlsx\")\n",
        "#df_TEST = pd.read_excel(path+'/Jupyter_NLP_thoraxdataset/Data/'+Filename1+\".xlsx\")\n",
        "#df_pos_TRAIN = pd.read_excel(path+'/Jupyter_NLP_thoraxdataset/Data/'+Filename2+\".xlsx\")\n",
        "#df_neg_TRAIN = pd.read_excel(path+'/Jupyter_NLP_thoraxdataset/Data/'+Filename3+\".xlsx\")"
      ],
      "metadata": {
        "id": "ciuEDqpVQDM8"
      },
      "execution_count": null,
      "outputs": []
    },
    {
      "cell_type": "code",
      "source": [
        "from google.colab import files\n",
        "data = files.upload()\n"
      ],
      "metadata": {
        "colab": {
          "resources": {
            "http://localhost:8080/nbextensions/google.colab/files.js": {
              "data": "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",
              "ok": true,
              "headers": [
                [
                  "content-type",
                  "application/javascript"
                ]
              ],
              "status": 200,
              "status_text": ""
            }
          },
          "base_uri": "https://localhost:8080/",
          "height": 74
        },
        "id": "fdq5vrzDTCcO",
        "outputId": "2e3a6efb-bd1e-4108-d4a0-b6f753393641"
      },
      "execution_count": null,
      "outputs": [
        {
          "output_type": "display_data",
          "data": {
            "text/plain": [
              "<IPython.core.display.HTML object>"
            ],
            "text/html": [
              "\n",
              "     <input type=\"file\" id=\"files-a4cd857a-003a-4c00-a5f8-a1ea4ae37fd3\" name=\"files[]\" multiple disabled\n",
              "        style=\"border:none\" />\n",
              "     <output id=\"result-a4cd857a-003a-4c00-a5f8-a1ea4ae37fd3\">\n",
              "      Upload widget is only available when the cell has been executed in the\n",
              "      current browser session. Please rerun this cell to enable.\n",
              "      </output>\n",
              "      <script src=\"/nbextensions/google.colab/files.js\"></script> "
            ]
          },
          "metadata": {}
        },
        {
          "output_type": "stream",
          "name": "stdout",
          "text": [
            "Saving Filename1 (5).xlsx to Filename1 (5).xlsx\n"
          ]
        }
      ]
    },
    {
      "cell_type": "code",
      "source": [
        "xlsx_file = io.BytesIO(data.get('Filename1.xlsx'))\n",
        "df_TEST = pd.read_excel('Filename1.xlsx')"
      ],
      "metadata": {
        "id": "TVWEoJjBTt9I"
      },
      "execution_count": null,
      "outputs": []
    },
    {
      "cell_type": "code",
      "source": [
        "from google.colab import files\n",
        "data = files.upload()\n"
      ],
      "metadata": {
        "colab": {
          "resources": {
            "http://localhost:8080/nbextensions/google.colab/files.js": {
              "data": "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",
              "ok": true,
              "headers": [
                [
                  "content-type",
                  "application/javascript"
                ]
              ],
              "status": 200,
              "status_text": ""
            }
          },
          "base_uri": "https://localhost:8080/",
          "height": 74
        },
        "id": "HkHLfH9rTDx0",
        "outputId": "907079d0-0535-4619-ba7e-95183cb39d6e"
      },
      "execution_count": null,
      "outputs": [
        {
          "output_type": "display_data",
          "data": {
            "text/plain": [
              "<IPython.core.display.HTML object>"
            ],
            "text/html": [
              "\n",
              "     <input type=\"file\" id=\"files-fae0e1fa-1cb0-4dd9-899e-de3e8ddf2b38\" name=\"files[]\" multiple disabled\n",
              "        style=\"border:none\" />\n",
              "     <output id=\"result-fae0e1fa-1cb0-4dd9-899e-de3e8ddf2b38\">\n",
              "      Upload widget is only available when the cell has been executed in the\n",
              "      current browser session. Please rerun this cell to enable.\n",
              "      </output>\n",
              "      <script src=\"/nbextensions/google.colab/files.js\"></script> "
            ]
          },
          "metadata": {}
        },
        {
          "output_type": "stream",
          "name": "stdout",
          "text": [
            "Saving Filename2 (5).xlsx to Filename2 (5).xlsx\n"
          ]
        }
      ]
    },
    {
      "cell_type": "code",
      "source": [
        "xlsx_file = io.BytesIO(data.get('Filename2.xlsx'))\n",
        "df_pos_TRAIN= pd.read_excel('Filename2.xlsx')"
      ],
      "metadata": {
        "id": "7LCPFYWxTwqm"
      },
      "execution_count": null,
      "outputs": []
    },
    {
      "cell_type": "code",
      "source": [
        "from google.colab import files\n",
        "data = files.upload()\n"
      ],
      "metadata": {
        "colab": {
          "resources": {
            "http://localhost:8080/nbextensions/google.colab/files.js": {
              "data": "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",
              "ok": true,
              "headers": [
                [
                  "content-type",
                  "application/javascript"
                ]
              ],
              "status": 200,
              "status_text": ""
            }
          },
          "base_uri": "https://localhost:8080/",
          "height": 74
        },
        "id": "AGY7bUnwTEK4",
        "outputId": "1a2588f8-142b-4cb9-dda6-6cf0d0ea4a28"
      },
      "execution_count": null,
      "outputs": [
        {
          "output_type": "display_data",
          "data": {
            "text/plain": [
              "<IPython.core.display.HTML object>"
            ],
            "text/html": [
              "\n",
              "     <input type=\"file\" id=\"files-f93ca4b4-27dc-4c09-a4b4-ae81a0db942e\" name=\"files[]\" multiple disabled\n",
              "        style=\"border:none\" />\n",
              "     <output id=\"result-f93ca4b4-27dc-4c09-a4b4-ae81a0db942e\">\n",
              "      Upload widget is only available when the cell has been executed in the\n",
              "      current browser session. Please rerun this cell to enable.\n",
              "      </output>\n",
              "      <script src=\"/nbextensions/google.colab/files.js\"></script> "
            ]
          },
          "metadata": {}
        },
        {
          "output_type": "stream",
          "name": "stdout",
          "text": [
            "Saving Filename3 (5).xlsx to Filename3 (5).xlsx\n"
          ]
        }
      ]
    },
    {
      "cell_type": "code",
      "source": [
        "xlsx_file = io.BytesIO(data.get('Filename3.xlsx'))\n",
        "df_neg_TRAIN = pd.read_excel('Filename3.xlsx')"
      ],
      "metadata": {
        "id": "keBAstw4TzHY"
      },
      "execution_count": null,
      "outputs": []
    },
    {
      "cell_type": "code",
      "source": [
        "from google.colab import files\n",
        "data = files.upload()\n"
      ],
      "metadata": {
        "colab": {
          "resources": {
            "http://localhost:8080/nbextensions/google.colab/files.js": {
              "data": "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",
              "ok": true,
              "headers": [
                [
                  "content-type",
                  "application/javascript"
                ]
              ],
              "status": 200,
              "status_text": ""
            }
          },
          "base_uri": "https://localhost:8080/",
          "height": 74
        },
        "id": "0L4rOnVZTEYq",
        "outputId": "38de5674-c5e6-4d49-a555-57bea9055f7f"
      },
      "execution_count": null,
      "outputs": [
        {
          "output_type": "display_data",
          "data": {
            "text/plain": [
              "<IPython.core.display.HTML object>"
            ],
            "text/html": [
              "\n",
              "     <input type=\"file\" id=\"files-63f39ce7-0c2b-4930-b179-4ac55ec2dfd6\" name=\"files[]\" multiple disabled\n",
              "        style=\"border:none\" />\n",
              "     <output id=\"result-63f39ce7-0c2b-4930-b179-4ac55ec2dfd6\">\n",
              "      Upload widget is only available when the cell has been executed in the\n",
              "      current browser session. Please rerun this cell to enable.\n",
              "      </output>\n",
              "      <script src=\"/nbextensions/google.colab/files.js\"></script> "
            ]
          },
          "metadata": {}
        },
        {
          "output_type": "stream",
          "name": "stdout",
          "text": [
            "Saving Filename4 (5).xlsx to Filename4 (5).xlsx\n"
          ]
        }
      ]
    },
    {
      "cell_type": "code",
      "source": [
        "xlsx_file = io.BytesIO(data.get('Filename4.xlsx'))\n",
        "Training_combinations = pd.read_excel('Filename4.xlsx')"
      ],
      "metadata": {
        "id": "w5WO2Q2oT2Jw"
      },
      "execution_count": null,
      "outputs": []
    },
    {
      "cell_type": "code",
      "source": [
        "#Dense, LSTM, CNN\n",
        "\n",
        "Evaluation = pd.DataFrame(columns=['ID','Nr', 'Training_size', 'Prevalence', 'Model', 'Sensitivity', 'Specificity', 'PPV', 'NPV', 'AUC', 'F1_score'])\n",
        "eerste = 28 #\n",
        "laatste = 29 # 1 extra dan einde\n",
        "histories=pd.DataFrame()\n",
        "Count = 0\n",
        "for j in range(eerste, laatste):\n",
        "    nr = j - 1\n",
        "    datastore_train = make_datastore_train(nr, Training_combinations, df_pos_TRAIN, df_neg_TRAIN)\n",
        "    training_padded_fixed, training_labels_fixed, testing_padded_fixed, testing_labels_fixed, Tokenizer_Ext = make_trainset_from_datastore_train_and_testset_from_df_TEST(datastore_train, df_TEST)\n",
        "    model_dense, model_lstm, model_cnn = make_and_compile_models()\n",
        "    history1, history2, history3 = train_models(training_padded_fixed, training_labels_fixed, testing_padded_fixed, testing_labels_fixed, model_dense, model_lstm, model_cnn)\n",
        "    Models = [model_dense, model_lstm, model_cnn]\n",
        "    Model_names = ['Dense', 'LSTM', 'CNN']\n",
        "    prev = Training_combinations.loc[nr]['Prevalence']\n",
        "    size = Training_combinations.loc[nr]['Training_size']\n",
        "    print('prev=', prev)\n",
        "    print('size=', size)\n",
        "    print('nr=', nr)\n",
        "    for iii in range(len(Models)): #loop over model evaluation with prediction\n",
        "        Count = Count+1\n",
        "        print(Count)\n",
        "        model = Models[iii]\n",
        "        modelname = Model_names[iii]\n",
        "        sens, spec, ppv, npv, auc, f1_score = eval_model(model, testing_padded_fixed, testing_labels_fixed)\n",
        "        Evaluation.loc[Count] = (Count, j, size, prev, modelname, sens, spec, ppv, npv, auc, f1_score )\n",
        "    now = datetime.now()\n",
        "    dt_string = now.strftime(\"%Y%m%d_%H%M\")\n",
        "    filename5 = 'Evaluation_'+dt_string\n",
        "    print('filename5=', filename5)\n",
        "    #Evaluation.to_excel(path+'/Jupyter_NLP_thoraxdataset/Data/History/'+filename5 +'.xlsx')\n",
        "    \n",
        "    Evaluation.to_excel(\"Filename5.xlsx\")\n",
        "    hist1 = pd.DataFrame(history1.history)\n",
        "    hist1['model']='Dense'\n",
        "    hist1['size']=size\n",
        "    hist1['prev']=prev\n",
        "    hist2 = pd.DataFrame(history1.history)\n",
        "    hist2['model']='LSTM'\n",
        "    hist2['size']=size\n",
        "    hist2['prev']=prev\n",
        "    hist3 = pd.DataFrame(history1.history)\n",
        "    hist3['model']='CNN'\n",
        "    hist3['size']=size\n",
        "    hist3['prev']=prev\n",
        "    histories = pd.concat([histories, hist1, hist2, hist3])\n",
        "    #histories.to_excel(path+'/Jupyter_NLP_thoraxdataset/Data/History/'+'histories'+filename5+'.xlsx')\n",
        "    filename6 = 'histories'+filename5\n",
        "    histories.to_excel(\"Filename6.xlsx\")"
      ],
      "metadata": {
        "colab": {
          "base_uri": "https://localhost:8080/"
        },
        "outputId": "705dcd44-b8f5-4306-8c27-41410571141f",
        "id": "4kjrc3ZkwADK"
      },
      "execution_count": null,
      "outputs": [
        {
          "output_type": "stream",
          "name": "stdout",
          "text": [
            "Model: \"sequential_3\"\n",
            "_________________________________________________________________\n",
            " Layer (type)                Output Shape              Param #   \n",
            "=================================================================\n",
            " Embedding (Embedding)       (None, 250, 32)           80000     \n",
            "                                                                 \n",
            " flatten_1 (Flatten)         (None, 8000)              0         \n",
            "                                                                 \n",
            " Dense1 (Dense)              (None, 32)                256032    \n",
            "                                                                 \n",
            " Dense-2 (Dense)             (None, 16)                528       \n",
            "                                                                 \n",
            " Dense-3 (Dense)             (None, 8)                 136       \n",
            "                                                                 \n",
            " Dense-4 (Dense)             (None, 1)                 9         \n",
            "                                                                 \n",
            "=================================================================\n",
            "Total params: 336,705\n",
            "Trainable params: 336,705\n",
            "Non-trainable params: 0\n",
            "_________________________________________________________________\n",
            "Model: \"sequential_4\"\n",
            "_________________________________________________________________\n",
            " Layer (type)                Output Shape              Param #   \n",
            "=================================================================\n",
            " Embedding (Embedding)       (None, 250, 32)           80000     \n",
            "                                                                 \n",
            " LSTM-1 (Bidirectional)      (None, 250, 64)           16640     \n",
            "                                                                 \n",
            " LSTM-2 (Bidirectional)      (None, 64)                24832     \n",
            "                                                                 \n",
            " Dense-1 (Dense)             (None, 24)                1560      \n",
            "                                                                 \n",
            " Dense-2 (Dense)             (None, 1)                 25        \n",
            "                                                                 \n",
            "=================================================================\n",
            "Total params: 123,057\n",
            "Trainable params: 123,057\n",
            "Non-trainable params: 0\n",
            "_________________________________________________________________\n",
            "Model: \"sequential_5\"\n",
            "_________________________________________________________________\n",
            " Layer (type)                Output Shape              Param #   \n",
            "=================================================================\n",
            " Embedding (Embedding)       (None, 250, 32)           80000     \n",
            "                                                                 \n",
            " Conv-1D-1 (Conv1D)          (None, 246, 64)           10304     \n",
            "                                                                 \n",
            " Pooling-1 (AveragePooling1D  (None, 123, 64)          0         \n",
            " )                                                               \n",
            "                                                                 \n",
            " Conv-1D-2 (Conv1D)          (None, 119, 64)           20544     \n",
            "                                                                 \n",
            " Pooling-2 (GlobalAveragePoo  (None, 64)               0         \n",
            " ling1D)                                                         \n",
            "                                                                 \n",
            " Dense-1 (Dense)             (None, 24)                1560      \n",
            "                                                                 \n",
            " Dense-2 (Dense)             (None, 1)                 25        \n",
            "                                                                 \n",
            "=================================================================\n",
            "Total params: 112,433\n",
            "Trainable params: 112,433\n",
            "Non-trainable params: 0\n",
            "_________________________________________________________________\n",
            "Epoch 1/12\n",
            "47/47 - 1s - loss: 0.4096 - accuracy: 0.8668 - 1s/epoch - 24ms/step\n",
            "Epoch 2/12\n",
            "47/47 - 0s - loss: 0.3355 - accuracy: 0.8662 - 216ms/epoch - 5ms/step\n",
            "Epoch 3/12\n",
            "47/47 - 0s - loss: 0.2256 - accuracy: 0.9028 - 236ms/epoch - 5ms/step\n",
            "Epoch 4/12\n",
            "47/47 - 0s - loss: 0.1012 - accuracy: 0.9674 - 235ms/epoch - 5ms/step\n",
            "Epoch 5/12\n",
            "47/47 - 0s - loss: 0.0306 - accuracy: 0.9920 - 239ms/epoch - 5ms/step\n",
            "Epoch 6/12\n",
            "47/47 - 0s - loss: 0.0053 - accuracy: 1.0000 - 260ms/epoch - 6ms/step\n",
            "Epoch 7/12\n",
            "47/47 - 0s - loss: 0.0023 - accuracy: 1.0000 - 263ms/epoch - 6ms/step\n",
            "Epoch 8/12\n",
            "47/47 - 0s - loss: 0.0011 - accuracy: 1.0000 - 256ms/epoch - 5ms/step\n",
            "Epoch 9/12\n",
            "47/47 - 0s - loss: 7.6724e-04 - accuracy: 1.0000 - 247ms/epoch - 5ms/step\n",
            "Epoch 10/12\n",
            "47/47 - 0s - loss: 5.4794e-04 - accuracy: 1.0000 - 250ms/epoch - 5ms/step\n",
            "Epoch 11/12\n",
            "47/47 - 0s - loss: 4.1808e-04 - accuracy: 1.0000 - 259ms/epoch - 6ms/step\n",
            "Epoch 12/12\n",
            "47/47 - 0s - loss: 3.2720e-04 - accuracy: 1.0000 - 233ms/epoch - 5ms/step\n",
            "Epoch 1/12\n",
            "47/47 - 19s - loss: 0.4703 - accuracy: 0.8549 - 19s/epoch - 395ms/step\n",
            "Epoch 2/12\n",
            "47/47 - 12s - loss: 0.3558 - accuracy: 0.8662 - 12s/epoch - 246ms/step\n",
            "Epoch 3/12\n",
            "47/47 - 17s - loss: 0.2202 - accuracy: 0.8995 - 17s/epoch - 361ms/step\n",
            "Epoch 4/12\n",
            "47/47 - 13s - loss: 0.1190 - accuracy: 0.9581 - 13s/epoch - 275ms/step\n",
            "Epoch 5/12\n",
            "47/47 - 12s - loss: 0.0634 - accuracy: 0.9827 - 12s/epoch - 248ms/step\n",
            "Epoch 6/12\n",
            "47/47 - 12s - loss: 0.0630 - accuracy: 0.9834 - 12s/epoch - 250ms/step\n",
            "Epoch 7/12\n",
            "47/47 - 12s - loss: 0.0439 - accuracy: 0.9887 - 12s/epoch - 249ms/step\n",
            "Epoch 8/12\n",
            "47/47 - 12s - loss: 0.0553 - accuracy: 0.9827 - 12s/epoch - 249ms/step\n",
            "Epoch 9/12\n",
            "47/47 - 12s - loss: 0.0266 - accuracy: 0.9907 - 12s/epoch - 248ms/step\n",
            "Epoch 10/12\n",
            "47/47 - 12s - loss: 0.0188 - accuracy: 0.9953 - 12s/epoch - 248ms/step\n",
            "Epoch 11/12\n",
            "47/47 - 12s - loss: 0.0236 - accuracy: 0.9947 - 12s/epoch - 249ms/step\n",
            "Epoch 12/12\n",
            "47/47 - 12s - loss: 0.0093 - accuracy: 0.9967 - 12s/epoch - 248ms/step\n",
            "Epoch 1/12\n",
            "47/47 - 2s - loss: 0.4480 - accuracy: 0.8662 - 2s/epoch - 39ms/step\n",
            "Epoch 2/12\n",
            "47/47 - 1s - loss: 0.3764 - accuracy: 0.8662 - 1s/epoch - 25ms/step\n",
            "Epoch 3/12\n",
            "47/47 - 1s - loss: 0.3586 - accuracy: 0.8662 - 1s/epoch - 25ms/step\n",
            "Epoch 4/12\n",
            "47/47 - 1s - loss: 0.3029 - accuracy: 0.8662 - 1s/epoch - 25ms/step\n",
            "Epoch 5/12\n",
            "47/47 - 1s - loss: 0.2085 - accuracy: 0.8935 - 1s/epoch - 25ms/step\n",
            "Epoch 6/12\n",
            "47/47 - 1s - loss: 0.1234 - accuracy: 0.9541 - 1s/epoch - 26ms/step\n",
            "Epoch 7/12\n",
            "47/47 - 1s - loss: 0.0737 - accuracy: 0.9760 - 1s/epoch - 26ms/step\n",
            "Epoch 8/12\n",
            "47/47 - 1s - loss: 0.0441 - accuracy: 0.9860 - 1s/epoch - 26ms/step\n",
            "Epoch 9/12\n",
            "47/47 - 1s - loss: 0.0233 - accuracy: 0.9927 - 1s/epoch - 26ms/step\n",
            "Epoch 10/12\n",
            "47/47 - 1s - loss: 0.0114 - accuracy: 0.9973 - 1s/epoch - 25ms/step\n",
            "Epoch 11/12\n",
            "47/47 - 1s - loss: 0.0067 - accuracy: 0.9993 - 1s/epoch - 26ms/step\n",
            "Epoch 12/12\n",
            "47/47 - 1s - loss: 0.0040 - accuracy: 1.0000 - 1s/epoch - 26ms/step\n",
            "prev= 0.13\n",
            "size= 1500.0\n",
            "nr= 27\n",
            "1\n",
            "2\n",
            "3\n",
            "filename5= Evaluation_20220409_0958\n"
          ]
        }
      ]
    },
    {
      "cell_type": "code",
      "source": [
        "from google.colab import files\n",
        "files.download('Filename5.xlsx')\n",
        "files.download('Filename6.xlsx')\n",
        "#files.download('Filename7.xlsx')"
      ],
      "metadata": {
        "colab": {
          "base_uri": "https://localhost:8080/",
          "height": 17
        },
        "id": "8RIGB99mbKI8",
        "outputId": "0c84932d-ffb8-420c-c2a6-741e4e30eea7"
      },
      "execution_count": null,
      "outputs": [
        {
          "output_type": "display_data",
          "data": {
            "text/plain": [
              "<IPython.core.display.Javascript object>"
            ],
            "application/javascript": [
              "\n",
              "    async function download(id, filename, size) {\n",
              "      if (!google.colab.kernel.accessAllowed) {\n",
              "        return;\n",
              "      }\n",
              "      const div = document.createElement('div');\n",
              "      const label = document.createElement('label');\n",
              "      label.textContent = `Downloading \"${filename}\": `;\n",
              "      div.appendChild(label);\n",
              "      const progress = document.createElement('progress');\n",
              "      progress.max = size;\n",
              "      div.appendChild(progress);\n",
              "      document.body.appendChild(div);\n",
              "\n",
              "      const buffers = [];\n",
              "      let downloaded = 0;\n",
              "\n",
              "      const channel = await google.colab.kernel.comms.open(id);\n",
              "      // Send a message to notify the kernel that we're ready.\n",
              "      channel.send({})\n",
              "\n",
              "      for await (const message of channel.messages) {\n",
              "        // Send a message to notify the kernel that we're ready.\n",
              "        channel.send({})\n",
              "        if (message.buffers) {\n",
              "          for (const buffer of message.buffers) {\n",
              "            buffers.push(buffer);\n",
              "            downloaded += buffer.byteLength;\n",
              "            progress.value = downloaded;\n",
              "          }\n",
              "        }\n",
              "      }\n",
              "      const blob = new Blob(buffers, {type: 'application/binary'});\n",
              "      const a = document.createElement('a');\n",
              "      a.href = window.URL.createObjectURL(blob);\n",
              "      a.download = filename;\n",
              "      div.appendChild(a);\n",
              "      a.click();\n",
              "      div.remove();\n",
              "    }\n",
              "  "
            ]
          },
          "metadata": {}
        },
        {
          "output_type": "display_data",
          "data": {
            "text/plain": [
              "<IPython.core.display.Javascript object>"
            ],
            "application/javascript": [
              "download(\"download_27759297-f2d0-4366-bec0-1dc381b24c62\", \"Filename5.xlsx\", 5368)"
            ]
          },
          "metadata": {}
        },
        {
          "output_type": "display_data",
          "data": {
            "text/plain": [
              "<IPython.core.display.Javascript object>"
            ],
            "application/javascript": [
              "\n",
              "    async function download(id, filename, size) {\n",
              "      if (!google.colab.kernel.accessAllowed) {\n",
              "        return;\n",
              "      }\n",
              "      const div = document.createElement('div');\n",
              "      const label = document.createElement('label');\n",
              "      label.textContent = `Downloading \"${filename}\": `;\n",
              "      div.appendChild(label);\n",
              "      const progress = document.createElement('progress');\n",
              "      progress.max = size;\n",
              "      div.appendChild(progress);\n",
              "      document.body.appendChild(div);\n",
              "\n",
              "      const buffers = [];\n",
              "      let downloaded = 0;\n",
              "\n",
              "      const channel = await google.colab.kernel.comms.open(id);\n",
              "      // Send a message to notify the kernel that we're ready.\n",
              "      channel.send({})\n",
              "\n",
              "      for await (const message of channel.messages) {\n",
              "        // Send a message to notify the kernel that we're ready.\n",
              "        channel.send({})\n",
              "        if (message.buffers) {\n",
              "          for (const buffer of message.buffers) {\n",
              "            buffers.push(buffer);\n",
              "            downloaded += buffer.byteLength;\n",
              "            progress.value = downloaded;\n",
              "          }\n",
              "        }\n",
              "      }\n",
              "      const blob = new Blob(buffers, {type: 'application/binary'});\n",
              "      const a = document.createElement('a');\n",
              "      a.href = window.URL.createObjectURL(blob);\n",
              "      a.download = filename;\n",
              "      div.appendChild(a);\n",
              "      a.click();\n",
              "      div.remove();\n",
              "    }\n",
              "  "
            ]
          },
          "metadata": {}
        },
        {
          "output_type": "display_data",
          "data": {
            "text/plain": [
              "<IPython.core.display.Javascript object>"
            ],
            "application/javascript": [
              "download(\"download_abe6b2ef-73e0-4069-ac19-80a5559a4e05\", \"Filename6.xlsx\", 6139)"
            ]
          },
          "metadata": {}
        }
      ]
    }
  ]
}